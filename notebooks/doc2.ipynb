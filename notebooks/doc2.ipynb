{
 "cells": [
  {
   "cell_type": "markdown",
   "id": "bcead44a",
   "metadata": {},
   "source": [
    "# Import Libs"
   ]
  },
  {
   "cell_type": "code",
   "execution_count": 4,
   "id": "609e44cf",
   "metadata": {},
   "outputs": [],
   "source": [
    "import os\n",
    "from rich import print\n",
    "import pyThermoDB as ptdb"
   ]
  },
  {
   "cell_type": "code",
   "execution_count": 2,
   "id": "a930f671",
   "metadata": {},
   "outputs": [
    {
     "data": {
      "text/html": [
       "<pre style=\"white-space:pre;overflow-x:auto;line-height:normal;font-family:Menlo,'DejaVu Sans Mono',consolas,'Courier New',monospace\"><span style=\"color: #008080; text-decoration-color: #008080; font-weight: bold\">1.7</span>.<span style=\"color: #008080; text-decoration-color: #008080; font-weight: bold\">18</span>\n",
       "</pre>\n"
      ],
      "text/plain": [
       "\u001b[1;36m1.7\u001b[0m.\u001b[1;36m18\u001b[0m\n"
      ]
     },
     "metadata": {},
     "output_type": "display_data"
    }
   ],
   "source": [
    "# versions\n",
    "print(ptdb.__version__)"
   ]
  },
  {
   "cell_type": "markdown",
   "id": "8067c233",
   "metadata": {},
   "source": [
    "# Custom Reference"
   ]
  },
  {
   "cell_type": "code",
   "execution_count": 23,
   "id": "5f4af500",
   "metadata": {},
   "outputs": [
    {
     "data": {
      "text/html": [
       "<pre style=\"white-space:pre;overflow-x:auto;line-height:normal;font-family:Menlo,'DejaVu Sans Mono',consolas,'Courier New',monospace\"><span style=\"font-weight: bold\">{</span>\n",
       "    <span style=\"color: #008000; text-decoration-color: #008000\">'reference'</span>: <span style=\"font-weight: bold\">[</span><span style=\"color: #008000; text-decoration-color: #008000\">'e:\\\\Python Projects\\\\pyThermoDB\\\\tests\\\\nrtl-2.yml'</span><span style=\"font-weight: bold\">]</span>,\n",
       "    <span style=\"color: #008000; text-decoration-color: #008000\">'tables'</span>: <span style=\"font-weight: bold\">[</span>\n",
       "        <span style=\"color: #008000; text-decoration-color: #008000\">'e:\\\\Python Projects\\\\pyThermoDB\\\\tests\\\\Non-randomness parameters of the NRTL equation.csv'</span>,\n",
       "        <span style=\"color: #008000; text-decoration-color: #008000\">'e:\\\\Python Projects\\\\pyThermoDB\\\\tests\\\\Interaction parameters of the NRTL equation-2.csv'</span>\n",
       "    <span style=\"font-weight: bold\">]</span>\n",
       "<span style=\"font-weight: bold\">}</span>\n",
       "</pre>\n"
      ],
      "text/plain": [
       "\u001b[1m{\u001b[0m\n",
       "    \u001b[32m'reference'\u001b[0m: \u001b[1m[\u001b[0m\u001b[32m'e:\\\\Python Projects\\\\pyThermoDB\\\\tests\\\\nrtl-2.yml'\u001b[0m\u001b[1m]\u001b[0m,\n",
       "    \u001b[32m'tables'\u001b[0m: \u001b[1m[\u001b[0m\n",
       "        \u001b[32m'e:\\\\Python Projects\\\\pyThermoDB\\\\tests\\\\Non-randomness parameters of the NRTL equation.csv'\u001b[0m,\n",
       "        \u001b[32m'e:\\\\Python Projects\\\\pyThermoDB\\\\tests\\\\Interaction parameters of the NRTL equation-2.csv'\u001b[0m\n",
       "    \u001b[1m]\u001b[0m\n",
       "\u001b[1m}\u001b[0m\n"
      ]
     },
     "metadata": {},
     "output_type": "display_data"
    }
   ],
   "source": [
    "# parent directory\n",
    "parent_dir = os.path.dirname(os.getcwd())\n",
    "# test directory\n",
    "test_dir = os.path.join(parent_dir, 'tests')\n",
    "# files\n",
    "yml_file = 'nrtl-2.yml'\n",
    "yml_path = os.path.join(test_dir, yml_file)\n",
    "# csv files (data/equation tables)\n",
    "# NOTE: data\n",
    "csv_file_1 = 'Non-randomness parameters of the NRTL equation.csv'\n",
    "# NOTE: equation\n",
    "csv_file_2 = 'Interaction parameters of the NRTL equation-2.csv'\n",
    "csv_path_1 = os.path.join(test_dir, csv_file_1)\n",
    "csv_path_2 = os.path.join(test_dir, csv_file_2)\n",
    "\n",
    "# custom ref\n",
    "ref = {\n",
    "    'reference': [yml_path],\n",
    "    'tables': [csv_path_1, csv_path_2]\n",
    "}\n",
    "\n",
    "print(ref)"
   ]
  },
  {
   "cell_type": "markdown",
   "id": "21a261c8",
   "metadata": {},
   "source": [
    "# App Initializtion"
   ]
  },
  {
   "cell_type": "code",
   "execution_count": 24,
   "id": "b6a0deac",
   "metadata": {},
   "outputs": [],
   "source": [
    "tdb = ptdb.init(ref=ref)"
   ]
  },
  {
   "cell_type": "code",
   "execution_count": 40,
   "id": "c4357805",
   "metadata": {},
   "outputs": [
    {
     "data": {
      "text/html": [
       "<pre style=\"white-space:pre;overflow-x:auto;line-height:normal;font-family:Menlo,'DejaVu Sans Mono',consolas,'Courier New',monospace\"><span style=\"font-weight: bold\">&lt;</span><span style=\"color: #ff00ff; text-decoration-color: #ff00ff; font-weight: bold\">pyThermoDB.docs.tableref.TableReference</span><span style=\"color: #000000; text-decoration-color: #000000\"> object at </span><span style=\"color: #008080; text-decoration-color: #008080; font-weight: bold\">0x0000021623701A90</span><span style=\"font-weight: bold\">&gt;</span>\n",
       "</pre>\n"
      ],
      "text/plain": [
       "\u001b[1m<\u001b[0m\u001b[1;95mpyThermoDB.docs.tableref.TableReference\u001b[0m\u001b[39m object at \u001b[0m\u001b[1;36m0x0000021623701A90\u001b[0m\u001b[1m>\u001b[0m\n"
      ]
     },
     "metadata": {},
     "output_type": "display_data"
    }
   ],
   "source": [
    "tdb_ref = ptdb.ref(ref=ref)\n",
    "print(tdb_ref)"
   ]
  },
  {
   "cell_type": "markdown",
   "id": "c57f1e8e",
   "metadata": {},
   "source": [
    "# Databook List"
   ]
  },
  {
   "cell_type": "code",
   "execution_count": 25,
   "id": "d274d77c",
   "metadata": {},
   "outputs": [
    {
     "data": {
      "text/html": [
       "<pre style=\"white-space:pre;overflow-x:auto;line-height:normal;font-family:Menlo,'DejaVu Sans Mono',consolas,'Courier New',monospace\">                                           Databooks   Id\n",
       "<span style=\"color: #008080; text-decoration-color: #008080; font-weight: bold\">0</span>               Perry's Chemical Engineers' Handbook  <span style=\"font-weight: bold\">[</span><span style=\"color: #008080; text-decoration-color: #008080; font-weight: bold\">1</span><span style=\"font-weight: bold\">]</span>\n",
       "<span style=\"color: #008080; text-decoration-color: #008080; font-weight: bold\">1</span>     Chemical Thermodynamics for Process Simulation  <span style=\"font-weight: bold\">[</span><span style=\"color: #008080; text-decoration-color: #008080; font-weight: bold\">2</span><span style=\"font-weight: bold\">]</span>\n",
       "<span style=\"color: #008080; text-decoration-color: #008080; font-weight: bold\">2</span>            Chemical and Engineering Thermodynamics  <span style=\"font-weight: bold\">[</span><span style=\"color: #008080; text-decoration-color: #008080; font-weight: bold\">3</span><span style=\"font-weight: bold\">]</span>\n",
       "<span style=\"color: #008080; text-decoration-color: #008080; font-weight: bold\">3</span>                         CO2 Hydrogenation Reaction  <span style=\"font-weight: bold\">[</span><span style=\"color: #008080; text-decoration-color: #008080; font-weight: bold\">4</span><span style=\"font-weight: bold\">]</span>\n",
       "<span style=\"color: #008080; text-decoration-color: #008080; font-weight: bold\">4</span>  Introduction to Chemical Engineering Thermodyn<span style=\"color: #808000; text-decoration-color: #808000\">...</span>  <span style=\"font-weight: bold\">[</span><span style=\"color: #008080; text-decoration-color: #008080; font-weight: bold\">5</span><span style=\"font-weight: bold\">]</span>\n",
       "<span style=\"color: #008080; text-decoration-color: #008080; font-weight: bold\">5</span>                    Properties of Gases and Liquids  <span style=\"font-weight: bold\">[</span><span style=\"color: #008080; text-decoration-color: #008080; font-weight: bold\">6</span><span style=\"font-weight: bold\">]</span>\n",
       "<span style=\"color: #008080; text-decoration-color: #008080; font-weight: bold\">6</span>                                               NRTL  <span style=\"font-weight: bold\">[</span><span style=\"color: #008080; text-decoration-color: #008080; font-weight: bold\">7</span><span style=\"font-weight: bold\">]</span>\n",
       "</pre>\n"
      ],
      "text/plain": [
       "                                           Databooks   Id\n",
       "\u001b[1;36m0\u001b[0m               Perry's Chemical Engineers' Handbook  \u001b[1m[\u001b[0m\u001b[1;36m1\u001b[0m\u001b[1m]\u001b[0m\n",
       "\u001b[1;36m1\u001b[0m     Chemical Thermodynamics for Process Simulation  \u001b[1m[\u001b[0m\u001b[1;36m2\u001b[0m\u001b[1m]\u001b[0m\n",
       "\u001b[1;36m2\u001b[0m            Chemical and Engineering Thermodynamics  \u001b[1m[\u001b[0m\u001b[1;36m3\u001b[0m\u001b[1m]\u001b[0m\n",
       "\u001b[1;36m3\u001b[0m                         CO2 Hydrogenation Reaction  \u001b[1m[\u001b[0m\u001b[1;36m4\u001b[0m\u001b[1m]\u001b[0m\n",
       "\u001b[1;36m4\u001b[0m  Introduction to Chemical Engineering Thermodyn\u001b[33m...\u001b[0m  \u001b[1m[\u001b[0m\u001b[1;36m5\u001b[0m\u001b[1m]\u001b[0m\n",
       "\u001b[1;36m5\u001b[0m                    Properties of Gases and Liquids  \u001b[1m[\u001b[0m\u001b[1;36m6\u001b[0m\u001b[1m]\u001b[0m\n",
       "\u001b[1;36m6\u001b[0m                                               NRTL  \u001b[1m[\u001b[0m\u001b[1;36m7\u001b[0m\u001b[1m]\u001b[0m\n"
      ]
     },
     "metadata": {},
     "output_type": "display_data"
    }
   ],
   "source": [
    "db_list = tdb.list_databooks()\n",
    "print(db_list)"
   ]
  },
  {
   "cell_type": "markdown",
   "id": "43d502e2",
   "metadata": {},
   "source": [
    "# Table List"
   ]
  },
  {
   "cell_type": "code",
   "execution_count": 26,
   "id": "7a1e2a7b",
   "metadata": {},
   "outputs": [
    {
     "data": {
      "text/html": [
       "<pre style=\"white-space:pre;overflow-x:auto;line-height:normal;font-family:Menlo,'DejaVu Sans Mono',consolas,'Courier New',monospace\"><span style=\"font-weight: bold\">{</span>\n",
       "    <span style=\"color: #008000; text-decoration-color: #008000\">\"table-1\"</span>: <span style=\"color: #008000; text-decoration-color: #008000\">\"Non-randomness parameters of the NRTL equation\"</span>,\n",
       "    <span style=\"color: #008000; text-decoration-color: #008000\">\"table-2\"</span>: <span style=\"color: #008000; text-decoration-color: #008000\">\"Interaction parameters of the NRTL equation-2\"</span>\n",
       "<span style=\"font-weight: bold\">}</span>\n",
       "</pre>\n"
      ],
      "text/plain": [
       "\u001b[1m{\u001b[0m\n",
       "    \u001b[32m\"table-1\"\u001b[0m: \u001b[32m\"Non-randomness parameters of the NRTL equation\"\u001b[0m,\n",
       "    \u001b[32m\"table-2\"\u001b[0m: \u001b[32m\"Interaction parameters of the NRTL equation-2\"\u001b[0m\n",
       "\u001b[1m}\u001b[0m\n"
      ]
     },
     "metadata": {},
     "output_type": "display_data"
    }
   ],
   "source": [
    "tb_lists = tdb.list_tables(\"NRTL\", res_format='json')\n",
    "print(tb_lists)"
   ]
  },
  {
   "cell_type": "markdown",
   "id": "45d80642",
   "metadata": {},
   "source": [
    "# Table Info"
   ]
  },
  {
   "cell_type": "markdown",
   "id": "4471d60e",
   "metadata": {},
   "source": [
    "## Structure"
   ]
  },
  {
   "cell_type": "code",
   "execution_count": 27,
   "id": "c0c8b13c",
   "metadata": {},
   "outputs": [
    {
     "data": {
      "text/html": [
       "<pre style=\"white-space:pre;overflow-x:auto;line-height:normal;font-family:Menlo,'DejaVu Sans Mono',consolas,'Courier New',monospace\"><span style=\"font-weight: bold\">{</span>\n",
       "    <span style=\"color: #008000; text-decoration-color: #008000\">'table_id'</span>: <span style=\"color: #008080; text-decoration-color: #008080; font-weight: bold\">-1</span>,\n",
       "    <span style=\"color: #008000; text-decoration-color: #008000\">'table'</span>: <span style=\"color: #008000; text-decoration-color: #008000\">'Non-randomness parameters of the NRTL equation'</span>,\n",
       "    <span style=\"color: #008000; text-decoration-color: #008000\">'description'</span>: <span style=\"color: #800080; text-decoration-color: #800080; font-style: italic\">None</span>,\n",
       "    <span style=\"color: #008000; text-decoration-color: #008000\">'equations'</span>: <span style=\"color: #800080; text-decoration-color: #800080; font-style: italic\">None</span>,\n",
       "    <span style=\"color: #008000; text-decoration-color: #008000\">'data'</span>: <span style=\"color: #800080; text-decoration-color: #800080; font-style: italic\">None</span>,\n",
       "    <span style=\"color: #008000; text-decoration-color: #008000\">'matrix_equations'</span>: <span style=\"color: #800080; text-decoration-color: #800080; font-style: italic\">None</span>,\n",
       "    <span style=\"color: #008000; text-decoration-color: #008000\">'matrix_data'</span>: <span style=\"font-weight: bold\">{</span>\n",
       "        <span style=\"color: #008000; text-decoration-color: #008000\">'COLUMNS'</span>: <span style=\"font-weight: bold\">[</span><span style=\"color: #008000; text-decoration-color: #008000\">'No.'</span>, <span style=\"color: #008000; text-decoration-color: #008000\">'Name'</span>, <span style=\"color: #008000; text-decoration-color: #008000\">'Formula'</span>, <span style=\"color: #008000; text-decoration-color: #008000\">'Alpha_i_1'</span>, <span style=\"color: #008000; text-decoration-color: #008000\">'Alpha_i_2'</span>, <span style=\"color: #008000; text-decoration-color: #008000\">'Alpha_i_3'</span><span style=\"font-weight: bold\">]</span>,\n",
       "        <span style=\"color: #008000; text-decoration-color: #008000\">'SYMBOL'</span>: <span style=\"font-weight: bold\">[</span><span style=\"color: #008000; text-decoration-color: #008000\">'None'</span>, <span style=\"color: #008000; text-decoration-color: #008000\">'None'</span>, <span style=\"color: #008000; text-decoration-color: #008000\">'None'</span>, <span style=\"color: #008000; text-decoration-color: #008000\">'Alpha_i_1'</span>, <span style=\"color: #008000; text-decoration-color: #008000\">'Alpha_i_2'</span>, <span style=\"color: #008000; text-decoration-color: #008000\">'Alpha_i_3'</span><span style=\"font-weight: bold\">]</span>,\n",
       "        <span style=\"color: #008000; text-decoration-color: #008000\">'UNIT'</span>: <span style=\"font-weight: bold\">[</span><span style=\"color: #008000; text-decoration-color: #008000\">'None'</span>, <span style=\"color: #008000; text-decoration-color: #008000\">'None'</span>, <span style=\"color: #008000; text-decoration-color: #008000\">'None'</span>, <span style=\"color: #008080; text-decoration-color: #008080; font-weight: bold\">1</span>, <span style=\"color: #008080; text-decoration-color: #008080; font-weight: bold\">1</span>, <span style=\"color: #008080; text-decoration-color: #008080; font-weight: bold\">1</span><span style=\"font-weight: bold\">]</span>,\n",
       "        <span style=\"color: #008000; text-decoration-color: #008000\">'CONVERSION'</span>: <span style=\"font-weight: bold\">[</span><span style=\"color: #008000; text-decoration-color: #008000\">'None'</span>, <span style=\"color: #008000; text-decoration-color: #008000\">'None'</span>, <span style=\"color: #008000; text-decoration-color: #008000\">'None'</span>, <span style=\"color: #008080; text-decoration-color: #008080; font-weight: bold\">1</span>, <span style=\"color: #008080; text-decoration-color: #008080; font-weight: bold\">1</span>, <span style=\"color: #008080; text-decoration-color: #008080; font-weight: bold\">1</span><span style=\"font-weight: bold\">]</span>\n",
       "    <span style=\"font-weight: bold\">}</span>\n",
       "<span style=\"font-weight: bold\">}</span>\n",
       "</pre>\n"
      ],
      "text/plain": [
       "\u001b[1m{\u001b[0m\n",
       "    \u001b[32m'table_id'\u001b[0m: \u001b[1;36m-1\u001b[0m,\n",
       "    \u001b[32m'table'\u001b[0m: \u001b[32m'Non-randomness parameters of the NRTL equation'\u001b[0m,\n",
       "    \u001b[32m'description'\u001b[0m: \u001b[3;35mNone\u001b[0m,\n",
       "    \u001b[32m'equations'\u001b[0m: \u001b[3;35mNone\u001b[0m,\n",
       "    \u001b[32m'data'\u001b[0m: \u001b[3;35mNone\u001b[0m,\n",
       "    \u001b[32m'matrix_equations'\u001b[0m: \u001b[3;35mNone\u001b[0m,\n",
       "    \u001b[32m'matrix_data'\u001b[0m: \u001b[1m{\u001b[0m\n",
       "        \u001b[32m'COLUMNS'\u001b[0m: \u001b[1m[\u001b[0m\u001b[32m'No.'\u001b[0m, \u001b[32m'Name'\u001b[0m, \u001b[32m'Formula'\u001b[0m, \u001b[32m'Alpha_i_1'\u001b[0m, \u001b[32m'Alpha_i_2'\u001b[0m, \u001b[32m'Alpha_i_3'\u001b[0m\u001b[1m]\u001b[0m,\n",
       "        \u001b[32m'SYMBOL'\u001b[0m: \u001b[1m[\u001b[0m\u001b[32m'None'\u001b[0m, \u001b[32m'None'\u001b[0m, \u001b[32m'None'\u001b[0m, \u001b[32m'Alpha_i_1'\u001b[0m, \u001b[32m'Alpha_i_2'\u001b[0m, \u001b[32m'Alpha_i_3'\u001b[0m\u001b[1m]\u001b[0m,\n",
       "        \u001b[32m'UNIT'\u001b[0m: \u001b[1m[\u001b[0m\u001b[32m'None'\u001b[0m, \u001b[32m'None'\u001b[0m, \u001b[32m'None'\u001b[0m, \u001b[1;36m1\u001b[0m, \u001b[1;36m1\u001b[0m, \u001b[1;36m1\u001b[0m\u001b[1m]\u001b[0m,\n",
       "        \u001b[32m'CONVERSION'\u001b[0m: \u001b[1m[\u001b[0m\u001b[32m'None'\u001b[0m, \u001b[32m'None'\u001b[0m, \u001b[32m'None'\u001b[0m, \u001b[1;36m1\u001b[0m, \u001b[1;36m1\u001b[0m, \u001b[1;36m1\u001b[0m\u001b[1m]\u001b[0m\n",
       "    \u001b[1m}\u001b[0m\n",
       "\u001b[1m}\u001b[0m\n"
      ]
     },
     "metadata": {},
     "output_type": "display_data"
    }
   ],
   "source": [
    "# select a table\n",
    "tb_select = tdb.select_table(7, 1)\n",
    "print(tb_select)"
   ]
  },
  {
   "cell_type": "code",
   "execution_count": null,
   "id": "e46609ab",
   "metadata": {},
   "outputs": [
    {
     "data": {
      "text/html": [
       "<pre style=\"white-space:pre;overflow-x:auto;line-height:normal;font-family:Menlo,'DejaVu Sans Mono',consolas,'Courier New',monospace\"><span style=\"font-weight: bold\">{</span>\n",
       "    <span style=\"color: #008000; text-decoration-color: #008000\">'table_id'</span>: <span style=\"color: #008080; text-decoration-color: #008080; font-weight: bold\">-1</span>,\n",
       "    <span style=\"color: #008000; text-decoration-color: #008000\">'table'</span>: <span style=\"color: #008000; text-decoration-color: #008000\">'Interaction parameters of the NRTL equation-2'</span>,\n",
       "    <span style=\"color: #008000; text-decoration-color: #008000\">'description'</span>: <span style=\"color: #800080; text-decoration-color: #800080; font-style: italic\">None</span>,\n",
       "    <span style=\"color: #008000; text-decoration-color: #008000\">'equations'</span>: <span style=\"color: #800080; text-decoration-color: #800080; font-style: italic\">None</span>,\n",
       "    <span style=\"color: #008000; text-decoration-color: #008000\">'data'</span>: <span style=\"color: #800080; text-decoration-color: #800080; font-style: italic\">None</span>,\n",
       "    <span style=\"color: #008000; text-decoration-color: #008000\">'matrix_equations'</span>: <span style=\"font-weight: bold\">[</span>\n",
       "        <span style=\"font-weight: bold\">{</span>\n",
       "            <span style=\"color: #008000; text-decoration-color: #008000\">'BODY'</span>: <span style=\"font-weight: bold\">[</span><span style=\"color: #008000; text-decoration-color: #008000\">\"res = parms['A_i_j'] + parms['B_i_j']*(args['T']**(-1))\"</span><span style=\"font-weight: bold\">]</span>,\n",
       "            <span style=\"color: #008000; text-decoration-color: #008000\">'ARGS'</span>: <span style=\"font-weight: bold\">{</span><span style=\"color: #008000; text-decoration-color: #008000\">'temperature'</span>: <span style=\"font-weight: bold\">{</span><span style=\"color: #008000; text-decoration-color: #008000\">'name'</span>: <span style=\"color: #008000; text-decoration-color: #008000\">'temperature'</span>, <span style=\"color: #008000; text-decoration-color: #008000\">'symbol'</span>: <span style=\"color: #008000; text-decoration-color: #008000\">'T'</span>, <span style=\"color: #008000; text-decoration-color: #008000\">'unit'</span>: <span style=\"color: #008000; text-decoration-color: #008000\">'K'</span><span style=\"font-weight: bold\">}}</span>,\n",
       "            <span style=\"color: #008000; text-decoration-color: #008000\">'PARMS'</span>: <span style=\"font-weight: bold\">{</span>\n",
       "                <span style=\"color: #008000; text-decoration-color: #008000\">'A_i_j'</span>: <span style=\"font-weight: bold\">{</span><span style=\"color: #008000; text-decoration-color: #008000\">'name'</span>: <span style=\"color: #008000; text-decoration-color: #008000\">'A_i_j'</span>, <span style=\"color: #008000; text-decoration-color: #008000\">'symbol'</span>: <span style=\"color: #008000; text-decoration-color: #008000\">'A_i_j'</span>, <span style=\"color: #008000; text-decoration-color: #008000\">'unit'</span>: <span style=\"color: #008080; text-decoration-color: #008080; font-weight: bold\">1</span>, <span style=\"color: #008000; text-decoration-color: #008000\">'conversion'</span>: <span style=\"color: #008080; text-decoration-color: #008080; font-weight: bold\">1</span><span style=\"font-weight: bold\">}</span>,\n",
       "                <span style=\"color: #008000; text-decoration-color: #008000\">'B_i_j'</span>: <span style=\"font-weight: bold\">{</span><span style=\"color: #008000; text-decoration-color: #008000\">'name'</span>: <span style=\"color: #008000; text-decoration-color: #008000\">'B_i_j'</span>, <span style=\"color: #008000; text-decoration-color: #008000\">'symbol'</span>: <span style=\"color: #008000; text-decoration-color: #008000\">'B_i_j'</span>, <span style=\"color: #008000; text-decoration-color: #008000\">'unit'</span>: <span style=\"color: #008080; text-decoration-color: #008080; font-weight: bold\">1</span>, <span style=\"color: #008000; text-decoration-color: #008000\">'conversion'</span>: <span style=\"color: #008080; text-decoration-color: #008080; font-weight: bold\">1</span><span style=\"font-weight: bold\">}</span>\n",
       "            <span style=\"font-weight: bold\">}</span>,\n",
       "            <span style=\"color: #008000; text-decoration-color: #008000\">'RETURNS'</span>: <span style=\"font-weight: bold\">{</span><span style=\"color: #008000; text-decoration-color: #008000\">'tau_i_j'</span>: <span style=\"font-weight: bold\">{</span><span style=\"color: #008000; text-decoration-color: #008000\">'name'</span>: <span style=\"color: #008000; text-decoration-color: #008000\">'tau_i_j'</span>, <span style=\"color: #008000; text-decoration-color: #008000\">'symbol'</span>: <span style=\"color: #008000; text-decoration-color: #008000\">'tau_i_j'</span>, <span style=\"color: #008000; text-decoration-color: #008000\">'unit'</span>: <span style=\"color: #008080; text-decoration-color: #008080; font-weight: bold\">1</span><span style=\"font-weight: bold\">}}</span>,\n",
       "            <span style=\"color: #008000; text-decoration-color: #008000\">'BODY-INTEGRAL'</span>: <span style=\"color: #008000; text-decoration-color: #008000\">'None'</span>,\n",
       "            <span style=\"color: #008000; text-decoration-color: #008000\">'BODY-FIRST-DERIVATIVE'</span>: <span style=\"color: #008000; text-decoration-color: #008000\">'None'</span>,\n",
       "            <span style=\"color: #008000; text-decoration-color: #008000\">'BODY-SECOND-DERIVATIVE'</span>: <span style=\"color: #008000; text-decoration-color: #008000\">'None'</span>\n",
       "        <span style=\"font-weight: bold\">}</span>\n",
       "    <span style=\"font-weight: bold\">]</span>,\n",
       "    <span style=\"color: #008000; text-decoration-color: #008000\">'matrix_data'</span>: <span style=\"color: #800080; text-decoration-color: #800080; font-style: italic\">None</span>\n",
       "<span style=\"font-weight: bold\">}</span>\n",
       "</pre>\n"
      ],
      "text/plain": [
       "\u001b[1m{\u001b[0m\n",
       "    \u001b[32m'table_id'\u001b[0m: \u001b[1;36m-1\u001b[0m,\n",
       "    \u001b[32m'table'\u001b[0m: \u001b[32m'Interaction parameters of the NRTL equation-2'\u001b[0m,\n",
       "    \u001b[32m'description'\u001b[0m: \u001b[3;35mNone\u001b[0m,\n",
       "    \u001b[32m'equations'\u001b[0m: \u001b[3;35mNone\u001b[0m,\n",
       "    \u001b[32m'data'\u001b[0m: \u001b[3;35mNone\u001b[0m,\n",
       "    \u001b[32m'matrix_equations'\u001b[0m: \u001b[1m[\u001b[0m\n",
       "        \u001b[1m{\u001b[0m\n",
       "            \u001b[32m'BODY'\u001b[0m: \u001b[1m[\u001b[0m\u001b[32m\"res = parms\u001b[0m\u001b[32m[\u001b[0m\u001b[32m'A_i_j'\u001b[0m\u001b[32m]\u001b[0m\u001b[32m + parms\u001b[0m\u001b[32m[\u001b[0m\u001b[32m'B_i_j'\u001b[0m\u001b[32m]\u001b[0m\u001b[32m*\u001b[0m\u001b[32m(\u001b[0m\u001b[32margs\u001b[0m\u001b[32m[\u001b[0m\u001b[32m'T'\u001b[0m\u001b[32m]\u001b[0m\u001b[32m**\u001b[0m\u001b[32m(\u001b[0m\u001b[32m-1\u001b[0m\u001b[32m)\u001b[0m\u001b[32m)\u001b[0m\u001b[32m\"\u001b[0m\u001b[1m]\u001b[0m,\n",
       "            \u001b[32m'ARGS'\u001b[0m: \u001b[1m{\u001b[0m\u001b[32m'temperature'\u001b[0m: \u001b[1m{\u001b[0m\u001b[32m'name'\u001b[0m: \u001b[32m'temperature'\u001b[0m, \u001b[32m'symbol'\u001b[0m: \u001b[32m'T'\u001b[0m, \u001b[32m'unit'\u001b[0m: \u001b[32m'K'\u001b[0m\u001b[1m}\u001b[0m\u001b[1m}\u001b[0m,\n",
       "            \u001b[32m'PARMS'\u001b[0m: \u001b[1m{\u001b[0m\n",
       "                \u001b[32m'A_i_j'\u001b[0m: \u001b[1m{\u001b[0m\u001b[32m'name'\u001b[0m: \u001b[32m'A_i_j'\u001b[0m, \u001b[32m'symbol'\u001b[0m: \u001b[32m'A_i_j'\u001b[0m, \u001b[32m'unit'\u001b[0m: \u001b[1;36m1\u001b[0m, \u001b[32m'conversion'\u001b[0m: \u001b[1;36m1\u001b[0m\u001b[1m}\u001b[0m,\n",
       "                \u001b[32m'B_i_j'\u001b[0m: \u001b[1m{\u001b[0m\u001b[32m'name'\u001b[0m: \u001b[32m'B_i_j'\u001b[0m, \u001b[32m'symbol'\u001b[0m: \u001b[32m'B_i_j'\u001b[0m, \u001b[32m'unit'\u001b[0m: \u001b[1;36m1\u001b[0m, \u001b[32m'conversion'\u001b[0m: \u001b[1;36m1\u001b[0m\u001b[1m}\u001b[0m\n",
       "            \u001b[1m}\u001b[0m,\n",
       "            \u001b[32m'RETURNS'\u001b[0m: \u001b[1m{\u001b[0m\u001b[32m'tau_i_j'\u001b[0m: \u001b[1m{\u001b[0m\u001b[32m'name'\u001b[0m: \u001b[32m'tau_i_j'\u001b[0m, \u001b[32m'symbol'\u001b[0m: \u001b[32m'tau_i_j'\u001b[0m, \u001b[32m'unit'\u001b[0m: \u001b[1;36m1\u001b[0m\u001b[1m}\u001b[0m\u001b[1m}\u001b[0m,\n",
       "            \u001b[32m'BODY-INTEGRAL'\u001b[0m: \u001b[32m'None'\u001b[0m,\n",
       "            \u001b[32m'BODY-FIRST-DERIVATIVE'\u001b[0m: \u001b[32m'None'\u001b[0m,\n",
       "            \u001b[32m'BODY-SECOND-DERIVATIVE'\u001b[0m: \u001b[32m'None'\u001b[0m\n",
       "        \u001b[1m}\u001b[0m\n",
       "    \u001b[1m]\u001b[0m,\n",
       "    \u001b[32m'matrix_data'\u001b[0m: \u001b[3;35mNone\u001b[0m\n",
       "\u001b[1m}\u001b[0m\n"
      ]
     },
     "metadata": {},
     "output_type": "display_data"
    }
   ],
   "source": [
    "tb_select = tdb.select_table(7, 2)\n",
    "print(tb_select)"
   ]
  },
  {
   "cell_type": "markdown",
   "id": "e1e3964c",
   "metadata": {},
   "source": [
    "## Information"
   ]
  },
  {
   "cell_type": "code",
   "execution_count": 30,
   "id": "b773754b",
   "metadata": {},
   "outputs": [
    {
     "data": {
      "text/html": [
       "<pre style=\"white-space:pre;overflow-x:auto;line-height:normal;font-family:Menlo,'DejaVu Sans Mono',consolas,'Courier New',monospace\">                                       Table Name         Type  Equations  \\\n",
       "<span style=\"color: #008080; text-decoration-color: #008080; font-weight: bold\">0</span>  Non-randomness parameters of the NRTL equation  Matrix-Data          <span style=\"color: #008080; text-decoration-color: #008080; font-weight: bold\">0</span>   \n",
       "\n",
       "   Data  Matrix-Equations  Matrix-Data  \n",
       "<span style=\"color: #008080; text-decoration-color: #008080; font-weight: bold\">0</span>     <span style=\"color: #008080; text-decoration-color: #008080; font-weight: bold\">0</span>                 <span style=\"color: #008080; text-decoration-color: #008080; font-weight: bold\">0</span>            <span style=\"color: #008080; text-decoration-color: #008080; font-weight: bold\">1</span>  \n",
       "</pre>\n"
      ],
      "text/plain": [
       "                                       Table Name         Type  Equations  \\\n",
       "\u001b[1;36m0\u001b[0m  Non-randomness parameters of the NRTL equation  Matrix-Data          \u001b[1;36m0\u001b[0m   \n",
       "\n",
       "   Data  Matrix-Equations  Matrix-Data  \n",
       "\u001b[1;36m0\u001b[0m     \u001b[1;36m0\u001b[0m                 \u001b[1;36m0\u001b[0m            \u001b[1;36m1\u001b[0m  \n"
      ]
     },
     "metadata": {},
     "output_type": "display_data"
    }
   ],
   "source": [
    "# display a table\n",
    "tb_info = tdb.table_info(7, 1)\n",
    "print(tb_info)"
   ]
  },
  {
   "cell_type": "code",
   "execution_count": 31,
   "id": "7bc5e1a1",
   "metadata": {},
   "outputs": [
    {
     "data": {
      "text/html": [
       "<pre style=\"white-space:pre;overflow-x:auto;line-height:normal;font-family:Menlo,'DejaVu Sans Mono',consolas,'Courier New',monospace\">                                      Table Name             Type  Equations  \\\n",
       "<span style=\"color: #008080; text-decoration-color: #008080; font-weight: bold\">0</span>  Interaction parameters of the NRTL equation-<span style=\"color: #008080; text-decoration-color: #008080; font-weight: bold\">2</span>  Matrix-Equation          <span style=\"color: #008080; text-decoration-color: #008080; font-weight: bold\">0</span>   \n",
       "\n",
       "   Data  Matrix-Equations  Matrix-Data  \n",
       "<span style=\"color: #008080; text-decoration-color: #008080; font-weight: bold\">0</span>     <span style=\"color: #008080; text-decoration-color: #008080; font-weight: bold\">0</span>                 <span style=\"color: #008080; text-decoration-color: #008080; font-weight: bold\">1</span>            <span style=\"color: #008080; text-decoration-color: #008080; font-weight: bold\">0</span>  \n",
       "</pre>\n"
      ],
      "text/plain": [
       "                                      Table Name             Type  Equations  \\\n",
       "\u001b[1;36m0\u001b[0m  Interaction parameters of the NRTL equation-\u001b[1;36m2\u001b[0m  Matrix-Equation          \u001b[1;36m0\u001b[0m   \n",
       "\n",
       "   Data  Matrix-Equations  Matrix-Data  \n",
       "\u001b[1;36m0\u001b[0m     \u001b[1;36m0\u001b[0m                 \u001b[1;36m1\u001b[0m            \u001b[1;36m0\u001b[0m  \n"
      ]
     },
     "metadata": {},
     "output_type": "display_data"
    }
   ],
   "source": [
    "# display a table\n",
    "tb_info = tdb.table_info(7, 2)\n",
    "print(tb_info)"
   ]
  },
  {
   "cell_type": "markdown",
   "id": "dd4b81cb",
   "metadata": {},
   "source": [
    "# Load Tables' Structure"
   ]
  },
  {
   "cell_type": "markdown",
   "id": "765a38bf",
   "metadata": {},
   "source": [
    "## Equation"
   ]
  },
  {
   "cell_type": "code",
   "execution_count": 33,
   "id": "82fc641d",
   "metadata": {},
   "outputs": [
    {
     "data": {
      "text/html": [
       "<pre style=\"white-space:pre;overflow-x:auto;line-height:normal;font-family:Menlo,'DejaVu Sans Mono',consolas,'Courier New',monospace\"><span style=\"font-weight: bold\">{</span>\n",
       "    <span style=\"color: #008000; text-decoration-color: #008000\">'id'</span>: <span style=\"color: #008080; text-decoration-color: #008080; font-weight: bold\">0</span>,\n",
       "    <span style=\"color: #008000; text-decoration-color: #008000\">'body'</span>: <span style=\"font-weight: bold\">[</span><span style=\"color: #008000; text-decoration-color: #008000\">\"res = parms['A_i_j'] + parms['B_i_j']*(args['T']**(-1))\"</span><span style=\"font-weight: bold\">]</span>,\n",
       "    <span style=\"color: #008000; text-decoration-color: #008000\">'args'</span>: <span style=\"font-weight: bold\">{</span><span style=\"color: #008000; text-decoration-color: #008000\">'temperature'</span>: <span style=\"font-weight: bold\">{</span><span style=\"color: #008000; text-decoration-color: #008000\">'name'</span>: <span style=\"color: #008000; text-decoration-color: #008000\">'temperature'</span>, <span style=\"color: #008000; text-decoration-color: #008000\">'symbol'</span>: <span style=\"color: #008000; text-decoration-color: #008000\">'T'</span>, <span style=\"color: #008000; text-decoration-color: #008000\">'unit'</span>: <span style=\"color: #008000; text-decoration-color: #008000\">'K'</span><span style=\"font-weight: bold\">}}</span>,\n",
       "    <span style=\"color: #008000; text-decoration-color: #008000\">'parms'</span>: <span style=\"font-weight: bold\">{</span>\n",
       "        <span style=\"color: #008000; text-decoration-color: #008000\">'A_i_j'</span>: <span style=\"font-weight: bold\">{</span><span style=\"color: #008000; text-decoration-color: #008000\">'name'</span>: <span style=\"color: #008000; text-decoration-color: #008000\">'A_i_j'</span>, <span style=\"color: #008000; text-decoration-color: #008000\">'symbol'</span>: <span style=\"color: #008000; text-decoration-color: #008000\">'A_i_j'</span>, <span style=\"color: #008000; text-decoration-color: #008000\">'unit'</span>: <span style=\"color: #008080; text-decoration-color: #008080; font-weight: bold\">1</span>, <span style=\"color: #008000; text-decoration-color: #008000\">'conversion'</span>: <span style=\"color: #008080; text-decoration-color: #008080; font-weight: bold\">1</span><span style=\"font-weight: bold\">}</span>,\n",
       "        <span style=\"color: #008000; text-decoration-color: #008000\">'B_i_j'</span>: <span style=\"font-weight: bold\">{</span><span style=\"color: #008000; text-decoration-color: #008000\">'name'</span>: <span style=\"color: #008000; text-decoration-color: #008000\">'B_i_j'</span>, <span style=\"color: #008000; text-decoration-color: #008000\">'symbol'</span>: <span style=\"color: #008000; text-decoration-color: #008000\">'B_i_j'</span>, <span style=\"color: #008000; text-decoration-color: #008000\">'unit'</span>: <span style=\"color: #008080; text-decoration-color: #008080; font-weight: bold\">1</span>, <span style=\"color: #008000; text-decoration-color: #008000\">'conversion'</span>: <span style=\"color: #008080; text-decoration-color: #008080; font-weight: bold\">1</span><span style=\"font-weight: bold\">}</span>\n",
       "    <span style=\"font-weight: bold\">}</span>,\n",
       "    <span style=\"color: #008000; text-decoration-color: #008000\">'return'</span>: <span style=\"font-weight: bold\">{</span><span style=\"color: #008000; text-decoration-color: #008000\">'tau_i_j'</span>: <span style=\"font-weight: bold\">{</span><span style=\"color: #008000; text-decoration-color: #008000\">'name'</span>: <span style=\"color: #008000; text-decoration-color: #008000\">'tau_i_j'</span>, <span style=\"color: #008000; text-decoration-color: #008000\">'symbol'</span>: <span style=\"color: #008000; text-decoration-color: #008000\">'tau_i_j'</span>, <span style=\"color: #008000; text-decoration-color: #008000\">'unit'</span>: <span style=\"color: #008080; text-decoration-color: #008080; font-weight: bold\">1</span><span style=\"font-weight: bold\">}}</span>,\n",
       "    <span style=\"color: #008000; text-decoration-color: #008000\">'body_integral'</span>: <span style=\"color: #008000; text-decoration-color: #008000\">'None'</span>,\n",
       "    <span style=\"color: #008000; text-decoration-color: #008000\">'body_first_derivative'</span>: <span style=\"color: #008000; text-decoration-color: #008000\">'None'</span>,\n",
       "    <span style=\"color: #008000; text-decoration-color: #008000\">'body_second_derivative'</span>: <span style=\"color: #008000; text-decoration-color: #008000\">'None'</span>,\n",
       "    <span style=\"color: #008000; text-decoration-color: #008000\">'custom_integral'</span>: <span style=\"color: #800080; text-decoration-color: #800080; font-style: italic\">None</span>\n",
       "<span style=\"font-weight: bold\">}</span>\n",
       "</pre>\n"
      ],
      "text/plain": [
       "\u001b[1m{\u001b[0m\n",
       "    \u001b[32m'id'\u001b[0m: \u001b[1;36m0\u001b[0m,\n",
       "    \u001b[32m'body'\u001b[0m: \u001b[1m[\u001b[0m\u001b[32m\"res = parms\u001b[0m\u001b[32m[\u001b[0m\u001b[32m'A_i_j'\u001b[0m\u001b[32m]\u001b[0m\u001b[32m + parms\u001b[0m\u001b[32m[\u001b[0m\u001b[32m'B_i_j'\u001b[0m\u001b[32m]\u001b[0m\u001b[32m*\u001b[0m\u001b[32m(\u001b[0m\u001b[32margs\u001b[0m\u001b[32m[\u001b[0m\u001b[32m'T'\u001b[0m\u001b[32m]\u001b[0m\u001b[32m**\u001b[0m\u001b[32m(\u001b[0m\u001b[32m-1\u001b[0m\u001b[32m)\u001b[0m\u001b[32m)\u001b[0m\u001b[32m\"\u001b[0m\u001b[1m]\u001b[0m,\n",
       "    \u001b[32m'args'\u001b[0m: \u001b[1m{\u001b[0m\u001b[32m'temperature'\u001b[0m: \u001b[1m{\u001b[0m\u001b[32m'name'\u001b[0m: \u001b[32m'temperature'\u001b[0m, \u001b[32m'symbol'\u001b[0m: \u001b[32m'T'\u001b[0m, \u001b[32m'unit'\u001b[0m: \u001b[32m'K'\u001b[0m\u001b[1m}\u001b[0m\u001b[1m}\u001b[0m,\n",
       "    \u001b[32m'parms'\u001b[0m: \u001b[1m{\u001b[0m\n",
       "        \u001b[32m'A_i_j'\u001b[0m: \u001b[1m{\u001b[0m\u001b[32m'name'\u001b[0m: \u001b[32m'A_i_j'\u001b[0m, \u001b[32m'symbol'\u001b[0m: \u001b[32m'A_i_j'\u001b[0m, \u001b[32m'unit'\u001b[0m: \u001b[1;36m1\u001b[0m, \u001b[32m'conversion'\u001b[0m: \u001b[1;36m1\u001b[0m\u001b[1m}\u001b[0m,\n",
       "        \u001b[32m'B_i_j'\u001b[0m: \u001b[1m{\u001b[0m\u001b[32m'name'\u001b[0m: \u001b[32m'B_i_j'\u001b[0m, \u001b[32m'symbol'\u001b[0m: \u001b[32m'B_i_j'\u001b[0m, \u001b[32m'unit'\u001b[0m: \u001b[1;36m1\u001b[0m, \u001b[32m'conversion'\u001b[0m: \u001b[1;36m1\u001b[0m\u001b[1m}\u001b[0m\n",
       "    \u001b[1m}\u001b[0m,\n",
       "    \u001b[32m'return'\u001b[0m: \u001b[1m{\u001b[0m\u001b[32m'tau_i_j'\u001b[0m: \u001b[1m{\u001b[0m\u001b[32m'name'\u001b[0m: \u001b[32m'tau_i_j'\u001b[0m, \u001b[32m'symbol'\u001b[0m: \u001b[32m'tau_i_j'\u001b[0m, \u001b[32m'unit'\u001b[0m: \u001b[1;36m1\u001b[0m\u001b[1m}\u001b[0m\u001b[1m}\u001b[0m,\n",
       "    \u001b[32m'body_integral'\u001b[0m: \u001b[32m'None'\u001b[0m,\n",
       "    \u001b[32m'body_first_derivative'\u001b[0m: \u001b[32m'None'\u001b[0m,\n",
       "    \u001b[32m'body_second_derivative'\u001b[0m: \u001b[32m'None'\u001b[0m,\n",
       "    \u001b[32m'custom_integral'\u001b[0m: \u001b[3;35mNone\u001b[0m\n",
       "\u001b[1m}\u001b[0m\n"
      ]
     },
     "metadata": {},
     "output_type": "display_data"
    }
   ],
   "source": [
    "# load equation to check\n",
    "tb_eq_1 = tdb.matrix_equation_load(7,2)\n",
    "print(tb_eq_1.eq_structure(1))"
   ]
  },
  {
   "cell_type": "markdown",
   "id": "214987bc",
   "metadata": {},
   "source": [
    "## Data"
   ]
  },
  {
   "cell_type": "code",
   "execution_count": 35,
   "id": "4e6717db",
   "metadata": {},
   "outputs": [
    {
     "data": {
      "text/html": [
       "<pre style=\"white-space:pre;overflow-x:auto;line-height:normal;font-family:Menlo,'DejaVu Sans Mono',consolas,'Courier New',monospace\">     COLUMNS     SYMBOL  UNIT CONVERSION  ID\n",
       "<span style=\"color: #008080; text-decoration-color: #008080; font-weight: bold\">0</span>        No.       <span style=\"color: #800080; text-decoration-color: #800080; font-style: italic\">None</span>  <span style=\"color: #800080; text-decoration-color: #800080; font-style: italic\">None</span>       <span style=\"color: #800080; text-decoration-color: #800080; font-style: italic\">None</span>   <span style=\"color: #008080; text-decoration-color: #008080; font-weight: bold\">1</span>\n",
       "<span style=\"color: #008080; text-decoration-color: #008080; font-weight: bold\">1</span>       Name       <span style=\"color: #800080; text-decoration-color: #800080; font-style: italic\">None</span>  <span style=\"color: #800080; text-decoration-color: #800080; font-style: italic\">None</span>       <span style=\"color: #800080; text-decoration-color: #800080; font-style: italic\">None</span>   <span style=\"color: #008080; text-decoration-color: #008080; font-weight: bold\">2</span>\n",
       "<span style=\"color: #008080; text-decoration-color: #008080; font-weight: bold\">2</span>    Formula       <span style=\"color: #800080; text-decoration-color: #800080; font-style: italic\">None</span>  <span style=\"color: #800080; text-decoration-color: #800080; font-style: italic\">None</span>       <span style=\"color: #800080; text-decoration-color: #800080; font-style: italic\">None</span>   <span style=\"color: #008080; text-decoration-color: #008080; font-weight: bold\">3</span>\n",
       "<span style=\"color: #008080; text-decoration-color: #008080; font-weight: bold\">3</span>  Alpha_i_1  Alpha_i_1     <span style=\"color: #008080; text-decoration-color: #008080; font-weight: bold\">1</span>          <span style=\"color: #008080; text-decoration-color: #008080; font-weight: bold\">1</span>   <span style=\"color: #008080; text-decoration-color: #008080; font-weight: bold\">4</span>\n",
       "<span style=\"color: #008080; text-decoration-color: #008080; font-weight: bold\">4</span>  Alpha_i_2  Alpha_i_2     <span style=\"color: #008080; text-decoration-color: #008080; font-weight: bold\">1</span>          <span style=\"color: #008080; text-decoration-color: #008080; font-weight: bold\">1</span>   <span style=\"color: #008080; text-decoration-color: #008080; font-weight: bold\">5</span>\n",
       "<span style=\"color: #008080; text-decoration-color: #008080; font-weight: bold\">5</span>  Alpha_i_3  Alpha_i_3     <span style=\"color: #008080; text-decoration-color: #008080; font-weight: bold\">1</span>          <span style=\"color: #008080; text-decoration-color: #008080; font-weight: bold\">1</span>   <span style=\"color: #008080; text-decoration-color: #008080; font-weight: bold\">6</span>\n",
       "</pre>\n"
      ],
      "text/plain": [
       "     COLUMNS     SYMBOL  UNIT CONVERSION  ID\n",
       "\u001b[1;36m0\u001b[0m        No.       \u001b[3;35mNone\u001b[0m  \u001b[3;35mNone\u001b[0m       \u001b[3;35mNone\u001b[0m   \u001b[1;36m1\u001b[0m\n",
       "\u001b[1;36m1\u001b[0m       Name       \u001b[3;35mNone\u001b[0m  \u001b[3;35mNone\u001b[0m       \u001b[3;35mNone\u001b[0m   \u001b[1;36m2\u001b[0m\n",
       "\u001b[1;36m2\u001b[0m    Formula       \u001b[3;35mNone\u001b[0m  \u001b[3;35mNone\u001b[0m       \u001b[3;35mNone\u001b[0m   \u001b[1;36m3\u001b[0m\n",
       "\u001b[1;36m3\u001b[0m  Alpha_i_1  Alpha_i_1     \u001b[1;36m1\u001b[0m          \u001b[1;36m1\u001b[0m   \u001b[1;36m4\u001b[0m\n",
       "\u001b[1;36m4\u001b[0m  Alpha_i_2  Alpha_i_2     \u001b[1;36m1\u001b[0m          \u001b[1;36m1\u001b[0m   \u001b[1;36m5\u001b[0m\n",
       "\u001b[1;36m5\u001b[0m  Alpha_i_3  Alpha_i_3     \u001b[1;36m1\u001b[0m          \u001b[1;36m1\u001b[0m   \u001b[1;36m6\u001b[0m\n"
      ]
     },
     "metadata": {},
     "output_type": "display_data"
    }
   ],
   "source": [
    "# load data to check\n",
    "tb_dt_1 = tdb.matrix_data_load(7, 1)\n",
    "print(tb_dt_1.matrix_data_structure())"
   ]
  },
  {
   "cell_type": "markdown",
   "id": "9a089ed8",
   "metadata": {},
   "source": [
    "# Check Table Data | Table Equation"
   ]
  },
  {
   "cell_type": "code",
   "execution_count": 45,
   "id": "f363a51f",
   "metadata": {},
   "outputs": [
    {
     "ename": "ValueError",
     "evalue": "too many values to unpack (expected 2)",
     "output_type": "error",
     "traceback": [
      "\u001b[31m---------------------------------------------------------------------------\u001b[39m",
      "\u001b[31mValueError\u001b[39m                                Traceback (most recent call last)",
      "\u001b[36mCell\u001b[39m\u001b[36m \u001b[39m\u001b[32mIn[45]\u001b[39m\u001b[32m, line 1\u001b[39m\n\u001b[32m----> \u001b[39m\u001b[32m1\u001b[39m \u001b[43mtdb_ref\u001b[49m\u001b[43m.\u001b[49m\u001b[43mlist_tables\u001b[49m\u001b[43m(\u001b[49m\u001b[32;43m6\u001b[39;49m\u001b[43m)\u001b[49m\n",
      "\u001b[36mFile \u001b[39m\u001b[32me:\\Python Projects\\pyThermoDB\\.venv\\Lib\\site-packages\\pyThermoDB\\docs\\tableref.py:65\u001b[39m, in \u001b[36mTableReference.list_tables\u001b[39m\u001b[34m(self, databook_id)\u001b[39m\n\u001b[32m     56\u001b[39m \u001b[38;5;28;01mdef\u001b[39;00m \u001b[34mlist_tables\u001b[39m(\u001b[38;5;28mself\u001b[39m, databook_id: \u001b[38;5;28mint\u001b[39m) -> pd.DataFrame:\n\u001b[32m     57\u001b[39m \u001b[38;5;250m    \u001b[39m\u001b[33;03m'''\u001b[39;00m\n\u001b[32m     58\u001b[39m \u001b[33;03m    List tables\u001b[39;00m\n\u001b[32m     59\u001b[39m \n\u001b[32m   (...)\u001b[39m\u001b[32m     63\u001b[39m \u001b[33;03m        databook id\u001b[39;00m\n\u001b[32m     64\u001b[39m \u001b[33;03m    '''\u001b[39;00m\n\u001b[32m---> \u001b[39m\u001b[32m65\u001b[39m     _, df = \u001b[38;5;28mself\u001b[39m.get_tables(databook_id-\u001b[32m1\u001b[39m)\n\u001b[32m     66\u001b[39m     \u001b[38;5;28;01mreturn\u001b[39;00m df\n",
      "\u001b[31mValueError\u001b[39m: too many values to unpack (expected 2)"
     ]
    }
   ],
   "source": [
    "tdb_ref.list_tables(6)"
   ]
  },
  {
   "cell_type": "markdown",
   "id": "5adf2795",
   "metadata": {},
   "source": [
    "# Build Data"
   ]
  },
  {
   "cell_type": "code",
   "execution_count": 40,
   "id": "e2b20992",
   "metadata": {},
   "outputs": [],
   "source": [
    "# build data\n",
    "CO2_data = tdb.build_data(comp1, \"Chemical Thermodynamics for Process Simulation\",\n",
    "                          \"Table A.1 General data for selected compounds\")"
   ]
  },
  {
   "cell_type": "code",
   "execution_count": 38,
   "id": "222e7987",
   "metadata": {},
   "outputs": [],
   "source": [
    "# build data\n",
    "CO2_data = tdb.build_data(comp1, 1, 2)"
   ]
  },
  {
   "cell_type": "code",
   "execution_count": 42,
   "id": "03b62083",
   "metadata": {},
   "outputs": [
    {
     "data": {
      "text/html": [
       "<pre style=\"white-space:pre;overflow-x:auto;line-height:normal;font-family:Menlo,'DejaVu Sans Mono',consolas,'Courier New',monospace\">                               COLUMNS     SYMBOL     UNIT CONVERSION  ID\n",
       "<span style=\"color: #008080; text-decoration-color: #008080; font-weight: bold\">0</span>                                  No.       <span style=\"color: #800080; text-decoration-color: #800080; font-style: italic\">None</span>     <span style=\"color: #800080; text-decoration-color: #800080; font-style: italic\">None</span>       <span style=\"color: #800080; text-decoration-color: #800080; font-style: italic\">None</span>   <span style=\"color: #008080; text-decoration-color: #008080; font-weight: bold\">1</span>\n",
       "<span style=\"color: #008080; text-decoration-color: #008080; font-weight: bold\">1</span>                                 Name       <span style=\"color: #800080; text-decoration-color: #800080; font-style: italic\">None</span>     <span style=\"color: #800080; text-decoration-color: #800080; font-style: italic\">None</span>       <span style=\"color: #800080; text-decoration-color: #800080; font-style: italic\">None</span>   <span style=\"color: #008080; text-decoration-color: #008080; font-weight: bold\">2</span>\n",
       "<span style=\"color: #008080; text-decoration-color: #008080; font-weight: bold\">2</span>                 critical-temperature         Tc        K          <span style=\"color: #008080; text-decoration-color: #008080; font-weight: bold\">1</span>   <span style=\"color: #008080; text-decoration-color: #008080; font-weight: bold\">3</span>\n",
       "<span style=\"color: #008080; text-decoration-color: #008080; font-weight: bold\">3</span>                    critical-pressure         Pc      bar          <span style=\"color: #008080; text-decoration-color: #008080; font-weight: bold\">1</span>   <span style=\"color: #008080; text-decoration-color: #008080; font-weight: bold\">4</span>\n",
       "<span style=\"color: #008080; text-decoration-color: #008080; font-weight: bold\">4</span>                critical-molar-volume         Vc  cm3/mol          <span style=\"color: #008080; text-decoration-color: #008080; font-weight: bold\">1</span>   <span style=\"color: #008080; text-decoration-color: #008080; font-weight: bold\">5</span>\n",
       "<span style=\"color: #008080; text-decoration-color: #008080; font-weight: bold\">5</span>                     molecular-weight         MW    g/mol          <span style=\"color: #008080; text-decoration-color: #008080; font-weight: bold\">1</span>   <span style=\"color: #008080; text-decoration-color: #008080; font-weight: bold\">6</span>\n",
       "<span style=\"color: #008080; text-decoration-color: #008080; font-weight: bold\">6</span>                      acentric-factor       AcFa     <span style=\"color: #800080; text-decoration-color: #800080; font-style: italic\">None</span>          <span style=\"color: #008080; text-decoration-color: #008080; font-weight: bold\">1</span>   <span style=\"color: #008080; text-decoration-color: #008080; font-weight: bold\">7</span>\n",
       "<span style=\"color: #008080; text-decoration-color: #008080; font-weight: bold\">7</span>                  boiling-temperature         Tb        K          <span style=\"color: #008080; text-decoration-color: #008080; font-weight: bold\">1</span>   <span style=\"color: #008080; text-decoration-color: #008080; font-weight: bold\">8</span>\n",
       "<span style=\"color: #008080; text-decoration-color: #008080; font-weight: bold\">8</span>                  melting-temperature         Tm        K          <span style=\"color: #008080; text-decoration-color: #008080; font-weight: bold\">1</span>   <span style=\"color: #008080; text-decoration-color: #008080; font-weight: bold\">9</span>\n",
       "<span style=\"color: #008080; text-decoration-color: #008080; font-weight: bold\">9</span>          specific-enthalpy-of-fusion      EnFus    J/mol          <span style=\"color: #008080; text-decoration-color: #008080; font-weight: bold\">1</span>  <span style=\"color: #008080; text-decoration-color: #008080; font-weight: bold\">10</span>\n",
       "<span style=\"color: #008080; text-decoration-color: #008080; font-weight: bold\">10</span>      standard-enthalpy-of-formation    EnFo_IG    J/mol          <span style=\"color: #008080; text-decoration-color: #008080; font-weight: bold\">1</span>  <span style=\"color: #008080; text-decoration-color: #008080; font-weight: bold\">11</span>\n",
       "<span style=\"color: #008080; text-decoration-color: #008080; font-weight: bold\">11</span>  standard-Gibbs-energy-of-formation  GiEnFo_IG    J/mol          <span style=\"color: #008080; text-decoration-color: #008080; font-weight: bold\">1</span>  <span style=\"color: #008080; text-decoration-color: #008080; font-weight: bold\">12</span>\n",
       "</pre>\n"
      ],
      "text/plain": [
       "                               COLUMNS     SYMBOL     UNIT CONVERSION  ID\n",
       "\u001b[1;36m0\u001b[0m                                  No.       \u001b[3;35mNone\u001b[0m     \u001b[3;35mNone\u001b[0m       \u001b[3;35mNone\u001b[0m   \u001b[1;36m1\u001b[0m\n",
       "\u001b[1;36m1\u001b[0m                                 Name       \u001b[3;35mNone\u001b[0m     \u001b[3;35mNone\u001b[0m       \u001b[3;35mNone\u001b[0m   \u001b[1;36m2\u001b[0m\n",
       "\u001b[1;36m2\u001b[0m                 critical-temperature         Tc        K          \u001b[1;36m1\u001b[0m   \u001b[1;36m3\u001b[0m\n",
       "\u001b[1;36m3\u001b[0m                    critical-pressure         Pc      bar          \u001b[1;36m1\u001b[0m   \u001b[1;36m4\u001b[0m\n",
       "\u001b[1;36m4\u001b[0m                critical-molar-volume         Vc  cm3/mol          \u001b[1;36m1\u001b[0m   \u001b[1;36m5\u001b[0m\n",
       "\u001b[1;36m5\u001b[0m                     molecular-weight         MW    g/mol          \u001b[1;36m1\u001b[0m   \u001b[1;36m6\u001b[0m\n",
       "\u001b[1;36m6\u001b[0m                      acentric-factor       AcFa     \u001b[3;35mNone\u001b[0m          \u001b[1;36m1\u001b[0m   \u001b[1;36m7\u001b[0m\n",
       "\u001b[1;36m7\u001b[0m                  boiling-temperature         Tb        K          \u001b[1;36m1\u001b[0m   \u001b[1;36m8\u001b[0m\n",
       "\u001b[1;36m8\u001b[0m                  melting-temperature         Tm        K          \u001b[1;36m1\u001b[0m   \u001b[1;36m9\u001b[0m\n",
       "\u001b[1;36m9\u001b[0m          specific-enthalpy-of-fusion      EnFus    J/mol          \u001b[1;36m1\u001b[0m  \u001b[1;36m10\u001b[0m\n",
       "\u001b[1;36m10\u001b[0m      standard-enthalpy-of-formation    EnFo_IG    J/mol          \u001b[1;36m1\u001b[0m  \u001b[1;36m11\u001b[0m\n",
       "\u001b[1;36m11\u001b[0m  standard-Gibbs-energy-of-formation  GiEnFo_IG    J/mol          \u001b[1;36m1\u001b[0m  \u001b[1;36m12\u001b[0m\n"
      ]
     },
     "metadata": {},
     "output_type": "display_data"
    },
    {
     "data": {
      "text/html": [
       "<pre style=\"white-space:pre;overflow-x:auto;line-height:normal;font-family:Menlo,'DejaVu Sans Mono',consolas,'Courier New',monospace\"><span style=\"font-weight: bold\">{</span>\n",
       "    <span style=\"color: #008000; text-decoration-color: #008000\">'value'</span>: <span style=\"color: #008000; text-decoration-color: #008000\">'94.117'</span>,\n",
       "    <span style=\"color: #008000; text-decoration-color: #008000\">'unit'</span>: <span style=\"color: #008000; text-decoration-color: #008000\">'cm3/mol'</span>,\n",
       "    <span style=\"color: #008000; text-decoration-color: #008000\">'symbol'</span>: <span style=\"color: #008000; text-decoration-color: #008000\">'Vc'</span>,\n",
       "    <span style=\"color: #008000; text-decoration-color: #008000\">'property_name'</span>: <span style=\"color: #008000; text-decoration-color: #008000\">'critical-molar-volume'</span>,\n",
       "    <span style=\"color: #008000; text-decoration-color: #008000\">'message'</span>: <span style=\"color: #008000; text-decoration-color: #008000\">'No message'</span>,\n",
       "    <span style=\"color: #008000; text-decoration-color: #008000\">'databook_name'</span>: <span style=\"color: #008000; text-decoration-color: #008000\">'Chemical Thermodynamics for Process Simulation'</span>,\n",
       "    <span style=\"color: #008000; text-decoration-color: #008000\">'table_name'</span>: <span style=\"color: #008000; text-decoration-color: #008000\">'Table A.1 General data for selected compounds'</span>\n",
       "<span style=\"font-weight: bold\">}</span>\n",
       "</pre>\n"
      ],
      "text/plain": [
       "\u001b[1m{\u001b[0m\n",
       "    \u001b[32m'value'\u001b[0m: \u001b[32m'94.117'\u001b[0m,\n",
       "    \u001b[32m'unit'\u001b[0m: \u001b[32m'cm3/mol'\u001b[0m,\n",
       "    \u001b[32m'symbol'\u001b[0m: \u001b[32m'Vc'\u001b[0m,\n",
       "    \u001b[32m'property_name'\u001b[0m: \u001b[32m'critical-molar-volume'\u001b[0m,\n",
       "    \u001b[32m'message'\u001b[0m: \u001b[32m'No message'\u001b[0m,\n",
       "    \u001b[32m'databook_name'\u001b[0m: \u001b[32m'Chemical Thermodynamics for Process Simulation'\u001b[0m,\n",
       "    \u001b[32m'table_name'\u001b[0m: \u001b[32m'Table A.1 General data for selected compounds'\u001b[0m\n",
       "\u001b[1m}\u001b[0m\n"
      ]
     },
     "metadata": {},
     "output_type": "display_data"
    },
    {
     "data": {
      "text/html": [
       "<pre style=\"white-space:pre;overflow-x:auto;line-height:normal;font-family:Menlo,'DejaVu Sans Mono',consolas,'Courier New',monospace\"><span style=\"font-weight: bold\">{</span>\n",
       "    <span style=\"color: #008000; text-decoration-color: #008000\">'value'</span>: <span style=\"color: #008000; text-decoration-color: #008000\">'44.009'</span>,\n",
       "    <span style=\"color: #008000; text-decoration-color: #008000\">'unit'</span>: <span style=\"color: #008000; text-decoration-color: #008000\">'g/mol'</span>,\n",
       "    <span style=\"color: #008000; text-decoration-color: #008000\">'symbol'</span>: <span style=\"color: #008000; text-decoration-color: #008000\">'MW'</span>,\n",
       "    <span style=\"color: #008000; text-decoration-color: #008000\">'property_name'</span>: <span style=\"color: #008000; text-decoration-color: #008000\">'molecular-weight'</span>,\n",
       "    <span style=\"color: #008000; text-decoration-color: #008000\">'message'</span>: <span style=\"color: #008000; text-decoration-color: #008000\">'No message'</span>,\n",
       "    <span style=\"color: #008000; text-decoration-color: #008000\">'databook_name'</span>: <span style=\"color: #008000; text-decoration-color: #008000\">'Chemical Thermodynamics for Process Simulation'</span>,\n",
       "    <span style=\"color: #008000; text-decoration-color: #008000\">'table_name'</span>: <span style=\"color: #008000; text-decoration-color: #008000\">'Table A.1 General data for selected compounds'</span>\n",
       "<span style=\"font-weight: bold\">}</span>\n",
       "</pre>\n"
      ],
      "text/plain": [
       "\u001b[1m{\u001b[0m\n",
       "    \u001b[32m'value'\u001b[0m: \u001b[32m'44.009'\u001b[0m,\n",
       "    \u001b[32m'unit'\u001b[0m: \u001b[32m'g/mol'\u001b[0m,\n",
       "    \u001b[32m'symbol'\u001b[0m: \u001b[32m'MW'\u001b[0m,\n",
       "    \u001b[32m'property_name'\u001b[0m: \u001b[32m'molecular-weight'\u001b[0m,\n",
       "    \u001b[32m'message'\u001b[0m: \u001b[32m'No message'\u001b[0m,\n",
       "    \u001b[32m'databook_name'\u001b[0m: \u001b[32m'Chemical Thermodynamics for Process Simulation'\u001b[0m,\n",
       "    \u001b[32m'table_name'\u001b[0m: \u001b[32m'Table A.1 General data for selected compounds'\u001b[0m\n",
       "\u001b[1m}\u001b[0m\n"
      ]
     },
     "metadata": {},
     "output_type": "display_data"
    },
    {
     "data": {
      "text/html": [
       "<pre style=\"white-space:pre;overflow-x:auto;line-height:normal;font-family:Menlo,'DejaVu Sans Mono',consolas,'Courier New',monospace\"><span style=\"font-weight: bold\">{</span>\n",
       "    <span style=\"color: #008000; text-decoration-color: #008000\">'value'</span>: <span style=\"color: #008000; text-decoration-color: #008000\">'0'</span>,\n",
       "    <span style=\"color: #008000; text-decoration-color: #008000\">'unit'</span>: <span style=\"color: #008000; text-decoration-color: #008000\">'K'</span>,\n",
       "    <span style=\"color: #008000; text-decoration-color: #008000\">'symbol'</span>: <span style=\"color: #008000; text-decoration-color: #008000\">'Tb'</span>,\n",
       "    <span style=\"color: #008000; text-decoration-color: #008000\">'property_name'</span>: <span style=\"color: #008000; text-decoration-color: #008000\">'boiling-temperature'</span>,\n",
       "    <span style=\"color: #008000; text-decoration-color: #008000\">'message'</span>: <span style=\"color: #008000; text-decoration-color: #008000\">'No message'</span>,\n",
       "    <span style=\"color: #008000; text-decoration-color: #008000\">'databook_name'</span>: <span style=\"color: #008000; text-decoration-color: #008000\">'Chemical Thermodynamics for Process Simulation'</span>,\n",
       "    <span style=\"color: #008000; text-decoration-color: #008000\">'table_name'</span>: <span style=\"color: #008000; text-decoration-color: #008000\">'Table A.1 General data for selected compounds'</span>\n",
       "<span style=\"font-weight: bold\">}</span>\n",
       "</pre>\n"
      ],
      "text/plain": [
       "\u001b[1m{\u001b[0m\n",
       "    \u001b[32m'value'\u001b[0m: \u001b[32m'0'\u001b[0m,\n",
       "    \u001b[32m'unit'\u001b[0m: \u001b[32m'K'\u001b[0m,\n",
       "    \u001b[32m'symbol'\u001b[0m: \u001b[32m'Tb'\u001b[0m,\n",
       "    \u001b[32m'property_name'\u001b[0m: \u001b[32m'boiling-temperature'\u001b[0m,\n",
       "    \u001b[32m'message'\u001b[0m: \u001b[32m'No message'\u001b[0m,\n",
       "    \u001b[32m'databook_name'\u001b[0m: \u001b[32m'Chemical Thermodynamics for Process Simulation'\u001b[0m,\n",
       "    \u001b[32m'table_name'\u001b[0m: \u001b[32m'Table A.1 General data for selected compounds'\u001b[0m\n",
       "\u001b[1m}\u001b[0m\n"
      ]
     },
     "metadata": {},
     "output_type": "display_data"
    }
   ],
   "source": [
    "print(CO2_data.data_structure())\n",
    "print(CO2_data.get_property(5))\n",
    "print(CO2_data.get_property('MW'))\n",
    "print(CO2_data.get_property('boiling-temperature'))"
   ]
  },
  {
   "cell_type": "markdown",
   "id": "b07de9b9",
   "metadata": {},
   "source": [
    "# Build Equation"
   ]
  },
  {
   "cell_type": "code",
   "execution_count": 43,
   "id": "c1ef85ed",
   "metadata": {},
   "outputs": [],
   "source": [
    "# build an equation\n",
    "eq = tdb.build_equation(comp1, 1, 4)"
   ]
  },
  {
   "cell_type": "code",
   "execution_count": 44,
   "id": "53f803c2",
   "metadata": {},
   "outputs": [
    {
     "data": {
      "text/html": [
       "<pre style=\"white-space:pre;overflow-x:auto;line-height:normal;font-family:Menlo,'DejaVu Sans Mono',consolas,'Courier New',monospace\"><span style=\"font-weight: bold\">{</span><span style=\"color: #008000; text-decoration-color: #008000\">'temperature'</span>: <span style=\"font-weight: bold\">{</span><span style=\"color: #008000; text-decoration-color: #008000\">'name'</span>: <span style=\"color: #008000; text-decoration-color: #008000\">'temperature'</span>, <span style=\"color: #008000; text-decoration-color: #008000\">'symbol'</span>: <span style=\"color: #008000; text-decoration-color: #008000\">'T'</span>, <span style=\"color: #008000; text-decoration-color: #008000\">'unit'</span>: <span style=\"color: #008000; text-decoration-color: #008000\">'K'</span><span style=\"font-weight: bold\">}}</span>\n",
       "</pre>\n"
      ],
      "text/plain": [
       "\u001b[1m{\u001b[0m\u001b[32m'temperature'\u001b[0m: \u001b[1m{\u001b[0m\u001b[32m'name'\u001b[0m: \u001b[32m'temperature'\u001b[0m, \u001b[32m'symbol'\u001b[0m: \u001b[32m'T'\u001b[0m, \u001b[32m'unit'\u001b[0m: \u001b[32m'K'\u001b[0m\u001b[1m}\u001b[0m\u001b[1m}\u001b[0m\n"
      ]
     },
     "metadata": {},
     "output_type": "display_data"
    },
    {
     "data": {
      "text/html": [
       "<pre style=\"white-space:pre;overflow-x:auto;line-height:normal;font-family:Menlo,'DejaVu Sans Mono',consolas,'Courier New',monospace\"><span style=\"font-weight: bold\">{</span><span style=\"color: #008000; text-decoration-color: #008000\">'value'</span>: <span style=\"color: #008080; text-decoration-color: #008080; font-weight: bold\">209354.9375</span>, <span style=\"color: #008000; text-decoration-color: #008000\">'name'</span>: <span style=\"color: #008000; text-decoration-color: #008000\">'heat capacity'</span>, <span style=\"color: #008000; text-decoration-color: #008000\">'symbol'</span>: <span style=\"color: #008000; text-decoration-color: #008000\">'Cp_LIQ'</span>, <span style=\"color: #008000; text-decoration-color: #008000\">'unit'</span>: <span style=\"color: #008000; text-decoration-color: #008000\">'J/kmol.K'</span>, <span style=\"color: #008000; text-decoration-color: #008000\">'message'</span>: <span style=\"color: #008000; text-decoration-color: #008000\">'No message'</span><span style=\"font-weight: bold\">}</span>\n",
       "</pre>\n"
      ],
      "text/plain": [
       "\u001b[1m{\u001b[0m\u001b[32m'value'\u001b[0m: \u001b[1;36m209354.9375\u001b[0m, \u001b[32m'name'\u001b[0m: \u001b[32m'heat capacity'\u001b[0m, \u001b[32m'symbol'\u001b[0m: \u001b[32m'Cp_LIQ'\u001b[0m, \u001b[32m'unit'\u001b[0m: \u001b[32m'J/kmol.K'\u001b[0m, \u001b[32m'message'\u001b[0m: \u001b[32m'No message'\u001b[0m\u001b[1m}\u001b[0m\n"
      ]
     },
     "metadata": {},
     "output_type": "display_data"
    }
   ],
   "source": [
    "print(eq.args)\n",
    "res = eq.cal(T=298.15)\n",
    "print(res)"
   ]
  }
 ],
 "metadata": {
  "kernelspec": {
   "display_name": ".venv",
   "language": "python",
   "name": "python3"
  },
  "language_info": {
   "codemirror_mode": {
    "name": "ipython",
    "version": 3
   },
   "file_extension": ".py",
   "mimetype": "text/x-python",
   "name": "python",
   "nbconvert_exporter": "python",
   "pygments_lexer": "ipython3",
   "version": "3.13.1"
  }
 },
 "nbformat": 4,
 "nbformat_minor": 5
}
