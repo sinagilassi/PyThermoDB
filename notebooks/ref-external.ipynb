{
 "cells": [
  {
   "cell_type": "markdown",
   "id": "bcead44a",
   "metadata": {},
   "source": [
    "# Import Libs"
   ]
  },
  {
   "cell_type": "code",
   "execution_count": 1,
   "id": "609e44cf",
   "metadata": {},
   "outputs": [],
   "source": [
    "import os\n",
    "from rich import print\n",
    "import pyThermoDB as ptdb"
   ]
  },
  {
   "cell_type": "code",
   "execution_count": 2,
   "id": "a930f671",
   "metadata": {},
   "outputs": [
    {
     "data": {
      "text/html": [
       "<pre style=\"white-space:pre;overflow-x:auto;line-height:normal;font-family:Menlo,'DejaVu Sans Mono',consolas,'Courier New',monospace\"><span style=\"color: #008080; text-decoration-color: #008080; font-weight: bold\">1.7</span>.<span style=\"color: #008080; text-decoration-color: #008080; font-weight: bold\">19</span>\n",
       "</pre>\n"
      ],
      "text/plain": [
       "\u001b[1;36m1.7\u001b[0m.\u001b[1;36m19\u001b[0m\n"
      ]
     },
     "metadata": {},
     "output_type": "display_data"
    }
   ],
   "source": [
    "# versions\n",
    "print(ptdb.__version__)"
   ]
  },
  {
   "cell_type": "markdown",
   "id": "8067c233",
   "metadata": {},
   "source": [
    "# Custom Reference"
   ]
  },
  {
   "cell_type": "code",
   "execution_count": 3,
   "id": "5f4af500",
   "metadata": {},
   "outputs": [
    {
     "data": {
      "text/html": [
       "<pre style=\"white-space:pre;overflow-x:auto;line-height:normal;font-family:Menlo,'DejaVu Sans Mono',consolas,'Courier New',monospace\"><span style=\"font-weight: bold\">{</span>\n",
       "    <span style=\"color: #008000; text-decoration-color: #008000\">'reference'</span>: <span style=\"font-weight: bold\">[</span><span style=\"color: #008000; text-decoration-color: #008000\">'e:\\\\Python Projects\\\\pyThermoDB\\\\tests\\\\CO2 Hydrogenation.yml'</span><span style=\"font-weight: bold\">]</span>,\n",
       "    <span style=\"color: #008000; text-decoration-color: #008000\">'tables'</span>: <span style=\"font-weight: bold\">[</span>\n",
       "        <span style=\"color: #008000; text-decoration-color: #008000\">'e:\\\\Python Projects\\\\pyThermoDB\\\\tests\\\\The Molar Heat Capacities of Gases in the Ideal Gas </span>\n",
       "<span style=\"color: #008000; text-decoration-color: #008000\">(Zero-Pressure) State.csv'</span>,\n",
       "        <span style=\"color: #008000; text-decoration-color: #008000\">'e:\\\\Python Projects\\\\pyThermoDB\\\\tests\\\\General Data.csv'</span>\n",
       "    <span style=\"font-weight: bold\">]</span>\n",
       "<span style=\"font-weight: bold\">}</span>\n",
       "</pre>\n"
      ],
      "text/plain": [
       "\u001b[1m{\u001b[0m\n",
       "    \u001b[32m'reference'\u001b[0m: \u001b[1m[\u001b[0m\u001b[32m'e:\\\\Python Projects\\\\pyThermoDB\\\\tests\\\\CO2 Hydrogenation.yml'\u001b[0m\u001b[1m]\u001b[0m,\n",
       "    \u001b[32m'tables'\u001b[0m: \u001b[1m[\u001b[0m\n",
       "        \u001b[32m'e:\\\\Python Projects\\\\pyThermoDB\\\\tests\\\\The Molar Heat Capacities of Gases in the Ideal Gas \u001b[0m\n",
       "\u001b[32m(\u001b[0m\u001b[32mZero-Pressure\u001b[0m\u001b[32m)\u001b[0m\u001b[32m State.csv'\u001b[0m,\n",
       "        \u001b[32m'e:\\\\Python Projects\\\\pyThermoDB\\\\tests\\\\General Data.csv'\u001b[0m\n",
       "    \u001b[1m]\u001b[0m\n",
       "\u001b[1m}\u001b[0m\n"
      ]
     },
     "metadata": {},
     "output_type": "display_data"
    }
   ],
   "source": [
    "# parent directory\n",
    "parent_dir = os.path.dirname(os.getcwd())\n",
    "# test directory\n",
    "test_dir = os.path.join(parent_dir, 'tests')\n",
    "# files\n",
    "yml_file = 'CO2 Hydrogenation.yml'\n",
    "yml_path = os.path.join(test_dir, yml_file)\n",
    "# csv files (data/equation tables)\n",
    "# NOTE: data\n",
    "csv_file_1 = 'The Molar Heat Capacities of Gases in the Ideal Gas (Zero-Pressure) State.csv'\n",
    "# NOTE: equation\n",
    "csv_file_2 = 'General Data.csv'\n",
    "csv_path_1 = os.path.join(test_dir, csv_file_1)\n",
    "csv_path_2 = os.path.join(test_dir, csv_file_2)\n",
    "\n",
    "# NOTE: custom ref\n",
    "ref = {\n",
    "    'reference': [yml_path],\n",
    "    'tables': [csv_path_1, csv_path_2]\n",
    "}\n",
    "\n",
    "print(ref)"
   ]
  },
  {
   "cell_type": "markdown",
   "id": "21a261c8",
   "metadata": {},
   "source": [
    "# App Initializtion"
   ]
  },
  {
   "cell_type": "code",
   "execution_count": 5,
   "id": "c4357805",
   "metadata": {},
   "outputs": [
    {
     "data": {
      "text/html": [
       "<pre style=\"white-space:pre;overflow-x:auto;line-height:normal;font-family:Menlo,'DejaVu Sans Mono',consolas,'Courier New',monospace\"><span style=\"font-weight: bold\">&lt;</span><span style=\"color: #ff00ff; text-decoration-color: #ff00ff; font-weight: bold\">pyThermoDB.docs.tableref.TableReference</span><span style=\"color: #000000; text-decoration-color: #000000\"> object at </span><span style=\"color: #008080; text-decoration-color: #008080; font-weight: bold\">0x000002BFE5AEAF90</span><span style=\"font-weight: bold\">&gt;</span>\n",
       "</pre>\n"
      ],
      "text/plain": [
       "\u001b[1m<\u001b[0m\u001b[1;95mpyThermoDB.docs.tableref.TableReference\u001b[0m\u001b[39m object at \u001b[0m\u001b[1;36m0x000002BFE5AEAF90\u001b[0m\u001b[1m>\u001b[0m\n"
      ]
     },
     "metadata": {},
     "output_type": "display_data"
    }
   ],
   "source": [
    "tdb_ref = ptdb.ref(custom_reference=ref)\n",
    "print(tdb_ref)"
   ]
  },
  {
   "cell_type": "markdown",
   "id": "c57f1e8e",
   "metadata": {},
   "source": [
    "# Databook List"
   ]
  },
  {
   "cell_type": "code",
   "execution_count": 6,
   "id": "d274d77c",
   "metadata": {},
   "outputs": [
    {
     "data": {
      "text/html": [
       "<pre style=\"white-space:pre;overflow-x:auto;line-height:normal;font-family:Menlo,'DejaVu Sans Mono',consolas,'Courier New',monospace\">                                           Databooks   Id\n",
       "<span style=\"color: #008080; text-decoration-color: #008080; font-weight: bold\">0</span>               Perry's Chemical Engineers' Handbook  <span style=\"font-weight: bold\">[</span><span style=\"color: #008080; text-decoration-color: #008080; font-weight: bold\">1</span><span style=\"font-weight: bold\">]</span>\n",
       "<span style=\"color: #008080; text-decoration-color: #008080; font-weight: bold\">1</span>     Chemical Thermodynamics for Process Simulation  <span style=\"font-weight: bold\">[</span><span style=\"color: #008080; text-decoration-color: #008080; font-weight: bold\">2</span><span style=\"font-weight: bold\">]</span>\n",
       "<span style=\"color: #008080; text-decoration-color: #008080; font-weight: bold\">2</span>            Chemical and Engineering Thermodynamics  <span style=\"font-weight: bold\">[</span><span style=\"color: #008080; text-decoration-color: #008080; font-weight: bold\">3</span><span style=\"font-weight: bold\">]</span>\n",
       "<span style=\"color: #008080; text-decoration-color: #008080; font-weight: bold\">3</span>                         CO2 Hydrogenation Reaction  <span style=\"font-weight: bold\">[</span><span style=\"color: #008080; text-decoration-color: #008080; font-weight: bold\">4</span><span style=\"font-weight: bold\">]</span>\n",
       "<span style=\"color: #008080; text-decoration-color: #008080; font-weight: bold\">4</span>  Introduction to Chemical Engineering Thermodyn<span style=\"color: #808000; text-decoration-color: #808000\">...</span>  <span style=\"font-weight: bold\">[</span><span style=\"color: #008080; text-decoration-color: #008080; font-weight: bold\">5</span><span style=\"font-weight: bold\">]</span>\n",
       "<span style=\"color: #008080; text-decoration-color: #008080; font-weight: bold\">5</span>                    Properties of Gases and Liquids  <span style=\"font-weight: bold\">[</span><span style=\"color: #008080; text-decoration-color: #008080; font-weight: bold\">6</span><span style=\"font-weight: bold\">]</span>\n",
       "<span style=\"color: #008080; text-decoration-color: #008080; font-weight: bold\">6</span>                         CO2-Hydrogenation Reaction  <span style=\"font-weight: bold\">[</span><span style=\"color: #008080; text-decoration-color: #008080; font-weight: bold\">7</span><span style=\"font-weight: bold\">]</span>\n",
       "</pre>\n"
      ],
      "text/plain": [
       "                                           Databooks   Id\n",
       "\u001b[1;36m0\u001b[0m               Perry's Chemical Engineers' Handbook  \u001b[1m[\u001b[0m\u001b[1;36m1\u001b[0m\u001b[1m]\u001b[0m\n",
       "\u001b[1;36m1\u001b[0m     Chemical Thermodynamics for Process Simulation  \u001b[1m[\u001b[0m\u001b[1;36m2\u001b[0m\u001b[1m]\u001b[0m\n",
       "\u001b[1;36m2\u001b[0m            Chemical and Engineering Thermodynamics  \u001b[1m[\u001b[0m\u001b[1;36m3\u001b[0m\u001b[1m]\u001b[0m\n",
       "\u001b[1;36m3\u001b[0m                         CO2 Hydrogenation Reaction  \u001b[1m[\u001b[0m\u001b[1;36m4\u001b[0m\u001b[1m]\u001b[0m\n",
       "\u001b[1;36m4\u001b[0m  Introduction to Chemical Engineering Thermodyn\u001b[33m...\u001b[0m  \u001b[1m[\u001b[0m\u001b[1;36m5\u001b[0m\u001b[1m]\u001b[0m\n",
       "\u001b[1;36m5\u001b[0m                    Properties of Gases and Liquids  \u001b[1m[\u001b[0m\u001b[1;36m6\u001b[0m\u001b[1m]\u001b[0m\n",
       "\u001b[1;36m6\u001b[0m                         CO2-Hydrogenation Reaction  \u001b[1m[\u001b[0m\u001b[1;36m7\u001b[0m\u001b[1m]\u001b[0m\n"
      ]
     },
     "metadata": {},
     "output_type": "display_data"
    }
   ],
   "source": [
    "db_list = tdb_ref.list_databooks()\n",
    "print(db_list)"
   ]
  },
  {
   "cell_type": "markdown",
   "id": "43d502e2",
   "metadata": {},
   "source": [
    "# Table List"
   ]
  },
  {
   "cell_type": "code",
   "execution_count": 10,
   "id": "7a1e2a7b",
   "metadata": {},
   "outputs": [
    {
     "data": {
      "text/html": [
       "<pre style=\"white-space:pre;overflow-x:auto;line-height:normal;font-family:Menlo,'DejaVu Sans Mono',consolas,'Courier New',monospace\">                                Tables in <span style=\"color: #008080; text-decoration-color: #008080; font-weight: bold\">6</span> databook      Type   Id\n",
       "<span style=\"color: #008080; text-decoration-color: #008080; font-weight: bold\">0</span>  The Molar Heat Capacities of Gases in the Idea<span style=\"color: #808000; text-decoration-color: #808000\">...</span>  equation  <span style=\"font-weight: bold\">[</span><span style=\"color: #008080; text-decoration-color: #008080; font-weight: bold\">1</span><span style=\"font-weight: bold\">]</span>\n",
       "<span style=\"color: #008080; text-decoration-color: #008080; font-weight: bold\">1</span>                                       General Data      data  <span style=\"font-weight: bold\">[</span><span style=\"color: #008080; text-decoration-color: #008080; font-weight: bold\">2</span><span style=\"font-weight: bold\">]</span>\n",
       "<span style=\"color: #008080; text-decoration-color: #008080; font-weight: bold\">2</span>                                     Vapor Pressure  equation  <span style=\"font-weight: bold\">[</span><span style=\"color: #008080; text-decoration-color: #008080; font-weight: bold\">3</span><span style=\"font-weight: bold\">]</span>\n",
       "</pre>\n"
      ],
      "text/plain": [
       "                                Tables in \u001b[1;36m6\u001b[0m databook      Type   Id\n",
       "\u001b[1;36m0\u001b[0m  The Molar Heat Capacities of Gases in the Idea\u001b[33m...\u001b[0m  equation  \u001b[1m[\u001b[0m\u001b[1;36m1\u001b[0m\u001b[1m]\u001b[0m\n",
       "\u001b[1;36m1\u001b[0m                                       General Data      data  \u001b[1m[\u001b[0m\u001b[1;36m2\u001b[0m\u001b[1m]\u001b[0m\n",
       "\u001b[1;36m2\u001b[0m                                     Vapor Pressure  equation  \u001b[1m[\u001b[0m\u001b[1;36m3\u001b[0m\u001b[1m]\u001b[0m\n"
      ]
     },
     "metadata": {},
     "output_type": "display_data"
    }
   ],
   "source": [
    "tb_lists = tdb_ref.list_tables(7)\n",
    "print(tb_lists)"
   ]
  },
  {
   "cell_type": "markdown",
   "id": "9a089ed8",
   "metadata": {},
   "source": [
    "# Load Table Data"
   ]
  },
  {
   "cell_type": "code",
   "execution_count": 11,
   "id": "abe0ce7a",
   "metadata": {},
   "outputs": [
    {
     "data": {
      "application/vnd.microsoft.datawrangler.viewer.v0+json": {
       "columns": [
        {
         "name": "index",
         "rawType": "int64",
         "type": "integer"
        },
        {
         "name": "No.",
         "rawType": "object",
         "type": "string"
        },
        {
         "name": "Name",
         "rawType": "object",
         "type": "string"
        },
        {
         "name": "Formula",
         "rawType": "object",
         "type": "string"
        },
        {
         "name": "State",
         "rawType": "object",
         "type": "string"
        },
        {
         "name": "a0",
         "rawType": "object",
         "type": "string"
        },
        {
         "name": "a1",
         "rawType": "object",
         "type": "string"
        },
        {
         "name": "a2",
         "rawType": "object",
         "type": "string"
        },
        {
         "name": "a3",
         "rawType": "object",
         "type": "string"
        },
        {
         "name": "a4",
         "rawType": "object",
         "type": "string"
        },
        {
         "name": "R",
         "rawType": "object",
         "type": "string"
        },
        {
         "name": "Eq",
         "rawType": "object",
         "type": "string"
        }
       ],
       "conversionMethod": "pd.DataFrame",
       "ref": "dd03910c-d10f-4e24-94e1-e35b971ab6d9",
       "rows": [
        [
         "0",
         "-",
         "-",
         "-",
         "-",
         "a0",
         "a1",
         "a2",
         "a3",
         "a4",
         "R",
         "HeCa_IG"
        ],
        [
         "1",
         "-",
         "-",
         "-",
         "-",
         "1",
         "1.00E+03",
         "1.00E+05",
         "1.00E+08",
         "1.00E+11",
         "1.00E+00",
         "J/mol.K"
        ],
        [
         "2",
         "1",
         "carbon dioxide",
         "CO2",
         "g",
         "3.259",
         "1.356",
         "1.502",
         "-2.374",
         "1.056",
         "8.314",
         "1"
        ],
        [
         "3",
         "2",
         "carbon monoxide",
         "CO",
         "g",
         "3.912",
         "-3.913",
         "1.182",
         "-1.302",
         "0.515",
         "8.314",
         "1"
        ],
        [
         "4",
         "3",
         "hydrogen",
         "H2",
         "g",
         "2.883",
         "3.681",
         "-0.772",
         "0.692",
         "-0.213",
         "8.314",
         "1"
        ],
        [
         "5",
         "4",
         "methanol",
         "CH3OH",
         "g",
         "4.714",
         "-6.986",
         "4.211",
         "-4.443",
         "1.535",
         "8.314",
         "1"
        ],
        [
         "6",
         "5",
         "water",
         "H2O",
         "g",
         "4.395",
         "-4.186",
         "1.405",
         "-1.564",
         "0.632",
         "8.314",
         "1"
        ]
       ],
       "shape": {
        "columns": 11,
        "rows": 7
       }
      },
      "text/html": [
       "<div>\n",
       "<style scoped>\n",
       "    .dataframe tbody tr th:only-of-type {\n",
       "        vertical-align: middle;\n",
       "    }\n",
       "\n",
       "    .dataframe tbody tr th {\n",
       "        vertical-align: top;\n",
       "    }\n",
       "\n",
       "    .dataframe thead th {\n",
       "        text-align: right;\n",
       "    }\n",
       "</style>\n",
       "<table border=\"1\" class=\"dataframe\">\n",
       "  <thead>\n",
       "    <tr style=\"text-align: right;\">\n",
       "      <th></th>\n",
       "      <th>No.</th>\n",
       "      <th>Name</th>\n",
       "      <th>Formula</th>\n",
       "      <th>State</th>\n",
       "      <th>a0</th>\n",
       "      <th>a1</th>\n",
       "      <th>a2</th>\n",
       "      <th>a3</th>\n",
       "      <th>a4</th>\n",
       "      <th>R</th>\n",
       "      <th>Eq</th>\n",
       "    </tr>\n",
       "  </thead>\n",
       "  <tbody>\n",
       "    <tr>\n",
       "      <th>0</th>\n",
       "      <td>-</td>\n",
       "      <td>-</td>\n",
       "      <td>-</td>\n",
       "      <td>-</td>\n",
       "      <td>a0</td>\n",
       "      <td>a1</td>\n",
       "      <td>a2</td>\n",
       "      <td>a3</td>\n",
       "      <td>a4</td>\n",
       "      <td>R</td>\n",
       "      <td>HeCa_IG</td>\n",
       "    </tr>\n",
       "    <tr>\n",
       "      <th>1</th>\n",
       "      <td>-</td>\n",
       "      <td>-</td>\n",
       "      <td>-</td>\n",
       "      <td>-</td>\n",
       "      <td>1</td>\n",
       "      <td>1.00E+03</td>\n",
       "      <td>1.00E+05</td>\n",
       "      <td>1.00E+08</td>\n",
       "      <td>1.00E+11</td>\n",
       "      <td>1.00E+00</td>\n",
       "      <td>J/mol.K</td>\n",
       "    </tr>\n",
       "    <tr>\n",
       "      <th>2</th>\n",
       "      <td>1</td>\n",
       "      <td>carbon dioxide</td>\n",
       "      <td>CO2</td>\n",
       "      <td>g</td>\n",
       "      <td>3.259</td>\n",
       "      <td>1.356</td>\n",
       "      <td>1.502</td>\n",
       "      <td>-2.374</td>\n",
       "      <td>1.056</td>\n",
       "      <td>8.314</td>\n",
       "      <td>1</td>\n",
       "    </tr>\n",
       "    <tr>\n",
       "      <th>3</th>\n",
       "      <td>2</td>\n",
       "      <td>carbon monoxide</td>\n",
       "      <td>CO</td>\n",
       "      <td>g</td>\n",
       "      <td>3.912</td>\n",
       "      <td>-3.913</td>\n",
       "      <td>1.182</td>\n",
       "      <td>-1.302</td>\n",
       "      <td>0.515</td>\n",
       "      <td>8.314</td>\n",
       "      <td>1</td>\n",
       "    </tr>\n",
       "    <tr>\n",
       "      <th>4</th>\n",
       "      <td>3</td>\n",
       "      <td>hydrogen</td>\n",
       "      <td>H2</td>\n",
       "      <td>g</td>\n",
       "      <td>2.883</td>\n",
       "      <td>3.681</td>\n",
       "      <td>-0.772</td>\n",
       "      <td>0.692</td>\n",
       "      <td>-0.213</td>\n",
       "      <td>8.314</td>\n",
       "      <td>1</td>\n",
       "    </tr>\n",
       "    <tr>\n",
       "      <th>5</th>\n",
       "      <td>4</td>\n",
       "      <td>methanol</td>\n",
       "      <td>CH3OH</td>\n",
       "      <td>g</td>\n",
       "      <td>4.714</td>\n",
       "      <td>-6.986</td>\n",
       "      <td>4.211</td>\n",
       "      <td>-4.443</td>\n",
       "      <td>1.535</td>\n",
       "      <td>8.314</td>\n",
       "      <td>1</td>\n",
       "    </tr>\n",
       "    <tr>\n",
       "      <th>6</th>\n",
       "      <td>5</td>\n",
       "      <td>water</td>\n",
       "      <td>H2O</td>\n",
       "      <td>g</td>\n",
       "      <td>4.395</td>\n",
       "      <td>-4.186</td>\n",
       "      <td>1.405</td>\n",
       "      <td>-1.564</td>\n",
       "      <td>0.632</td>\n",
       "      <td>8.314</td>\n",
       "      <td>1</td>\n",
       "    </tr>\n",
       "  </tbody>\n",
       "</table>\n",
       "</div>"
      ],
      "text/plain": [
       "  No.             Name Formula State     a0        a1        a2        a3  \\\n",
       "0   -                -       -     -     a0        a1        a2        a3   \n",
       "1   -                -       -     -      1  1.00E+03  1.00E+05  1.00E+08   \n",
       "2   1   carbon dioxide     CO2     g  3.259     1.356     1.502    -2.374   \n",
       "3   2  carbon monoxide      CO     g  3.912    -3.913     1.182    -1.302   \n",
       "4   3         hydrogen      H2     g  2.883     3.681    -0.772     0.692   \n",
       "5   4         methanol   CH3OH     g  4.714    -6.986     4.211    -4.443   \n",
       "6   5            water     H2O     g  4.395    -4.186     1.405    -1.564   \n",
       "\n",
       "         a4         R       Eq  \n",
       "0        a4         R  HeCa_IG  \n",
       "1  1.00E+11  1.00E+00  J/mol.K  \n",
       "2     1.056     8.314        1  \n",
       "3     0.515     8.314        1  \n",
       "4    -0.213     8.314        1  \n",
       "5     1.535     8.314        1  \n",
       "6     0.632     8.314        1  "
      ]
     },
     "execution_count": 11,
     "metadata": {},
     "output_type": "execute_result"
    }
   ],
   "source": [
    "# load table\n",
    "res_ = tdb_ref.load_table(7, 1)\n",
    "res_"
   ]
  },
  {
   "cell_type": "markdown",
   "id": "f7177ca2",
   "metadata": {},
   "source": [
    "# Search Table"
   ]
  },
  {
   "cell_type": "code",
   "execution_count": 12,
   "id": "b1e6d26f",
   "metadata": {},
   "outputs": [
    {
     "data": {
      "application/vnd.microsoft.datawrangler.viewer.v0+json": {
       "columns": [
        {
         "name": "index",
         "rawType": "int64",
         "type": "integer"
        },
        {
         "name": "No.",
         "rawType": "object",
         "type": "string"
        },
        {
         "name": "Name",
         "rawType": "object",
         "type": "string"
        },
        {
         "name": "Formula",
         "rawType": "object",
         "type": "string"
        },
        {
         "name": "State",
         "rawType": "object",
         "type": "string"
        },
        {
         "name": "MW",
         "rawType": "object",
         "type": "string"
        },
        {
         "name": "critical temperature",
         "rawType": "object",
         "type": "string"
        },
        {
         "name": "Pc",
         "rawType": "object",
         "type": "string"
        },
        {
         "name": "Vc",
         "rawType": "object",
         "type": "string"
        },
        {
         "name": "Zc",
         "rawType": "object",
         "type": "string"
        },
        {
         "name": "AcFa",
         "rawType": "object",
         "type": "string"
        },
        {
         "name": "dHf_IG",
         "rawType": "object",
         "type": "string"
        },
        {
         "name": "dGf_IG",
         "rawType": "object",
         "type": "string"
        }
       ],
       "conversionMethod": "pd.DataFrame",
       "ref": "1d50f937-e973-40d5-8c16-09450429959d",
       "rows": [
        [
         "0",
         "-",
         "-",
         "-",
         "-",
         "MW",
         "Tc",
         "Pc",
         "Vc",
         "Zc",
         "AcFa",
         "dHf_IG",
         "dGf_IG"
        ],
        [
         "1",
         "-",
         "-",
         "-",
         "-",
         "g/mol",
         "K",
         "MPa",
         "m3/kmol",
         "-",
         "-",
         "kJ/mol",
         "kJ/mol"
        ],
        [
         "2",
         "1",
         "carbon dioxide",
         "CO2",
         "g",
         "44.01",
         "304.21",
         "7.383",
         "0.094",
         "0.274",
         "0.2236",
         "-393.5",
         "-394.4"
        ]
       ],
       "shape": {
        "columns": 12,
        "rows": 3
       }
      },
      "text/html": [
       "<div>\n",
       "<style scoped>\n",
       "    .dataframe tbody tr th:only-of-type {\n",
       "        vertical-align: middle;\n",
       "    }\n",
       "\n",
       "    .dataframe tbody tr th {\n",
       "        vertical-align: top;\n",
       "    }\n",
       "\n",
       "    .dataframe thead th {\n",
       "        text-align: right;\n",
       "    }\n",
       "</style>\n",
       "<table border=\"1\" class=\"dataframe\">\n",
       "  <thead>\n",
       "    <tr style=\"text-align: right;\">\n",
       "      <th></th>\n",
       "      <th>No.</th>\n",
       "      <th>Name</th>\n",
       "      <th>Formula</th>\n",
       "      <th>State</th>\n",
       "      <th>MW</th>\n",
       "      <th>critical temperature</th>\n",
       "      <th>Pc</th>\n",
       "      <th>Vc</th>\n",
       "      <th>Zc</th>\n",
       "      <th>AcFa</th>\n",
       "      <th>dHf_IG</th>\n",
       "      <th>dGf_IG</th>\n",
       "    </tr>\n",
       "  </thead>\n",
       "  <tbody>\n",
       "    <tr>\n",
       "      <th>0</th>\n",
       "      <td>-</td>\n",
       "      <td>-</td>\n",
       "      <td>-</td>\n",
       "      <td>-</td>\n",
       "      <td>MW</td>\n",
       "      <td>Tc</td>\n",
       "      <td>Pc</td>\n",
       "      <td>Vc</td>\n",
       "      <td>Zc</td>\n",
       "      <td>AcFa</td>\n",
       "      <td>dHf_IG</td>\n",
       "      <td>dGf_IG</td>\n",
       "    </tr>\n",
       "    <tr>\n",
       "      <th>1</th>\n",
       "      <td>-</td>\n",
       "      <td>-</td>\n",
       "      <td>-</td>\n",
       "      <td>-</td>\n",
       "      <td>g/mol</td>\n",
       "      <td>K</td>\n",
       "      <td>MPa</td>\n",
       "      <td>m3/kmol</td>\n",
       "      <td>-</td>\n",
       "      <td>-</td>\n",
       "      <td>kJ/mol</td>\n",
       "      <td>kJ/mol</td>\n",
       "    </tr>\n",
       "    <tr>\n",
       "      <th>2</th>\n",
       "      <td>1</td>\n",
       "      <td>carbon dioxide</td>\n",
       "      <td>CO2</td>\n",
       "      <td>g</td>\n",
       "      <td>44.01</td>\n",
       "      <td>304.21</td>\n",
       "      <td>7.383</td>\n",
       "      <td>0.094</td>\n",
       "      <td>0.274</td>\n",
       "      <td>0.2236</td>\n",
       "      <td>-393.5</td>\n",
       "      <td>-394.4</td>\n",
       "    </tr>\n",
       "  </tbody>\n",
       "</table>\n",
       "</div>"
      ],
      "text/plain": [
       "  No.            Name Formula State     MW critical temperature     Pc  \\\n",
       "0   -               -       -     -     MW                   Tc     Pc   \n",
       "1   -               -       -     -  g/mol                    K    MPa   \n",
       "2   1  carbon dioxide     CO2     g  44.01               304.21  7.383   \n",
       "\n",
       "        Vc     Zc    AcFa  dHf_IG  dGf_IG  \n",
       "0       Vc     Zc    AcFa  dHf_IG  dGf_IG  \n",
       "1  m3/kmol      -       -  kJ/mol  kJ/mol  \n",
       "2    0.094  0.274  0.2236  -393.5  -394.4  "
      ]
     },
     "execution_count": 12,
     "metadata": {},
     "output_type": "execute_result"
    }
   ],
   "source": [
    "# search table\n",
    "res_ = tdb_ref.search_table(7, 2, \"Formula\", \"CO2\")\n",
    "res_"
   ]
  },
  {
   "cell_type": "code",
   "execution_count": 13,
   "id": "d4ad7a7c",
   "metadata": {},
   "outputs": [
    {
     "data": {
      "application/vnd.microsoft.datawrangler.viewer.v0+json": {
       "columns": [
        {
         "name": "index",
         "rawType": "int64",
         "type": "integer"
        },
        {
         "name": "No.",
         "rawType": "object",
         "type": "string"
        },
        {
         "name": "Name",
         "rawType": "object",
         "type": "string"
        },
        {
         "name": "Formula",
         "rawType": "object",
         "type": "string"
        },
        {
         "name": "State",
         "rawType": "object",
         "type": "string"
        },
        {
         "name": "MW",
         "rawType": "object",
         "type": "string"
        },
        {
         "name": "critical temperature",
         "rawType": "object",
         "type": "string"
        },
        {
         "name": "Pc",
         "rawType": "object",
         "type": "string"
        },
        {
         "name": "Vc",
         "rawType": "object",
         "type": "string"
        },
        {
         "name": "Zc",
         "rawType": "object",
         "type": "string"
        },
        {
         "name": "AcFa",
         "rawType": "object",
         "type": "string"
        },
        {
         "name": "dHf_IG",
         "rawType": "object",
         "type": "string"
        },
        {
         "name": "dGf_IG",
         "rawType": "object",
         "type": "string"
        }
       ],
       "conversionMethod": "pd.DataFrame",
       "ref": "398cf44b-cbc7-4a31-af5b-2b6e46a95531",
       "rows": [
        [
         "0",
         "-",
         "-",
         "-",
         "-",
         "MW",
         "Tc",
         "Pc",
         "Vc",
         "Zc",
         "AcFa",
         "dHf_IG",
         "dGf_IG"
        ],
        [
         "1",
         "-",
         "-",
         "-",
         "-",
         "g/mol",
         "K",
         "MPa",
         "m3/kmol",
         "-",
         "-",
         "kJ/mol",
         "kJ/mol"
        ],
        [
         "2",
         "1",
         "carbon dioxide",
         "CO2",
         "g",
         "44.01",
         "304.21",
         "7.383",
         "0.094",
         "0.274",
         "0.2236",
         "-393.5",
         "-394.4"
        ]
       ],
       "shape": {
        "columns": 12,
        "rows": 3
       }
      },
      "text/html": [
       "<div>\n",
       "<style scoped>\n",
       "    .dataframe tbody tr th:only-of-type {\n",
       "        vertical-align: middle;\n",
       "    }\n",
       "\n",
       "    .dataframe tbody tr th {\n",
       "        vertical-align: top;\n",
       "    }\n",
       "\n",
       "    .dataframe thead th {\n",
       "        text-align: right;\n",
       "    }\n",
       "</style>\n",
       "<table border=\"1\" class=\"dataframe\">\n",
       "  <thead>\n",
       "    <tr style=\"text-align: right;\">\n",
       "      <th></th>\n",
       "      <th>No.</th>\n",
       "      <th>Name</th>\n",
       "      <th>Formula</th>\n",
       "      <th>State</th>\n",
       "      <th>MW</th>\n",
       "      <th>critical temperature</th>\n",
       "      <th>Pc</th>\n",
       "      <th>Vc</th>\n",
       "      <th>Zc</th>\n",
       "      <th>AcFa</th>\n",
       "      <th>dHf_IG</th>\n",
       "      <th>dGf_IG</th>\n",
       "    </tr>\n",
       "  </thead>\n",
       "  <tbody>\n",
       "    <tr>\n",
       "      <th>0</th>\n",
       "      <td>-</td>\n",
       "      <td>-</td>\n",
       "      <td>-</td>\n",
       "      <td>-</td>\n",
       "      <td>MW</td>\n",
       "      <td>Tc</td>\n",
       "      <td>Pc</td>\n",
       "      <td>Vc</td>\n",
       "      <td>Zc</td>\n",
       "      <td>AcFa</td>\n",
       "      <td>dHf_IG</td>\n",
       "      <td>dGf_IG</td>\n",
       "    </tr>\n",
       "    <tr>\n",
       "      <th>1</th>\n",
       "      <td>-</td>\n",
       "      <td>-</td>\n",
       "      <td>-</td>\n",
       "      <td>-</td>\n",
       "      <td>g/mol</td>\n",
       "      <td>K</td>\n",
       "      <td>MPa</td>\n",
       "      <td>m3/kmol</td>\n",
       "      <td>-</td>\n",
       "      <td>-</td>\n",
       "      <td>kJ/mol</td>\n",
       "      <td>kJ/mol</td>\n",
       "    </tr>\n",
       "    <tr>\n",
       "      <th>2</th>\n",
       "      <td>1</td>\n",
       "      <td>carbon dioxide</td>\n",
       "      <td>CO2</td>\n",
       "      <td>g</td>\n",
       "      <td>44.01</td>\n",
       "      <td>304.21</td>\n",
       "      <td>7.383</td>\n",
       "      <td>0.094</td>\n",
       "      <td>0.274</td>\n",
       "      <td>0.2236</td>\n",
       "      <td>-393.5</td>\n",
       "      <td>-394.4</td>\n",
       "    </tr>\n",
       "  </tbody>\n",
       "</table>\n",
       "</div>"
      ],
      "text/plain": [
       "  No.            Name Formula State     MW critical temperature     Pc  \\\n",
       "0   -               -       -     -     MW                   Tc     Pc   \n",
       "1   -               -       -     -  g/mol                    K    MPa   \n",
       "2   1  carbon dioxide     CO2     g  44.01               304.21  7.383   \n",
       "\n",
       "        Vc     Zc    AcFa  dHf_IG  dGf_IG  \n",
       "0       Vc     Zc    AcFa  dHf_IG  dGf_IG  \n",
       "1  m3/kmol      -       -  kJ/mol  kJ/mol  \n",
       "2    0.094  0.274  0.2236  -393.5  -394.4  "
      ]
     },
     "execution_count": 13,
     "metadata": {},
     "output_type": "execute_result"
    }
   ],
   "source": [
    "res_ = tdb_ref.search_table(7, 2, [\"Formula\", \"State\"], [\"CO2\", \"g\"])\n",
    "res_"
   ]
  }
 ],
 "metadata": {
  "kernelspec": {
   "display_name": ".venv",
   "language": "python",
   "name": "python3"
  },
  "language_info": {
   "codemirror_mode": {
    "name": "ipython",
    "version": 3
   },
   "file_extension": ".py",
   "mimetype": "text/x-python",
   "name": "python",
   "nbconvert_exporter": "python",
   "pygments_lexer": "ipython3",
   "version": "3.13.1"
  }
 },
 "nbformat": 4,
 "nbformat_minor": 5
}
