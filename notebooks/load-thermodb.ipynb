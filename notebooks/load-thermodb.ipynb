{
 "cells": [
  {
   "cell_type": "markdown",
   "id": "bcead44a",
   "metadata": {},
   "source": [
    "# Import Libs"
   ]
  },
  {
   "cell_type": "code",
   "execution_count": 1,
   "id": "609e44cf",
   "metadata": {},
   "outputs": [],
   "source": [
    "import os\n",
    "from rich import print\n",
    "import pyThermoDB as ptdb"
   ]
  },
  {
   "cell_type": "code",
   "execution_count": 2,
   "id": "a930f671",
   "metadata": {},
   "outputs": [
    {
     "data": {
      "text/html": [
       "<pre style=\"white-space:pre;overflow-x:auto;line-height:normal;font-family:Menlo,'DejaVu Sans Mono',consolas,'Courier New',monospace\"><span style=\"color: #008080; text-decoration-color: #008080; font-weight: bold\">1.8</span>.<span style=\"color: #008080; text-decoration-color: #008080; font-weight: bold\">0</span>\n",
       "</pre>\n"
      ],
      "text/plain": [
       "\u001b[1;36m1.8\u001b[0m.\u001b[1;36m0\u001b[0m\n"
      ]
     },
     "metadata": {},
     "output_type": "display_data"
    }
   ],
   "source": [
    "# versions\n",
    "print(ptdb.__version__)"
   ]
  },
  {
   "cell_type": "markdown",
   "id": "8067c233",
   "metadata": {},
   "source": [
    "# Custom Reference"
   ]
  },
  {
   "cell_type": "code",
   "execution_count": 3,
   "id": "88d9913d",
   "metadata": {},
   "outputs": [
    {
     "data": {
      "text/html": [
       "<pre style=\"white-space:pre;overflow-x:auto;line-height:normal;font-family:Menlo,'DejaVu Sans Mono',consolas,'Courier New',monospace\">Test directory: c:\\My Drive\\apps\\pyThermoDB\\notebooks\n",
       "</pre>\n"
      ],
      "text/plain": [
       "Test directory: c:\\My Drive\\apps\\pyThermoDB\\notebooks\n"
      ]
     },
     "metadata": {},
     "output_type": "display_data"
    }
   ],
   "source": [
    "# parent directory\n",
    "parent_dir = os.path.dirname(os.getcwd())\n",
    "# test directory\n",
    "test_dir = os.path.join(parent_dir, 'notebooks')\n",
    "print(f\"Test directory: {test_dir}\")"
   ]
  },
  {
   "cell_type": "code",
   "execution_count": 4,
   "id": "5f4af500",
   "metadata": {},
   "outputs": [
    {
     "data": {
      "text/html": [
       "<pre style=\"white-space:pre;overflow-x:auto;line-height:normal;font-family:Menlo,'DejaVu Sans Mono',consolas,'Courier New',monospace\">c:\\My Drive\\apps\\pyThermoDB\\notebooks\\carbon dioxide-<span style=\"color: #008080; text-decoration-color: #008080; font-weight: bold\">1.</span>pkl\n",
       "</pre>\n"
      ],
      "text/plain": [
       "c:\\My Drive\\apps\\pyThermoDB\\notebooks\\carbon dioxide-\u001b[1;36m1.\u001b[0mpkl\n"
      ]
     },
     "metadata": {},
     "output_type": "display_data"
    },
    {
     "data": {
      "text/html": [
       "<pre style=\"white-space:pre;overflow-x:auto;line-height:normal;font-family:Menlo,'DejaVu Sans Mono',consolas,'Courier New',monospace\">c:\\My Drive\\apps\\pyThermoDB\\notebooks\\carbon monoxide-<span style=\"color: #008080; text-decoration-color: #008080; font-weight: bold\">1.</span>pkl\n",
       "</pre>\n"
      ],
      "text/plain": [
       "c:\\My Drive\\apps\\pyThermoDB\\notebooks\\carbon monoxide-\u001b[1;36m1.\u001b[0mpkl\n"
      ]
     },
     "metadata": {},
     "output_type": "display_data"
    },
    {
     "data": {
      "text/html": [
       "<pre style=\"white-space:pre;overflow-x:auto;line-height:normal;font-family:Menlo,'DejaVu Sans Mono',consolas,'Courier New',monospace\">c:\\My Drive\\apps\\pyThermoDB\\notebooks\\methanol-<span style=\"color: #008080; text-decoration-color: #008080; font-weight: bold\">1.</span>pkl\n",
       "</pre>\n"
      ],
      "text/plain": [
       "c:\\My Drive\\apps\\pyThermoDB\\notebooks\\methanol-\u001b[1;36m1.\u001b[0mpkl\n"
      ]
     },
     "metadata": {},
     "output_type": "display_data"
    },
    {
     "data": {
      "text/html": [
       "<pre style=\"white-space:pre;overflow-x:auto;line-height:normal;font-family:Menlo,'DejaVu Sans Mono',consolas,'Courier New',monospace\">c:\\My Drive\\apps\\pyThermoDB\\notebooks\\water-<span style=\"color: #008080; text-decoration-color: #008080; font-weight: bold\">1.</span>pkl\n",
       "</pre>\n"
      ],
      "text/plain": [
       "c:\\My Drive\\apps\\pyThermoDB\\notebooks\\water-\u001b[1;36m1.\u001b[0mpkl\n"
      ]
     },
     "metadata": {},
     "output_type": "display_data"
    }
   ],
   "source": [
    "# carbon dioxide\n",
    "CO2_thermodb_path = os.path.join(test_dir, 'carbon dioxide-1.pkl')\n",
    "print(CO2_thermodb_path)\n",
    "# carbon monoxide\n",
    "CO_path = os.path.join(test_dir, 'carbon monoxide-1.pkl')\n",
    "print(CO_path)\n",
    "# methanol\n",
    "methanol_path = os.path.join(test_dir, 'methanol-1.pkl')\n",
    "print(methanol_path)\n",
    "# water\n",
    "water_path = os.path.join(test_dir, 'water-1.pkl')\n",
    "print(water_path)\n"
   ]
  },
  {
   "cell_type": "markdown",
   "id": "21a261c8",
   "metadata": {},
   "source": [
    "# Load ThermoDB"
   ]
  },
  {
   "cell_type": "code",
   "execution_count": 26,
   "id": "d9b7f316",
   "metadata": {},
   "outputs": [
    {
     "data": {
      "text/html": [
       "<pre style=\"white-space:pre;overflow-x:auto;line-height:normal;font-family:Menlo,'DejaVu Sans Mono',consolas,'Courier New',monospace\"><span style=\"font-weight: bold\">&lt;</span><span style=\"color: #ff00ff; text-decoration-color: #ff00ff; font-weight: bold\">class</span><span style=\"color: #000000; text-decoration-color: #000000\"> </span><span style=\"color: #008000; text-decoration-color: #008000\">'pyThermoDB.docs.compbuilder.CompBuilder'</span><span style=\"font-weight: bold\">&gt;</span>\n",
       "</pre>\n"
      ],
      "text/plain": [
       "\u001b[1m<\u001b[0m\u001b[1;95mclass\u001b[0m\u001b[39m \u001b[0m\u001b[32m'pyThermoDB.docs.compbuilder.CompBuilder'\u001b[0m\u001b[1m>\u001b[0m\n"
      ]
     },
     "metadata": {},
     "output_type": "display_data"
    }
   ],
   "source": [
    "thermodb_ = ptdb.load_thermodb(methanol_path)\n",
    "print(type(thermodb_))"
   ]
  },
  {
   "cell_type": "markdown",
   "id": "d9b3db24",
   "metadata": {},
   "source": [
    "# Check ThermoDB"
   ]
  },
  {
   "cell_type": "code",
   "execution_count": 27,
   "id": "c2bbdcc1",
   "metadata": {},
   "outputs": [
    {
     "data": {
      "text/html": [
       "<pre style=\"white-space:pre;overflow-x:auto;line-height:normal;font-family:Menlo,'DejaVu Sans Mono',consolas,'Courier New',monospace\"><span style=\"font-weight: bold\">{</span>\n",
       "    <span style=\"color: #008000; text-decoration-color: #008000\">'general-data'</span>: <span style=\"font-weight: bold\">&lt;</span><span style=\"color: #ff00ff; text-decoration-color: #ff00ff; font-weight: bold\">pyThermoDB.docs.tabledata.TableData</span><span style=\"color: #000000; text-decoration-color: #000000\"> object at </span><span style=\"color: #008080; text-decoration-color: #008080; font-weight: bold\">0x0000027A04E69110</span><span style=\"color: #000000; text-decoration-color: #000000\">&gt;,</span>\n",
       "<span style=\"color: #000000; text-decoration-color: #000000\">    </span><span style=\"color: #008000; text-decoration-color: #008000\">'heat-capacity'</span><span style=\"color: #000000; text-decoration-color: #000000\">: &lt;pyThermoDB.docs.tableequation.TableEquation object at </span><span style=\"color: #008080; text-decoration-color: #008080; font-weight: bold\">0x0000027A04E4BA50</span><span style=\"color: #000000; text-decoration-color: #000000\">&gt;,</span>\n",
       "<span style=\"color: #000000; text-decoration-color: #000000\">    </span><span style=\"color: #008000; text-decoration-color: #008000\">'vapor-pressure'</span><span style=\"color: #000000; text-decoration-color: #000000\">: &lt;pyThermoDB.docs.tableequation.TableEquation object at </span><span style=\"color: #008080; text-decoration-color: #008080; font-weight: bold\">0x0000027A04FD1550</span><span style=\"font-weight: bold\">&gt;</span>\n",
       "<span style=\"font-weight: bold\">}</span>\n",
       "</pre>\n"
      ],
      "text/plain": [
       "\u001b[1m{\u001b[0m\n",
       "    \u001b[32m'general-data'\u001b[0m: \u001b[1m<\u001b[0m\u001b[1;95mpyThermoDB.docs.tabledata.TableData\u001b[0m\u001b[39m object at \u001b[0m\u001b[1;36m0x0000027A04E69110\u001b[0m\u001b[39m>,\u001b[0m\n",
       "\u001b[39m    \u001b[0m\u001b[32m'heat-capacity'\u001b[0m\u001b[39m: <pyThermoDB.docs.tableequation.TableEquation object at \u001b[0m\u001b[1;36m0x0000027A04E4BA50\u001b[0m\u001b[39m>,\u001b[0m\n",
       "\u001b[39m    \u001b[0m\u001b[32m'vapor-pressure'\u001b[0m\u001b[39m: <pyThermoDB.docs.tableequation.TableEquation object at \u001b[0m\u001b[1;36m0x0000027A04FD1550\u001b[0m\u001b[1m>\u001b[0m\n",
       "\u001b[1m}\u001b[0m\n"
      ]
     },
     "metadata": {},
     "output_type": "display_data"
    }
   ],
   "source": [
    "# check all properties and functions registered\n",
    "print(thermodb_.check())"
   ]
  },
  {
   "cell_type": "markdown",
   "id": "9a089ed8",
   "metadata": {},
   "source": [
    "# Table Data | Table Matrix Data"
   ]
  },
  {
   "cell_type": "code",
   "execution_count": 28,
   "id": "288df591",
   "metadata": {},
   "outputs": [
    {
     "data": {
      "text/html": [
       "<pre style=\"white-space:pre;overflow-x:auto;line-height:normal;font-family:Menlo,'DejaVu Sans Mono',consolas,'Courier New',monospace\"><span style=\"font-weight: bold\">{</span><span style=\"color: #008000; text-decoration-color: #008000\">'general-data'</span>: <span style=\"font-weight: bold\">&lt;</span><span style=\"color: #ff00ff; text-decoration-color: #ff00ff; font-weight: bold\">pyThermoDB.docs.tabledata.TableData</span><span style=\"color: #000000; text-decoration-color: #000000\"> object at </span><span style=\"color: #008080; text-decoration-color: #008080; font-weight: bold\">0x0000027A04E69110</span><span style=\"font-weight: bold\">&gt;}</span>\n",
       "</pre>\n"
      ],
      "text/plain": [
       "\u001b[1m{\u001b[0m\u001b[32m'general-data'\u001b[0m: \u001b[1m<\u001b[0m\u001b[1;95mpyThermoDB.docs.tabledata.TableData\u001b[0m\u001b[39m object at \u001b[0m\u001b[1;36m0x0000027A04E69110\u001b[0m\u001b[1m>\u001b[0m\u001b[1m}\u001b[0m\n"
      ]
     },
     "metadata": {},
     "output_type": "display_data"
    }
   ],
   "source": [
    "# list all data\n",
    "print(thermodb_.check_properties())"
   ]
  },
  {
   "cell_type": "code",
   "execution_count": 29,
   "id": "70e47572",
   "metadata": {},
   "outputs": [
    {
     "data": {
      "text/html": [
       "<pre style=\"white-space:pre;overflow-x:auto;line-height:normal;font-family:Menlo,'DejaVu Sans Mono',consolas,'Courier New',monospace\"><span style=\"font-weight: bold\">&lt;</span><span style=\"color: #ff00ff; text-decoration-color: #ff00ff; font-weight: bold\">class</span><span style=\"color: #000000; text-decoration-color: #000000\"> </span><span style=\"color: #008000; text-decoration-color: #008000\">'pyThermoDB.docs.tabledata.TableData'</span><span style=\"font-weight: bold\">&gt;</span>\n",
       "</pre>\n"
      ],
      "text/plain": [
       "\u001b[1m<\u001b[0m\u001b[1;95mclass\u001b[0m\u001b[39m \u001b[0m\u001b[32m'pyThermoDB.docs.tabledata.TableData'\u001b[0m\u001b[1m>\u001b[0m\n"
      ]
     },
     "metadata": {},
     "output_type": "display_data"
    }
   ],
   "source": [
    "data_ = thermodb_.check_property('general-data')\n",
    "print(type(data_))"
   ]
  },
  {
   "cell_type": "code",
   "execution_count": 30,
   "id": "e0ed8859",
   "metadata": {},
   "outputs": [
    {
     "data": {
      "text/html": [
       "<pre style=\"white-space:pre;overflow-x:auto;line-height:normal;font-family:Menlo,'DejaVu Sans Mono',consolas,'Courier New',monospace\">                            COLUMNS  SYMBOL     UNIT CONVERSION  ID\n",
       "<span style=\"color: #008080; text-decoration-color: #008080; font-weight: bold\">0</span>                               No.    <span style=\"color: #800080; text-decoration-color: #800080; font-style: italic\">None</span>     <span style=\"color: #800080; text-decoration-color: #800080; font-style: italic\">None</span>       <span style=\"color: #800080; text-decoration-color: #800080; font-style: italic\">None</span>   <span style=\"color: #008080; text-decoration-color: #008080; font-weight: bold\">1</span>\n",
       "<span style=\"color: #008080; text-decoration-color: #008080; font-weight: bold\">1</span>                              Name    <span style=\"color: #800080; text-decoration-color: #800080; font-style: italic\">None</span>     <span style=\"color: #800080; text-decoration-color: #800080; font-style: italic\">None</span>       <span style=\"color: #800080; text-decoration-color: #800080; font-style: italic\">None</span>   <span style=\"color: #008080; text-decoration-color: #008080; font-weight: bold\">2</span>\n",
       "<span style=\"color: #008080; text-decoration-color: #008080; font-weight: bold\">2</span>                           Formula    <span style=\"color: #800080; text-decoration-color: #800080; font-style: italic\">None</span>     <span style=\"color: #800080; text-decoration-color: #800080; font-style: italic\">None</span>       <span style=\"color: #800080; text-decoration-color: #800080; font-style: italic\">None</span>   <span style=\"color: #008080; text-decoration-color: #008080; font-weight: bold\">3</span>\n",
       "<span style=\"color: #008080; text-decoration-color: #008080; font-weight: bold\">3</span>                             State    <span style=\"color: #800080; text-decoration-color: #800080; font-style: italic\">None</span>     <span style=\"color: #800080; text-decoration-color: #800080; font-style: italic\">None</span>       <span style=\"color: #800080; text-decoration-color: #800080; font-style: italic\">None</span>   <span style=\"color: #008080; text-decoration-color: #008080; font-weight: bold\">4</span>\n",
       "<span style=\"color: #008080; text-decoration-color: #008080; font-weight: bold\">4</span>                  molecular-weight      MW    g/mol          <span style=\"color: #008080; text-decoration-color: #008080; font-weight: bold\">1</span>   <span style=\"color: #008080; text-decoration-color: #008080; font-weight: bold\">5</span>\n",
       "<span style=\"color: #008080; text-decoration-color: #008080; font-weight: bold\">5</span>              critical-temperature      Tc        K          <span style=\"color: #008080; text-decoration-color: #008080; font-weight: bold\">1</span>   <span style=\"color: #008080; text-decoration-color: #008080; font-weight: bold\">6</span>\n",
       "<span style=\"color: #008080; text-decoration-color: #008080; font-weight: bold\">6</span>                 critical-pressure      Pc      MPa          <span style=\"color: #008080; text-decoration-color: #008080; font-weight: bold\">1</span>   <span style=\"color: #008080; text-decoration-color: #008080; font-weight: bold\">7</span>\n",
       "<span style=\"color: #008080; text-decoration-color: #008080; font-weight: bold\">7</span>             critical-molar-volume      Vc  m3/kmol          <span style=\"color: #008080; text-decoration-color: #008080; font-weight: bold\">1</span>   <span style=\"color: #008080; text-decoration-color: #008080; font-weight: bold\">8</span>\n",
       "<span style=\"color: #008080; text-decoration-color: #008080; font-weight: bold\">8</span>   critical-compressibility-factor      Zc     <span style=\"color: #800080; text-decoration-color: #800080; font-style: italic\">None</span>          <span style=\"color: #008080; text-decoration-color: #008080; font-weight: bold\">1</span>   <span style=\"color: #008080; text-decoration-color: #008080; font-weight: bold\">9</span>\n",
       "<span style=\"color: #008080; text-decoration-color: #008080; font-weight: bold\">9</span>                   acentric-factor    AcFa     <span style=\"color: #800080; text-decoration-color: #800080; font-style: italic\">None</span>          <span style=\"color: #008080; text-decoration-color: #008080; font-weight: bold\">1</span>  <span style=\"color: #008080; text-decoration-color: #008080; font-weight: bold\">10</span>\n",
       "<span style=\"color: #008080; text-decoration-color: #008080; font-weight: bold\">10</span>            enthalpy-of-formation    EnFo   kJ/mol          <span style=\"color: #008080; text-decoration-color: #008080; font-weight: bold\">1</span>  <span style=\"color: #008080; text-decoration-color: #008080; font-weight: bold\">11</span>\n",
       "<span style=\"color: #008080; text-decoration-color: #008080; font-weight: bold\">11</span>        gibbs-energy-of-formation  GiEnFo   kJ/mol          <span style=\"color: #008080; text-decoration-color: #008080; font-weight: bold\">1</span>  <span style=\"color: #008080; text-decoration-color: #008080; font-weight: bold\">12</span>\n",
       "</pre>\n"
      ],
      "text/plain": [
       "                            COLUMNS  SYMBOL     UNIT CONVERSION  ID\n",
       "\u001b[1;36m0\u001b[0m                               No.    \u001b[3;35mNone\u001b[0m     \u001b[3;35mNone\u001b[0m       \u001b[3;35mNone\u001b[0m   \u001b[1;36m1\u001b[0m\n",
       "\u001b[1;36m1\u001b[0m                              Name    \u001b[3;35mNone\u001b[0m     \u001b[3;35mNone\u001b[0m       \u001b[3;35mNone\u001b[0m   \u001b[1;36m2\u001b[0m\n",
       "\u001b[1;36m2\u001b[0m                           Formula    \u001b[3;35mNone\u001b[0m     \u001b[3;35mNone\u001b[0m       \u001b[3;35mNone\u001b[0m   \u001b[1;36m3\u001b[0m\n",
       "\u001b[1;36m3\u001b[0m                             State    \u001b[3;35mNone\u001b[0m     \u001b[3;35mNone\u001b[0m       \u001b[3;35mNone\u001b[0m   \u001b[1;36m4\u001b[0m\n",
       "\u001b[1;36m4\u001b[0m                  molecular-weight      MW    g/mol          \u001b[1;36m1\u001b[0m   \u001b[1;36m5\u001b[0m\n",
       "\u001b[1;36m5\u001b[0m              critical-temperature      Tc        K          \u001b[1;36m1\u001b[0m   \u001b[1;36m6\u001b[0m\n",
       "\u001b[1;36m6\u001b[0m                 critical-pressure      Pc      MPa          \u001b[1;36m1\u001b[0m   \u001b[1;36m7\u001b[0m\n",
       "\u001b[1;36m7\u001b[0m             critical-molar-volume      Vc  m3/kmol          \u001b[1;36m1\u001b[0m   \u001b[1;36m8\u001b[0m\n",
       "\u001b[1;36m8\u001b[0m   critical-compressibility-factor      Zc     \u001b[3;35mNone\u001b[0m          \u001b[1;36m1\u001b[0m   \u001b[1;36m9\u001b[0m\n",
       "\u001b[1;36m9\u001b[0m                   acentric-factor    AcFa     \u001b[3;35mNone\u001b[0m          \u001b[1;36m1\u001b[0m  \u001b[1;36m10\u001b[0m\n",
       "\u001b[1;36m10\u001b[0m            enthalpy-of-formation    EnFo   kJ/mol          \u001b[1;36m1\u001b[0m  \u001b[1;36m11\u001b[0m\n",
       "\u001b[1;36m11\u001b[0m        gibbs-energy-of-formation  GiEnFo   kJ/mol          \u001b[1;36m1\u001b[0m  \u001b[1;36m12\u001b[0m\n"
      ]
     },
     "metadata": {},
     "output_type": "display_data"
    }
   ],
   "source": [
    "print(data_.data_structure())"
   ]
  },
  {
   "cell_type": "code",
   "execution_count": 31,
   "id": "035b476a",
   "metadata": {},
   "outputs": [
    {
     "data": {
      "text/html": [
       "<pre style=\"white-space:pre;overflow-x:auto;line-height:normal;font-family:Menlo,'DejaVu Sans Mono',consolas,'Courier New',monospace\"><span style=\"font-weight: bold\">{</span>\n",
       "    <span style=\"color: #008000; text-decoration-color: #008000\">'value'</span>: <span style=\"color: #008000; text-decoration-color: #008000\">'32.04'</span>,\n",
       "    <span style=\"color: #008000; text-decoration-color: #008000\">'unit'</span>: <span style=\"color: #008000; text-decoration-color: #008000\">'g/mol'</span>,\n",
       "    <span style=\"color: #008000; text-decoration-color: #008000\">'symbol'</span>: <span style=\"color: #008000; text-decoration-color: #008000\">'MW'</span>,\n",
       "    <span style=\"color: #008000; text-decoration-color: #008000\">'property_name'</span>: <span style=\"color: #008000; text-decoration-color: #008000\">'MW'</span>,\n",
       "    <span style=\"color: #008000; text-decoration-color: #008000\">'message'</span>: <span style=\"color: #008000; text-decoration-color: #008000\">'No message'</span>,\n",
       "    <span style=\"color: #008000; text-decoration-color: #008000\">'databook_name'</span>: <span style=\"color: #008000; text-decoration-color: #008000\">'CO2 Hydrogenation Reaction'</span>,\n",
       "    <span style=\"color: #008000; text-decoration-color: #008000\">'table_name'</span>: <span style=\"color: #008000; text-decoration-color: #008000\">'CO2 hydrogenation - General Data'</span>\n",
       "<span style=\"font-weight: bold\">}</span>\n",
       "</pre>\n"
      ],
      "text/plain": [
       "\u001b[1m{\u001b[0m\n",
       "    \u001b[32m'value'\u001b[0m: \u001b[32m'32.04'\u001b[0m,\n",
       "    \u001b[32m'unit'\u001b[0m: \u001b[32m'g/mol'\u001b[0m,\n",
       "    \u001b[32m'symbol'\u001b[0m: \u001b[32m'MW'\u001b[0m,\n",
       "    \u001b[32m'property_name'\u001b[0m: \u001b[32m'MW'\u001b[0m,\n",
       "    \u001b[32m'message'\u001b[0m: \u001b[32m'No message'\u001b[0m,\n",
       "    \u001b[32m'databook_name'\u001b[0m: \u001b[32m'CO2 Hydrogenation Reaction'\u001b[0m,\n",
       "    \u001b[32m'table_name'\u001b[0m: \u001b[32m'CO2 hydrogenation - General Data'\u001b[0m\n",
       "\u001b[1m}\u001b[0m\n"
      ]
     },
     "metadata": {},
     "output_type": "display_data"
    },
    {
     "data": {
      "text/html": [
       "<pre style=\"white-space:pre;overflow-x:auto;line-height:normal;font-family:Menlo,'DejaVu Sans Mono',consolas,'Courier New',monospace\"><span style=\"font-weight: bold\">{</span>\n",
       "    <span style=\"color: #008000; text-decoration-color: #008000\">'value'</span>: <span style=\"color: #008000; text-decoration-color: #008000\">'32.04'</span>,\n",
       "    <span style=\"color: #008000; text-decoration-color: #008000\">'unit'</span>: <span style=\"color: #008000; text-decoration-color: #008000\">'g/mol'</span>,\n",
       "    <span style=\"color: #008000; text-decoration-color: #008000\">'symbol'</span>: <span style=\"color: #008000; text-decoration-color: #008000\">'MW'</span>,\n",
       "    <span style=\"color: #008000; text-decoration-color: #008000\">'property_name'</span>: <span style=\"color: #008000; text-decoration-color: #008000\">'MW'</span>,\n",
       "    <span style=\"color: #008000; text-decoration-color: #008000\">'message'</span>: <span style=\"color: #008000; text-decoration-color: #008000\">'No message'</span>,\n",
       "    <span style=\"color: #008000; text-decoration-color: #008000\">'databook_name'</span>: <span style=\"color: #008000; text-decoration-color: #008000\">'CO2 Hydrogenation Reaction'</span>,\n",
       "    <span style=\"color: #008000; text-decoration-color: #008000\">'table_name'</span>: <span style=\"color: #008000; text-decoration-color: #008000\">'CO2 hydrogenation - General Data'</span>\n",
       "<span style=\"font-weight: bold\">}</span>\n",
       "</pre>\n"
      ],
      "text/plain": [
       "\u001b[1m{\u001b[0m\n",
       "    \u001b[32m'value'\u001b[0m: \u001b[32m'32.04'\u001b[0m,\n",
       "    \u001b[32m'unit'\u001b[0m: \u001b[32m'g/mol'\u001b[0m,\n",
       "    \u001b[32m'symbol'\u001b[0m: \u001b[32m'MW'\u001b[0m,\n",
       "    \u001b[32m'property_name'\u001b[0m: \u001b[32m'MW'\u001b[0m,\n",
       "    \u001b[32m'message'\u001b[0m: \u001b[32m'No message'\u001b[0m,\n",
       "    \u001b[32m'databook_name'\u001b[0m: \u001b[32m'CO2 Hydrogenation Reaction'\u001b[0m,\n",
       "    \u001b[32m'table_name'\u001b[0m: \u001b[32m'CO2 hydrogenation - General Data'\u001b[0m\n",
       "\u001b[1m}\u001b[0m\n"
      ]
     },
     "metadata": {},
     "output_type": "display_data"
    }
   ],
   "source": [
    "print(data_.get_property(5))\n",
    "print(data_.get_property('MW'))"
   ]
  },
  {
   "cell_type": "code",
   "execution_count": 32,
   "id": "a530565b",
   "metadata": {},
   "outputs": [
    {
     "data": {
      "text/html": [
       "<pre style=\"white-space:pre;overflow-x:auto;line-height:normal;font-family:Menlo,'DejaVu Sans Mono',consolas,'Courier New',monospace\">Property:  general-data | MW\n",
       "</pre>\n"
      ],
      "text/plain": [
       "Property:  general-data | MW\n"
      ]
     },
     "metadata": {},
     "output_type": "display_data"
    },
    {
     "data": {
      "text/html": [
       "<pre style=\"white-space:pre;overflow-x:auto;line-height:normal;font-family:Menlo,'DejaVu Sans Mono',consolas,'Courier New',monospace\"><span style=\"font-weight: bold\">{</span>\n",
       "    <span style=\"color: #008000; text-decoration-color: #008000\">'value'</span>: <span style=\"color: #008000; text-decoration-color: #008000\">'32.04'</span>,\n",
       "    <span style=\"color: #008000; text-decoration-color: #008000\">'unit'</span>: <span style=\"color: #008000; text-decoration-color: #008000\">'g/mol'</span>,\n",
       "    <span style=\"color: #008000; text-decoration-color: #008000\">'symbol'</span>: <span style=\"color: #008000; text-decoration-color: #008000\">'MW'</span>,\n",
       "    <span style=\"color: #008000; text-decoration-color: #008000\">'property_name'</span>: <span style=\"color: #008000; text-decoration-color: #008000\">'MW'</span>,\n",
       "    <span style=\"color: #008000; text-decoration-color: #008000\">'message'</span>: <span style=\"color: #008000; text-decoration-color: #008000\">'Retrieving used for  general-data | MW!'</span>,\n",
       "    <span style=\"color: #008000; text-decoration-color: #008000\">'databook_name'</span>: <span style=\"color: #008000; text-decoration-color: #008000\">'CO2 Hydrogenation Reaction'</span>,\n",
       "    <span style=\"color: #008000; text-decoration-color: #008000\">'table_name'</span>: <span style=\"color: #008000; text-decoration-color: #008000\">'CO2 hydrogenation - General Data'</span>\n",
       "<span style=\"font-weight: bold\">}</span>\n",
       "</pre>\n"
      ],
      "text/plain": [
       "\u001b[1m{\u001b[0m\n",
       "    \u001b[32m'value'\u001b[0m: \u001b[32m'32.04'\u001b[0m,\n",
       "    \u001b[32m'unit'\u001b[0m: \u001b[32m'g/mol'\u001b[0m,\n",
       "    \u001b[32m'symbol'\u001b[0m: \u001b[32m'MW'\u001b[0m,\n",
       "    \u001b[32m'property_name'\u001b[0m: \u001b[32m'MW'\u001b[0m,\n",
       "    \u001b[32m'message'\u001b[0m: \u001b[32m'Retrieving used for  general-data | MW!'\u001b[0m,\n",
       "    \u001b[32m'databook_name'\u001b[0m: \u001b[32m'CO2 Hydrogenation Reaction'\u001b[0m,\n",
       "    \u001b[32m'table_name'\u001b[0m: \u001b[32m'CO2 hydrogenation - General Data'\u001b[0m\n",
       "\u001b[1m}\u001b[0m\n"
      ]
     },
     "metadata": {},
     "output_type": "display_data"
    }
   ],
   "source": [
    "# property\n",
    "prop_msg =\" general-data | MW\"\n",
    "print(f\"Property: {prop_msg}\")\n",
    "\n",
    "print(thermodb_.retrieve(prop_msg))\n"
   ]
  },
  {
   "cell_type": "markdown",
   "id": "d8a99c37",
   "metadata": {},
   "source": [
    "# Table Equation | Table Matrix Equation "
   ]
  },
  {
   "cell_type": "code",
   "execution_count": 33,
   "id": "2f1c7489",
   "metadata": {},
   "outputs": [
    {
     "data": {
      "text/html": [
       "<pre style=\"white-space:pre;overflow-x:auto;line-height:normal;font-family:Menlo,'DejaVu Sans Mono',consolas,'Courier New',monospace\"><span style=\"font-weight: bold\">{</span>\n",
       "    <span style=\"color: #008000; text-decoration-color: #008000\">'heat-capacity'</span>: <span style=\"font-weight: bold\">&lt;</span><span style=\"color: #ff00ff; text-decoration-color: #ff00ff; font-weight: bold\">pyThermoDB.docs.tableequation.TableEquation</span><span style=\"color: #000000; text-decoration-color: #000000\"> object at </span><span style=\"color: #008080; text-decoration-color: #008080; font-weight: bold\">0x0000027A04E4BA50</span><span style=\"color: #000000; text-decoration-color: #000000\">&gt;,</span>\n",
       "<span style=\"color: #000000; text-decoration-color: #000000\">    </span><span style=\"color: #008000; text-decoration-color: #008000\">'vapor-pressure'</span><span style=\"color: #000000; text-decoration-color: #000000\">: &lt;pyThermoDB.docs.tableequation.TableEquation object at </span><span style=\"color: #008080; text-decoration-color: #008080; font-weight: bold\">0x0000027A04FD1550</span><span style=\"font-weight: bold\">&gt;</span>\n",
       "<span style=\"font-weight: bold\">}</span>\n",
       "</pre>\n"
      ],
      "text/plain": [
       "\u001b[1m{\u001b[0m\n",
       "    \u001b[32m'heat-capacity'\u001b[0m: \u001b[1m<\u001b[0m\u001b[1;95mpyThermoDB.docs.tableequation.TableEquation\u001b[0m\u001b[39m object at \u001b[0m\u001b[1;36m0x0000027A04E4BA50\u001b[0m\u001b[39m>,\u001b[0m\n",
       "\u001b[39m    \u001b[0m\u001b[32m'vapor-pressure'\u001b[0m\u001b[39m: <pyThermoDB.docs.tableequation.TableEquation object at \u001b[0m\u001b[1;36m0x0000027A04FD1550\u001b[0m\u001b[1m>\u001b[0m\n",
       "\u001b[1m}\u001b[0m\n"
      ]
     },
     "metadata": {},
     "output_type": "display_data"
    }
   ],
   "source": [
    "print(thermodb_.check_functions())"
   ]
  },
  {
   "cell_type": "code",
   "execution_count": 34,
   "id": "49d62a95",
   "metadata": {},
   "outputs": [],
   "source": [
    "# ! equation 1\n",
    "eq_ = thermodb_.check_function('heat-capacity')"
   ]
  },
  {
   "cell_type": "code",
   "execution_count": 35,
   "id": "6c89be09",
   "metadata": {},
   "outputs": [
    {
     "data": {
      "text/html": [
       "<pre style=\"white-space:pre;overflow-x:auto;line-height:normal;font-family:Menlo,'DejaVu Sans Mono',consolas,'Courier New',monospace\"><span style=\"font-weight: bold\">{</span><span style=\"color: #008000; text-decoration-color: #008000\">'temperature'</span>: <span style=\"font-weight: bold\">{</span><span style=\"color: #008000; text-decoration-color: #008000\">'name'</span>: <span style=\"color: #008000; text-decoration-color: #008000\">'temperature'</span>, <span style=\"color: #008000; text-decoration-color: #008000\">'symbol'</span>: <span style=\"color: #008000; text-decoration-color: #008000\">'T'</span>, <span style=\"color: #008000; text-decoration-color: #008000\">'unit'</span>: <span style=\"color: #008000; text-decoration-color: #008000\">'K'</span><span style=\"font-weight: bold\">}}</span>\n",
       "</pre>\n"
      ],
      "text/plain": [
       "\u001b[1m{\u001b[0m\u001b[32m'temperature'\u001b[0m: \u001b[1m{\u001b[0m\u001b[32m'name'\u001b[0m: \u001b[32m'temperature'\u001b[0m, \u001b[32m'symbol'\u001b[0m: \u001b[32m'T'\u001b[0m, \u001b[32m'unit'\u001b[0m: \u001b[32m'K'\u001b[0m\u001b[1m}\u001b[0m\u001b[1m}\u001b[0m\n"
      ]
     },
     "metadata": {},
     "output_type": "display_data"
    },
    {
     "data": {
      "text/html": [
       "<pre style=\"white-space:pre;overflow-x:auto;line-height:normal;font-family:Menlo,'DejaVu Sans Mono',consolas,'Courier New',monospace\"><span style=\"font-weight: bold\">{</span><span style=\"color: #008000; text-decoration-color: #008000\">'heat_capacity_ideal_gas'</span>: <span style=\"font-weight: bold\">{</span><span style=\"color: #008000; text-decoration-color: #008000\">'name'</span>: <span style=\"color: #008000; text-decoration-color: #008000\">'heat capacity of ideal gas'</span>, <span style=\"color: #008000; text-decoration-color: #008000\">'symbol'</span>: <span style=\"color: #008000; text-decoration-color: #008000\">'Cp_IG'</span>, <span style=\"color: #008000; text-decoration-color: #008000\">'unit'</span>: <span style=\"color: #008000; text-decoration-color: #008000\">'J/mol.K'</span><span style=\"font-weight: bold\">}}</span>\n",
       "</pre>\n"
      ],
      "text/plain": [
       "\u001b[1m{\u001b[0m\u001b[32m'heat_capacity_ideal_gas'\u001b[0m: \u001b[1m{\u001b[0m\u001b[32m'name'\u001b[0m: \u001b[32m'heat capacity of ideal gas'\u001b[0m, \u001b[32m'symbol'\u001b[0m: \u001b[32m'Cp_IG'\u001b[0m, \u001b[32m'unit'\u001b[0m: \u001b[32m'J/mol.K'\u001b[0m\u001b[1m}\u001b[0m\u001b[1m}\u001b[0m\n"
      ]
     },
     "metadata": {},
     "output_type": "display_data"
    },
    {
     "data": {
      "text/html": [
       "<pre style=\"white-space:pre;overflow-x:auto;line-height:normal;font-family:Menlo,'DejaVu Sans Mono',consolas,'Courier New',monospace\"><span style=\"font-weight: bold\">{</span><span style=\"color: #008000; text-decoration-color: #008000\">'a0'</span>: <span style=\"color: #008080; text-decoration-color: #008080; font-weight: bold\">4.714</span>, <span style=\"color: #008000; text-decoration-color: #008000\">'a1'</span>: <span style=\"color: #008080; text-decoration-color: #008080; font-weight: bold\">-0.006986</span>, <span style=\"color: #008000; text-decoration-color: #008000\">'a2'</span>: <span style=\"color: #008080; text-decoration-color: #008080; font-weight: bold\">4.211e-05</span>, <span style=\"color: #008000; text-decoration-color: #008000\">'a3'</span>: <span style=\"color: #008080; text-decoration-color: #008080; font-weight: bold\">-4.4429999999999995e-08</span>, <span style=\"color: #008000; text-decoration-color: #008000\">'a4'</span>: <span style=\"color: #008080; text-decoration-color: #008080; font-weight: bold\">1.535e-11</span>, <span style=\"color: #008000; text-decoration-color: #008000\">'R'</span>: <span style=\"color: #008080; text-decoration-color: #008080; font-weight: bold\">8.314</span><span style=\"font-weight: bold\">}</span>\n",
       "</pre>\n"
      ],
      "text/plain": [
       "\u001b[1m{\u001b[0m\u001b[32m'a0'\u001b[0m: \u001b[1;36m4.714\u001b[0m, \u001b[32m'a1'\u001b[0m: \u001b[1;36m-0.006986\u001b[0m, \u001b[32m'a2'\u001b[0m: \u001b[1;36m4.211e-05\u001b[0m, \u001b[32m'a3'\u001b[0m: \u001b[1;36m-4.4429999999999995e-08\u001b[0m, \u001b[32m'a4'\u001b[0m: \u001b[1;36m1.535e-11\u001b[0m, \u001b[32m'R'\u001b[0m: \u001b[1;36m8.314\u001b[0m\u001b[1m}\u001b[0m\n"
      ]
     },
     "metadata": {},
     "output_type": "display_data"
    }
   ],
   "source": [
    "# args\n",
    "print(eq_.args)\n",
    "# return\n",
    "print(eq_.returns)\n",
    "# parms values\n",
    "print(eq_.parms_values)"
   ]
  },
  {
   "cell_type": "code",
   "execution_count": 36,
   "id": "8f0e1500",
   "metadata": {},
   "outputs": [
    {
     "data": {
      "text/html": [
       "<pre style=\"white-space:pre;overflow-x:auto;line-height:normal;font-family:Menlo,'DejaVu Sans Mono',consolas,'Courier New',monospace\"><span style=\"font-weight: bold\">{</span>\n",
       "    <span style=\"color: #008000; text-decoration-color: #008000\">'value'</span>: <span style=\"color: #008080; text-decoration-color: #008080; font-weight: bold\">44.2153</span>,\n",
       "    <span style=\"color: #008000; text-decoration-color: #008000\">'name'</span>: <span style=\"color: #008000; text-decoration-color: #008000\">'heat capacity of ideal gas'</span>,\n",
       "    <span style=\"color: #008000; text-decoration-color: #008000\">'symbol'</span>: <span style=\"color: #008000; text-decoration-color: #008000\">'Cp_IG'</span>,\n",
       "    <span style=\"color: #008000; text-decoration-color: #008000\">'unit'</span>: <span style=\"color: #008000; text-decoration-color: #008000\">'J/mol.K'</span>,\n",
       "    <span style=\"color: #008000; text-decoration-color: #008000\">'message'</span>: <span style=\"color: #008000; text-decoration-color: #008000\">'Cp ideal gas at T'</span>\n",
       "<span style=\"font-weight: bold\">}</span>\n",
       "</pre>\n"
      ],
      "text/plain": [
       "\u001b[1m{\u001b[0m\n",
       "    \u001b[32m'value'\u001b[0m: \u001b[1;36m44.2153\u001b[0m,\n",
       "    \u001b[32m'name'\u001b[0m: \u001b[32m'heat capacity of ideal gas'\u001b[0m,\n",
       "    \u001b[32m'symbol'\u001b[0m: \u001b[32m'Cp_IG'\u001b[0m,\n",
       "    \u001b[32m'unit'\u001b[0m: \u001b[32m'J/mol.K'\u001b[0m,\n",
       "    \u001b[32m'message'\u001b[0m: \u001b[32m'Cp ideal gas at T'\u001b[0m\n",
       "\u001b[1m}\u001b[0m\n"
      ]
     },
     "metadata": {},
     "output_type": "display_data"
    }
   ],
   "source": [
    "# cal\n",
    "eq_cal = eq_.cal(message=f\"Cp ideal gas at T\", T=298.15)\n",
    "print(eq_cal)"
   ]
  }
 ],
 "metadata": {
  "kernelspec": {
   "display_name": "venv",
   "language": "python",
   "name": "python3"
  },
  "language_info": {
   "codemirror_mode": {
    "name": "ipython",
    "version": 3
   },
   "file_extension": ".py",
   "mimetype": "text/x-python",
   "name": "python",
   "nbconvert_exporter": "python",
   "pygments_lexer": "ipython3",
   "version": "3.11.8"
  }
 },
 "nbformat": 4,
 "nbformat_minor": 5
}
