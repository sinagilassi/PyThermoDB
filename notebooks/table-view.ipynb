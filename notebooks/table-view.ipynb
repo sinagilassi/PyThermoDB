{
 "cells": [
  {
   "cell_type": "markdown",
   "id": "8f1b1513",
   "metadata": {},
   "source": [
    "# Notebook Overview\n",
    "This notebook demonstrates how to view table contents"
   ]
  },
  {
   "cell_type": "markdown",
   "id": "bcead44a",
   "metadata": {},
   "source": [
    "# Import Libs"
   ]
  },
  {
   "cell_type": "code",
   "execution_count": 1,
   "id": "609e44cf",
   "metadata": {},
   "outputs": [],
   "source": [
    "import pyThermoDB as ptdb\n",
    "from rich import print\n",
    "import os\n",
    "import json"
   ]
  },
  {
   "cell_type": "code",
   "execution_count": 2,
   "id": "a930f671",
   "metadata": {},
   "outputs": [
    {
     "data": {
      "text/html": [
       "<pre style=\"white-space:pre;overflow-x:auto;line-height:normal;font-family:Menlo,'DejaVu Sans Mono',consolas,'Courier New',monospace\"><span style=\"color: #008080; text-decoration-color: #008080; font-weight: bold\">1.9</span>.<span style=\"color: #008080; text-decoration-color: #008080; font-weight: bold\">3</span>\n",
       "</pre>\n"
      ],
      "text/plain": [
       "\u001b[1;36m1.9\u001b[0m.\u001b[1;36m3\u001b[0m\n"
      ]
     },
     "metadata": {},
     "output_type": "display_data"
    }
   ],
   "source": [
    "# versions\n",
    "print(ptdb.__version__)"
   ]
  },
  {
   "cell_type": "markdown",
   "id": "21a261c8",
   "metadata": {},
   "source": [
    "# App Initializtion"
   ]
  },
  {
   "cell_type": "code",
   "execution_count": 3,
   "id": "b6a0deac",
   "metadata": {},
   "outputs": [],
   "source": [
    "tdb = ptdb.init()"
   ]
  },
  {
   "cell_type": "markdown",
   "id": "c57f1e8e",
   "metadata": {},
   "source": [
    "# Databook List"
   ]
  },
  {
   "cell_type": "code",
   "execution_count": 4,
   "id": "d274d77c",
   "metadata": {},
   "outputs": [
    {
     "data": {
      "application/vnd.microsoft.datawrangler.viewer.v0+json": {
       "columns": [
        {
         "name": "index",
         "rawType": "int64",
         "type": "integer"
        },
        {
         "name": "Databooks",
         "rawType": "object",
         "type": "string"
        },
        {
         "name": "Id",
         "rawType": "object",
         "type": "string"
        }
       ],
       "conversionMethod": "pd.DataFrame",
       "ref": "e637fd30-b579-433c-9db2-24ae510cbcdb",
       "rows": [
        [
         "0",
         "Perry's Chemical Engineers' Handbook",
         "[1]"
        ],
        [
         "1",
         "Chemical Thermodynamics for Process Simulation",
         "[2]"
        ],
        [
         "2",
         "Chemical and Engineering Thermodynamics",
         "[3]"
        ],
        [
         "3",
         "CO2 Hydrogenation Reaction",
         "[4]"
        ],
        [
         "4",
         "Introduction to Chemical Engineering Thermodynamics, 9th Edition",
         "[5]"
        ],
        [
         "5",
         "Properties of Gases and Liquids",
         "[6]"
        ]
       ],
       "shape": {
        "columns": 2,
        "rows": 6
       }
      },
      "text/html": [
       "<div>\n",
       "<style scoped>\n",
       "    .dataframe tbody tr th:only-of-type {\n",
       "        vertical-align: middle;\n",
       "    }\n",
       "\n",
       "    .dataframe tbody tr th {\n",
       "        vertical-align: top;\n",
       "    }\n",
       "\n",
       "    .dataframe thead th {\n",
       "        text-align: right;\n",
       "    }\n",
       "</style>\n",
       "<table border=\"1\" class=\"dataframe\">\n",
       "  <thead>\n",
       "    <tr style=\"text-align: right;\">\n",
       "      <th></th>\n",
       "      <th>Databooks</th>\n",
       "      <th>Id</th>\n",
       "    </tr>\n",
       "  </thead>\n",
       "  <tbody>\n",
       "    <tr>\n",
       "      <th>0</th>\n",
       "      <td>Perry's Chemical Engineers' Handbook</td>\n",
       "      <td>[1]</td>\n",
       "    </tr>\n",
       "    <tr>\n",
       "      <th>1</th>\n",
       "      <td>Chemical Thermodynamics for Process Simulation</td>\n",
       "      <td>[2]</td>\n",
       "    </tr>\n",
       "    <tr>\n",
       "      <th>2</th>\n",
       "      <td>Chemical and Engineering Thermodynamics</td>\n",
       "      <td>[3]</td>\n",
       "    </tr>\n",
       "    <tr>\n",
       "      <th>3</th>\n",
       "      <td>CO2 Hydrogenation Reaction</td>\n",
       "      <td>[4]</td>\n",
       "    </tr>\n",
       "    <tr>\n",
       "      <th>4</th>\n",
       "      <td>Introduction to Chemical Engineering Thermodyn...</td>\n",
       "      <td>[5]</td>\n",
       "    </tr>\n",
       "    <tr>\n",
       "      <th>5</th>\n",
       "      <td>Properties of Gases and Liquids</td>\n",
       "      <td>[6]</td>\n",
       "    </tr>\n",
       "  </tbody>\n",
       "</table>\n",
       "</div>"
      ],
      "text/plain": [
       "                                           Databooks   Id\n",
       "0               Perry's Chemical Engineers' Handbook  [1]\n",
       "1     Chemical Thermodynamics for Process Simulation  [2]\n",
       "2            Chemical and Engineering Thermodynamics  [3]\n",
       "3                         CO2 Hydrogenation Reaction  [4]\n",
       "4  Introduction to Chemical Engineering Thermodyn...  [5]\n",
       "5                    Properties of Gases and Liquids  [6]"
      ]
     },
     "execution_count": 4,
     "metadata": {},
     "output_type": "execute_result"
    }
   ],
   "source": [
    "db_list = tdb.list_databooks()\n",
    "db_list"
   ]
  },
  {
   "cell_type": "markdown",
   "id": "43d502e2",
   "metadata": {},
   "source": [
    "# Table List"
   ]
  },
  {
   "cell_type": "code",
   "execution_count": 5,
   "id": "6c259b0a",
   "metadata": {},
   "outputs": [
    {
     "data": {
      "application/vnd.microsoft.datawrangler.viewer.v0+json": {
       "columns": [
        {
         "name": "index",
         "rawType": "int64",
         "type": "integer"
        },
        {
         "name": "Tables in CO2 Hydrogenation Reaction databook",
         "rawType": "object",
         "type": "string"
        },
        {
         "name": "Type",
         "rawType": "object",
         "type": "string"
        },
        {
         "name": "Id",
         "rawType": "object",
         "type": "string"
        }
       ],
       "conversionMethod": "pd.DataFrame",
       "ref": "0464fe5c-0bf7-4317-a52b-040daae59862",
       "rows": [
        [
         "0",
         "CO2 hydrogenation - The Molar Heat Capacities of Gases in the Ideal Gas (Zero-Pressure) State",
         "equation",
         "[1]"
        ],
        [
         "1",
         "CO2 hydrogenation - General Data",
         "data",
         "[2]"
        ],
        [
         "2",
         "CO2 hydrogenation - Vapor Pressure",
         "equation",
         "[3]"
        ]
       ],
       "shape": {
        "columns": 3,
        "rows": 3
       }
      },
      "text/html": [
       "<div>\n",
       "<style scoped>\n",
       "    .dataframe tbody tr th:only-of-type {\n",
       "        vertical-align: middle;\n",
       "    }\n",
       "\n",
       "    .dataframe tbody tr th {\n",
       "        vertical-align: top;\n",
       "    }\n",
       "\n",
       "    .dataframe thead th {\n",
       "        text-align: right;\n",
       "    }\n",
       "</style>\n",
       "<table border=\"1\" class=\"dataframe\">\n",
       "  <thead>\n",
       "    <tr style=\"text-align: right;\">\n",
       "      <th></th>\n",
       "      <th>Tables in CO2 Hydrogenation Reaction databook</th>\n",
       "      <th>Type</th>\n",
       "      <th>Id</th>\n",
       "    </tr>\n",
       "  </thead>\n",
       "  <tbody>\n",
       "    <tr>\n",
       "      <th>0</th>\n",
       "      <td>CO2 hydrogenation - The Molar Heat Capacities ...</td>\n",
       "      <td>equation</td>\n",
       "      <td>[1]</td>\n",
       "    </tr>\n",
       "    <tr>\n",
       "      <th>1</th>\n",
       "      <td>CO2 hydrogenation - General Data</td>\n",
       "      <td>data</td>\n",
       "      <td>[2]</td>\n",
       "    </tr>\n",
       "    <tr>\n",
       "      <th>2</th>\n",
       "      <td>CO2 hydrogenation - Vapor Pressure</td>\n",
       "      <td>equation</td>\n",
       "      <td>[3]</td>\n",
       "    </tr>\n",
       "  </tbody>\n",
       "</table>\n",
       "</div>"
      ],
      "text/plain": [
       "       Tables in CO2 Hydrogenation Reaction databook      Type   Id\n",
       "0  CO2 hydrogenation - The Molar Heat Capacities ...  equation  [1]\n",
       "1                   CO2 hydrogenation - General Data      data  [2]\n",
       "2                 CO2 hydrogenation - Vapor Pressure  equation  [3]"
      ]
     },
     "execution_count": 5,
     "metadata": {},
     "output_type": "execute_result"
    }
   ],
   "source": [
    "tb_lists = tdb.list_tables(\"CO2 Hydrogenation Reaction\")\n",
    "tb_lists"
   ]
  },
  {
   "cell_type": "code",
   "execution_count": 6,
   "id": "7a1e2a7b",
   "metadata": {},
   "outputs": [
    {
     "data": {
      "text/html": [
       "<pre style=\"white-space:pre;overflow-x:auto;line-height:normal;font-family:Menlo,'DejaVu Sans Mono',consolas,'Courier New',monospace\"><span style=\"font-weight: bold\">{</span>\n",
       "    <span style=\"color: #008000; text-decoration-color: #008000\">\"table-1\"</span>: <span style=\"color: #008000; text-decoration-color: #008000\">\"CO2 hydrogenation - The Molar Heat Capacities of Gases in the Ideal Gas (Zero-Pressure) State\"</span>,\n",
       "    <span style=\"color: #008000; text-decoration-color: #008000\">\"table-2\"</span>: <span style=\"color: #008000; text-decoration-color: #008000\">\"CO2 hydrogenation - General Data\"</span>,\n",
       "    <span style=\"color: #008000; text-decoration-color: #008000\">\"table-3\"</span>: <span style=\"color: #008000; text-decoration-color: #008000\">\"CO2 hydrogenation - Vapor Pressure\"</span>\n",
       "<span style=\"font-weight: bold\">}</span>\n",
       "</pre>\n"
      ],
      "text/plain": [
       "\u001b[1m{\u001b[0m\n",
       "    \u001b[32m\"table-1\"\u001b[0m: \u001b[32m\"CO2 hydrogenation - The Molar Heat Capacities of Gases in the Ideal Gas \u001b[0m\u001b[32m(\u001b[0m\u001b[32mZero-Pressure\u001b[0m\u001b[32m)\u001b[0m\u001b[32m State\"\u001b[0m,\n",
       "    \u001b[32m\"table-2\"\u001b[0m: \u001b[32m\"CO2 hydrogenation - General Data\"\u001b[0m,\n",
       "    \u001b[32m\"table-3\"\u001b[0m: \u001b[32m\"CO2 hydrogenation - Vapor Pressure\"\u001b[0m\n",
       "\u001b[1m}\u001b[0m\n"
      ]
     },
     "metadata": {},
     "output_type": "display_data"
    }
   ],
   "source": [
    "tb_lists_json = tdb.list_tables(\"CO2 Hydrogenation Reaction\", res_format='json')\n",
    "print(tb_lists_json)"
   ]
  },
  {
   "cell_type": "markdown",
   "id": "45d80642",
   "metadata": {},
   "source": [
    "# Table Info"
   ]
  },
  {
   "cell_type": "code",
   "execution_count": null,
   "id": "c0c8b13c",
   "metadata": {},
   "outputs": [],
   "source": [
    "# select a table\n",
    "tb_select = tdb.select_table(\"CO2 Hydrogenation Reaction\", 1)\n",
    "print(tb_select)"
   ]
  },
  {
   "cell_type": "code",
   "execution_count": null,
   "id": "e46609ab",
   "metadata": {},
   "outputs": [],
   "source": [
    "tb_select = tdb.select_table(\n",
    "    \"CO2 Hydrogenation Reaction\", 2)\n",
    "print(tb_select)"
   ]
  },
  {
   "cell_type": "code",
   "execution_count": 9,
   "id": "b773754b",
   "metadata": {},
   "outputs": [
    {
     "data": {
      "application/vnd.microsoft.datawrangler.viewer.v0+json": {
       "columns": [
        {
         "name": "index",
         "rawType": "int64",
         "type": "integer"
        },
        {
         "name": "Table Name",
         "rawType": "object",
         "type": "string"
        },
        {
         "name": "Type",
         "rawType": "object",
         "type": "string"
        },
        {
         "name": "Equations",
         "rawType": "int64",
         "type": "integer"
        },
        {
         "name": "Data",
         "rawType": "int64",
         "type": "integer"
        },
        {
         "name": "Matrix-Equations",
         "rawType": "int64",
         "type": "integer"
        },
        {
         "name": "Matrix-Data",
         "rawType": "int64",
         "type": "integer"
        }
       ],
       "conversionMethod": "pd.DataFrame",
       "ref": "7e81907a-2d04-4e17-9e4c-e04e571f8473",
       "rows": [
        [
         "0",
         "CO2 hydrogenation - The Molar Heat Capacities of Gases in the Ideal Gas (Zero-Pressure) State",
         "Equation",
         "1",
         "0",
         "0",
         "0"
        ]
       ],
       "shape": {
        "columns": 6,
        "rows": 1
       }
      },
      "text/html": [
       "<div>\n",
       "<style scoped>\n",
       "    .dataframe tbody tr th:only-of-type {\n",
       "        vertical-align: middle;\n",
       "    }\n",
       "\n",
       "    .dataframe tbody tr th {\n",
       "        vertical-align: top;\n",
       "    }\n",
       "\n",
       "    .dataframe thead th {\n",
       "        text-align: right;\n",
       "    }\n",
       "</style>\n",
       "<table border=\"1\" class=\"dataframe\">\n",
       "  <thead>\n",
       "    <tr style=\"text-align: right;\">\n",
       "      <th></th>\n",
       "      <th>Table Name</th>\n",
       "      <th>Type</th>\n",
       "      <th>Equations</th>\n",
       "      <th>Data</th>\n",
       "      <th>Matrix-Equations</th>\n",
       "      <th>Matrix-Data</th>\n",
       "    </tr>\n",
       "  </thead>\n",
       "  <tbody>\n",
       "    <tr>\n",
       "      <th>0</th>\n",
       "      <td>CO2 hydrogenation - The Molar Heat Capacities ...</td>\n",
       "      <td>Equation</td>\n",
       "      <td>1</td>\n",
       "      <td>0</td>\n",
       "      <td>0</td>\n",
       "      <td>0</td>\n",
       "    </tr>\n",
       "  </tbody>\n",
       "</table>\n",
       "</div>"
      ],
      "text/plain": [
       "                                          Table Name      Type  Equations  \\\n",
       "0  CO2 hydrogenation - The Molar Heat Capacities ...  Equation          1   \n",
       "\n",
       "   Data  Matrix-Equations  Matrix-Data  \n",
       "0     0                 0            0  "
      ]
     },
     "execution_count": 9,
     "metadata": {},
     "output_type": "execute_result"
    }
   ],
   "source": [
    "# display a table\n",
    "tb_info = tdb.table_info(\"CO2 Hydrogenation Reaction\", 1)\n",
    "tb_info"
   ]
  },
  {
   "cell_type": "code",
   "execution_count": 10,
   "id": "81213b36",
   "metadata": {},
   "outputs": [
    {
     "data": {
      "text/html": [
       "<pre style=\"white-space:pre;overflow-x:auto;line-height:normal;font-family:Menlo,'DejaVu Sans Mono',consolas,'Courier New',monospace\"><span style=\"font-weight: bold\">{</span><span style=\"color: #008000; text-decoration-color: #008000\">\"Table Name\"</span>: <span style=\"color: #008000; text-decoration-color: #008000\">\"CO2 hydrogenation - The Molar Heat Capacities of Gases in the Ideal Gas (Zero-Pressure) State\"</span>, \n",
       "<span style=\"color: #008000; text-decoration-color: #008000\">\"Type\"</span>: <span style=\"color: #008000; text-decoration-color: #008000\">\"Equation\"</span>, <span style=\"color: #008000; text-decoration-color: #008000\">\"Equations\"</span>: <span style=\"color: #008080; text-decoration-color: #008080; font-weight: bold\">1</span>, <span style=\"color: #008000; text-decoration-color: #008000\">\"Data\"</span>: <span style=\"color: #008080; text-decoration-color: #008080; font-weight: bold\">0</span>, <span style=\"color: #008000; text-decoration-color: #008000\">\"Matrix-Equations\"</span>: <span style=\"color: #008080; text-decoration-color: #008080; font-weight: bold\">0</span>, <span style=\"color: #008000; text-decoration-color: #008000\">\"Matrix-Data\"</span>: <span style=\"color: #008080; text-decoration-color: #008080; font-weight: bold\">0</span><span style=\"font-weight: bold\">}</span>\n",
       "</pre>\n"
      ],
      "text/plain": [
       "\u001b[1m{\u001b[0m\u001b[32m\"Table Name\"\u001b[0m: \u001b[32m\"CO2 hydrogenation - The Molar Heat Capacities of Gases in the Ideal Gas \u001b[0m\u001b[32m(\u001b[0m\u001b[32mZero-Pressure\u001b[0m\u001b[32m)\u001b[0m\u001b[32m State\"\u001b[0m, \n",
       "\u001b[32m\"Type\"\u001b[0m: \u001b[32m\"Equation\"\u001b[0m, \u001b[32m\"Equations\"\u001b[0m: \u001b[1;36m1\u001b[0m, \u001b[32m\"Data\"\u001b[0m: \u001b[1;36m0\u001b[0m, \u001b[32m\"Matrix-Equations\"\u001b[0m: \u001b[1;36m0\u001b[0m, \u001b[32m\"Matrix-Data\"\u001b[0m: \u001b[1;36m0\u001b[0m\u001b[1m}\u001b[0m\n"
      ]
     },
     "metadata": {},
     "output_type": "display_data"
    }
   ],
   "source": [
    "tb_info = tdb.table_info(\"CO2 Hydrogenation Reaction\", 1, res_format='json')\n",
    "print(tb_info)"
   ]
  },
  {
   "cell_type": "markdown",
   "id": "dd4b81cb",
   "metadata": {},
   "source": [
    "# Load Tables"
   ]
  },
  {
   "cell_type": "markdown",
   "id": "765a38bf",
   "metadata": {},
   "source": [
    "## Equation"
   ]
  },
  {
   "cell_type": "code",
   "execution_count": 11,
   "id": "9c7bb2b4",
   "metadata": {},
   "outputs": [
    {
     "data": {
      "application/vnd.microsoft.datawrangler.viewer.v0+json": {
       "columns": [
        {
         "name": "index",
         "rawType": "int64",
         "type": "integer"
        },
        {
         "name": "No.",
         "rawType": "object",
         "type": "string"
        },
        {
         "name": "Name",
         "rawType": "object",
         "type": "string"
        },
        {
         "name": "Formula",
         "rawType": "object",
         "type": "string"
        },
        {
         "name": "State",
         "rawType": "object",
         "type": "string"
        },
        {
         "name": "a0",
         "rawType": "object",
         "type": "string"
        },
        {
         "name": "a1",
         "rawType": "object",
         "type": "string"
        },
        {
         "name": "a2",
         "rawType": "object",
         "type": "string"
        },
        {
         "name": "a3",
         "rawType": "object",
         "type": "string"
        },
        {
         "name": "a4",
         "rawType": "object",
         "type": "string"
        },
        {
         "name": "R",
         "rawType": "object",
         "type": "string"
        },
        {
         "name": "Eq",
         "rawType": "object",
         "type": "string"
        }
       ],
       "conversionMethod": "pd.DataFrame",
       "ref": "bd1c35c9-759c-4c27-a43f-71766191eaba",
       "rows": [
        [
         "0",
         "-",
         "-",
         "-",
         "-",
         "a0",
         "a1",
         "a2",
         "a3",
         "a4",
         "R",
         "HeCa_IG"
        ],
        [
         "1",
         "-",
         "-",
         "-",
         "-",
         "1",
         "1.00E+03",
         "1.00E+05",
         "1.00E+08",
         "1.00E+11",
         "1.00E+00",
         "J/mol.K"
        ],
        [
         "2",
         "1",
         "carbon dioxide",
         "CO2",
         "g",
         "3.259",
         "1.356",
         "1.502",
         "-2.374",
         "1.056",
         "8.314",
         "1"
        ],
        [
         "3",
         "2",
         "carbon monoxide",
         "CO",
         "g",
         "3.912",
         "-3.913",
         "1.182",
         "-1.302",
         "0.515",
         "8.314",
         "1"
        ],
        [
         "4",
         "3",
         "hydrogen",
         "H2",
         "g",
         "2.883",
         "3.681",
         "-0.772",
         "0.692",
         "-0.213",
         "8.314",
         "1"
        ],
        [
         "5",
         "4",
         "methanol",
         "CH3OH",
         "g",
         "4.714",
         "-6.986",
         "4.211",
         "-4.443",
         "1.535",
         "8.314",
         "1"
        ],
        [
         "6",
         "5",
         "water",
         "H2O",
         "g",
         "4.395",
         "-4.186",
         "1.405",
         "-1.564",
         "0.632",
         "8.314",
         "1"
        ]
       ],
       "shape": {
        "columns": 11,
        "rows": 7
       }
      },
      "text/html": [
       "<div>\n",
       "<style scoped>\n",
       "    .dataframe tbody tr th:only-of-type {\n",
       "        vertical-align: middle;\n",
       "    }\n",
       "\n",
       "    .dataframe tbody tr th {\n",
       "        vertical-align: top;\n",
       "    }\n",
       "\n",
       "    .dataframe thead th {\n",
       "        text-align: right;\n",
       "    }\n",
       "</style>\n",
       "<table border=\"1\" class=\"dataframe\">\n",
       "  <thead>\n",
       "    <tr style=\"text-align: right;\">\n",
       "      <th></th>\n",
       "      <th>No.</th>\n",
       "      <th>Name</th>\n",
       "      <th>Formula</th>\n",
       "      <th>State</th>\n",
       "      <th>a0</th>\n",
       "      <th>a1</th>\n",
       "      <th>a2</th>\n",
       "      <th>a3</th>\n",
       "      <th>a4</th>\n",
       "      <th>R</th>\n",
       "      <th>Eq</th>\n",
       "    </tr>\n",
       "  </thead>\n",
       "  <tbody>\n",
       "    <tr>\n",
       "      <th>0</th>\n",
       "      <td>-</td>\n",
       "      <td>-</td>\n",
       "      <td>-</td>\n",
       "      <td>-</td>\n",
       "      <td>a0</td>\n",
       "      <td>a1</td>\n",
       "      <td>a2</td>\n",
       "      <td>a3</td>\n",
       "      <td>a4</td>\n",
       "      <td>R</td>\n",
       "      <td>HeCa_IG</td>\n",
       "    </tr>\n",
       "    <tr>\n",
       "      <th>1</th>\n",
       "      <td>-</td>\n",
       "      <td>-</td>\n",
       "      <td>-</td>\n",
       "      <td>-</td>\n",
       "      <td>1</td>\n",
       "      <td>1.00E+03</td>\n",
       "      <td>1.00E+05</td>\n",
       "      <td>1.00E+08</td>\n",
       "      <td>1.00E+11</td>\n",
       "      <td>1.00E+00</td>\n",
       "      <td>J/mol.K</td>\n",
       "    </tr>\n",
       "    <tr>\n",
       "      <th>2</th>\n",
       "      <td>1</td>\n",
       "      <td>carbon dioxide</td>\n",
       "      <td>CO2</td>\n",
       "      <td>g</td>\n",
       "      <td>3.259</td>\n",
       "      <td>1.356</td>\n",
       "      <td>1.502</td>\n",
       "      <td>-2.374</td>\n",
       "      <td>1.056</td>\n",
       "      <td>8.314</td>\n",
       "      <td>1</td>\n",
       "    </tr>\n",
       "    <tr>\n",
       "      <th>3</th>\n",
       "      <td>2</td>\n",
       "      <td>carbon monoxide</td>\n",
       "      <td>CO</td>\n",
       "      <td>g</td>\n",
       "      <td>3.912</td>\n",
       "      <td>-3.913</td>\n",
       "      <td>1.182</td>\n",
       "      <td>-1.302</td>\n",
       "      <td>0.515</td>\n",
       "      <td>8.314</td>\n",
       "      <td>1</td>\n",
       "    </tr>\n",
       "    <tr>\n",
       "      <th>4</th>\n",
       "      <td>3</td>\n",
       "      <td>hydrogen</td>\n",
       "      <td>H2</td>\n",
       "      <td>g</td>\n",
       "      <td>2.883</td>\n",
       "      <td>3.681</td>\n",
       "      <td>-0.772</td>\n",
       "      <td>0.692</td>\n",
       "      <td>-0.213</td>\n",
       "      <td>8.314</td>\n",
       "      <td>1</td>\n",
       "    </tr>\n",
       "    <tr>\n",
       "      <th>5</th>\n",
       "      <td>4</td>\n",
       "      <td>methanol</td>\n",
       "      <td>CH3OH</td>\n",
       "      <td>g</td>\n",
       "      <td>4.714</td>\n",
       "      <td>-6.986</td>\n",
       "      <td>4.211</td>\n",
       "      <td>-4.443</td>\n",
       "      <td>1.535</td>\n",
       "      <td>8.314</td>\n",
       "      <td>1</td>\n",
       "    </tr>\n",
       "    <tr>\n",
       "      <th>6</th>\n",
       "      <td>5</td>\n",
       "      <td>water</td>\n",
       "      <td>H2O</td>\n",
       "      <td>g</td>\n",
       "      <td>4.395</td>\n",
       "      <td>-4.186</td>\n",
       "      <td>1.405</td>\n",
       "      <td>-1.564</td>\n",
       "      <td>0.632</td>\n",
       "      <td>8.314</td>\n",
       "      <td>1</td>\n",
       "    </tr>\n",
       "  </tbody>\n",
       "</table>\n",
       "</div>"
      ],
      "text/plain": [
       "  No.             Name Formula State     a0        a1        a2        a3  \\\n",
       "0   -                -       -     -     a0        a1        a2        a3   \n",
       "1   -                -       -     -      1  1.00E+03  1.00E+05  1.00E+08   \n",
       "2   1   carbon dioxide     CO2     g  3.259     1.356     1.502    -2.374   \n",
       "3   2  carbon monoxide      CO     g  3.912    -3.913     1.182    -1.302   \n",
       "4   3         hydrogen      H2     g  2.883     3.681    -0.772     0.692   \n",
       "5   4         methanol   CH3OH     g  4.714    -6.986     4.211    -4.443   \n",
       "6   5            water     H2O     g  4.395    -4.186     1.405    -1.564   \n",
       "\n",
       "         a4         R       Eq  \n",
       "0        a4         R  HeCa_IG  \n",
       "1  1.00E+11  1.00E+00  J/mol.K  \n",
       "2     1.056     8.314        1  \n",
       "3     0.515     8.314        1  \n",
       "4    -0.213     8.314        1  \n",
       "5     1.535     8.314        1  \n",
       "6     0.632     8.314        1  "
      ]
     },
     "execution_count": 11,
     "metadata": {},
     "output_type": "execute_result"
    }
   ],
   "source": [
    "res_ = tdb.table_data(\"CO2 Hydrogenation Reaction\", 1)\n",
    "res_"
   ]
  },
  {
   "cell_type": "code",
   "execution_count": 12,
   "id": "452e849f",
   "metadata": {},
   "outputs": [
    {
     "data": {
      "text/html": [
       "<pre style=\"white-space:pre;overflow-x:auto;line-height:normal;font-family:Menlo,'DejaVu Sans Mono',consolas,'Courier New',monospace\"><span style=\"font-weight: bold\">&lt;</span><span style=\"color: #ff00ff; text-decoration-color: #ff00ff; font-weight: bold\">pyThermoDB.docs.tableequation.TableEquation</span><span style=\"color: #000000; text-decoration-color: #000000\"> object at </span><span style=\"color: #008080; text-decoration-color: #008080; font-weight: bold\">0x000002157BF121D0</span><span style=\"font-weight: bold\">&gt;</span>\n",
       "</pre>\n"
      ],
      "text/plain": [
       "\u001b[1m<\u001b[0m\u001b[1;95mpyThermoDB.docs.tableequation.TableEquation\u001b[0m\u001b[39m object at \u001b[0m\u001b[1;36m0x000002157BF121D0\u001b[0m\u001b[1m>\u001b[0m\n"
      ]
     },
     "metadata": {},
     "output_type": "display_data"
    }
   ],
   "source": [
    "# load equation to check\n",
    "res_heat_capacity = tdb.equation_load(\"CO2 Hydrogenation Reaction\", 1)\n",
    "print(res_heat_capacity)"
   ]
  },
  {
   "cell_type": "code",
   "execution_count": null,
   "id": "82fc641d",
   "metadata": {},
   "outputs": [],
   "source": [
    "print(res_heat_capacity.eq_structure(1))"
   ]
  },
  {
   "cell_type": "markdown",
   "id": "214987bc",
   "metadata": {},
   "source": [
    "## Data"
   ]
  },
  {
   "cell_type": "code",
   "execution_count": 13,
   "id": "36fb33e7",
   "metadata": {},
   "outputs": [
    {
     "data": {
      "application/vnd.microsoft.datawrangler.viewer.v0+json": {
       "columns": [
        {
         "name": "index",
         "rawType": "int64",
         "type": "integer"
        },
        {
         "name": "No.",
         "rawType": "object",
         "type": "string"
        },
        {
         "name": "Name",
         "rawType": "object",
         "type": "string"
        },
        {
         "name": "Formula",
         "rawType": "object",
         "type": "string"
        },
        {
         "name": "State",
         "rawType": "object",
         "type": "string"
        },
        {
         "name": "MW",
         "rawType": "object",
         "type": "string"
        },
        {
         "name": "Tc",
         "rawType": "object",
         "type": "string"
        },
        {
         "name": "Pc",
         "rawType": "object",
         "type": "string"
        },
        {
         "name": "Vc",
         "rawType": "object",
         "type": "string"
        },
        {
         "name": "Zc",
         "rawType": "object",
         "type": "string"
        },
        {
         "name": "AcFa",
         "rawType": "object",
         "type": "string"
        },
        {
         "name": "dHf_IG",
         "rawType": "object",
         "type": "string"
        },
        {
         "name": "dGf_IG",
         "rawType": "object",
         "type": "string"
        }
       ],
       "conversionMethod": "pd.DataFrame",
       "ref": "ac61b85e-8ca6-4bae-b4a9-a84f7115255a",
       "rows": [
        [
         "0",
         "-",
         "-",
         "-",
         "-",
         "MW",
         "Tc",
         "Pc",
         "Vc",
         "Zc",
         "AcFa",
         "EnFo",
         "GiEnFo"
        ],
        [
         "1",
         "-",
         "-",
         "-",
         "-",
         "g/mol",
         "K",
         "MPa",
         "m3/kmol",
         "1",
         "1",
         "kJ/mol",
         "kJ/mol"
        ],
        [
         "2",
         "1",
         "carbon dioxide",
         "CO2",
         "g",
         "44.01",
         "304.21",
         "7.383",
         "0.094",
         "0.274",
         "0.2236",
         "-393.5",
         "-394.4"
        ],
        [
         "3",
         "2",
         "carbon monoxide",
         "CO",
         "g",
         "28.01",
         "132.92",
         "3.499",
         "0.0944",
         "0.299",
         "0.0482",
         "-110.5",
         "-137.2"
        ],
        [
         "4",
         "3",
         "hydrogen",
         "H2",
         "g",
         "2.016",
         "33.19",
         "1.313",
         "0.064147",
         "0.305",
         "-0.216",
         "0",
         "0"
        ],
        [
         "5",
         "4",
         "methanol",
         "CH3OH",
         "g",
         "32.04",
         "512.5",
         "8.084",
         "0.117",
         "0.222",
         "0.5658",
         "-200.7",
         "-162"
        ],
        [
         "6",
         "5",
         "water",
         "H2O",
         "g",
         "18.01",
         "647.096",
         "22.064",
         "0.0559472",
         "0.229",
         "0.3449",
         "-241.8",
         "-228.6"
        ]
       ],
       "shape": {
        "columns": 12,
        "rows": 7
       }
      },
      "text/html": [
       "<div>\n",
       "<style scoped>\n",
       "    .dataframe tbody tr th:only-of-type {\n",
       "        vertical-align: middle;\n",
       "    }\n",
       "\n",
       "    .dataframe tbody tr th {\n",
       "        vertical-align: top;\n",
       "    }\n",
       "\n",
       "    .dataframe thead th {\n",
       "        text-align: right;\n",
       "    }\n",
       "</style>\n",
       "<table border=\"1\" class=\"dataframe\">\n",
       "  <thead>\n",
       "    <tr style=\"text-align: right;\">\n",
       "      <th></th>\n",
       "      <th>No.</th>\n",
       "      <th>Name</th>\n",
       "      <th>Formula</th>\n",
       "      <th>State</th>\n",
       "      <th>MW</th>\n",
       "      <th>Tc</th>\n",
       "      <th>Pc</th>\n",
       "      <th>Vc</th>\n",
       "      <th>Zc</th>\n",
       "      <th>AcFa</th>\n",
       "      <th>dHf_IG</th>\n",
       "      <th>dGf_IG</th>\n",
       "    </tr>\n",
       "  </thead>\n",
       "  <tbody>\n",
       "    <tr>\n",
       "      <th>0</th>\n",
       "      <td>-</td>\n",
       "      <td>-</td>\n",
       "      <td>-</td>\n",
       "      <td>-</td>\n",
       "      <td>MW</td>\n",
       "      <td>Tc</td>\n",
       "      <td>Pc</td>\n",
       "      <td>Vc</td>\n",
       "      <td>Zc</td>\n",
       "      <td>AcFa</td>\n",
       "      <td>EnFo</td>\n",
       "      <td>GiEnFo</td>\n",
       "    </tr>\n",
       "    <tr>\n",
       "      <th>1</th>\n",
       "      <td>-</td>\n",
       "      <td>-</td>\n",
       "      <td>-</td>\n",
       "      <td>-</td>\n",
       "      <td>g/mol</td>\n",
       "      <td>K</td>\n",
       "      <td>MPa</td>\n",
       "      <td>m3/kmol</td>\n",
       "      <td>1</td>\n",
       "      <td>1</td>\n",
       "      <td>kJ/mol</td>\n",
       "      <td>kJ/mol</td>\n",
       "    </tr>\n",
       "    <tr>\n",
       "      <th>2</th>\n",
       "      <td>1</td>\n",
       "      <td>carbon dioxide</td>\n",
       "      <td>CO2</td>\n",
       "      <td>g</td>\n",
       "      <td>44.01</td>\n",
       "      <td>304.21</td>\n",
       "      <td>7.383</td>\n",
       "      <td>0.094</td>\n",
       "      <td>0.274</td>\n",
       "      <td>0.2236</td>\n",
       "      <td>-393.5</td>\n",
       "      <td>-394.4</td>\n",
       "    </tr>\n",
       "    <tr>\n",
       "      <th>3</th>\n",
       "      <td>2</td>\n",
       "      <td>carbon monoxide</td>\n",
       "      <td>CO</td>\n",
       "      <td>g</td>\n",
       "      <td>28.01</td>\n",
       "      <td>132.92</td>\n",
       "      <td>3.499</td>\n",
       "      <td>0.0944</td>\n",
       "      <td>0.299</td>\n",
       "      <td>0.0482</td>\n",
       "      <td>-110.5</td>\n",
       "      <td>-137.2</td>\n",
       "    </tr>\n",
       "    <tr>\n",
       "      <th>4</th>\n",
       "      <td>3</td>\n",
       "      <td>hydrogen</td>\n",
       "      <td>H2</td>\n",
       "      <td>g</td>\n",
       "      <td>2.016</td>\n",
       "      <td>33.19</td>\n",
       "      <td>1.313</td>\n",
       "      <td>0.064147</td>\n",
       "      <td>0.305</td>\n",
       "      <td>-0.216</td>\n",
       "      <td>0</td>\n",
       "      <td>0</td>\n",
       "    </tr>\n",
       "    <tr>\n",
       "      <th>5</th>\n",
       "      <td>4</td>\n",
       "      <td>methanol</td>\n",
       "      <td>CH3OH</td>\n",
       "      <td>g</td>\n",
       "      <td>32.04</td>\n",
       "      <td>512.5</td>\n",
       "      <td>8.084</td>\n",
       "      <td>0.117</td>\n",
       "      <td>0.222</td>\n",
       "      <td>0.5658</td>\n",
       "      <td>-200.7</td>\n",
       "      <td>-162</td>\n",
       "    </tr>\n",
       "    <tr>\n",
       "      <th>6</th>\n",
       "      <td>5</td>\n",
       "      <td>water</td>\n",
       "      <td>H2O</td>\n",
       "      <td>g</td>\n",
       "      <td>18.01</td>\n",
       "      <td>647.096</td>\n",
       "      <td>22.064</td>\n",
       "      <td>0.0559472</td>\n",
       "      <td>0.229</td>\n",
       "      <td>0.3449</td>\n",
       "      <td>-241.8</td>\n",
       "      <td>-228.6</td>\n",
       "    </tr>\n",
       "  </tbody>\n",
       "</table>\n",
       "</div>"
      ],
      "text/plain": [
       "  No.             Name Formula State     MW       Tc      Pc         Vc  \\\n",
       "0   -                -       -     -     MW       Tc      Pc         Vc   \n",
       "1   -                -       -     -  g/mol        K     MPa    m3/kmol   \n",
       "2   1   carbon dioxide     CO2     g  44.01   304.21   7.383      0.094   \n",
       "3   2  carbon monoxide      CO     g  28.01   132.92   3.499     0.0944   \n",
       "4   3         hydrogen      H2     g  2.016    33.19   1.313   0.064147   \n",
       "5   4         methanol   CH3OH     g  32.04    512.5   8.084      0.117   \n",
       "6   5            water     H2O     g  18.01  647.096  22.064  0.0559472   \n",
       "\n",
       "      Zc    AcFa  dHf_IG  dGf_IG  \n",
       "0     Zc    AcFa    EnFo  GiEnFo  \n",
       "1      1       1  kJ/mol  kJ/mol  \n",
       "2  0.274  0.2236  -393.5  -394.4  \n",
       "3  0.299  0.0482  -110.5  -137.2  \n",
       "4  0.305  -0.216       0       0  \n",
       "5  0.222  0.5658  -200.7    -162  \n",
       "6  0.229  0.3449  -241.8  -228.6  "
      ]
     },
     "execution_count": 13,
     "metadata": {},
     "output_type": "execute_result"
    }
   ],
   "source": [
    "res_ = tdb.table_data(\"CO2 Hydrogenation Reaction\", 2)\n",
    "res_"
   ]
  },
  {
   "cell_type": "code",
   "execution_count": 14,
   "id": "4e6717db",
   "metadata": {},
   "outputs": [
    {
     "data": {
      "text/html": [
       "<pre style=\"white-space:pre;overflow-x:auto;line-height:normal;font-family:Menlo,'DejaVu Sans Mono',consolas,'Courier New',monospace\"><span style=\"font-weight: bold\">&lt;</span><span style=\"color: #ff00ff; text-decoration-color: #ff00ff; font-weight: bold\">pyThermoDB.docs.tabledata.TableData</span><span style=\"color: #000000; text-decoration-color: #000000\"> object at </span><span style=\"color: #008080; text-decoration-color: #008080; font-weight: bold\">0x000002157D95CC90</span><span style=\"font-weight: bold\">&gt;</span>\n",
       "</pre>\n"
      ],
      "text/plain": [
       "\u001b[1m<\u001b[0m\u001b[1;95mpyThermoDB.docs.tabledata.TableData\u001b[0m\u001b[39m object at \u001b[0m\u001b[1;36m0x000002157D95CC90\u001b[0m\u001b[1m>\u001b[0m\n"
      ]
     },
     "metadata": {},
     "output_type": "display_data"
    }
   ],
   "source": [
    "# load data to check\n",
    "data_table = tdb.data_load(\"CO2 Hydrogenation Reaction\", 2)\n",
    "print(data_table)"
   ]
  },
  {
   "cell_type": "code",
   "execution_count": 15,
   "id": "830a8415",
   "metadata": {},
   "outputs": [
    {
     "data": {
      "text/html": [
       "<pre style=\"white-space:pre;overflow-x:auto;line-height:normal;font-family:Menlo,'DejaVu Sans Mono',consolas,'Courier New',monospace\">                            COLUMNS  SYMBOL     UNIT CONVERSION  ID\n",
       "<span style=\"color: #008080; text-decoration-color: #008080; font-weight: bold\">0</span>                               No.    <span style=\"color: #800080; text-decoration-color: #800080; font-style: italic\">None</span>     <span style=\"color: #800080; text-decoration-color: #800080; font-style: italic\">None</span>       <span style=\"color: #800080; text-decoration-color: #800080; font-style: italic\">None</span>   <span style=\"color: #008080; text-decoration-color: #008080; font-weight: bold\">1</span>\n",
       "<span style=\"color: #008080; text-decoration-color: #008080; font-weight: bold\">1</span>                              Name    <span style=\"color: #800080; text-decoration-color: #800080; font-style: italic\">None</span>     <span style=\"color: #800080; text-decoration-color: #800080; font-style: italic\">None</span>       <span style=\"color: #800080; text-decoration-color: #800080; font-style: italic\">None</span>   <span style=\"color: #008080; text-decoration-color: #008080; font-weight: bold\">2</span>\n",
       "<span style=\"color: #008080; text-decoration-color: #008080; font-weight: bold\">2</span>                           Formula    <span style=\"color: #800080; text-decoration-color: #800080; font-style: italic\">None</span>     <span style=\"color: #800080; text-decoration-color: #800080; font-style: italic\">None</span>       <span style=\"color: #800080; text-decoration-color: #800080; font-style: italic\">None</span>   <span style=\"color: #008080; text-decoration-color: #008080; font-weight: bold\">3</span>\n",
       "<span style=\"color: #008080; text-decoration-color: #008080; font-weight: bold\">3</span>                             State    <span style=\"color: #800080; text-decoration-color: #800080; font-style: italic\">None</span>     <span style=\"color: #800080; text-decoration-color: #800080; font-style: italic\">None</span>       <span style=\"color: #800080; text-decoration-color: #800080; font-style: italic\">None</span>   <span style=\"color: #008080; text-decoration-color: #008080; font-weight: bold\">4</span>\n",
       "<span style=\"color: #008080; text-decoration-color: #008080; font-weight: bold\">4</span>                  molecular-weight      MW    g/mol          <span style=\"color: #008080; text-decoration-color: #008080; font-weight: bold\">1</span>   <span style=\"color: #008080; text-decoration-color: #008080; font-weight: bold\">5</span>\n",
       "<span style=\"color: #008080; text-decoration-color: #008080; font-weight: bold\">5</span>              critical-temperature      Tc        K          <span style=\"color: #008080; text-decoration-color: #008080; font-weight: bold\">1</span>   <span style=\"color: #008080; text-decoration-color: #008080; font-weight: bold\">6</span>\n",
       "<span style=\"color: #008080; text-decoration-color: #008080; font-weight: bold\">6</span>                 critical-pressure      Pc      MPa          <span style=\"color: #008080; text-decoration-color: #008080; font-weight: bold\">1</span>   <span style=\"color: #008080; text-decoration-color: #008080; font-weight: bold\">7</span>\n",
       "<span style=\"color: #008080; text-decoration-color: #008080; font-weight: bold\">7</span>             critical-molar-volume      Vc  m3/kmol          <span style=\"color: #008080; text-decoration-color: #008080; font-weight: bold\">1</span>   <span style=\"color: #008080; text-decoration-color: #008080; font-weight: bold\">8</span>\n",
       "<span style=\"color: #008080; text-decoration-color: #008080; font-weight: bold\">8</span>   critical-compressibility-factor      Zc     <span style=\"color: #800080; text-decoration-color: #800080; font-style: italic\">None</span>          <span style=\"color: #008080; text-decoration-color: #008080; font-weight: bold\">1</span>   <span style=\"color: #008080; text-decoration-color: #008080; font-weight: bold\">9</span>\n",
       "<span style=\"color: #008080; text-decoration-color: #008080; font-weight: bold\">9</span>                   acentric-factor    AcFa     <span style=\"color: #800080; text-decoration-color: #800080; font-style: italic\">None</span>          <span style=\"color: #008080; text-decoration-color: #008080; font-weight: bold\">1</span>  <span style=\"color: #008080; text-decoration-color: #008080; font-weight: bold\">10</span>\n",
       "<span style=\"color: #008080; text-decoration-color: #008080; font-weight: bold\">10</span>            enthalpy-of-formation    EnFo   kJ/mol          <span style=\"color: #008080; text-decoration-color: #008080; font-weight: bold\">1</span>  <span style=\"color: #008080; text-decoration-color: #008080; font-weight: bold\">11</span>\n",
       "<span style=\"color: #008080; text-decoration-color: #008080; font-weight: bold\">11</span>        gibbs-energy-of-formation  GiEnFo   kJ/mol          <span style=\"color: #008080; text-decoration-color: #008080; font-weight: bold\">1</span>  <span style=\"color: #008080; text-decoration-color: #008080; font-weight: bold\">12</span>\n",
       "</pre>\n"
      ],
      "text/plain": [
       "                            COLUMNS  SYMBOL     UNIT CONVERSION  ID\n",
       "\u001b[1;36m0\u001b[0m                               No.    \u001b[3;35mNone\u001b[0m     \u001b[3;35mNone\u001b[0m       \u001b[3;35mNone\u001b[0m   \u001b[1;36m1\u001b[0m\n",
       "\u001b[1;36m1\u001b[0m                              Name    \u001b[3;35mNone\u001b[0m     \u001b[3;35mNone\u001b[0m       \u001b[3;35mNone\u001b[0m   \u001b[1;36m2\u001b[0m\n",
       "\u001b[1;36m2\u001b[0m                           Formula    \u001b[3;35mNone\u001b[0m     \u001b[3;35mNone\u001b[0m       \u001b[3;35mNone\u001b[0m   \u001b[1;36m3\u001b[0m\n",
       "\u001b[1;36m3\u001b[0m                             State    \u001b[3;35mNone\u001b[0m     \u001b[3;35mNone\u001b[0m       \u001b[3;35mNone\u001b[0m   \u001b[1;36m4\u001b[0m\n",
       "\u001b[1;36m4\u001b[0m                  molecular-weight      MW    g/mol          \u001b[1;36m1\u001b[0m   \u001b[1;36m5\u001b[0m\n",
       "\u001b[1;36m5\u001b[0m              critical-temperature      Tc        K          \u001b[1;36m1\u001b[0m   \u001b[1;36m6\u001b[0m\n",
       "\u001b[1;36m6\u001b[0m                 critical-pressure      Pc      MPa          \u001b[1;36m1\u001b[0m   \u001b[1;36m7\u001b[0m\n",
       "\u001b[1;36m7\u001b[0m             critical-molar-volume      Vc  m3/kmol          \u001b[1;36m1\u001b[0m   \u001b[1;36m8\u001b[0m\n",
       "\u001b[1;36m8\u001b[0m   critical-compressibility-factor      Zc     \u001b[3;35mNone\u001b[0m          \u001b[1;36m1\u001b[0m   \u001b[1;36m9\u001b[0m\n",
       "\u001b[1;36m9\u001b[0m                   acentric-factor    AcFa     \u001b[3;35mNone\u001b[0m          \u001b[1;36m1\u001b[0m  \u001b[1;36m10\u001b[0m\n",
       "\u001b[1;36m10\u001b[0m            enthalpy-of-formation    EnFo   kJ/mol          \u001b[1;36m1\u001b[0m  \u001b[1;36m11\u001b[0m\n",
       "\u001b[1;36m11\u001b[0m        gibbs-energy-of-formation  GiEnFo   kJ/mol          \u001b[1;36m1\u001b[0m  \u001b[1;36m12\u001b[0m\n"
      ]
     },
     "metadata": {},
     "output_type": "display_data"
    }
   ],
   "source": [
    "print(data_table.data_structure())"
   ]
  },
  {
   "cell_type": "markdown",
   "id": "9a089ed8",
   "metadata": {},
   "source": [
    "# View Table Content in the Browser"
   ]
  },
  {
   "cell_type": "code",
   "execution_count": 7,
   "id": "1a336b84",
   "metadata": {},
   "outputs": [
    {
     "data": {
      "text/plain": [
       "'C:\\\\Users\\\\sinag\\\\AppData\\\\Local\\\\Temp\\\\tmpbh3uvooh.html'"
      ]
     },
     "execution_count": 7,
     "metadata": {},
     "output_type": "execute_result"
    }
   ],
   "source": [
    "tdb.table_view(\"CO2 Hydrogenation Reaction\", 2)"
   ]
  }
 ],
 "metadata": {
  "kernelspec": {
   "display_name": "venv (3.10.0)",
   "language": "python",
   "name": "python3"
  },
  "language_info": {
   "codemirror_mode": {
    "name": "ipython",
    "version": 3
   },
   "file_extension": ".py",
   "mimetype": "text/x-python",
   "name": "python",
   "nbconvert_exporter": "python",
   "pygments_lexer": "ipython3",
   "version": "3.10.0"
  }
 },
 "nbformat": 4,
 "nbformat_minor": 5
}
