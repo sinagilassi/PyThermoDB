{
 "cells": [
  {
   "cell_type": "markdown",
   "id": "56c1fc91",
   "metadata": {},
   "source": [
    "# Basic Usage"
   ]
  },
  {
   "cell_type": "markdown",
   "id": "bcead44a",
   "metadata": {},
   "source": [
    "# Import Libs"
   ]
  },
  {
   "cell_type": "code",
   "execution_count": 35,
   "id": "609e44cf",
   "metadata": {},
   "outputs": [],
   "source": [
    "import pyThermoDB as ptdb\n",
    "from rich import print"
   ]
  },
  {
   "cell_type": "code",
   "execution_count": 36,
   "id": "a930f671",
   "metadata": {},
   "outputs": [
    {
     "data": {
      "text/html": [
       "<pre style=\"white-space:pre;overflow-x:auto;line-height:normal;font-family:Menlo,'DejaVu Sans Mono',consolas,'Courier New',monospace\"><span style=\"color: #008080; text-decoration-color: #008080; font-weight: bold\">1.7</span>.<span style=\"color: #008080; text-decoration-color: #008080; font-weight: bold\">18</span>\n",
       "</pre>\n"
      ],
      "text/plain": [
       "\u001b[1;36m1.7\u001b[0m.\u001b[1;36m18\u001b[0m\n"
      ]
     },
     "metadata": {},
     "output_type": "display_data"
    }
   ],
   "source": [
    "# versions\n",
    "print(ptdb.__version__)"
   ]
  },
  {
   "cell_type": "markdown",
   "id": "21a261c8",
   "metadata": {},
   "source": [
    "# App Initializtion"
   ]
  },
  {
   "cell_type": "code",
   "execution_count": 37,
   "id": "b6a0deac",
   "metadata": {},
   "outputs": [],
   "source": [
    "tdb = ptdb.init()"
   ]
  },
  {
   "cell_type": "markdown",
   "id": "c57f1e8e",
   "metadata": {},
   "source": [
    "# Databook List"
   ]
  },
  {
   "cell_type": "code",
   "execution_count": 32,
   "id": "d274d77c",
   "metadata": {},
   "outputs": [
    {
     "data": {
      "text/html": [
       "<pre style=\"white-space:pre;overflow-x:auto;line-height:normal;font-family:Menlo,'DejaVu Sans Mono',consolas,'Courier New',monospace\">                                           Databooks   Id\n",
       "<span style=\"color: #008080; text-decoration-color: #008080; font-weight: bold\">0</span>               Perry's Chemical Engineers' Handbook  <span style=\"font-weight: bold\">[</span><span style=\"color: #008080; text-decoration-color: #008080; font-weight: bold\">1</span><span style=\"font-weight: bold\">]</span>\n",
       "<span style=\"color: #008080; text-decoration-color: #008080; font-weight: bold\">1</span>     Chemical Thermodynamics for Process Simulation  <span style=\"font-weight: bold\">[</span><span style=\"color: #008080; text-decoration-color: #008080; font-weight: bold\">2</span><span style=\"font-weight: bold\">]</span>\n",
       "<span style=\"color: #008080; text-decoration-color: #008080; font-weight: bold\">2</span>            Chemical and Engineering Thermodynamics  <span style=\"font-weight: bold\">[</span><span style=\"color: #008080; text-decoration-color: #008080; font-weight: bold\">3</span><span style=\"font-weight: bold\">]</span>\n",
       "<span style=\"color: #008080; text-decoration-color: #008080; font-weight: bold\">3</span>                         CO2 Hydrogenation Reaction  <span style=\"font-weight: bold\">[</span><span style=\"color: #008080; text-decoration-color: #008080; font-weight: bold\">4</span><span style=\"font-weight: bold\">]</span>\n",
       "<span style=\"color: #008080; text-decoration-color: #008080; font-weight: bold\">4</span>  Introduction to Chemical Engineering Thermodyn<span style=\"color: #808000; text-decoration-color: #808000\">...</span>  <span style=\"font-weight: bold\">[</span><span style=\"color: #008080; text-decoration-color: #008080; font-weight: bold\">5</span><span style=\"font-weight: bold\">]</span>\n",
       "<span style=\"color: #008080; text-decoration-color: #008080; font-weight: bold\">5</span>                    Properties of Gases and Liquids  <span style=\"font-weight: bold\">[</span><span style=\"color: #008080; text-decoration-color: #008080; font-weight: bold\">6</span><span style=\"font-weight: bold\">]</span>\n",
       "</pre>\n"
      ],
      "text/plain": [
       "                                           Databooks   Id\n",
       "\u001b[1;36m0\u001b[0m               Perry's Chemical Engineers' Handbook  \u001b[1m[\u001b[0m\u001b[1;36m1\u001b[0m\u001b[1m]\u001b[0m\n",
       "\u001b[1;36m1\u001b[0m     Chemical Thermodynamics for Process Simulation  \u001b[1m[\u001b[0m\u001b[1;36m2\u001b[0m\u001b[1m]\u001b[0m\n",
       "\u001b[1;36m2\u001b[0m            Chemical and Engineering Thermodynamics  \u001b[1m[\u001b[0m\u001b[1;36m3\u001b[0m\u001b[1m]\u001b[0m\n",
       "\u001b[1;36m3\u001b[0m                         CO2 Hydrogenation Reaction  \u001b[1m[\u001b[0m\u001b[1;36m4\u001b[0m\u001b[1m]\u001b[0m\n",
       "\u001b[1;36m4\u001b[0m  Introduction to Chemical Engineering Thermodyn\u001b[33m...\u001b[0m  \u001b[1m[\u001b[0m\u001b[1;36m5\u001b[0m\u001b[1m]\u001b[0m\n",
       "\u001b[1;36m5\u001b[0m                    Properties of Gases and Liquids  \u001b[1m[\u001b[0m\u001b[1;36m6\u001b[0m\u001b[1m]\u001b[0m\n"
      ]
     },
     "metadata": {},
     "output_type": "display_data"
    }
   ],
   "source": [
    "db_list = tdb.list_databooks()\n",
    "print(db_list)"
   ]
  },
  {
   "cell_type": "markdown",
   "id": "43d502e2",
   "metadata": {},
   "source": [
    "# Table List"
   ]
  },
  {
   "cell_type": "code",
   "execution_count": 33,
   "id": "7a1e2a7b",
   "metadata": {},
   "outputs": [
    {
     "data": {
      "text/html": [
       "<pre style=\"white-space:pre;overflow-x:auto;line-height:normal;font-family:Menlo,'DejaVu Sans Mono',consolas,'Courier New',monospace\"><span style=\"font-weight: bold\">{</span>\n",
       "    <span style=\"color: #008000; text-decoration-color: #008000\">\"table-1\"</span>: <span style=\"color: #008000; text-decoration-color: #008000\">\"TABLE 2-8 Vapor Pressure of Inorganic and Organic Liquids\"</span>,\n",
       "    <span style=\"color: #008000; text-decoration-color: #008000\">\"table-2\"</span>: <span style=\"color: #008000; text-decoration-color: #008000\">\"TABLE 2-179 Enthalpies and Gibbs Energies of Formation, Entropies, and Net Enthalpies of </span>\n",
       "<span style=\"color: #008000; text-decoration-color: #008000\">Combustion\"</span>,\n",
       "    <span style=\"color: #008000; text-decoration-color: #008000\">\"table-3\"</span>: <span style=\"color: #008000; text-decoration-color: #008000\">\"TABLE 2-141 Critical Constants and Acentric Factors of Inorganic and Organic Compounds\"</span>,\n",
       "    <span style=\"color: #008000; text-decoration-color: #008000\">\"table-4\"</span>: <span style=\"color: #008000; text-decoration-color: #008000\">\"TABLE 2-153 Heat Capacities of Inorganic and Organic Liquids\"</span>,\n",
       "    <span style=\"color: #008000; text-decoration-color: #008000\">\"table-5\"</span>: <span style=\"color: #008000; text-decoration-color: #008000\">\"TABLE 2-155 Heat Capacity at Constant Pressure of Inorganic and Organic Compounds in the Ideal Gas\"</span>\n",
       "<span style=\"font-weight: bold\">}</span>\n",
       "</pre>\n"
      ],
      "text/plain": [
       "\u001b[1m{\u001b[0m\n",
       "    \u001b[32m\"table-1\"\u001b[0m: \u001b[32m\"TABLE 2-8 Vapor Pressure of Inorganic and Organic Liquids\"\u001b[0m,\n",
       "    \u001b[32m\"table-2\"\u001b[0m: \u001b[32m\"TABLE 2-179 Enthalpies and Gibbs Energies of Formation, Entropies, and Net Enthalpies of \u001b[0m\n",
       "\u001b[32mCombustion\"\u001b[0m,\n",
       "    \u001b[32m\"table-3\"\u001b[0m: \u001b[32m\"TABLE 2-141 Critical Constants and Acentric Factors of Inorganic and Organic Compounds\"\u001b[0m,\n",
       "    \u001b[32m\"table-4\"\u001b[0m: \u001b[32m\"TABLE 2-153 Heat Capacities of Inorganic and Organic Liquids\"\u001b[0m,\n",
       "    \u001b[32m\"table-5\"\u001b[0m: \u001b[32m\"TABLE 2-155 Heat Capacity at Constant Pressure of Inorganic and Organic Compounds in the Ideal Gas\"\u001b[0m\n",
       "\u001b[1m}\u001b[0m\n"
      ]
     },
     "metadata": {},
     "output_type": "display_data"
    }
   ],
   "source": [
    "tb_lists = tdb.list_tables(\"Perry's Chemical Engineers' Handbook\", res_format='json')\n",
    "print(tb_lists)"
   ]
  },
  {
   "cell_type": "markdown",
   "id": "45d80642",
   "metadata": {},
   "source": [
    "# Table Info"
   ]
  },
  {
   "cell_type": "code",
   "execution_count": 34,
   "id": "c0c8b13c",
   "metadata": {},
   "outputs": [
    {
     "data": {
      "text/html": [
       "<pre style=\"white-space:pre;overflow-x:auto;line-height:normal;font-family:Menlo,'DejaVu Sans Mono',consolas,'Courier New',monospace\"><span style=\"font-weight: bold\">{</span>\n",
       "    <span style=\"color: #008000; text-decoration-color: #008000\">'table_id'</span>: <span style=\"color: #008080; text-decoration-color: #008080; font-weight: bold\">2</span>,\n",
       "    <span style=\"color: #008000; text-decoration-color: #008000\">'table'</span>: <span style=\"color: #008000; text-decoration-color: #008000\">'TABLE 2-179 Enthalpies and Gibbs Energies of Formation, Entropies, and Net Enthalpies of Combustion'</span>,\n",
       "    <span style=\"color: #008000; text-decoration-color: #008000\">'description'</span>: <span style=\"color: #008000; text-decoration-color: #008000\">'This table provides the ideal gas enthalpies of formation (EnFo_IG) in J/kmol, ideal gas Gibbs </span>\n",
       "<span style=\"color: #008000; text-decoration-color: #008000\">energies of formation (GiEnFo_IG) in J/kmol, entropies (Ent_IG) in J/kmol.K, and standard net enthalpies of </span>\n",
       "<span style=\"color: #008000; text-decoration-color: #008000\">combustion (EnCo_STD) in J/kmol.'</span>,\n",
       "    <span style=\"color: #008000; text-decoration-color: #008000\">'equations'</span>: <span style=\"color: #800080; text-decoration-color: #800080; font-style: italic\">None</span>,\n",
       "    <span style=\"color: #008000; text-decoration-color: #008000\">'data'</span>: <span style=\"font-weight: bold\">{</span>\n",
       "        <span style=\"color: #008000; text-decoration-color: #008000\">'COLUMNS'</span>: <span style=\"font-weight: bold\">[</span>\n",
       "            <span style=\"color: #008000; text-decoration-color: #008000\">'no.'</span>,\n",
       "            <span style=\"color: #008000; text-decoration-color: #008000\">'Name'</span>,\n",
       "            <span style=\"color: #008000; text-decoration-color: #008000\">'Formula'</span>,\n",
       "            <span style=\"color: #008000; text-decoration-color: #008000\">'CAS no'</span>,\n",
       "            <span style=\"color: #008000; text-decoration-color: #008000\">'Mol wt'</span>,\n",
       "            <span style=\"color: #008000; text-decoration-color: #008000\">'ideal-gas-enthalpy-of-formation'</span>,\n",
       "            <span style=\"color: #008000; text-decoration-color: #008000\">'ideal-gas-Gibbs-energy-of-formation'</span>,\n",
       "            <span style=\"color: #008000; text-decoration-color: #008000\">'ideal-gas-entropy'</span>,\n",
       "            <span style=\"color: #008000; text-decoration-color: #008000\">'standard-net-enthalpy-of-combustion'</span>\n",
       "        <span style=\"font-weight: bold\">]</span>,\n",
       "        <span style=\"color: #008000; text-decoration-color: #008000\">'SYMBOL'</span>: <span style=\"font-weight: bold\">[</span><span style=\"color: #008000; text-decoration-color: #008000\">'None'</span>, <span style=\"color: #008000; text-decoration-color: #008000\">'None'</span>, <span style=\"color: #008000; text-decoration-color: #008000\">'None'</span>, <span style=\"color: #008000; text-decoration-color: #008000\">'None'</span>, <span style=\"color: #008000; text-decoration-color: #008000\">'MW'</span>, <span style=\"color: #008000; text-decoration-color: #008000\">'EnFo_IG'</span>, <span style=\"color: #008000; text-decoration-color: #008000\">'GiEnFo_IG'</span>, <span style=\"color: #008000; text-decoration-color: #008000\">'Ent_IG'</span>, <span style=\"color: #008000; text-decoration-color: #008000\">'EnCo_STD'</span><span style=\"font-weight: bold\">]</span>,\n",
       "        <span style=\"color: #008000; text-decoration-color: #008000\">'UNIT'</span>: <span style=\"font-weight: bold\">[</span><span style=\"color: #008000; text-decoration-color: #008000\">'None'</span>, <span style=\"color: #008000; text-decoration-color: #008000\">'None'</span>, <span style=\"color: #008000; text-decoration-color: #008000\">'None'</span>, <span style=\"color: #008000; text-decoration-color: #008000\">'None'</span>, <span style=\"color: #008000; text-decoration-color: #008000\">'K'</span>, <span style=\"color: #008000; text-decoration-color: #008000\">'J/kmol'</span>, <span style=\"color: #008000; text-decoration-color: #008000\">'J/kmol'</span>, <span style=\"color: #008000; text-decoration-color: #008000\">'J/kmol.K'</span>, <span style=\"color: #008000; text-decoration-color: #008000\">'J/kmol'</span><span style=\"font-weight: bold\">]</span>,\n",
       "        <span style=\"color: #008000; text-decoration-color: #008000\">'CONVERSION'</span>: <span style=\"font-weight: bold\">[</span><span style=\"color: #008000; text-decoration-color: #008000\">'None'</span>, <span style=\"color: #008000; text-decoration-color: #008000\">'None'</span>, <span style=\"color: #008000; text-decoration-color: #008000\">'None'</span>, <span style=\"color: #008000; text-decoration-color: #008000\">'None'</span>, <span style=\"color: #008000; text-decoration-color: #008000\">'None'</span>, <span style=\"color: #008000; text-decoration-color: #008000\">'1E-07'</span>, <span style=\"color: #008000; text-decoration-color: #008000\">'1E-07'</span>, <span style=\"color: #008000; text-decoration-color: #008000\">'1E-05'</span>, <span style=\"color: #008000; text-decoration-color: #008000\">'1E-09'</span><span style=\"font-weight: bold\">]</span>\n",
       "    <span style=\"font-weight: bold\">}</span>,\n",
       "    <span style=\"color: #008000; text-decoration-color: #008000\">'matrix_equations'</span>: <span style=\"color: #800080; text-decoration-color: #800080; font-style: italic\">None</span>,\n",
       "    <span style=\"color: #008000; text-decoration-color: #008000\">'matrix_data'</span>: <span style=\"color: #800080; text-decoration-color: #800080; font-style: italic\">None</span>\n",
       "<span style=\"font-weight: bold\">}</span>\n",
       "</pre>\n"
      ],
      "text/plain": [
       "\u001b[1m{\u001b[0m\n",
       "    \u001b[32m'table_id'\u001b[0m: \u001b[1;36m2\u001b[0m,\n",
       "    \u001b[32m'table'\u001b[0m: \u001b[32m'TABLE 2-179 Enthalpies and Gibbs Energies of Formation, Entropies, and Net Enthalpies of Combustion'\u001b[0m,\n",
       "    \u001b[32m'description'\u001b[0m: \u001b[32m'This table provides the ideal gas enthalpies of formation \u001b[0m\u001b[32m(\u001b[0m\u001b[32mEnFo_IG\u001b[0m\u001b[32m)\u001b[0m\u001b[32m in J/kmol, ideal gas Gibbs \u001b[0m\n",
       "\u001b[32menergies of formation \u001b[0m\u001b[32m(\u001b[0m\u001b[32mGiEnFo_IG\u001b[0m\u001b[32m)\u001b[0m\u001b[32m in J/kmol, entropies \u001b[0m\u001b[32m(\u001b[0m\u001b[32mEnt_IG\u001b[0m\u001b[32m)\u001b[0m\u001b[32m in J/kmol.K, and standard net enthalpies of \u001b[0m\n",
       "\u001b[32mcombustion \u001b[0m\u001b[32m(\u001b[0m\u001b[32mEnCo_STD\u001b[0m\u001b[32m)\u001b[0m\u001b[32m in J/kmol.'\u001b[0m,\n",
       "    \u001b[32m'equations'\u001b[0m: \u001b[3;35mNone\u001b[0m,\n",
       "    \u001b[32m'data'\u001b[0m: \u001b[1m{\u001b[0m\n",
       "        \u001b[32m'COLUMNS'\u001b[0m: \u001b[1m[\u001b[0m\n",
       "            \u001b[32m'no.'\u001b[0m,\n",
       "            \u001b[32m'Name'\u001b[0m,\n",
       "            \u001b[32m'Formula'\u001b[0m,\n",
       "            \u001b[32m'CAS no'\u001b[0m,\n",
       "            \u001b[32m'Mol wt'\u001b[0m,\n",
       "            \u001b[32m'ideal-gas-enthalpy-of-formation'\u001b[0m,\n",
       "            \u001b[32m'ideal-gas-Gibbs-energy-of-formation'\u001b[0m,\n",
       "            \u001b[32m'ideal-gas-entropy'\u001b[0m,\n",
       "            \u001b[32m'standard-net-enthalpy-of-combustion'\u001b[0m\n",
       "        \u001b[1m]\u001b[0m,\n",
       "        \u001b[32m'SYMBOL'\u001b[0m: \u001b[1m[\u001b[0m\u001b[32m'None'\u001b[0m, \u001b[32m'None'\u001b[0m, \u001b[32m'None'\u001b[0m, \u001b[32m'None'\u001b[0m, \u001b[32m'MW'\u001b[0m, \u001b[32m'EnFo_IG'\u001b[0m, \u001b[32m'GiEnFo_IG'\u001b[0m, \u001b[32m'Ent_IG'\u001b[0m, \u001b[32m'EnCo_STD'\u001b[0m\u001b[1m]\u001b[0m,\n",
       "        \u001b[32m'UNIT'\u001b[0m: \u001b[1m[\u001b[0m\u001b[32m'None'\u001b[0m, \u001b[32m'None'\u001b[0m, \u001b[32m'None'\u001b[0m, \u001b[32m'None'\u001b[0m, \u001b[32m'K'\u001b[0m, \u001b[32m'J/kmol'\u001b[0m, \u001b[32m'J/kmol'\u001b[0m, \u001b[32m'J/kmol.K'\u001b[0m, \u001b[32m'J/kmol'\u001b[0m\u001b[1m]\u001b[0m,\n",
       "        \u001b[32m'CONVERSION'\u001b[0m: \u001b[1m[\u001b[0m\u001b[32m'None'\u001b[0m, \u001b[32m'None'\u001b[0m, \u001b[32m'None'\u001b[0m, \u001b[32m'None'\u001b[0m, \u001b[32m'None'\u001b[0m, \u001b[32m'1E-07'\u001b[0m, \u001b[32m'1E-07'\u001b[0m, \u001b[32m'1E-05'\u001b[0m, \u001b[32m'1E-09'\u001b[0m\u001b[1m]\u001b[0m\n",
       "    \u001b[1m}\u001b[0m,\n",
       "    \u001b[32m'matrix_equations'\u001b[0m: \u001b[3;35mNone\u001b[0m,\n",
       "    \u001b[32m'matrix_data'\u001b[0m: \u001b[3;35mNone\u001b[0m\n",
       "\u001b[1m}\u001b[0m\n"
      ]
     },
     "metadata": {},
     "output_type": "display_data"
    }
   ],
   "source": [
    "# select a table\n",
    "tb_select = tdb.select_table(1, 2)\n",
    "print(tb_select)"
   ]
  },
  {
   "cell_type": "code",
   "execution_count": 7,
   "id": "e46609ab",
   "metadata": {},
   "outputs": [
    {
     "data": {
      "text/html": [
       "<pre style=\"white-space:pre;overflow-x:auto;line-height:normal;font-family:Menlo,'DejaVu Sans Mono',consolas,'Courier New',monospace\"><span style=\"font-weight: bold\">{</span>\n",
       "    <span style=\"color: #008000; text-decoration-color: #008000\">'table_id'</span>: <span style=\"color: #008080; text-decoration-color: #008080; font-weight: bold\">2</span>,\n",
       "    <span style=\"color: #008000; text-decoration-color: #008000\">'table'</span>: <span style=\"color: #008000; text-decoration-color: #008000\">'TABLE 2-179 Enthalpies and Gibbs Energies of Formation, Entropies, and Net Enthalpies of Combustion'</span>,\n",
       "    <span style=\"color: #008000; text-decoration-color: #008000\">'description'</span>: <span style=\"color: #008000; text-decoration-color: #008000\">'This table provides the ideal gas enthalpies of formation (EnFo_IG) in J/kmol, ideal gas Gibbs </span>\n",
       "<span style=\"color: #008000; text-decoration-color: #008000\">energies of formation (GiEnFo_IG) in J/kmol, entropies (Ent_IG) in J/kmol.K, and standard net enthalpies of </span>\n",
       "<span style=\"color: #008000; text-decoration-color: #008000\">combustion (EnCo_STD) in J/kmol.'</span>,\n",
       "    <span style=\"color: #008000; text-decoration-color: #008000\">'equations'</span>: <span style=\"color: #800080; text-decoration-color: #800080; font-style: italic\">None</span>,\n",
       "    <span style=\"color: #008000; text-decoration-color: #008000\">'data'</span>: <span style=\"font-weight: bold\">{</span>\n",
       "        <span style=\"color: #008000; text-decoration-color: #008000\">'COLUMNS'</span>: <span style=\"font-weight: bold\">[</span>\n",
       "            <span style=\"color: #008000; text-decoration-color: #008000\">'no.'</span>,\n",
       "            <span style=\"color: #008000; text-decoration-color: #008000\">'Name'</span>,\n",
       "            <span style=\"color: #008000; text-decoration-color: #008000\">'Formula'</span>,\n",
       "            <span style=\"color: #008000; text-decoration-color: #008000\">'CAS no'</span>,\n",
       "            <span style=\"color: #008000; text-decoration-color: #008000\">'Mol wt'</span>,\n",
       "            <span style=\"color: #008000; text-decoration-color: #008000\">'ideal-gas-enthalpy-of-formation'</span>,\n",
       "            <span style=\"color: #008000; text-decoration-color: #008000\">'ideal-gas-Gibbs-energy-of-formation'</span>,\n",
       "            <span style=\"color: #008000; text-decoration-color: #008000\">'ideal-gas-entropy'</span>,\n",
       "            <span style=\"color: #008000; text-decoration-color: #008000\">'standard-net-enthalpy-of-combustion'</span>\n",
       "        <span style=\"font-weight: bold\">]</span>,\n",
       "        <span style=\"color: #008000; text-decoration-color: #008000\">'SYMBOL'</span>: <span style=\"font-weight: bold\">[</span><span style=\"color: #008000; text-decoration-color: #008000\">'None'</span>, <span style=\"color: #008000; text-decoration-color: #008000\">'None'</span>, <span style=\"color: #008000; text-decoration-color: #008000\">'None'</span>, <span style=\"color: #008000; text-decoration-color: #008000\">'None'</span>, <span style=\"color: #008000; text-decoration-color: #008000\">'MW'</span>, <span style=\"color: #008000; text-decoration-color: #008000\">'EnFo_IG'</span>, <span style=\"color: #008000; text-decoration-color: #008000\">'GiEnFo_IG'</span>, <span style=\"color: #008000; text-decoration-color: #008000\">'Ent_IG'</span>, <span style=\"color: #008000; text-decoration-color: #008000\">'EnCo_STD'</span><span style=\"font-weight: bold\">]</span>,\n",
       "        <span style=\"color: #008000; text-decoration-color: #008000\">'UNIT'</span>: <span style=\"font-weight: bold\">[</span><span style=\"color: #008000; text-decoration-color: #008000\">'None'</span>, <span style=\"color: #008000; text-decoration-color: #008000\">'None'</span>, <span style=\"color: #008000; text-decoration-color: #008000\">'None'</span>, <span style=\"color: #008000; text-decoration-color: #008000\">'None'</span>, <span style=\"color: #008000; text-decoration-color: #008000\">'K'</span>, <span style=\"color: #008000; text-decoration-color: #008000\">'J/kmol'</span>, <span style=\"color: #008000; text-decoration-color: #008000\">'J/kmol'</span>, <span style=\"color: #008000; text-decoration-color: #008000\">'J/kmol.K'</span>, <span style=\"color: #008000; text-decoration-color: #008000\">'J/kmol'</span><span style=\"font-weight: bold\">]</span>,\n",
       "        <span style=\"color: #008000; text-decoration-color: #008000\">'CONVERSION'</span>: <span style=\"font-weight: bold\">[</span><span style=\"color: #008000; text-decoration-color: #008000\">'None'</span>, <span style=\"color: #008000; text-decoration-color: #008000\">'None'</span>, <span style=\"color: #008000; text-decoration-color: #008000\">'None'</span>, <span style=\"color: #008000; text-decoration-color: #008000\">'None'</span>, <span style=\"color: #008000; text-decoration-color: #008000\">'None'</span>, <span style=\"color: #008000; text-decoration-color: #008000\">'1E-07'</span>, <span style=\"color: #008000; text-decoration-color: #008000\">'1E-07'</span>, <span style=\"color: #008000; text-decoration-color: #008000\">'1E-05'</span>, <span style=\"color: #008000; text-decoration-color: #008000\">'1E-09'</span><span style=\"font-weight: bold\">]</span>\n",
       "    <span style=\"font-weight: bold\">}</span>,\n",
       "    <span style=\"color: #008000; text-decoration-color: #008000\">'matrix_equations'</span>: <span style=\"color: #800080; text-decoration-color: #800080; font-style: italic\">None</span>,\n",
       "    <span style=\"color: #008000; text-decoration-color: #008000\">'matrix_data'</span>: <span style=\"color: #800080; text-decoration-color: #800080; font-style: italic\">None</span>\n",
       "<span style=\"font-weight: bold\">}</span>\n",
       "</pre>\n"
      ],
      "text/plain": [
       "\u001b[1m{\u001b[0m\n",
       "    \u001b[32m'table_id'\u001b[0m: \u001b[1;36m2\u001b[0m,\n",
       "    \u001b[32m'table'\u001b[0m: \u001b[32m'TABLE 2-179 Enthalpies and Gibbs Energies of Formation, Entropies, and Net Enthalpies of Combustion'\u001b[0m,\n",
       "    \u001b[32m'description'\u001b[0m: \u001b[32m'This table provides the ideal gas enthalpies of formation \u001b[0m\u001b[32m(\u001b[0m\u001b[32mEnFo_IG\u001b[0m\u001b[32m)\u001b[0m\u001b[32m in J/kmol, ideal gas Gibbs \u001b[0m\n",
       "\u001b[32menergies of formation \u001b[0m\u001b[32m(\u001b[0m\u001b[32mGiEnFo_IG\u001b[0m\u001b[32m)\u001b[0m\u001b[32m in J/kmol, entropies \u001b[0m\u001b[32m(\u001b[0m\u001b[32mEnt_IG\u001b[0m\u001b[32m)\u001b[0m\u001b[32m in J/kmol.K, and standard net enthalpies of \u001b[0m\n",
       "\u001b[32mcombustion \u001b[0m\u001b[32m(\u001b[0m\u001b[32mEnCo_STD\u001b[0m\u001b[32m)\u001b[0m\u001b[32m in J/kmol.'\u001b[0m,\n",
       "    \u001b[32m'equations'\u001b[0m: \u001b[3;35mNone\u001b[0m,\n",
       "    \u001b[32m'data'\u001b[0m: \u001b[1m{\u001b[0m\n",
       "        \u001b[32m'COLUMNS'\u001b[0m: \u001b[1m[\u001b[0m\n",
       "            \u001b[32m'no.'\u001b[0m,\n",
       "            \u001b[32m'Name'\u001b[0m,\n",
       "            \u001b[32m'Formula'\u001b[0m,\n",
       "            \u001b[32m'CAS no'\u001b[0m,\n",
       "            \u001b[32m'Mol wt'\u001b[0m,\n",
       "            \u001b[32m'ideal-gas-enthalpy-of-formation'\u001b[0m,\n",
       "            \u001b[32m'ideal-gas-Gibbs-energy-of-formation'\u001b[0m,\n",
       "            \u001b[32m'ideal-gas-entropy'\u001b[0m,\n",
       "            \u001b[32m'standard-net-enthalpy-of-combustion'\u001b[0m\n",
       "        \u001b[1m]\u001b[0m,\n",
       "        \u001b[32m'SYMBOL'\u001b[0m: \u001b[1m[\u001b[0m\u001b[32m'None'\u001b[0m, \u001b[32m'None'\u001b[0m, \u001b[32m'None'\u001b[0m, \u001b[32m'None'\u001b[0m, \u001b[32m'MW'\u001b[0m, \u001b[32m'EnFo_IG'\u001b[0m, \u001b[32m'GiEnFo_IG'\u001b[0m, \u001b[32m'Ent_IG'\u001b[0m, \u001b[32m'EnCo_STD'\u001b[0m\u001b[1m]\u001b[0m,\n",
       "        \u001b[32m'UNIT'\u001b[0m: \u001b[1m[\u001b[0m\u001b[32m'None'\u001b[0m, \u001b[32m'None'\u001b[0m, \u001b[32m'None'\u001b[0m, \u001b[32m'None'\u001b[0m, \u001b[32m'K'\u001b[0m, \u001b[32m'J/kmol'\u001b[0m, \u001b[32m'J/kmol'\u001b[0m, \u001b[32m'J/kmol.K'\u001b[0m, \u001b[32m'J/kmol'\u001b[0m\u001b[1m]\u001b[0m,\n",
       "        \u001b[32m'CONVERSION'\u001b[0m: \u001b[1m[\u001b[0m\u001b[32m'None'\u001b[0m, \u001b[32m'None'\u001b[0m, \u001b[32m'None'\u001b[0m, \u001b[32m'None'\u001b[0m, \u001b[32m'None'\u001b[0m, \u001b[32m'1E-07'\u001b[0m, \u001b[32m'1E-07'\u001b[0m, \u001b[32m'1E-05'\u001b[0m, \u001b[32m'1E-09'\u001b[0m\u001b[1m]\u001b[0m\n",
       "    \u001b[1m}\u001b[0m,\n",
       "    \u001b[32m'matrix_equations'\u001b[0m: \u001b[3;35mNone\u001b[0m,\n",
       "    \u001b[32m'matrix_data'\u001b[0m: \u001b[3;35mNone\u001b[0m\n",
       "\u001b[1m}\u001b[0m\n"
      ]
     },
     "metadata": {},
     "output_type": "display_data"
    }
   ],
   "source": [
    "tb_select = tdb.select_table(\n",
    "    1, 'TABLE 2-179 Enthalpies and Gibbs Energies of Formation, Entropies, and Net Enthalpies of Combustion')\n",
    "print(tb_select)"
   ]
  },
  {
   "cell_type": "code",
   "execution_count": 9,
   "id": "b773754b",
   "metadata": {},
   "outputs": [
    {
     "data": {
      "text/html": [
       "<pre style=\"white-space:pre;overflow-x:auto;line-height:normal;font-family:Menlo,'DejaVu Sans Mono',consolas,'Courier New',monospace\">                                          Table Name  Type  Equations  Data  \\\n",
       "<span style=\"color: #008080; text-decoration-color: #008080; font-weight: bold\">0</span>  TABLE <span style=\"color: #008080; text-decoration-color: #008080; font-weight: bold\">2</span>-<span style=\"color: #008080; text-decoration-color: #008080; font-weight: bold\">179</span> Enthalpies and Gibbs Energies of F<span style=\"color: #808000; text-decoration-color: #808000\">...</span>  Data          <span style=\"color: #008080; text-decoration-color: #008080; font-weight: bold\">0</span>     <span style=\"color: #008080; text-decoration-color: #008080; font-weight: bold\">1</span>   \n",
       "\n",
       "   Matrix-Equations  Matrix-Data  \n",
       "<span style=\"color: #008080; text-decoration-color: #008080; font-weight: bold\">0</span>                 <span style=\"color: #008080; text-decoration-color: #008080; font-weight: bold\">0</span>            <span style=\"color: #008080; text-decoration-color: #008080; font-weight: bold\">0</span>  \n",
       "</pre>\n"
      ],
      "text/plain": [
       "                                          Table Name  Type  Equations  Data  \\\n",
       "\u001b[1;36m0\u001b[0m  TABLE \u001b[1;36m2\u001b[0m-\u001b[1;36m179\u001b[0m Enthalpies and Gibbs Energies of F\u001b[33m...\u001b[0m  Data          \u001b[1;36m0\u001b[0m     \u001b[1;36m1\u001b[0m   \n",
       "\n",
       "   Matrix-Equations  Matrix-Data  \n",
       "\u001b[1;36m0\u001b[0m                 \u001b[1;36m0\u001b[0m            \u001b[1;36m0\u001b[0m  \n"
      ]
     },
     "metadata": {},
     "output_type": "display_data"
    }
   ],
   "source": [
    "# display a table\n",
    "tb_info = tdb.table_info(1, 2)\n",
    "print(tb_info)"
   ]
  },
  {
   "cell_type": "markdown",
   "id": "dd4b81cb",
   "metadata": {},
   "source": [
    "# Load Tables"
   ]
  },
  {
   "cell_type": "markdown",
   "id": "765a38bf",
   "metadata": {},
   "source": [
    "## Equation"
   ]
  },
  {
   "cell_type": "code",
   "execution_count": 13,
   "id": "82fc641d",
   "metadata": {},
   "outputs": [
    {
     "data": {
      "text/html": [
       "<pre style=\"white-space:pre;overflow-x:auto;line-height:normal;font-family:Menlo,'DejaVu Sans Mono',consolas,'Courier New',monospace\"><span style=\"font-weight: bold\">{</span>\n",
       "    <span style=\"color: #008000; text-decoration-color: #008000\">'id'</span>: <span style=\"color: #008080; text-decoration-color: #008080; font-weight: bold\">0</span>,\n",
       "    <span style=\"color: #008000; text-decoration-color: #008000\">'body'</span>: <span style=\"font-weight: bold\">[</span>\n",
       "        <span style=\"color: #008000; text-decoration-color: #008000\">\"parms['C1'] = parms['C1']/1\"</span>,\n",
       "        <span style=\"color: #008000; text-decoration-color: #008000\">\"parms['C2'] = parms['C2']/1\"</span>,\n",
       "        <span style=\"color: #008000; text-decoration-color: #008000\">\"parms['C3'] = parms['C3']/1\"</span>,\n",
       "        <span style=\"color: #008000; text-decoration-color: #008000\">\"parms['C4'] = parms['C4']/1\"</span>,\n",
       "        <span style=\"color: #008000; text-decoration-color: #008000\">\"parms['C5'] = parms['C5']/1\"</span>,\n",
       "        <span style=\"color: #008000; text-decoration-color: #008000\">\"res = parms['C1'] + parms['C2']*args['T'] + parms['C3']*(args['T']**2) + parms['C4']*(args['T']**3) + </span>\n",
       "<span style=\"color: #008000; text-decoration-color: #008000\">parms['C5']*(args['T']**4)\"</span>\n",
       "    <span style=\"font-weight: bold\">]</span>,\n",
       "    <span style=\"color: #008000; text-decoration-color: #008000\">'args'</span>: <span style=\"font-weight: bold\">{</span><span style=\"color: #008000; text-decoration-color: #008000\">'temperature'</span>: <span style=\"font-weight: bold\">{</span><span style=\"color: #008000; text-decoration-color: #008000\">'name'</span>: <span style=\"color: #008000; text-decoration-color: #008000\">'temperature'</span>, <span style=\"color: #008000; text-decoration-color: #008000\">'symbol'</span>: <span style=\"color: #008000; text-decoration-color: #008000\">'T'</span>, <span style=\"color: #008000; text-decoration-color: #008000\">'unit'</span>: <span style=\"color: #008000; text-decoration-color: #008000\">'K'</span><span style=\"font-weight: bold\">}}</span>,\n",
       "    <span style=\"color: #008000; text-decoration-color: #008000\">'parms'</span>: <span style=\"font-weight: bold\">{</span>\n",
       "        <span style=\"color: #008000; text-decoration-color: #008000\">'C1'</span>: <span style=\"font-weight: bold\">{</span><span style=\"color: #008000; text-decoration-color: #008000\">'name'</span>: <span style=\"color: #008000; text-decoration-color: #008000\">'C1'</span>, <span style=\"color: #008000; text-decoration-color: #008000\">'symbol'</span>: <span style=\"color: #008000; text-decoration-color: #008000\">'C1'</span>, <span style=\"color: #008000; text-decoration-color: #008000\">'unit'</span>: <span style=\"color: #008000; text-decoration-color: #008000\">'None'</span>, <span style=\"color: #008000; text-decoration-color: #008000\">'conversion'</span>: <span style=\"color: #008080; text-decoration-color: #008080; font-weight: bold\">1</span><span style=\"font-weight: bold\">}</span>,\n",
       "        <span style=\"color: #008000; text-decoration-color: #008000\">'C2'</span>: <span style=\"font-weight: bold\">{</span><span style=\"color: #008000; text-decoration-color: #008000\">'name'</span>: <span style=\"color: #008000; text-decoration-color: #008000\">'C2'</span>, <span style=\"color: #008000; text-decoration-color: #008000\">'symbol'</span>: <span style=\"color: #008000; text-decoration-color: #008000\">'C2'</span>, <span style=\"color: #008000; text-decoration-color: #008000\">'unit'</span>: <span style=\"color: #008000; text-decoration-color: #008000\">'None'</span>, <span style=\"color: #008000; text-decoration-color: #008000\">'conversion'</span>: <span style=\"color: #008080; text-decoration-color: #008080; font-weight: bold\">1</span><span style=\"font-weight: bold\">}</span>,\n",
       "        <span style=\"color: #008000; text-decoration-color: #008000\">'C3'</span>: <span style=\"font-weight: bold\">{</span><span style=\"color: #008000; text-decoration-color: #008000\">'name'</span>: <span style=\"color: #008000; text-decoration-color: #008000\">'C3'</span>, <span style=\"color: #008000; text-decoration-color: #008000\">'symbol'</span>: <span style=\"color: #008000; text-decoration-color: #008000\">'C3'</span>, <span style=\"color: #008000; text-decoration-color: #008000\">'unit'</span>: <span style=\"color: #008000; text-decoration-color: #008000\">'None'</span>, <span style=\"color: #008000; text-decoration-color: #008000\">'conversion'</span>: <span style=\"color: #008080; text-decoration-color: #008080; font-weight: bold\">1</span><span style=\"font-weight: bold\">}</span>,\n",
       "        <span style=\"color: #008000; text-decoration-color: #008000\">'C4'</span>: <span style=\"font-weight: bold\">{</span><span style=\"color: #008000; text-decoration-color: #008000\">'name'</span>: <span style=\"color: #008000; text-decoration-color: #008000\">'C4'</span>, <span style=\"color: #008000; text-decoration-color: #008000\">'symbol'</span>: <span style=\"color: #008000; text-decoration-color: #008000\">'C4'</span>, <span style=\"color: #008000; text-decoration-color: #008000\">'unit'</span>: <span style=\"color: #008000; text-decoration-color: #008000\">'None'</span>, <span style=\"color: #008000; text-decoration-color: #008000\">'conversion'</span>: <span style=\"color: #008080; text-decoration-color: #008080; font-weight: bold\">1</span><span style=\"font-weight: bold\">}</span>,\n",
       "        <span style=\"color: #008000; text-decoration-color: #008000\">'C5'</span>: <span style=\"font-weight: bold\">{</span><span style=\"color: #008000; text-decoration-color: #008000\">'name'</span>: <span style=\"color: #008000; text-decoration-color: #008000\">'C5'</span>, <span style=\"color: #008000; text-decoration-color: #008000\">'symbol'</span>: <span style=\"color: #008000; text-decoration-color: #008000\">'C5'</span>, <span style=\"color: #008000; text-decoration-color: #008000\">'unit'</span>: <span style=\"color: #008000; text-decoration-color: #008000\">'None'</span>, <span style=\"color: #008000; text-decoration-color: #008000\">'conversion'</span>: <span style=\"color: #008080; text-decoration-color: #008080; font-weight: bold\">1</span><span style=\"font-weight: bold\">}</span>\n",
       "    <span style=\"font-weight: bold\">}</span>,\n",
       "    <span style=\"color: #008000; text-decoration-color: #008000\">'return'</span>: <span style=\"font-weight: bold\">{</span><span style=\"color: #008000; text-decoration-color: #008000\">'heat_capacity'</span>: <span style=\"font-weight: bold\">{</span><span style=\"color: #008000; text-decoration-color: #008000\">'name'</span>: <span style=\"color: #008000; text-decoration-color: #008000\">'heat capacity'</span>, <span style=\"color: #008000; text-decoration-color: #008000\">'symbol'</span>: <span style=\"color: #008000; text-decoration-color: #008000\">'Cp_LIQ'</span>, <span style=\"color: #008000; text-decoration-color: #008000\">'unit'</span>: <span style=\"color: #008000; text-decoration-color: #008000\">'J/kmol.K'</span><span style=\"font-weight: bold\">}}</span>,\n",
       "    <span style=\"color: #008000; text-decoration-color: #008000\">'body_integral'</span>: <span style=\"font-weight: bold\">[</span>\n",
       "        <span style=\"color: #008000; text-decoration-color: #008000\">\"A1 = parms['C1']*args['T1']\"</span>,\n",
       "        <span style=\"color: #008000; text-decoration-color: #008000\">\"B1 = (parms['C2']/2)*(args['T1']**2)\"</span>,\n",
       "        <span style=\"color: #008000; text-decoration-color: #008000\">\"C1 = (parms['C3']/3)*(args['T1']**3)\"</span>,\n",
       "        <span style=\"color: #008000; text-decoration-color: #008000\">\"D1 = (parms['C4']/4)*(args['T1']**4)\"</span>,\n",
       "        <span style=\"color: #008000; text-decoration-color: #008000\">\"E1 = (parms['C5']/5)*(args['T1']**5)\"</span>,\n",
       "        <span style=\"color: #008000; text-decoration-color: #008000\">'res1 =  A1 + B1 + C1 + D1 + E1'</span>,\n",
       "        <span style=\"color: #008000; text-decoration-color: #008000\">\"A2 = parms['C1']*args['T2']\"</span>,\n",
       "        <span style=\"color: #008000; text-decoration-color: #008000\">\"B2 = (parms['C2']/2)*(args['T2']**2)\"</span>,\n",
       "        <span style=\"color: #008000; text-decoration-color: #008000\">\"C2 = (parms['C3']/3)*(args['T2']**3)\"</span>,\n",
       "        <span style=\"color: #008000; text-decoration-color: #008000\">\"D2 = (parms['C4']/4)*(args['T2']**4)\"</span>,\n",
       "        <span style=\"color: #008000; text-decoration-color: #008000\">\"E2 = (parms['C5']/5)*(args['T2']**5)\"</span>,\n",
       "        <span style=\"color: #008000; text-decoration-color: #008000\">'res2 =  A2 + B2 + C2 + D2 + E2'</span>,\n",
       "        <span style=\"color: #008000; text-decoration-color: #008000\">'res = res2 - res1'</span>\n",
       "    <span style=\"font-weight: bold\">]</span>,\n",
       "    <span style=\"color: #008000; text-decoration-color: #008000\">'body_first_derivative'</span>: <span style=\"font-weight: bold\">[</span>\n",
       "        <span style=\"color: #008000; text-decoration-color: #008000\">\"res = parms['C2'] + 2*parms['C3']*args['T'] + 3*parms['C4']*(args['T']**2) + 4*parms['C5']*(args['T']**3)\"</span>\n",
       "    <span style=\"font-weight: bold\">]</span>,\n",
       "    <span style=\"color: #008000; text-decoration-color: #008000\">'body_second_derivative'</span>: <span style=\"font-weight: bold\">[</span><span style=\"color: #008000; text-decoration-color: #008000\">\"res = 2*parms['C3'] + 6*parms['C4']*args['T'] + 12*parms['C5']*(args['T']**2)\"</span><span style=\"font-weight: bold\">]</span>,\n",
       "    <span style=\"color: #008000; text-decoration-color: #008000\">'custom_integral'</span>: <span style=\"color: #800080; text-decoration-color: #800080; font-style: italic\">None</span>\n",
       "<span style=\"font-weight: bold\">}</span>\n",
       "</pre>\n"
      ],
      "text/plain": [
       "\u001b[1m{\u001b[0m\n",
       "    \u001b[32m'id'\u001b[0m: \u001b[1;36m0\u001b[0m,\n",
       "    \u001b[32m'body'\u001b[0m: \u001b[1m[\u001b[0m\n",
       "        \u001b[32m\"parms\u001b[0m\u001b[32m[\u001b[0m\u001b[32m'C1'\u001b[0m\u001b[32m]\u001b[0m\u001b[32m = parms\u001b[0m\u001b[32m[\u001b[0m\u001b[32m'C1'\u001b[0m\u001b[32m]\u001b[0m\u001b[32m/1\"\u001b[0m,\n",
       "        \u001b[32m\"parms\u001b[0m\u001b[32m[\u001b[0m\u001b[32m'C2'\u001b[0m\u001b[32m]\u001b[0m\u001b[32m = parms\u001b[0m\u001b[32m[\u001b[0m\u001b[32m'C2'\u001b[0m\u001b[32m]\u001b[0m\u001b[32m/1\"\u001b[0m,\n",
       "        \u001b[32m\"parms\u001b[0m\u001b[32m[\u001b[0m\u001b[32m'C3'\u001b[0m\u001b[32m]\u001b[0m\u001b[32m = parms\u001b[0m\u001b[32m[\u001b[0m\u001b[32m'C3'\u001b[0m\u001b[32m]\u001b[0m\u001b[32m/1\"\u001b[0m,\n",
       "        \u001b[32m\"parms\u001b[0m\u001b[32m[\u001b[0m\u001b[32m'C4'\u001b[0m\u001b[32m]\u001b[0m\u001b[32m = parms\u001b[0m\u001b[32m[\u001b[0m\u001b[32m'C4'\u001b[0m\u001b[32m]\u001b[0m\u001b[32m/1\"\u001b[0m,\n",
       "        \u001b[32m\"parms\u001b[0m\u001b[32m[\u001b[0m\u001b[32m'C5'\u001b[0m\u001b[32m]\u001b[0m\u001b[32m = parms\u001b[0m\u001b[32m[\u001b[0m\u001b[32m'C5'\u001b[0m\u001b[32m]\u001b[0m\u001b[32m/1\"\u001b[0m,\n",
       "        \u001b[32m\"res = parms\u001b[0m\u001b[32m[\u001b[0m\u001b[32m'C1'\u001b[0m\u001b[32m]\u001b[0m\u001b[32m + parms\u001b[0m\u001b[32m[\u001b[0m\u001b[32m'C2'\u001b[0m\u001b[32m]\u001b[0m\u001b[32m*args\u001b[0m\u001b[32m[\u001b[0m\u001b[32m'T'\u001b[0m\u001b[32m]\u001b[0m\u001b[32m + parms\u001b[0m\u001b[32m[\u001b[0m\u001b[32m'C3'\u001b[0m\u001b[32m]\u001b[0m\u001b[32m*\u001b[0m\u001b[32m(\u001b[0m\u001b[32margs\u001b[0m\u001b[32m[\u001b[0m\u001b[32m'T'\u001b[0m\u001b[32m]\u001b[0m\u001b[32m**2\u001b[0m\u001b[32m)\u001b[0m\u001b[32m + parms\u001b[0m\u001b[32m[\u001b[0m\u001b[32m'C4'\u001b[0m\u001b[32m]\u001b[0m\u001b[32m*\u001b[0m\u001b[32m(\u001b[0m\u001b[32margs\u001b[0m\u001b[32m[\u001b[0m\u001b[32m'T'\u001b[0m\u001b[32m]\u001b[0m\u001b[32m**3\u001b[0m\u001b[32m)\u001b[0m\u001b[32m + \u001b[0m\n",
       "\u001b[32mparms\u001b[0m\u001b[32m[\u001b[0m\u001b[32m'C5'\u001b[0m\u001b[32m]\u001b[0m\u001b[32m*\u001b[0m\u001b[32m(\u001b[0m\u001b[32margs\u001b[0m\u001b[32m[\u001b[0m\u001b[32m'T'\u001b[0m\u001b[32m]\u001b[0m\u001b[32m**4\u001b[0m\u001b[32m)\u001b[0m\u001b[32m\"\u001b[0m\n",
       "    \u001b[1m]\u001b[0m,\n",
       "    \u001b[32m'args'\u001b[0m: \u001b[1m{\u001b[0m\u001b[32m'temperature'\u001b[0m: \u001b[1m{\u001b[0m\u001b[32m'name'\u001b[0m: \u001b[32m'temperature'\u001b[0m, \u001b[32m'symbol'\u001b[0m: \u001b[32m'T'\u001b[0m, \u001b[32m'unit'\u001b[0m: \u001b[32m'K'\u001b[0m\u001b[1m}\u001b[0m\u001b[1m}\u001b[0m,\n",
       "    \u001b[32m'parms'\u001b[0m: \u001b[1m{\u001b[0m\n",
       "        \u001b[32m'C1'\u001b[0m: \u001b[1m{\u001b[0m\u001b[32m'name'\u001b[0m: \u001b[32m'C1'\u001b[0m, \u001b[32m'symbol'\u001b[0m: \u001b[32m'C1'\u001b[0m, \u001b[32m'unit'\u001b[0m: \u001b[32m'None'\u001b[0m, \u001b[32m'conversion'\u001b[0m: \u001b[1;36m1\u001b[0m\u001b[1m}\u001b[0m,\n",
       "        \u001b[32m'C2'\u001b[0m: \u001b[1m{\u001b[0m\u001b[32m'name'\u001b[0m: \u001b[32m'C2'\u001b[0m, \u001b[32m'symbol'\u001b[0m: \u001b[32m'C2'\u001b[0m, \u001b[32m'unit'\u001b[0m: \u001b[32m'None'\u001b[0m, \u001b[32m'conversion'\u001b[0m: \u001b[1;36m1\u001b[0m\u001b[1m}\u001b[0m,\n",
       "        \u001b[32m'C3'\u001b[0m: \u001b[1m{\u001b[0m\u001b[32m'name'\u001b[0m: \u001b[32m'C3'\u001b[0m, \u001b[32m'symbol'\u001b[0m: \u001b[32m'C3'\u001b[0m, \u001b[32m'unit'\u001b[0m: \u001b[32m'None'\u001b[0m, \u001b[32m'conversion'\u001b[0m: \u001b[1;36m1\u001b[0m\u001b[1m}\u001b[0m,\n",
       "        \u001b[32m'C4'\u001b[0m: \u001b[1m{\u001b[0m\u001b[32m'name'\u001b[0m: \u001b[32m'C4'\u001b[0m, \u001b[32m'symbol'\u001b[0m: \u001b[32m'C4'\u001b[0m, \u001b[32m'unit'\u001b[0m: \u001b[32m'None'\u001b[0m, \u001b[32m'conversion'\u001b[0m: \u001b[1;36m1\u001b[0m\u001b[1m}\u001b[0m,\n",
       "        \u001b[32m'C5'\u001b[0m: \u001b[1m{\u001b[0m\u001b[32m'name'\u001b[0m: \u001b[32m'C5'\u001b[0m, \u001b[32m'symbol'\u001b[0m: \u001b[32m'C5'\u001b[0m, \u001b[32m'unit'\u001b[0m: \u001b[32m'None'\u001b[0m, \u001b[32m'conversion'\u001b[0m: \u001b[1;36m1\u001b[0m\u001b[1m}\u001b[0m\n",
       "    \u001b[1m}\u001b[0m,\n",
       "    \u001b[32m'return'\u001b[0m: \u001b[1m{\u001b[0m\u001b[32m'heat_capacity'\u001b[0m: \u001b[1m{\u001b[0m\u001b[32m'name'\u001b[0m: \u001b[32m'heat capacity'\u001b[0m, \u001b[32m'symbol'\u001b[0m: \u001b[32m'Cp_LIQ'\u001b[0m, \u001b[32m'unit'\u001b[0m: \u001b[32m'J/kmol.K'\u001b[0m\u001b[1m}\u001b[0m\u001b[1m}\u001b[0m,\n",
       "    \u001b[32m'body_integral'\u001b[0m: \u001b[1m[\u001b[0m\n",
       "        \u001b[32m\"A1 = parms\u001b[0m\u001b[32m[\u001b[0m\u001b[32m'C1'\u001b[0m\u001b[32m]\u001b[0m\u001b[32m*args\u001b[0m\u001b[32m[\u001b[0m\u001b[32m'T1'\u001b[0m\u001b[32m]\u001b[0m\u001b[32m\"\u001b[0m,\n",
       "        \u001b[32m\"B1 = \u001b[0m\u001b[32m(\u001b[0m\u001b[32mparms\u001b[0m\u001b[32m[\u001b[0m\u001b[32m'C2'\u001b[0m\u001b[32m]\u001b[0m\u001b[32m/2\u001b[0m\u001b[32m)\u001b[0m\u001b[32m*\u001b[0m\u001b[32m(\u001b[0m\u001b[32margs\u001b[0m\u001b[32m[\u001b[0m\u001b[32m'T1'\u001b[0m\u001b[32m]\u001b[0m\u001b[32m**2\u001b[0m\u001b[32m)\u001b[0m\u001b[32m\"\u001b[0m,\n",
       "        \u001b[32m\"C1 = \u001b[0m\u001b[32m(\u001b[0m\u001b[32mparms\u001b[0m\u001b[32m[\u001b[0m\u001b[32m'C3'\u001b[0m\u001b[32m]\u001b[0m\u001b[32m/3\u001b[0m\u001b[32m)\u001b[0m\u001b[32m*\u001b[0m\u001b[32m(\u001b[0m\u001b[32margs\u001b[0m\u001b[32m[\u001b[0m\u001b[32m'T1'\u001b[0m\u001b[32m]\u001b[0m\u001b[32m**3\u001b[0m\u001b[32m)\u001b[0m\u001b[32m\"\u001b[0m,\n",
       "        \u001b[32m\"D1 = \u001b[0m\u001b[32m(\u001b[0m\u001b[32mparms\u001b[0m\u001b[32m[\u001b[0m\u001b[32m'C4'\u001b[0m\u001b[32m]\u001b[0m\u001b[32m/4\u001b[0m\u001b[32m)\u001b[0m\u001b[32m*\u001b[0m\u001b[32m(\u001b[0m\u001b[32margs\u001b[0m\u001b[32m[\u001b[0m\u001b[32m'T1'\u001b[0m\u001b[32m]\u001b[0m\u001b[32m**4\u001b[0m\u001b[32m)\u001b[0m\u001b[32m\"\u001b[0m,\n",
       "        \u001b[32m\"E1 = \u001b[0m\u001b[32m(\u001b[0m\u001b[32mparms\u001b[0m\u001b[32m[\u001b[0m\u001b[32m'C5'\u001b[0m\u001b[32m]\u001b[0m\u001b[32m/5\u001b[0m\u001b[32m)\u001b[0m\u001b[32m*\u001b[0m\u001b[32m(\u001b[0m\u001b[32margs\u001b[0m\u001b[32m[\u001b[0m\u001b[32m'T1'\u001b[0m\u001b[32m]\u001b[0m\u001b[32m**5\u001b[0m\u001b[32m)\u001b[0m\u001b[32m\"\u001b[0m,\n",
       "        \u001b[32m'res1 =  A1 + B1 + C1 + D1 + E1'\u001b[0m,\n",
       "        \u001b[32m\"A2 = parms\u001b[0m\u001b[32m[\u001b[0m\u001b[32m'C1'\u001b[0m\u001b[32m]\u001b[0m\u001b[32m*args\u001b[0m\u001b[32m[\u001b[0m\u001b[32m'T2'\u001b[0m\u001b[32m]\u001b[0m\u001b[32m\"\u001b[0m,\n",
       "        \u001b[32m\"B2 = \u001b[0m\u001b[32m(\u001b[0m\u001b[32mparms\u001b[0m\u001b[32m[\u001b[0m\u001b[32m'C2'\u001b[0m\u001b[32m]\u001b[0m\u001b[32m/2\u001b[0m\u001b[32m)\u001b[0m\u001b[32m*\u001b[0m\u001b[32m(\u001b[0m\u001b[32margs\u001b[0m\u001b[32m[\u001b[0m\u001b[32m'T2'\u001b[0m\u001b[32m]\u001b[0m\u001b[32m**2\u001b[0m\u001b[32m)\u001b[0m\u001b[32m\"\u001b[0m,\n",
       "        \u001b[32m\"C2 = \u001b[0m\u001b[32m(\u001b[0m\u001b[32mparms\u001b[0m\u001b[32m[\u001b[0m\u001b[32m'C3'\u001b[0m\u001b[32m]\u001b[0m\u001b[32m/3\u001b[0m\u001b[32m)\u001b[0m\u001b[32m*\u001b[0m\u001b[32m(\u001b[0m\u001b[32margs\u001b[0m\u001b[32m[\u001b[0m\u001b[32m'T2'\u001b[0m\u001b[32m]\u001b[0m\u001b[32m**3\u001b[0m\u001b[32m)\u001b[0m\u001b[32m\"\u001b[0m,\n",
       "        \u001b[32m\"D2 = \u001b[0m\u001b[32m(\u001b[0m\u001b[32mparms\u001b[0m\u001b[32m[\u001b[0m\u001b[32m'C4'\u001b[0m\u001b[32m]\u001b[0m\u001b[32m/4\u001b[0m\u001b[32m)\u001b[0m\u001b[32m*\u001b[0m\u001b[32m(\u001b[0m\u001b[32margs\u001b[0m\u001b[32m[\u001b[0m\u001b[32m'T2'\u001b[0m\u001b[32m]\u001b[0m\u001b[32m**4\u001b[0m\u001b[32m)\u001b[0m\u001b[32m\"\u001b[0m,\n",
       "        \u001b[32m\"E2 = \u001b[0m\u001b[32m(\u001b[0m\u001b[32mparms\u001b[0m\u001b[32m[\u001b[0m\u001b[32m'C5'\u001b[0m\u001b[32m]\u001b[0m\u001b[32m/5\u001b[0m\u001b[32m)\u001b[0m\u001b[32m*\u001b[0m\u001b[32m(\u001b[0m\u001b[32margs\u001b[0m\u001b[32m[\u001b[0m\u001b[32m'T2'\u001b[0m\u001b[32m]\u001b[0m\u001b[32m**5\u001b[0m\u001b[32m)\u001b[0m\u001b[32m\"\u001b[0m,\n",
       "        \u001b[32m'res2 =  A2 + B2 + C2 + D2 + E2'\u001b[0m,\n",
       "        \u001b[32m'res = res2 - res1'\u001b[0m\n",
       "    \u001b[1m]\u001b[0m,\n",
       "    \u001b[32m'body_first_derivative'\u001b[0m: \u001b[1m[\u001b[0m\n",
       "        \u001b[32m\"res = parms\u001b[0m\u001b[32m[\u001b[0m\u001b[32m'C2'\u001b[0m\u001b[32m]\u001b[0m\u001b[32m + 2*parms\u001b[0m\u001b[32m[\u001b[0m\u001b[32m'C3'\u001b[0m\u001b[32m]\u001b[0m\u001b[32m*args\u001b[0m\u001b[32m[\u001b[0m\u001b[32m'T'\u001b[0m\u001b[32m]\u001b[0m\u001b[32m + 3*parms\u001b[0m\u001b[32m[\u001b[0m\u001b[32m'C4'\u001b[0m\u001b[32m]\u001b[0m\u001b[32m*\u001b[0m\u001b[32m(\u001b[0m\u001b[32margs\u001b[0m\u001b[32m[\u001b[0m\u001b[32m'T'\u001b[0m\u001b[32m]\u001b[0m\u001b[32m**2\u001b[0m\u001b[32m)\u001b[0m\u001b[32m + 4*parms\u001b[0m\u001b[32m[\u001b[0m\u001b[32m'C5'\u001b[0m\u001b[32m]\u001b[0m\u001b[32m*\u001b[0m\u001b[32m(\u001b[0m\u001b[32margs\u001b[0m\u001b[32m[\u001b[0m\u001b[32m'T'\u001b[0m\u001b[32m]\u001b[0m\u001b[32m**3\u001b[0m\u001b[32m)\u001b[0m\u001b[32m\"\u001b[0m\n",
       "    \u001b[1m]\u001b[0m,\n",
       "    \u001b[32m'body_second_derivative'\u001b[0m: \u001b[1m[\u001b[0m\u001b[32m\"res = 2*parms\u001b[0m\u001b[32m[\u001b[0m\u001b[32m'C3'\u001b[0m\u001b[32m]\u001b[0m\u001b[32m + 6*parms\u001b[0m\u001b[32m[\u001b[0m\u001b[32m'C4'\u001b[0m\u001b[32m]\u001b[0m\u001b[32m*args\u001b[0m\u001b[32m[\u001b[0m\u001b[32m'T'\u001b[0m\u001b[32m]\u001b[0m\u001b[32m + 12*parms\u001b[0m\u001b[32m[\u001b[0m\u001b[32m'C5'\u001b[0m\u001b[32m]\u001b[0m\u001b[32m*\u001b[0m\u001b[32m(\u001b[0m\u001b[32margs\u001b[0m\u001b[32m[\u001b[0m\u001b[32m'T'\u001b[0m\u001b[32m]\u001b[0m\u001b[32m**2\u001b[0m\u001b[32m)\u001b[0m\u001b[32m\"\u001b[0m\u001b[1m]\u001b[0m,\n",
       "    \u001b[32m'custom_integral'\u001b[0m: \u001b[3;35mNone\u001b[0m\n",
       "\u001b[1m}\u001b[0m\n"
      ]
     },
     "metadata": {},
     "output_type": "display_data"
    }
   ],
   "source": [
    "# load equation to check\n",
    "vapor_pressure_tb = tdb.equation_load(1, 4)\n",
    "print(vapor_pressure_tb.eq_structure(1))"
   ]
  },
  {
   "cell_type": "markdown",
   "id": "214987bc",
   "metadata": {},
   "source": [
    "## Data"
   ]
  },
  {
   "cell_type": "code",
   "execution_count": 12,
   "id": "4e6717db",
   "metadata": {},
   "outputs": [
    {
     "data": {
      "text/html": [
       "<pre style=\"white-space:pre;overflow-x:auto;line-height:normal;font-family:Menlo,'DejaVu Sans Mono',consolas,'Courier New',monospace\">                               COLUMNS     SYMBOL      UNIT CONVERSION  ID\n",
       "<span style=\"color: #008080; text-decoration-color: #008080; font-weight: bold\">0</span>                                  no.       <span style=\"color: #800080; text-decoration-color: #800080; font-style: italic\">None</span>      <span style=\"color: #800080; text-decoration-color: #800080; font-style: italic\">None</span>       <span style=\"color: #800080; text-decoration-color: #800080; font-style: italic\">None</span>   <span style=\"color: #008080; text-decoration-color: #008080; font-weight: bold\">1</span>\n",
       "<span style=\"color: #008080; text-decoration-color: #008080; font-weight: bold\">1</span>                                 Name       <span style=\"color: #800080; text-decoration-color: #800080; font-style: italic\">None</span>      <span style=\"color: #800080; text-decoration-color: #800080; font-style: italic\">None</span>       <span style=\"color: #800080; text-decoration-color: #800080; font-style: italic\">None</span>   <span style=\"color: #008080; text-decoration-color: #008080; font-weight: bold\">2</span>\n",
       "<span style=\"color: #008080; text-decoration-color: #008080; font-weight: bold\">2</span>                              Formula       <span style=\"color: #800080; text-decoration-color: #800080; font-style: italic\">None</span>      <span style=\"color: #800080; text-decoration-color: #800080; font-style: italic\">None</span>       <span style=\"color: #800080; text-decoration-color: #800080; font-style: italic\">None</span>   <span style=\"color: #008080; text-decoration-color: #008080; font-weight: bold\">3</span>\n",
       "<span style=\"color: #008080; text-decoration-color: #008080; font-weight: bold\">3</span>                               CAS no       <span style=\"color: #800080; text-decoration-color: #800080; font-style: italic\">None</span>      <span style=\"color: #800080; text-decoration-color: #800080; font-style: italic\">None</span>       <span style=\"color: #800080; text-decoration-color: #800080; font-style: italic\">None</span>   <span style=\"color: #008080; text-decoration-color: #008080; font-weight: bold\">4</span>\n",
       "<span style=\"color: #008080; text-decoration-color: #008080; font-weight: bold\">4</span>                               Mol wt         MW         K       <span style=\"color: #800080; text-decoration-color: #800080; font-style: italic\">None</span>   <span style=\"color: #008080; text-decoration-color: #008080; font-weight: bold\">5</span>\n",
       "<span style=\"color: #008080; text-decoration-color: #008080; font-weight: bold\">5</span>      ideal-gas-enthalpy-of-formation    EnFo_IG    J/kmol      1E-<span style=\"color: #008080; text-decoration-color: #008080; font-weight: bold\">07</span>   <span style=\"color: #008080; text-decoration-color: #008080; font-weight: bold\">6</span>\n",
       "<span style=\"color: #008080; text-decoration-color: #008080; font-weight: bold\">6</span>  ideal-gas-Gibbs-energy-of-formation  GiEnFo_IG    J/kmol      1E-<span style=\"color: #008080; text-decoration-color: #008080; font-weight: bold\">07</span>   <span style=\"color: #008080; text-decoration-color: #008080; font-weight: bold\">7</span>\n",
       "<span style=\"color: #008080; text-decoration-color: #008080; font-weight: bold\">7</span>                    ideal-gas-entropy     Ent_IG  J/kmol.K      1E-<span style=\"color: #008080; text-decoration-color: #008080; font-weight: bold\">05</span>   <span style=\"color: #008080; text-decoration-color: #008080; font-weight: bold\">8</span>\n",
       "<span style=\"color: #008080; text-decoration-color: #008080; font-weight: bold\">8</span>  standard-net-enthalpy-of-combustion   EnCo_STD    J/kmol      1E-<span style=\"color: #008080; text-decoration-color: #008080; font-weight: bold\">09</span>   <span style=\"color: #008080; text-decoration-color: #008080; font-weight: bold\">9</span>\n",
       "</pre>\n"
      ],
      "text/plain": [
       "                               COLUMNS     SYMBOL      UNIT CONVERSION  ID\n",
       "\u001b[1;36m0\u001b[0m                                  no.       \u001b[3;35mNone\u001b[0m      \u001b[3;35mNone\u001b[0m       \u001b[3;35mNone\u001b[0m   \u001b[1;36m1\u001b[0m\n",
       "\u001b[1;36m1\u001b[0m                                 Name       \u001b[3;35mNone\u001b[0m      \u001b[3;35mNone\u001b[0m       \u001b[3;35mNone\u001b[0m   \u001b[1;36m2\u001b[0m\n",
       "\u001b[1;36m2\u001b[0m                              Formula       \u001b[3;35mNone\u001b[0m      \u001b[3;35mNone\u001b[0m       \u001b[3;35mNone\u001b[0m   \u001b[1;36m3\u001b[0m\n",
       "\u001b[1;36m3\u001b[0m                               CAS no       \u001b[3;35mNone\u001b[0m      \u001b[3;35mNone\u001b[0m       \u001b[3;35mNone\u001b[0m   \u001b[1;36m4\u001b[0m\n",
       "\u001b[1;36m4\u001b[0m                               Mol wt         MW         K       \u001b[3;35mNone\u001b[0m   \u001b[1;36m5\u001b[0m\n",
       "\u001b[1;36m5\u001b[0m      ideal-gas-enthalpy-of-formation    EnFo_IG    J/kmol      1E-\u001b[1;36m07\u001b[0m   \u001b[1;36m6\u001b[0m\n",
       "\u001b[1;36m6\u001b[0m  ideal-gas-Gibbs-energy-of-formation  GiEnFo_IG    J/kmol      1E-\u001b[1;36m07\u001b[0m   \u001b[1;36m7\u001b[0m\n",
       "\u001b[1;36m7\u001b[0m                    ideal-gas-entropy     Ent_IG  J/kmol.K      1E-\u001b[1;36m05\u001b[0m   \u001b[1;36m8\u001b[0m\n",
       "\u001b[1;36m8\u001b[0m  standard-net-enthalpy-of-combustion   EnCo_STD    J/kmol      1E-\u001b[1;36m09\u001b[0m   \u001b[1;36m9\u001b[0m\n"
      ]
     },
     "metadata": {},
     "output_type": "display_data"
    }
   ],
   "source": [
    "# load data to check\n",
    "data_table = tdb.data_load(1, 2)\n",
    "print(data_table.data_structure())"
   ]
  },
  {
   "cell_type": "markdown",
   "id": "9a089ed8",
   "metadata": {},
   "source": [
    "# Check Component Availability in a Table"
   ]
  },
  {
   "cell_type": "code",
   "execution_count": 14,
   "id": "7582bd44",
   "metadata": {},
   "outputs": [],
   "source": [
    "# check component availability in the databook and table\n",
    "comp1 = \"carbon Dioxide\""
   ]
  },
  {
   "cell_type": "code",
   "execution_count": 15,
   "id": "6038a022",
   "metadata": {},
   "outputs": [
    {
     "data": {
      "text/html": [
       "<pre style=\"white-space:pre;overflow-x:auto;line-height:normal;font-family:Menlo,'DejaVu Sans Mono',consolas,'Courier New',monospace\"><span style=\"font-weight: bold\">{</span>\n",
       "    <span style=\"color: #008000; text-decoration-color: #008000\">\"databook_id\"</span>: <span style=\"color: #008080; text-decoration-color: #008080; font-weight: bold\">1</span>,\n",
       "    <span style=\"color: #008000; text-decoration-color: #008000\">\"table_id\"</span>: <span style=\"color: #008080; text-decoration-color: #008080; font-weight: bold\">4</span>,\n",
       "    <span style=\"color: #008000; text-decoration-color: #008000\">\"component_name\"</span>: <span style=\"color: #008000; text-decoration-color: #008000\">\"carbon Dioxide\"</span>,\n",
       "    <span style=\"color: #008000; text-decoration-color: #008000\">\"availability\"</span>: true\n",
       "<span style=\"font-weight: bold\">}</span>\n",
       "</pre>\n"
      ],
      "text/plain": [
       "\u001b[1m{\u001b[0m\n",
       "    \u001b[32m\"databook_id\"\u001b[0m: \u001b[1;36m1\u001b[0m,\n",
       "    \u001b[32m\"table_id\"\u001b[0m: \u001b[1;36m4\u001b[0m,\n",
       "    \u001b[32m\"component_name\"\u001b[0m: \u001b[32m\"carbon Dioxide\"\u001b[0m,\n",
       "    \u001b[32m\"availability\"\u001b[0m: true\n",
       "\u001b[1m}\u001b[0m\n"
      ]
     },
     "metadata": {},
     "output_type": "display_data"
    }
   ],
   "source": [
    "# check component\n",
    "CO2_check_availability = tdb.check_component(comp1,\n",
    "                                             \"Perry's Chemical Engineers' Handbook\",\n",
    "                                             \"TABLE 2-153 Heat Capacities of Inorganic and Organic Liquids\")\n",
    "print(CO2_check_availability)"
   ]
  },
  {
   "cell_type": "markdown",
   "id": "5adf2795",
   "metadata": {},
   "source": [
    "# Build Data"
   ]
  },
  {
   "cell_type": "code",
   "execution_count": 24,
   "id": "e2b20992",
   "metadata": {},
   "outputs": [],
   "source": [
    "# build data\n",
    "CO2_data = tdb.build_data(comp1, \"Chemical Thermodynamics for Process Simulation\",\n",
    "                          \"Table A.1 General data for selected compounds\")"
   ]
  },
  {
   "cell_type": "code",
   "execution_count": 27,
   "id": "222e7987",
   "metadata": {},
   "outputs": [],
   "source": [
    "# build data\n",
    "CO2_data = tdb.build_data(comp1, 1, 2)"
   ]
  },
  {
   "cell_type": "code",
   "execution_count": 29,
   "id": "03b62083",
   "metadata": {},
   "outputs": [
    {
     "data": {
      "text/html": [
       "<pre style=\"white-space:pre;overflow-x:auto;line-height:normal;font-family:Menlo,'DejaVu Sans Mono',consolas,'Courier New',monospace\">                               COLUMNS     SYMBOL      UNIT CONVERSION  ID\n",
       "<span style=\"color: #008080; text-decoration-color: #008080; font-weight: bold\">0</span>                                  no.       <span style=\"color: #800080; text-decoration-color: #800080; font-style: italic\">None</span>      <span style=\"color: #800080; text-decoration-color: #800080; font-style: italic\">None</span>       <span style=\"color: #800080; text-decoration-color: #800080; font-style: italic\">None</span>   <span style=\"color: #008080; text-decoration-color: #008080; font-weight: bold\">1</span>\n",
       "<span style=\"color: #008080; text-decoration-color: #008080; font-weight: bold\">1</span>                                 Name       <span style=\"color: #800080; text-decoration-color: #800080; font-style: italic\">None</span>      <span style=\"color: #800080; text-decoration-color: #800080; font-style: italic\">None</span>       <span style=\"color: #800080; text-decoration-color: #800080; font-style: italic\">None</span>   <span style=\"color: #008080; text-decoration-color: #008080; font-weight: bold\">2</span>\n",
       "<span style=\"color: #008080; text-decoration-color: #008080; font-weight: bold\">2</span>                              Formula       <span style=\"color: #800080; text-decoration-color: #800080; font-style: italic\">None</span>      <span style=\"color: #800080; text-decoration-color: #800080; font-style: italic\">None</span>       <span style=\"color: #800080; text-decoration-color: #800080; font-style: italic\">None</span>   <span style=\"color: #008080; text-decoration-color: #008080; font-weight: bold\">3</span>\n",
       "<span style=\"color: #008080; text-decoration-color: #008080; font-weight: bold\">3</span>                               CAS no       <span style=\"color: #800080; text-decoration-color: #800080; font-style: italic\">None</span>      <span style=\"color: #800080; text-decoration-color: #800080; font-style: italic\">None</span>       <span style=\"color: #800080; text-decoration-color: #800080; font-style: italic\">None</span>   <span style=\"color: #008080; text-decoration-color: #008080; font-weight: bold\">4</span>\n",
       "<span style=\"color: #008080; text-decoration-color: #008080; font-weight: bold\">4</span>                               Mol wt         MW         K       <span style=\"color: #800080; text-decoration-color: #800080; font-style: italic\">None</span>   <span style=\"color: #008080; text-decoration-color: #008080; font-weight: bold\">5</span>\n",
       "<span style=\"color: #008080; text-decoration-color: #008080; font-weight: bold\">5</span>      ideal-gas-enthalpy-of-formation    EnFo_IG    J/kmol      1E-<span style=\"color: #008080; text-decoration-color: #008080; font-weight: bold\">07</span>   <span style=\"color: #008080; text-decoration-color: #008080; font-weight: bold\">6</span>\n",
       "<span style=\"color: #008080; text-decoration-color: #008080; font-weight: bold\">6</span>  ideal-gas-Gibbs-energy-of-formation  GiEnFo_IG    J/kmol      1E-<span style=\"color: #008080; text-decoration-color: #008080; font-weight: bold\">07</span>   <span style=\"color: #008080; text-decoration-color: #008080; font-weight: bold\">7</span>\n",
       "<span style=\"color: #008080; text-decoration-color: #008080; font-weight: bold\">7</span>                    ideal-gas-entropy     Ent_IG  J/kmol.K      1E-<span style=\"color: #008080; text-decoration-color: #008080; font-weight: bold\">05</span>   <span style=\"color: #008080; text-decoration-color: #008080; font-weight: bold\">8</span>\n",
       "<span style=\"color: #008080; text-decoration-color: #008080; font-weight: bold\">8</span>  standard-net-enthalpy-of-combustion   EnCo_STD    J/kmol      1E-<span style=\"color: #008080; text-decoration-color: #008080; font-weight: bold\">09</span>   <span style=\"color: #008080; text-decoration-color: #008080; font-weight: bold\">9</span>\n",
       "</pre>\n"
      ],
      "text/plain": [
       "                               COLUMNS     SYMBOL      UNIT CONVERSION  ID\n",
       "\u001b[1;36m0\u001b[0m                                  no.       \u001b[3;35mNone\u001b[0m      \u001b[3;35mNone\u001b[0m       \u001b[3;35mNone\u001b[0m   \u001b[1;36m1\u001b[0m\n",
       "\u001b[1;36m1\u001b[0m                                 Name       \u001b[3;35mNone\u001b[0m      \u001b[3;35mNone\u001b[0m       \u001b[3;35mNone\u001b[0m   \u001b[1;36m2\u001b[0m\n",
       "\u001b[1;36m2\u001b[0m                              Formula       \u001b[3;35mNone\u001b[0m      \u001b[3;35mNone\u001b[0m       \u001b[3;35mNone\u001b[0m   \u001b[1;36m3\u001b[0m\n",
       "\u001b[1;36m3\u001b[0m                               CAS no       \u001b[3;35mNone\u001b[0m      \u001b[3;35mNone\u001b[0m       \u001b[3;35mNone\u001b[0m   \u001b[1;36m4\u001b[0m\n",
       "\u001b[1;36m4\u001b[0m                               Mol wt         MW         K       \u001b[3;35mNone\u001b[0m   \u001b[1;36m5\u001b[0m\n",
       "\u001b[1;36m5\u001b[0m      ideal-gas-enthalpy-of-formation    EnFo_IG    J/kmol      1E-\u001b[1;36m07\u001b[0m   \u001b[1;36m6\u001b[0m\n",
       "\u001b[1;36m6\u001b[0m  ideal-gas-Gibbs-energy-of-formation  GiEnFo_IG    J/kmol      1E-\u001b[1;36m07\u001b[0m   \u001b[1;36m7\u001b[0m\n",
       "\u001b[1;36m7\u001b[0m                    ideal-gas-entropy     Ent_IG  J/kmol.K      1E-\u001b[1;36m05\u001b[0m   \u001b[1;36m8\u001b[0m\n",
       "\u001b[1;36m8\u001b[0m  standard-net-enthalpy-of-combustion   EnCo_STD    J/kmol      1E-\u001b[1;36m09\u001b[0m   \u001b[1;36m9\u001b[0m\n"
      ]
     },
     "metadata": {},
     "output_type": "display_data"
    },
    {
     "data": {
      "text/html": [
       "<pre style=\"white-space:pre;overflow-x:auto;line-height:normal;font-family:Menlo,'DejaVu Sans Mono',consolas,'Courier New',monospace\"><span style=\"font-weight: bold\">{</span>\n",
       "    <span style=\"color: #008000; text-decoration-color: #008000\">'value'</span>: <span style=\"color: #008000; text-decoration-color: #008000\">'44.01'</span>,\n",
       "    <span style=\"color: #008000; text-decoration-color: #008000\">'unit'</span>: <span style=\"color: #008000; text-decoration-color: #008000\">'-'</span>,\n",
       "    <span style=\"color: #008000; text-decoration-color: #008000\">'symbol'</span>: <span style=\"color: #008000; text-decoration-color: #008000\">'MW'</span>,\n",
       "    <span style=\"color: #008000; text-decoration-color: #008000\">'property_name'</span>: <span style=\"color: #008000; text-decoration-color: #008000\">'Mol. wt.'</span>,\n",
       "    <span style=\"color: #008000; text-decoration-color: #008000\">'message'</span>: <span style=\"color: #008000; text-decoration-color: #008000\">'No message'</span>,\n",
       "    <span style=\"color: #008000; text-decoration-color: #008000\">'databook_name'</span>: <span style=\"color: #008000; text-decoration-color: #008000\">\"Perry's Chemical Engineers' Handbook\"</span>,\n",
       "    <span style=\"color: #008000; text-decoration-color: #008000\">'table_name'</span>: <span style=\"color: #008000; text-decoration-color: #008000\">'TABLE 2-179 Enthalpies and Gibbs Energies of Formation, Entropies, and Net Enthalpies of </span>\n",
       "<span style=\"color: #008000; text-decoration-color: #008000\">Combustion'</span>\n",
       "<span style=\"font-weight: bold\">}</span>\n",
       "</pre>\n"
      ],
      "text/plain": [
       "\u001b[1m{\u001b[0m\n",
       "    \u001b[32m'value'\u001b[0m: \u001b[32m'44.01'\u001b[0m,\n",
       "    \u001b[32m'unit'\u001b[0m: \u001b[32m'-'\u001b[0m,\n",
       "    \u001b[32m'symbol'\u001b[0m: \u001b[32m'MW'\u001b[0m,\n",
       "    \u001b[32m'property_name'\u001b[0m: \u001b[32m'Mol. wt.'\u001b[0m,\n",
       "    \u001b[32m'message'\u001b[0m: \u001b[32m'No message'\u001b[0m,\n",
       "    \u001b[32m'databook_name'\u001b[0m: \u001b[32m\"Perry's Chemical Engineers' Handbook\"\u001b[0m,\n",
       "    \u001b[32m'table_name'\u001b[0m: \u001b[32m'TABLE 2-179 Enthalpies and Gibbs Energies of Formation, Entropies, and Net Enthalpies of \u001b[0m\n",
       "\u001b[32mCombustion'\u001b[0m\n",
       "\u001b[1m}\u001b[0m\n"
      ]
     },
     "metadata": {},
     "output_type": "display_data"
    },
    {
     "data": {
      "text/html": [
       "<pre style=\"white-space:pre;overflow-x:auto;line-height:normal;font-family:Menlo,'DejaVu Sans Mono',consolas,'Courier New',monospace\"><span style=\"font-weight: bold\">{</span>\n",
       "    <span style=\"color: #008000; text-decoration-color: #008000\">'value'</span>: <span style=\"color: #008000; text-decoration-color: #008000\">'44.01'</span>,\n",
       "    <span style=\"color: #008000; text-decoration-color: #008000\">'unit'</span>: <span style=\"color: #008000; text-decoration-color: #008000\">'-'</span>,\n",
       "    <span style=\"color: #008000; text-decoration-color: #008000\">'symbol'</span>: <span style=\"color: #008000; text-decoration-color: #008000\">'MW'</span>,\n",
       "    <span style=\"color: #008000; text-decoration-color: #008000\">'property_name'</span>: <span style=\"color: #008000; text-decoration-color: #008000\">'Mol. wt.'</span>,\n",
       "    <span style=\"color: #008000; text-decoration-color: #008000\">'message'</span>: <span style=\"color: #008000; text-decoration-color: #008000\">'No message'</span>,\n",
       "    <span style=\"color: #008000; text-decoration-color: #008000\">'databook_name'</span>: <span style=\"color: #008000; text-decoration-color: #008000\">\"Perry's Chemical Engineers' Handbook\"</span>,\n",
       "    <span style=\"color: #008000; text-decoration-color: #008000\">'table_name'</span>: <span style=\"color: #008000; text-decoration-color: #008000\">'TABLE 2-179 Enthalpies and Gibbs Energies of Formation, Entropies, and Net Enthalpies of </span>\n",
       "<span style=\"color: #008000; text-decoration-color: #008000\">Combustion'</span>\n",
       "<span style=\"font-weight: bold\">}</span>\n",
       "</pre>\n"
      ],
      "text/plain": [
       "\u001b[1m{\u001b[0m\n",
       "    \u001b[32m'value'\u001b[0m: \u001b[32m'44.01'\u001b[0m,\n",
       "    \u001b[32m'unit'\u001b[0m: \u001b[32m'-'\u001b[0m,\n",
       "    \u001b[32m'symbol'\u001b[0m: \u001b[32m'MW'\u001b[0m,\n",
       "    \u001b[32m'property_name'\u001b[0m: \u001b[32m'Mol. wt.'\u001b[0m,\n",
       "    \u001b[32m'message'\u001b[0m: \u001b[32m'No message'\u001b[0m,\n",
       "    \u001b[32m'databook_name'\u001b[0m: \u001b[32m\"Perry's Chemical Engineers' Handbook\"\u001b[0m,\n",
       "    \u001b[32m'table_name'\u001b[0m: \u001b[32m'TABLE 2-179 Enthalpies and Gibbs Energies of Formation, Entropies, and Net Enthalpies of \u001b[0m\n",
       "\u001b[32mCombustion'\u001b[0m\n",
       "\u001b[1m}\u001b[0m\n"
      ]
     },
     "metadata": {},
     "output_type": "display_data"
    },
    {
     "ename": "UnboundLocalError",
     "evalue": "cannot access local variable 'get_data' where it is not associated with a value",
     "output_type": "error",
     "traceback": [
      "\u001b[31m---------------------------------------------------------------------------\u001b[39m",
      "\u001b[31mUnboundLocalError\u001b[39m                         Traceback (most recent call last)",
      "\u001b[36mCell\u001b[39m\u001b[36m \u001b[39m\u001b[32mIn[29]\u001b[39m\u001b[32m, line 4\u001b[39m\n\u001b[32m      2\u001b[39m \u001b[38;5;28mprint\u001b[39m(CO2_data.get_property(\u001b[32m5\u001b[39m))\n\u001b[32m      3\u001b[39m \u001b[38;5;28mprint\u001b[39m(CO2_data.get_property(\u001b[33m'\u001b[39m\u001b[33mMW\u001b[39m\u001b[33m'\u001b[39m))\n\u001b[32m----> \u001b[39m\u001b[32m4\u001b[39m \u001b[38;5;28mprint\u001b[39m(\u001b[43mCO2_data\u001b[49m\u001b[43m.\u001b[49m\u001b[43mget_property\u001b[49m\u001b[43m(\u001b[49m\u001b[33;43m'\u001b[39;49m\u001b[33;43mideal-gas-enthalpy-of-formation\u001b[39;49m\u001b[33;43m'\u001b[39;49m\u001b[43m)\u001b[49m)\n",
      "\u001b[36mFile \u001b[39m\u001b[32me:\\Python Projects\\pyThermoDB\\.venv\\Lib\\site-packages\\pyThermoDB\\docs\\tabledata.py:92\u001b[39m, in \u001b[36mTableData.get_property\u001b[39m\u001b[34m(self, property, message)\u001b[39m\n\u001b[32m     90\u001b[39m                 \u001b[38;5;28;01mbreak\u001b[39;00m\n\u001b[32m     91\u001b[39m     \u001b[38;5;66;03m# series\u001b[39;00m\n\u001b[32m---> \u001b[39m\u001b[32m92\u001b[39m     sr = pd.Series(\u001b[43mget_data\u001b[49m, dtype=\u001b[33m'\u001b[39m\u001b[33mstr\u001b[39m\u001b[33m'\u001b[39m)\n\u001b[32m     93\u001b[39m     \u001b[38;5;66;03m# print(type(sr))\u001b[39;00m\n\u001b[32m     95\u001b[39m \u001b[38;5;28;01melif\u001b[39;00m \u001b[38;5;28misinstance\u001b[39m(\u001b[38;5;28mproperty\u001b[39m, \u001b[38;5;28mint\u001b[39m):\n\u001b[32m     96\u001b[39m     \u001b[38;5;66;03m# get column index\u001b[39;00m\n",
      "\u001b[31mUnboundLocalError\u001b[39m: cannot access local variable 'get_data' where it is not associated with a value"
     ]
    }
   ],
   "source": [
    "print(CO2_data.data_structure())\n",
    "print(CO2_data.get_property(5))\n",
    "print(CO2_data.get_property('MW'))\n",
    "print(CO2_data.get_property('ideal-gas-enthalpy-of-formation'))"
   ]
  }
 ],
 "metadata": {
  "kernelspec": {
   "display_name": ".venv",
   "language": "python",
   "name": "python3"
  },
  "language_info": {
   "codemirror_mode": {
    "name": "ipython",
    "version": 3
   },
   "file_extension": ".py",
   "mimetype": "text/x-python",
   "name": "python",
   "nbconvert_exporter": "python",
   "pygments_lexer": "ipython3",
   "version": "3.13.1"
  }
 },
 "nbformat": 4,
 "nbformat_minor": 5
}
