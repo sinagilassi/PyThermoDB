{
 "cells": [
  {
   "cell_type": "markdown",
   "id": "bcead44a",
   "metadata": {},
   "source": [
    "# Import Libs"
   ]
  },
  {
   "cell_type": "code",
   "execution_count": 1,
   "id": "609e44cf",
   "metadata": {},
   "outputs": [],
   "source": [
    "import os\n",
    "from rich import print\n",
    "import pyThermoDB as ptdb"
   ]
  },
  {
   "cell_type": "code",
   "execution_count": 2,
   "id": "a930f671",
   "metadata": {},
   "outputs": [
    {
     "data": {
      "text/html": [
       "<pre style=\"white-space:pre;overflow-x:auto;line-height:normal;font-family:Menlo,'DejaVu Sans Mono',consolas,'Courier New',monospace\"><span style=\"color: #008080; text-decoration-color: #008080; font-weight: bold\">1.7</span>.<span style=\"color: #008080; text-decoration-color: #008080; font-weight: bold\">19</span>\n",
       "</pre>\n"
      ],
      "text/plain": [
       "\u001b[1;36m1.7\u001b[0m.\u001b[1;36m19\u001b[0m\n"
      ]
     },
     "metadata": {},
     "output_type": "display_data"
    }
   ],
   "source": [
    "# versions\n",
    "print(ptdb.__version__)"
   ]
  },
  {
   "cell_type": "markdown",
   "id": "8067c233",
   "metadata": {},
   "source": [
    "# Custom Reference"
   ]
  },
  {
   "cell_type": "code",
   "execution_count": 4,
   "id": "5f4af500",
   "metadata": {},
   "outputs": [
    {
     "data": {
      "text/html": [
       "<pre style=\"white-space:pre;overflow-x:auto;line-height:normal;font-family:Menlo,'DejaVu Sans Mono',consolas,'Courier New',monospace\">e:\\Python Projects\\pyThermoDB\\notebooks\\thermodb_nrtl_0.pkl\n",
       "</pre>\n"
      ],
      "text/plain": [
       "e:\\Python Projects\\pyThermoDB\\notebooks\\thermodb_nrtl_0.pkl\n"
      ]
     },
     "metadata": {},
     "output_type": "display_data"
    }
   ],
   "source": [
    "# parent directory\n",
    "parent_dir = os.path.dirname(os.getcwd())\n",
    "# test directory\n",
    "test_dir = os.path.join(parent_dir, 'notebooks')\n",
    "\n",
    "\n",
    "thermodb_file = 'thermodb_nrtl_0.pkl'\n",
    "thermodb_path = os.path.join(test_dir, thermodb_file)\n",
    "print(thermodb_path)"
   ]
  },
  {
   "cell_type": "markdown",
   "id": "21a261c8",
   "metadata": {},
   "source": [
    "# Load ThermoDB"
   ]
  },
  {
   "cell_type": "code",
   "execution_count": 5,
   "id": "d9b7f316",
   "metadata": {},
   "outputs": [
    {
     "data": {
      "text/html": [
       "<pre style=\"white-space:pre;overflow-x:auto;line-height:normal;font-family:Menlo,'DejaVu Sans Mono',consolas,'Courier New',monospace\"><span style=\"font-weight: bold\">&lt;</span><span style=\"color: #ff00ff; text-decoration-color: #ff00ff; font-weight: bold\">class</span><span style=\"color: #000000; text-decoration-color: #000000\"> </span><span style=\"color: #008000; text-decoration-color: #008000\">'pyThermoDB.docs.compbuilder.CompBuilder'</span><span style=\"font-weight: bold\">&gt;</span>\n",
       "</pre>\n"
      ],
      "text/plain": [
       "\u001b[1m<\u001b[0m\u001b[1;95mclass\u001b[0m\u001b[39m \u001b[0m\u001b[32m'pyThermoDB.docs.compbuilder.CompBuilder'\u001b[0m\u001b[1m>\u001b[0m\n"
      ]
     },
     "metadata": {},
     "output_type": "display_data"
    }
   ],
   "source": [
    "nrtl_thermodb = ptdb.load_thermodb(thermodb_path)\n",
    "print(type(nrtl_thermodb))"
   ]
  },
  {
   "cell_type": "markdown",
   "id": "d9b3db24",
   "metadata": {},
   "source": [
    "# Check ThermoDB"
   ]
  },
  {
   "cell_type": "code",
   "execution_count": 6,
   "id": "c2bbdcc1",
   "metadata": {},
   "outputs": [
    {
     "data": {
      "text/html": [
       "<pre style=\"white-space:pre;overflow-x:auto;line-height:normal;font-family:Menlo,'DejaVu Sans Mono',consolas,'Courier New',monospace\"><span style=\"font-weight: bold\">{</span>\n",
       "    <span style=\"color: #008000; text-decoration-color: #008000\">'nrtl_alpha'</span>: <span style=\"font-weight: bold\">&lt;</span><span style=\"color: #ff00ff; text-decoration-color: #ff00ff; font-weight: bold\">pyThermoDB.docs.tablematrixdata.TableMatrixData</span><span style=\"color: #000000; text-decoration-color: #000000\"> object at </span><span style=\"color: #008080; text-decoration-color: #008080; font-weight: bold\">0x000001CDAC87A510</span><span style=\"color: #000000; text-decoration-color: #000000\">&gt;,</span>\n",
       "<span style=\"color: #000000; text-decoration-color: #000000\">    </span><span style=\"color: #008000; text-decoration-color: #008000\">'nrtl_tau'</span><span style=\"color: #000000; text-decoration-color: #000000\">: &lt;pyThermoDB.docs.tablematrixequation.TableMatrixEquation object at </span><span style=\"color: #008080; text-decoration-color: #008080; font-weight: bold\">0x000001CDAC879E80</span><span style=\"font-weight: bold\">&gt;</span>\n",
       "<span style=\"font-weight: bold\">}</span>\n",
       "</pre>\n"
      ],
      "text/plain": [
       "\u001b[1m{\u001b[0m\n",
       "    \u001b[32m'nrtl_alpha'\u001b[0m: \u001b[1m<\u001b[0m\u001b[1;95mpyThermoDB.docs.tablematrixdata.TableMatrixData\u001b[0m\u001b[39m object at \u001b[0m\u001b[1;36m0x000001CDAC87A510\u001b[0m\u001b[39m>,\u001b[0m\n",
       "\u001b[39m    \u001b[0m\u001b[32m'nrtl_tau'\u001b[0m\u001b[39m: <pyThermoDB.docs.tablematrixequation.TableMatrixEquation object at \u001b[0m\u001b[1;36m0x000001CDAC879E80\u001b[0m\u001b[1m>\u001b[0m\n",
       "\u001b[1m}\u001b[0m\n"
      ]
     },
     "metadata": {},
     "output_type": "display_data"
    }
   ],
   "source": [
    "# check all properties and functions registered\n",
    "print(nrtl_thermodb.check())"
   ]
  },
  {
   "cell_type": "markdown",
   "id": "3145fd51",
   "metadata": {},
   "source": [
    "# Components"
   ]
  },
  {
   "cell_type": "code",
   "execution_count": 17,
   "id": "25047cc0",
   "metadata": {},
   "outputs": [],
   "source": [
    "# comp1\n",
    "comp1 = \"methanol\"\n",
    "# comp2\n",
    "comp2 = \"ethanol\"\n",
    "# comp3\n",
    "comp3 = 'benzene'"
   ]
  },
  {
   "cell_type": "markdown",
   "id": "9a089ed8",
   "metadata": {},
   "source": [
    "# Table Data | Table Matrix Data"
   ]
  },
  {
   "cell_type": "code",
   "execution_count": 7,
   "id": "288df591",
   "metadata": {},
   "outputs": [
    {
     "data": {
      "text/html": [
       "<pre style=\"white-space:pre;overflow-x:auto;line-height:normal;font-family:Menlo,'DejaVu Sans Mono',consolas,'Courier New',monospace\"><span style=\"font-weight: bold\">{</span><span style=\"color: #008000; text-decoration-color: #008000\">'nrtl_alpha'</span>: <span style=\"font-weight: bold\">&lt;</span><span style=\"color: #ff00ff; text-decoration-color: #ff00ff; font-weight: bold\">pyThermoDB.docs.tablematrixdata.TableMatrixData</span><span style=\"color: #000000; text-decoration-color: #000000\"> object at </span><span style=\"color: #008080; text-decoration-color: #008080; font-weight: bold\">0x000001CDAC87A510</span><span style=\"font-weight: bold\">&gt;}</span>\n",
       "</pre>\n"
      ],
      "text/plain": [
       "\u001b[1m{\u001b[0m\u001b[32m'nrtl_alpha'\u001b[0m: \u001b[1m<\u001b[0m\u001b[1;95mpyThermoDB.docs.tablematrixdata.TableMatrixData\u001b[0m\u001b[39m object at \u001b[0m\u001b[1;36m0x000001CDAC87A510\u001b[0m\u001b[1m>\u001b[0m\u001b[1m}\u001b[0m\n"
      ]
     },
     "metadata": {},
     "output_type": "display_data"
    }
   ],
   "source": [
    "# list all data\n",
    "print(nrtl_thermodb.check_properties())"
   ]
  },
  {
   "cell_type": "code",
   "execution_count": 8,
   "id": "70e47572",
   "metadata": {},
   "outputs": [
    {
     "data": {
      "text/html": [
       "<pre style=\"white-space:pre;overflow-x:auto;line-height:normal;font-family:Menlo,'DejaVu Sans Mono',consolas,'Courier New',monospace\"><span style=\"font-weight: bold\">&lt;</span><span style=\"color: #ff00ff; text-decoration-color: #ff00ff; font-weight: bold\">class</span><span style=\"color: #000000; text-decoration-color: #000000\"> </span><span style=\"color: #008000; text-decoration-color: #008000\">'pyThermoDB.docs.tablematrixdata.TableMatrixData'</span><span style=\"font-weight: bold\">&gt;</span>\n",
       "</pre>\n"
      ],
      "text/plain": [
       "\u001b[1m<\u001b[0m\u001b[1;95mclass\u001b[0m\u001b[39m \u001b[0m\u001b[32m'pyThermoDB.docs.tablematrixdata.TableMatrixData'\u001b[0m\u001b[1m>\u001b[0m\n"
      ]
     },
     "metadata": {},
     "output_type": "display_data"
    }
   ],
   "source": [
    "nrtl_alpha_data = nrtl_thermodb.check_property('nrtl_alpha')\n",
    "print(type(nrtl_alpha_data))"
   ]
  },
  {
   "cell_type": "code",
   "execution_count": 11,
   "id": "e0ed8859",
   "metadata": {},
   "outputs": [
    {
     "data": {
      "text/html": [
       "<pre style=\"white-space:pre;overflow-x:auto;line-height:normal;font-family:Menlo,'DejaVu Sans Mono',consolas,'Courier New',monospace\"><span style=\"font-weight: bold\">{</span>\n",
       "    <span style=\"color: #008000; text-decoration-color: #008000\">'COLUMNS'</span>: <span style=\"font-weight: bold\">[</span><span style=\"color: #008000; text-decoration-color: #008000\">'No.'</span>, <span style=\"color: #008000; text-decoration-color: #008000\">'Name'</span>, <span style=\"color: #008000; text-decoration-color: #008000\">'Formula'</span>, <span style=\"color: #008000; text-decoration-color: #008000\">'Alpha_i_1'</span>, <span style=\"color: #008000; text-decoration-color: #008000\">'Alpha_i_2'</span>, <span style=\"color: #008000; text-decoration-color: #008000\">'Alpha_i_3'</span><span style=\"font-weight: bold\">]</span>,\n",
       "    <span style=\"color: #008000; text-decoration-color: #008000\">'SYMBOL'</span>: <span style=\"font-weight: bold\">[</span><span style=\"color: #008000; text-decoration-color: #008000\">'None'</span>, <span style=\"color: #008000; text-decoration-color: #008000\">'None'</span>, <span style=\"color: #008000; text-decoration-color: #008000\">'None'</span>, <span style=\"color: #008000; text-decoration-color: #008000\">'Alpha_i_1'</span>, <span style=\"color: #008000; text-decoration-color: #008000\">'Alpha_i_2'</span>, <span style=\"color: #008000; text-decoration-color: #008000\">'Alpha_i_3'</span><span style=\"font-weight: bold\">]</span>,\n",
       "    <span style=\"color: #008000; text-decoration-color: #008000\">'UNIT'</span>: <span style=\"font-weight: bold\">[</span><span style=\"color: #008000; text-decoration-color: #008000\">'None'</span>, <span style=\"color: #008000; text-decoration-color: #008000\">'None'</span>, <span style=\"color: #008000; text-decoration-color: #008000\">'None'</span>, <span style=\"color: #008080; text-decoration-color: #008080; font-weight: bold\">1</span>, <span style=\"color: #008080; text-decoration-color: #008080; font-weight: bold\">1</span>, <span style=\"color: #008080; text-decoration-color: #008080; font-weight: bold\">1</span><span style=\"font-weight: bold\">]</span>,\n",
       "    <span style=\"color: #008000; text-decoration-color: #008000\">'CONVERSION'</span>: <span style=\"font-weight: bold\">[</span><span style=\"color: #008000; text-decoration-color: #008000\">'None'</span>, <span style=\"color: #008000; text-decoration-color: #008000\">'None'</span>, <span style=\"color: #008000; text-decoration-color: #008000\">'None'</span>, <span style=\"color: #008080; text-decoration-color: #008080; font-weight: bold\">1</span>, <span style=\"color: #008080; text-decoration-color: #008080; font-weight: bold\">1</span>, <span style=\"color: #008080; text-decoration-color: #008080; font-weight: bold\">1</span><span style=\"font-weight: bold\">]</span>\n",
       "<span style=\"font-weight: bold\">}</span>\n",
       "</pre>\n"
      ],
      "text/plain": [
       "\u001b[1m{\u001b[0m\n",
       "    \u001b[32m'COLUMNS'\u001b[0m: \u001b[1m[\u001b[0m\u001b[32m'No.'\u001b[0m, \u001b[32m'Name'\u001b[0m, \u001b[32m'Formula'\u001b[0m, \u001b[32m'Alpha_i_1'\u001b[0m, \u001b[32m'Alpha_i_2'\u001b[0m, \u001b[32m'Alpha_i_3'\u001b[0m\u001b[1m]\u001b[0m,\n",
       "    \u001b[32m'SYMBOL'\u001b[0m: \u001b[1m[\u001b[0m\u001b[32m'None'\u001b[0m, \u001b[32m'None'\u001b[0m, \u001b[32m'None'\u001b[0m, \u001b[32m'Alpha_i_1'\u001b[0m, \u001b[32m'Alpha_i_2'\u001b[0m, \u001b[32m'Alpha_i_3'\u001b[0m\u001b[1m]\u001b[0m,\n",
       "    \u001b[32m'UNIT'\u001b[0m: \u001b[1m[\u001b[0m\u001b[32m'None'\u001b[0m, \u001b[32m'None'\u001b[0m, \u001b[32m'None'\u001b[0m, \u001b[1;36m1\u001b[0m, \u001b[1;36m1\u001b[0m, \u001b[1;36m1\u001b[0m\u001b[1m]\u001b[0m,\n",
       "    \u001b[32m'CONVERSION'\u001b[0m: \u001b[1m[\u001b[0m\u001b[32m'None'\u001b[0m, \u001b[32m'None'\u001b[0m, \u001b[32m'None'\u001b[0m, \u001b[1;36m1\u001b[0m, \u001b[1;36m1\u001b[0m, \u001b[1;36m1\u001b[0m\u001b[1m]\u001b[0m\n",
       "\u001b[1m}\u001b[0m\n"
      ]
     },
     "metadata": {},
     "output_type": "display_data"
    }
   ],
   "source": [
    "print(nrtl_alpha_data.table_data)"
   ]
  },
  {
   "cell_type": "code",
   "execution_count": 14,
   "id": "37ba5659",
   "metadata": {},
   "outputs": [
    {
     "data": {
      "text/html": [
       "<pre style=\"white-space:pre;overflow-x:auto;line-height:normal;font-family:Menlo,'DejaVu Sans Mono',consolas,'Courier New',monospace\">  No.      Name Formula  Alpha_i_1  Alpha_i_2  Alpha_i_3\n",
       "<span style=\"color: #008080; text-decoration-color: #008080; font-weight: bold\">0</span>   -         -       -  Alpha_i_1  Alpha_i_2  Alpha_i_3\n",
       "<span style=\"color: #008080; text-decoration-color: #008080; font-weight: bold\">1</span>   -         -       -          <span style=\"color: #008080; text-decoration-color: #008080; font-weight: bold\">1</span>          <span style=\"color: #008080; text-decoration-color: #008080; font-weight: bold\">1</span>          <span style=\"color: #008080; text-decoration-color: #008080; font-weight: bold\">1</span>\n",
       "<span style=\"color: #008080; text-decoration-color: #008080; font-weight: bold\">2</span>   -         -       -          <span style=\"color: #008080; text-decoration-color: #008080; font-weight: bold\">1</span>          <span style=\"color: #008080; text-decoration-color: #008080; font-weight: bold\">2</span>          <span style=\"color: #008080; text-decoration-color: #008080; font-weight: bold\">3</span>\n",
       "<span style=\"color: #008080; text-decoration-color: #008080; font-weight: bold\">3</span>   -         -       -   methanol    ethanol    benzene\n",
       "<span style=\"color: #008080; text-decoration-color: #008080; font-weight: bold\">4</span>   -         -       -      CH3OH     C2H5OH       C6H6\n",
       "<span style=\"color: #008080; text-decoration-color: #008080; font-weight: bold\">5</span>   <span style=\"color: #008080; text-decoration-color: #008080; font-weight: bold\">1</span>  methanol   CH3OH          <span style=\"color: #008080; text-decoration-color: #008080; font-weight: bold\">0</span>        <span style=\"color: #008080; text-decoration-color: #008080; font-weight: bold\">0.3</span>     <span style=\"color: #008080; text-decoration-color: #008080; font-weight: bold\">-1.709</span>\n",
       "<span style=\"color: #008080; text-decoration-color: #008080; font-weight: bold\">6</span>   <span style=\"color: #008080; text-decoration-color: #008080; font-weight: bold\">2</span>   ethanol  C2H5OH        <span style=\"color: #008080; text-decoration-color: #008080; font-weight: bold\">0.3</span>          <span style=\"color: #008080; text-decoration-color: #008080; font-weight: bold\">0</span>      <span style=\"color: #008080; text-decoration-color: #008080; font-weight: bold\">0.569</span>\n",
       "<span style=\"color: #008080; text-decoration-color: #008080; font-weight: bold\">7</span>   <span style=\"color: #008080; text-decoration-color: #008080; font-weight: bold\">3</span>   benzene    C6H6      <span style=\"color: #008080; text-decoration-color: #008080; font-weight: bold\">11.58</span>     <span style=\"color: #008080; text-decoration-color: #008080; font-weight: bold\">-0.916</span>          <span style=\"color: #008080; text-decoration-color: #008080; font-weight: bold\">0</span>\n",
       "</pre>\n"
      ],
      "text/plain": [
       "  No.      Name Formula  Alpha_i_1  Alpha_i_2  Alpha_i_3\n",
       "\u001b[1;36m0\u001b[0m   -         -       -  Alpha_i_1  Alpha_i_2  Alpha_i_3\n",
       "\u001b[1;36m1\u001b[0m   -         -       -          \u001b[1;36m1\u001b[0m          \u001b[1;36m1\u001b[0m          \u001b[1;36m1\u001b[0m\n",
       "\u001b[1;36m2\u001b[0m   -         -       -          \u001b[1;36m1\u001b[0m          \u001b[1;36m2\u001b[0m          \u001b[1;36m3\u001b[0m\n",
       "\u001b[1;36m3\u001b[0m   -         -       -   methanol    ethanol    benzene\n",
       "\u001b[1;36m4\u001b[0m   -         -       -      CH3OH     C2H5OH       C6H6\n",
       "\u001b[1;36m5\u001b[0m   \u001b[1;36m1\u001b[0m  methanol   CH3OH          \u001b[1;36m0\u001b[0m        \u001b[1;36m0.3\u001b[0m     \u001b[1;36m-1.709\u001b[0m\n",
       "\u001b[1;36m6\u001b[0m   \u001b[1;36m2\u001b[0m   ethanol  C2H5OH        \u001b[1;36m0.3\u001b[0m          \u001b[1;36m0\u001b[0m      \u001b[1;36m0.569\u001b[0m\n",
       "\u001b[1;36m7\u001b[0m   \u001b[1;36m3\u001b[0m   benzene    C6H6      \u001b[1;36m11.58\u001b[0m     \u001b[1;36m-0.916\u001b[0m          \u001b[1;36m0\u001b[0m\n"
      ]
     },
     "metadata": {},
     "output_type": "display_data"
    }
   ],
   "source": [
    "if isinstance(nrtl_alpha_data, ptdb.TableMatrixData):\n",
    "    print(nrtl_alpha_data.matrix_table)"
   ]
  },
  {
   "cell_type": "code",
   "execution_count": 15,
   "id": "035b476a",
   "metadata": {},
   "outputs": [
    {
     "data": {
      "application/vnd.microsoft.datawrangler.viewer.v0+json": {
       "columns": [
        {
         "name": "index",
         "rawType": "int64",
         "type": "integer"
        },
        {
         "name": "No.",
         "rawType": "object",
         "type": "string"
        },
        {
         "name": "Name",
         "rawType": "object",
         "type": "string"
        },
        {
         "name": "Formula",
         "rawType": "object",
         "type": "string"
        },
        {
         "name": "Alpha_i_1",
         "rawType": "object",
         "type": "string"
        },
        {
         "name": "Alpha_i_2",
         "rawType": "object",
         "type": "string"
        },
        {
         "name": "Alpha_i_3",
         "rawType": "object",
         "type": "string"
        }
       ],
       "conversionMethod": "pd.DataFrame",
       "ref": "cb249671-d84c-438f-b0ea-136946b76c01",
       "rows": [
        [
         "0",
         "-",
         "-",
         "-",
         "Alpha_i_1",
         "Alpha_i_2",
         "Alpha_i_3"
        ],
        [
         "1",
         "-",
         "-",
         "-",
         "1",
         "1",
         "1"
        ],
        [
         "2",
         "-",
         "-",
         "-",
         "1",
         "2",
         "3"
        ],
        [
         "3",
         "-",
         "-",
         "-",
         "methanol",
         "ethanol",
         "benzene"
        ],
        [
         "4",
         "-",
         "-",
         "-",
         "CH3OH",
         "C2H5OH",
         "C6H6"
        ],
        [
         "5",
         "1",
         "methanol",
         "CH3OH",
         "0",
         "0.3",
         "-1.709"
        ],
        [
         "6",
         "2",
         "ethanol",
         "C2H5OH",
         "0.3",
         "0",
         "0.569"
        ],
        [
         "7",
         "3",
         "benzene",
         "C6H6",
         "11.58",
         "-0.916",
         "0"
        ]
       ],
       "shape": {
        "columns": 6,
        "rows": 8
       }
      },
      "text/html": [
       "<div>\n",
       "<style scoped>\n",
       "    .dataframe tbody tr th:only-of-type {\n",
       "        vertical-align: middle;\n",
       "    }\n",
       "\n",
       "    .dataframe tbody tr th {\n",
       "        vertical-align: top;\n",
       "    }\n",
       "\n",
       "    .dataframe thead th {\n",
       "        text-align: right;\n",
       "    }\n",
       "</style>\n",
       "<table border=\"1\" class=\"dataframe\">\n",
       "  <thead>\n",
       "    <tr style=\"text-align: right;\">\n",
       "      <th></th>\n",
       "      <th>No.</th>\n",
       "      <th>Name</th>\n",
       "      <th>Formula</th>\n",
       "      <th>Alpha_i_1</th>\n",
       "      <th>Alpha_i_2</th>\n",
       "      <th>Alpha_i_3</th>\n",
       "    </tr>\n",
       "  </thead>\n",
       "  <tbody>\n",
       "    <tr>\n",
       "      <th>0</th>\n",
       "      <td>-</td>\n",
       "      <td>-</td>\n",
       "      <td>-</td>\n",
       "      <td>Alpha_i_1</td>\n",
       "      <td>Alpha_i_2</td>\n",
       "      <td>Alpha_i_3</td>\n",
       "    </tr>\n",
       "    <tr>\n",
       "      <th>1</th>\n",
       "      <td>-</td>\n",
       "      <td>-</td>\n",
       "      <td>-</td>\n",
       "      <td>1</td>\n",
       "      <td>1</td>\n",
       "      <td>1</td>\n",
       "    </tr>\n",
       "    <tr>\n",
       "      <th>2</th>\n",
       "      <td>-</td>\n",
       "      <td>-</td>\n",
       "      <td>-</td>\n",
       "      <td>1</td>\n",
       "      <td>2</td>\n",
       "      <td>3</td>\n",
       "    </tr>\n",
       "    <tr>\n",
       "      <th>3</th>\n",
       "      <td>-</td>\n",
       "      <td>-</td>\n",
       "      <td>-</td>\n",
       "      <td>methanol</td>\n",
       "      <td>ethanol</td>\n",
       "      <td>benzene</td>\n",
       "    </tr>\n",
       "    <tr>\n",
       "      <th>4</th>\n",
       "      <td>-</td>\n",
       "      <td>-</td>\n",
       "      <td>-</td>\n",
       "      <td>CH3OH</td>\n",
       "      <td>C2H5OH</td>\n",
       "      <td>C6H6</td>\n",
       "    </tr>\n",
       "    <tr>\n",
       "      <th>5</th>\n",
       "      <td>1</td>\n",
       "      <td>methanol</td>\n",
       "      <td>CH3OH</td>\n",
       "      <td>0</td>\n",
       "      <td>0.3</td>\n",
       "      <td>-1.709</td>\n",
       "    </tr>\n",
       "    <tr>\n",
       "      <th>6</th>\n",
       "      <td>2</td>\n",
       "      <td>ethanol</td>\n",
       "      <td>C2H5OH</td>\n",
       "      <td>0.3</td>\n",
       "      <td>0</td>\n",
       "      <td>0.569</td>\n",
       "    </tr>\n",
       "    <tr>\n",
       "      <th>7</th>\n",
       "      <td>3</td>\n",
       "      <td>benzene</td>\n",
       "      <td>C6H6</td>\n",
       "      <td>11.58</td>\n",
       "      <td>-0.916</td>\n",
       "      <td>0</td>\n",
       "    </tr>\n",
       "  </tbody>\n",
       "</table>\n",
       "</div>"
      ],
      "text/plain": [
       "  No.      Name Formula  Alpha_i_1  Alpha_i_2  Alpha_i_3\n",
       "0   -         -       -  Alpha_i_1  Alpha_i_2  Alpha_i_3\n",
       "1   -         -       -          1          1          1\n",
       "2   -         -       -          1          2          3\n",
       "3   -         -       -   methanol    ethanol    benzene\n",
       "4   -         -       -      CH3OH     C2H5OH       C6H6\n",
       "5   1  methanol   CH3OH          0        0.3     -1.709\n",
       "6   2   ethanol  C2H5OH        0.3          0      0.569\n",
       "7   3   benzene    C6H6      11.58     -0.916          0"
      ]
     },
     "execution_count": 15,
     "metadata": {},
     "output_type": "execute_result"
    }
   ],
   "source": [
    "nrtl_alpha_data.matrix_table"
   ]
  },
  {
   "cell_type": "code",
   "execution_count": 16,
   "id": "a501694f",
   "metadata": {},
   "outputs": [
    {
     "data": {
      "text/html": [
       "<pre style=\"white-space:pre;overflow-x:auto;line-height:normal;font-family:Menlo,'DejaVu Sans Mono',consolas,'Courier New',monospace\">     COLUMNS     SYMBOL  UNIT CONVERSION  ID\n",
       "<span style=\"color: #008080; text-decoration-color: #008080; font-weight: bold\">0</span>        No.       <span style=\"color: #800080; text-decoration-color: #800080; font-style: italic\">None</span>  <span style=\"color: #800080; text-decoration-color: #800080; font-style: italic\">None</span>       <span style=\"color: #800080; text-decoration-color: #800080; font-style: italic\">None</span>   <span style=\"color: #008080; text-decoration-color: #008080; font-weight: bold\">1</span>\n",
       "<span style=\"color: #008080; text-decoration-color: #008080; font-weight: bold\">1</span>       Name       <span style=\"color: #800080; text-decoration-color: #800080; font-style: italic\">None</span>  <span style=\"color: #800080; text-decoration-color: #800080; font-style: italic\">None</span>       <span style=\"color: #800080; text-decoration-color: #800080; font-style: italic\">None</span>   <span style=\"color: #008080; text-decoration-color: #008080; font-weight: bold\">2</span>\n",
       "<span style=\"color: #008080; text-decoration-color: #008080; font-weight: bold\">2</span>    Formula       <span style=\"color: #800080; text-decoration-color: #800080; font-style: italic\">None</span>  <span style=\"color: #800080; text-decoration-color: #800080; font-style: italic\">None</span>       <span style=\"color: #800080; text-decoration-color: #800080; font-style: italic\">None</span>   <span style=\"color: #008080; text-decoration-color: #008080; font-weight: bold\">3</span>\n",
       "<span style=\"color: #008080; text-decoration-color: #008080; font-weight: bold\">3</span>  Alpha_i_1  Alpha_i_1     <span style=\"color: #008080; text-decoration-color: #008080; font-weight: bold\">1</span>          <span style=\"color: #008080; text-decoration-color: #008080; font-weight: bold\">1</span>   <span style=\"color: #008080; text-decoration-color: #008080; font-weight: bold\">4</span>\n",
       "<span style=\"color: #008080; text-decoration-color: #008080; font-weight: bold\">4</span>  Alpha_i_2  Alpha_i_2     <span style=\"color: #008080; text-decoration-color: #008080; font-weight: bold\">1</span>          <span style=\"color: #008080; text-decoration-color: #008080; font-weight: bold\">1</span>   <span style=\"color: #008080; text-decoration-color: #008080; font-weight: bold\">5</span>\n",
       "<span style=\"color: #008080; text-decoration-color: #008080; font-weight: bold\">5</span>  Alpha_i_3  Alpha_i_3     <span style=\"color: #008080; text-decoration-color: #008080; font-weight: bold\">1</span>          <span style=\"color: #008080; text-decoration-color: #008080; font-weight: bold\">1</span>   <span style=\"color: #008080; text-decoration-color: #008080; font-weight: bold\">6</span>\n",
       "</pre>\n"
      ],
      "text/plain": [
       "     COLUMNS     SYMBOL  UNIT CONVERSION  ID\n",
       "\u001b[1;36m0\u001b[0m        No.       \u001b[3;35mNone\u001b[0m  \u001b[3;35mNone\u001b[0m       \u001b[3;35mNone\u001b[0m   \u001b[1;36m1\u001b[0m\n",
       "\u001b[1;36m1\u001b[0m       Name       \u001b[3;35mNone\u001b[0m  \u001b[3;35mNone\u001b[0m       \u001b[3;35mNone\u001b[0m   \u001b[1;36m2\u001b[0m\n",
       "\u001b[1;36m2\u001b[0m    Formula       \u001b[3;35mNone\u001b[0m  \u001b[3;35mNone\u001b[0m       \u001b[3;35mNone\u001b[0m   \u001b[1;36m3\u001b[0m\n",
       "\u001b[1;36m3\u001b[0m  Alpha_i_1  Alpha_i_1     \u001b[1;36m1\u001b[0m          \u001b[1;36m1\u001b[0m   \u001b[1;36m4\u001b[0m\n",
       "\u001b[1;36m4\u001b[0m  Alpha_i_2  Alpha_i_2     \u001b[1;36m1\u001b[0m          \u001b[1;36m1\u001b[0m   \u001b[1;36m5\u001b[0m\n",
       "\u001b[1;36m5\u001b[0m  Alpha_i_3  Alpha_i_3     \u001b[1;36m1\u001b[0m          \u001b[1;36m1\u001b[0m   \u001b[1;36m6\u001b[0m\n"
      ]
     },
     "metadata": {},
     "output_type": "display_data"
    }
   ],
   "source": [
    "print(nrtl_alpha_data.matrix_data_structure())"
   ]
  },
  {
   "cell_type": "code",
   "execution_count": 18,
   "id": "2a0ae365",
   "metadata": {},
   "outputs": [
    {
     "data": {
      "text/html": [
       "<pre style=\"white-space:pre;overflow-x:auto;line-height:normal;font-family:Menlo,'DejaVu Sans Mono',consolas,'Courier New',monospace\"><span style=\"font-weight: bold\">{</span><span style=\"color: #008000; text-decoration-color: #008000\">'value'</span>: <span style=\"color: #008000; text-decoration-color: #008000\">'0'</span>, <span style=\"color: #008000; text-decoration-color: #008000\">'unit'</span>: <span style=\"color: #008000; text-decoration-color: #008000\">'1'</span>, <span style=\"color: #008000; text-decoration-color: #008000\">'symbol'</span>: <span style=\"color: #008000; text-decoration-color: #008000\">'Alpha_i_1'</span><span style=\"font-weight: bold\">}</span>\n",
       "</pre>\n"
      ],
      "text/plain": [
       "\u001b[1m{\u001b[0m\u001b[32m'value'\u001b[0m: \u001b[32m'0'\u001b[0m, \u001b[32m'unit'\u001b[0m: \u001b[32m'1'\u001b[0m, \u001b[32m'symbol'\u001b[0m: \u001b[32m'Alpha_i_1'\u001b[0m\u001b[1m}\u001b[0m\n"
      ]
     },
     "metadata": {},
     "output_type": "display_data"
    }
   ],
   "source": [
    "print(nrtl_alpha_data.get_property('Alpha_i_1', comp1))"
   ]
  },
  {
   "cell_type": "code",
   "execution_count": 19,
   "id": "b2cb1391",
   "metadata": {},
   "outputs": [
    {
     "data": {
      "text/html": [
       "<pre style=\"white-space:pre;overflow-x:auto;line-height:normal;font-family:Menlo,'DejaVu Sans Mono',consolas,'Courier New',monospace\"><span style=\"font-weight: bold\">{</span>\n",
       "    <span style=\"color: #008000; text-decoration-color: #008000\">'property_name'</span>: <span style=\"color: #008000; text-decoration-color: #008000\">'Alpha'</span>,\n",
       "    <span style=\"color: #008000; text-decoration-color: #008000\">'symbol'</span>: <span style=\"color: #008000; text-decoration-color: #008000\">'Alpha_methanol_ethanol'</span>,\n",
       "    <span style=\"color: #008000; text-decoration-color: #008000\">'unit'</span>: <span style=\"color: #008000; text-decoration-color: #008000\">'1'</span>,\n",
       "    <span style=\"color: #008000; text-decoration-color: #008000\">'value'</span>: <span style=\"color: #008080; text-decoration-color: #008080; font-weight: bold\">0.3</span>,\n",
       "    <span style=\"color: #008000; text-decoration-color: #008000\">'message'</span>: <span style=\"color: #008000; text-decoration-color: #008000\">'Get a component property from data table structure'</span>,\n",
       "    <span style=\"color: #008000; text-decoration-color: #008000\">'databook_name'</span>: <span style=\"color: #008000; text-decoration-color: #008000\">'NRTL'</span>,\n",
       "    <span style=\"color: #008000; text-decoration-color: #008000\">'table_name'</span>: <span style=\"color: #008000; text-decoration-color: #008000\">'Non-randomness parameters of the NRTL equation'</span>\n",
       "<span style=\"font-weight: bold\">}</span>\n",
       "</pre>\n"
      ],
      "text/plain": [
       "\u001b[1m{\u001b[0m\n",
       "    \u001b[32m'property_name'\u001b[0m: \u001b[32m'Alpha'\u001b[0m,\n",
       "    \u001b[32m'symbol'\u001b[0m: \u001b[32m'Alpha_methanol_ethanol'\u001b[0m,\n",
       "    \u001b[32m'unit'\u001b[0m: \u001b[32m'1'\u001b[0m,\n",
       "    \u001b[32m'value'\u001b[0m: \u001b[1;36m0.3\u001b[0m,\n",
       "    \u001b[32m'message'\u001b[0m: \u001b[32m'Get a component property from data table structure'\u001b[0m,\n",
       "    \u001b[32m'databook_name'\u001b[0m: \u001b[32m'NRTL'\u001b[0m,\n",
       "    \u001b[32m'table_name'\u001b[0m: \u001b[32m'Non-randomness parameters of the NRTL equation'\u001b[0m\n",
       "\u001b[1m}\u001b[0m\n"
      ]
     },
     "metadata": {},
     "output_type": "display_data"
    }
   ],
   "source": [
    "print(nrtl_alpha_data.get_matrix_property(\"Alpha_i_j\",\n",
    "                                          [comp1, comp2], symbol_format='alphabetic'))"
   ]
  },
  {
   "cell_type": "markdown",
   "id": "d8a99c37",
   "metadata": {},
   "source": [
    "# Table Equation | Table Matrix Equation "
   ]
  },
  {
   "cell_type": "code",
   "execution_count": 20,
   "id": "2f1c7489",
   "metadata": {},
   "outputs": [
    {
     "data": {
      "text/html": [
       "<pre style=\"white-space:pre;overflow-x:auto;line-height:normal;font-family:Menlo,'DejaVu Sans Mono',consolas,'Courier New',monospace\"><span style=\"font-weight: bold\">{</span><span style=\"color: #008000; text-decoration-color: #008000\">'nrtl_tau'</span>: <span style=\"font-weight: bold\">&lt;</span><span style=\"color: #ff00ff; text-decoration-color: #ff00ff; font-weight: bold\">pyThermoDB.docs.tablematrixequation.TableMatrixEquation</span><span style=\"color: #000000; text-decoration-color: #000000\"> object at </span><span style=\"color: #008080; text-decoration-color: #008080; font-weight: bold\">0x000001CDAC879E80</span><span style=\"font-weight: bold\">&gt;}</span>\n",
       "</pre>\n"
      ],
      "text/plain": [
       "\u001b[1m{\u001b[0m\u001b[32m'nrtl_tau'\u001b[0m: \u001b[1m<\u001b[0m\u001b[1;95mpyThermoDB.docs.tablematrixequation.TableMatrixEquation\u001b[0m\u001b[39m object at \u001b[0m\u001b[1;36m0x000001CDAC879E80\u001b[0m\u001b[1m>\u001b[0m\u001b[1m}\u001b[0m\n"
      ]
     },
     "metadata": {},
     "output_type": "display_data"
    }
   ],
   "source": [
    "print(nrtl_thermodb.check_functions())"
   ]
  },
  {
   "cell_type": "code",
   "execution_count": 21,
   "id": "49d62a95",
   "metadata": {},
   "outputs": [],
   "source": [
    "# ! equation 1\n",
    "nrtl_tau_eq = nrtl_thermodb.check_function('nrtl_tau')"
   ]
  },
  {
   "cell_type": "code",
   "execution_count": 22,
   "id": "fc5870d5",
   "metadata": {},
   "outputs": [
    {
     "data": {
      "application/vnd.microsoft.datawrangler.viewer.v0+json": {
       "columns": [
        {
         "name": "index",
         "rawType": "int64",
         "type": "integer"
        },
        {
         "name": "No.",
         "rawType": "object",
         "type": "string"
        },
        {
         "name": "Name",
         "rawType": "object",
         "type": "string"
        },
        {
         "name": "Formula",
         "rawType": "object",
         "type": "string"
        },
        {
         "name": "A_i_1",
         "rawType": "object",
         "type": "string"
        },
        {
         "name": "A_i_2",
         "rawType": "object",
         "type": "string"
        },
        {
         "name": "A_i_3",
         "rawType": "object",
         "type": "string"
        },
        {
         "name": "B_i_1",
         "rawType": "object",
         "type": "string"
        },
        {
         "name": "B_i_2",
         "rawType": "object",
         "type": "string"
        },
        {
         "name": "B_i_3",
         "rawType": "object",
         "type": "string"
        },
        {
         "name": "Eq",
         "rawType": "object",
         "type": "string"
        }
       ],
       "conversionMethod": "pd.DataFrame",
       "ref": "aaf1e035-3e85-4977-877e-f2b97e08b5c3",
       "rows": [
        [
         "0",
         "-",
         "-",
         "-",
         "A_i_1",
         "A_i_2",
         "A_i_3",
         "B_i_1",
         "B_i_2",
         "B_i_3",
         "tau_i_j"
        ],
        [
         "1",
         "-",
         "-",
         "-",
         "1",
         "1",
         "1",
         "1",
         "1",
         "1",
         "1"
        ],
        [
         "2",
         "-",
         "-",
         "-",
         "1",
         "2",
         "3",
         "1",
         "2",
         "3",
         "1"
        ],
        [
         "3",
         "-",
         "-",
         "-",
         "methanol",
         "ethanol",
         "benzene",
         "methanol",
         "ethanol",
         "benzene",
         "1"
        ],
        [
         "4",
         "-",
         "-",
         "-",
         "CH3OH",
         "C2H5OH",
         "C6H6",
         "CH3OH",
         "C2H5OH",
         "C6H6",
         "1"
        ],
        [
         "5",
         "1",
         "methanol",
         "CH3OH",
         "0",
         "4.712",
         "-1.709",
         "0",
         "-1162.3",
         "892.2",
         "1"
        ],
        [
         "6",
         "2",
         "ethanol",
         "C2H5OH",
         "-2.313",
         "0",
         "0.569",
         "483.8",
         "0",
         "-54.8",
         "1"
        ],
        [
         "7",
         "3",
         "benzene",
         "C6H6",
         "11.58",
         "-0.916",
         "0",
         "-3282.6",
         "822",
         "0",
         "1"
        ]
       ],
       "shape": {
        "columns": 10,
        "rows": 8
       }
      },
      "text/html": [
       "<div>\n",
       "<style scoped>\n",
       "    .dataframe tbody tr th:only-of-type {\n",
       "        vertical-align: middle;\n",
       "    }\n",
       "\n",
       "    .dataframe tbody tr th {\n",
       "        vertical-align: top;\n",
       "    }\n",
       "\n",
       "    .dataframe thead th {\n",
       "        text-align: right;\n",
       "    }\n",
       "</style>\n",
       "<table border=\"1\" class=\"dataframe\">\n",
       "  <thead>\n",
       "    <tr style=\"text-align: right;\">\n",
       "      <th></th>\n",
       "      <th>No.</th>\n",
       "      <th>Name</th>\n",
       "      <th>Formula</th>\n",
       "      <th>A_i_1</th>\n",
       "      <th>A_i_2</th>\n",
       "      <th>A_i_3</th>\n",
       "      <th>B_i_1</th>\n",
       "      <th>B_i_2</th>\n",
       "      <th>B_i_3</th>\n",
       "      <th>Eq</th>\n",
       "    </tr>\n",
       "  </thead>\n",
       "  <tbody>\n",
       "    <tr>\n",
       "      <th>0</th>\n",
       "      <td>-</td>\n",
       "      <td>-</td>\n",
       "      <td>-</td>\n",
       "      <td>A_i_1</td>\n",
       "      <td>A_i_2</td>\n",
       "      <td>A_i_3</td>\n",
       "      <td>B_i_1</td>\n",
       "      <td>B_i_2</td>\n",
       "      <td>B_i_3</td>\n",
       "      <td>tau_i_j</td>\n",
       "    </tr>\n",
       "    <tr>\n",
       "      <th>1</th>\n",
       "      <td>-</td>\n",
       "      <td>-</td>\n",
       "      <td>-</td>\n",
       "      <td>1</td>\n",
       "      <td>1</td>\n",
       "      <td>1</td>\n",
       "      <td>1</td>\n",
       "      <td>1</td>\n",
       "      <td>1</td>\n",
       "      <td>1</td>\n",
       "    </tr>\n",
       "    <tr>\n",
       "      <th>2</th>\n",
       "      <td>-</td>\n",
       "      <td>-</td>\n",
       "      <td>-</td>\n",
       "      <td>1</td>\n",
       "      <td>2</td>\n",
       "      <td>3</td>\n",
       "      <td>1</td>\n",
       "      <td>2</td>\n",
       "      <td>3</td>\n",
       "      <td>1</td>\n",
       "    </tr>\n",
       "    <tr>\n",
       "      <th>3</th>\n",
       "      <td>-</td>\n",
       "      <td>-</td>\n",
       "      <td>-</td>\n",
       "      <td>methanol</td>\n",
       "      <td>ethanol</td>\n",
       "      <td>benzene</td>\n",
       "      <td>methanol</td>\n",
       "      <td>ethanol</td>\n",
       "      <td>benzene</td>\n",
       "      <td>1</td>\n",
       "    </tr>\n",
       "    <tr>\n",
       "      <th>4</th>\n",
       "      <td>-</td>\n",
       "      <td>-</td>\n",
       "      <td>-</td>\n",
       "      <td>CH3OH</td>\n",
       "      <td>C2H5OH</td>\n",
       "      <td>C6H6</td>\n",
       "      <td>CH3OH</td>\n",
       "      <td>C2H5OH</td>\n",
       "      <td>C6H6</td>\n",
       "      <td>1</td>\n",
       "    </tr>\n",
       "    <tr>\n",
       "      <th>5</th>\n",
       "      <td>1</td>\n",
       "      <td>methanol</td>\n",
       "      <td>CH3OH</td>\n",
       "      <td>0</td>\n",
       "      <td>4.712</td>\n",
       "      <td>-1.709</td>\n",
       "      <td>0</td>\n",
       "      <td>-1162.3</td>\n",
       "      <td>892.2</td>\n",
       "      <td>1</td>\n",
       "    </tr>\n",
       "    <tr>\n",
       "      <th>6</th>\n",
       "      <td>2</td>\n",
       "      <td>ethanol</td>\n",
       "      <td>C2H5OH</td>\n",
       "      <td>-2.313</td>\n",
       "      <td>0</td>\n",
       "      <td>0.569</td>\n",
       "      <td>483.8</td>\n",
       "      <td>0</td>\n",
       "      <td>-54.8</td>\n",
       "      <td>1</td>\n",
       "    </tr>\n",
       "    <tr>\n",
       "      <th>7</th>\n",
       "      <td>3</td>\n",
       "      <td>benzene</td>\n",
       "      <td>C6H6</td>\n",
       "      <td>11.58</td>\n",
       "      <td>-0.916</td>\n",
       "      <td>0</td>\n",
       "      <td>-3282.6</td>\n",
       "      <td>822</td>\n",
       "      <td>0</td>\n",
       "      <td>1</td>\n",
       "    </tr>\n",
       "  </tbody>\n",
       "</table>\n",
       "</div>"
      ],
      "text/plain": [
       "  No.      Name Formula     A_i_1    A_i_2    A_i_3     B_i_1    B_i_2  \\\n",
       "0   -         -       -     A_i_1    A_i_2    A_i_3     B_i_1    B_i_2   \n",
       "1   -         -       -         1        1        1         1        1   \n",
       "2   -         -       -         1        2        3         1        2   \n",
       "3   -         -       -  methanol  ethanol  benzene  methanol  ethanol   \n",
       "4   -         -       -     CH3OH   C2H5OH     C6H6     CH3OH   C2H5OH   \n",
       "5   1  methanol   CH3OH         0    4.712   -1.709         0  -1162.3   \n",
       "6   2   ethanol  C2H5OH    -2.313        0    0.569     483.8        0   \n",
       "7   3   benzene    C6H6     11.58   -0.916        0   -3282.6      822   \n",
       "\n",
       "     B_i_3       Eq  \n",
       "0    B_i_3  tau_i_j  \n",
       "1        1        1  \n",
       "2        3        1  \n",
       "3  benzene        1  \n",
       "4     C6H6        1  \n",
       "5    892.2        1  \n",
       "6    -54.8        1  \n",
       "7        0        1  "
      ]
     },
     "execution_count": 22,
     "metadata": {},
     "output_type": "execute_result"
    }
   ],
   "source": [
    "nrtl_tau_eq.matrix_table"
   ]
  },
  {
   "cell_type": "code",
   "execution_count": 23,
   "id": "6c89be09",
   "metadata": {},
   "outputs": [
    {
     "data": {
      "text/html": [
       "<pre style=\"white-space:pre;overflow-x:auto;line-height:normal;font-family:Menlo,'DejaVu Sans Mono',consolas,'Courier New',monospace\"><span style=\"font-weight: bold\">{</span><span style=\"color: #008000; text-decoration-color: #008000\">'temperature'</span>: <span style=\"font-weight: bold\">{</span><span style=\"color: #008000; text-decoration-color: #008000\">'name'</span>: <span style=\"color: #008000; text-decoration-color: #008000\">'temperature'</span>, <span style=\"color: #008000; text-decoration-color: #008000\">'symbol'</span>: <span style=\"color: #008000; text-decoration-color: #008000\">'T'</span>, <span style=\"color: #008000; text-decoration-color: #008000\">'unit'</span>: <span style=\"color: #008000; text-decoration-color: #008000\">'K'</span><span style=\"font-weight: bold\">}}</span>\n",
       "</pre>\n"
      ],
      "text/plain": [
       "\u001b[1m{\u001b[0m\u001b[32m'temperature'\u001b[0m: \u001b[1m{\u001b[0m\u001b[32m'name'\u001b[0m: \u001b[32m'temperature'\u001b[0m, \u001b[32m'symbol'\u001b[0m: \u001b[32m'T'\u001b[0m, \u001b[32m'unit'\u001b[0m: \u001b[32m'K'\u001b[0m\u001b[1m}\u001b[0m\u001b[1m}\u001b[0m\n"
      ]
     },
     "metadata": {},
     "output_type": "display_data"
    },
    {
     "data": {
      "text/html": [
       "<pre style=\"white-space:pre;overflow-x:auto;line-height:normal;font-family:Menlo,'DejaVu Sans Mono',consolas,'Courier New',monospace\"><span style=\"font-weight: bold\">{</span><span style=\"color: #008000; text-decoration-color: #008000\">'tau_i_j'</span>: <span style=\"font-weight: bold\">{</span><span style=\"color: #008000; text-decoration-color: #008000\">'name'</span>: <span style=\"color: #008000; text-decoration-color: #008000\">'tau_i_j'</span>, <span style=\"color: #008000; text-decoration-color: #008000\">'symbol'</span>: <span style=\"color: #008000; text-decoration-color: #008000\">'tau_i_j'</span>, <span style=\"color: #008000; text-decoration-color: #008000\">'unit'</span>: <span style=\"color: #008080; text-decoration-color: #008080; font-weight: bold\">1</span><span style=\"font-weight: bold\">}}</span>\n",
       "</pre>\n"
      ],
      "text/plain": [
       "\u001b[1m{\u001b[0m\u001b[32m'tau_i_j'\u001b[0m: \u001b[1m{\u001b[0m\u001b[32m'name'\u001b[0m: \u001b[32m'tau_i_j'\u001b[0m, \u001b[32m'symbol'\u001b[0m: \u001b[32m'tau_i_j'\u001b[0m, \u001b[32m'unit'\u001b[0m: \u001b[1;36m1\u001b[0m\u001b[1m}\u001b[0m\u001b[1m}\u001b[0m\n"
      ]
     },
     "metadata": {},
     "output_type": "display_data"
    },
    {
     "data": {
      "text/html": [
       "<pre style=\"white-space:pre;overflow-x:auto;line-height:normal;font-family:Menlo,'DejaVu Sans Mono',consolas,'Courier New',monospace\"><span style=\"font-weight: bold\">{</span>\n",
       "    <span style=\"color: #008000; text-decoration-color: #008000\">'A_i_j'</span>: <span style=\"color: #800080; text-decoration-color: #800080; font-weight: bold\">array</span><span style=\"font-weight: bold\">([[</span> <span style=\"color: #008080; text-decoration-color: #008080; font-weight: bold\">0</span>.   ,  <span style=\"color: #008080; text-decoration-color: #008080; font-weight: bold\">4.712</span>, <span style=\"color: #008080; text-decoration-color: #008080; font-weight: bold\">-1.709</span><span style=\"font-weight: bold\">]</span>,\n",
       "       <span style=\"font-weight: bold\">[</span><span style=\"color: #008080; text-decoration-color: #008080; font-weight: bold\">-2.313</span>,  <span style=\"color: #008080; text-decoration-color: #008080; font-weight: bold\">0</span>.   ,  <span style=\"color: #008080; text-decoration-color: #008080; font-weight: bold\">0.569</span><span style=\"font-weight: bold\">]</span>,\n",
       "       <span style=\"font-weight: bold\">[</span><span style=\"color: #008080; text-decoration-color: #008080; font-weight: bold\">11.58</span> , <span style=\"color: #008080; text-decoration-color: #008080; font-weight: bold\">-0.916</span>,  <span style=\"color: #008080; text-decoration-color: #008080; font-weight: bold\">0</span>.   <span style=\"font-weight: bold\">]])</span>,\n",
       "    <span style=\"color: #008000; text-decoration-color: #008000\">'B_i_j'</span>: <span style=\"color: #800080; text-decoration-color: #800080; font-weight: bold\">array</span><span style=\"font-weight: bold\">([[</span>    <span style=\"color: #008080; text-decoration-color: #008080; font-weight: bold\">0</span>. , <span style=\"color: #008080; text-decoration-color: #008080; font-weight: bold\">-1162.3</span>,   <span style=\"color: #008080; text-decoration-color: #008080; font-weight: bold\">892.2</span><span style=\"font-weight: bold\">]</span>,\n",
       "       <span style=\"font-weight: bold\">[</span>  <span style=\"color: #008080; text-decoration-color: #008080; font-weight: bold\">483.8</span>,     <span style=\"color: #008080; text-decoration-color: #008080; font-weight: bold\">0</span>. ,   <span style=\"color: #008080; text-decoration-color: #008080; font-weight: bold\">-54.8</span><span style=\"font-weight: bold\">]</span>,\n",
       "       <span style=\"font-weight: bold\">[</span><span style=\"color: #008080; text-decoration-color: #008080; font-weight: bold\">-3282.6</span>,   <span style=\"color: #008080; text-decoration-color: #008080; font-weight: bold\">822</span>. ,     <span style=\"color: #008080; text-decoration-color: #008080; font-weight: bold\">0</span>. <span style=\"font-weight: bold\">]])</span>\n",
       "<span style=\"font-weight: bold\">}</span>\n",
       "</pre>\n"
      ],
      "text/plain": [
       "\u001b[1m{\u001b[0m\n",
       "    \u001b[32m'A_i_j'\u001b[0m: \u001b[1;35marray\u001b[0m\u001b[1m(\u001b[0m\u001b[1m[\u001b[0m\u001b[1m[\u001b[0m \u001b[1;36m0\u001b[0m.   ,  \u001b[1;36m4.712\u001b[0m, \u001b[1;36m-1.709\u001b[0m\u001b[1m]\u001b[0m,\n",
       "       \u001b[1m[\u001b[0m\u001b[1;36m-2.313\u001b[0m,  \u001b[1;36m0\u001b[0m.   ,  \u001b[1;36m0.569\u001b[0m\u001b[1m]\u001b[0m,\n",
       "       \u001b[1m[\u001b[0m\u001b[1;36m11.58\u001b[0m , \u001b[1;36m-0.916\u001b[0m,  \u001b[1;36m0\u001b[0m.   \u001b[1m]\u001b[0m\u001b[1m]\u001b[0m\u001b[1m)\u001b[0m,\n",
       "    \u001b[32m'B_i_j'\u001b[0m: \u001b[1;35marray\u001b[0m\u001b[1m(\u001b[0m\u001b[1m[\u001b[0m\u001b[1m[\u001b[0m    \u001b[1;36m0\u001b[0m. , \u001b[1;36m-1162.3\u001b[0m,   \u001b[1;36m892.2\u001b[0m\u001b[1m]\u001b[0m,\n",
       "       \u001b[1m[\u001b[0m  \u001b[1;36m483.8\u001b[0m,     \u001b[1;36m0\u001b[0m. ,   \u001b[1;36m-54.8\u001b[0m\u001b[1m]\u001b[0m,\n",
       "       \u001b[1m[\u001b[0m\u001b[1;36m-3282.6\u001b[0m,   \u001b[1;36m822\u001b[0m. ,     \u001b[1;36m0\u001b[0m. \u001b[1m]\u001b[0m\u001b[1m]\u001b[0m\u001b[1m)\u001b[0m\n",
       "\u001b[1m}\u001b[0m\n"
      ]
     },
     "metadata": {},
     "output_type": "display_data"
    }
   ],
   "source": [
    "# args\n",
    "print(nrtl_tau_eq.args)\n",
    "# return\n",
    "print(nrtl_tau_eq.returns)\n",
    "# parms values\n",
    "print(nrtl_tau_eq.parms_values)"
   ]
  },
  {
   "cell_type": "code",
   "execution_count": 24,
   "id": "8f0e1500",
   "metadata": {},
   "outputs": [
    {
     "data": {
      "text/html": [
       "<pre style=\"white-space:pre;overflow-x:auto;line-height:normal;font-family:Menlo,'DejaVu Sans Mono',consolas,'Courier New',monospace\"><span style=\"font-weight: bold\">{</span>\n",
       "    <span style=\"color: #008000; text-decoration-color: #008000\">'value'</span>: <span style=\"color: #800080; text-decoration-color: #800080; font-weight: bold\">array</span><span style=\"font-weight: bold\">([[</span> <span style=\"color: #008080; text-decoration-color: #008080; font-weight: bold\">0</span>.    ,  <span style=\"color: #008080; text-decoration-color: #008080; font-weight: bold\">0.8136</span>,  <span style=\"color: #008080; text-decoration-color: #008080; font-weight: bold\">1.2835</span><span style=\"font-weight: bold\">]</span>,\n",
       "       <span style=\"font-weight: bold\">[</span><span style=\"color: #008080; text-decoration-color: #008080; font-weight: bold\">-0.6903</span>,  <span style=\"color: #008080; text-decoration-color: #008080; font-weight: bold\">0</span>.    ,  <span style=\"color: #008080; text-decoration-color: #008080; font-weight: bold\">0.3852</span><span style=\"font-weight: bold\">]</span>,\n",
       "       <span style=\"font-weight: bold\">[</span> <span style=\"color: #008080; text-decoration-color: #008080; font-weight: bold\">0.5701</span>,  <span style=\"color: #008080; text-decoration-color: #008080; font-weight: bold\">1.841</span> ,  <span style=\"color: #008080; text-decoration-color: #008080; font-weight: bold\">0</span>.    <span style=\"font-weight: bold\">]])</span>,\n",
       "    <span style=\"color: #008000; text-decoration-color: #008000\">'name'</span>: <span style=\"color: #008000; text-decoration-color: #008000\">'tau_i_j'</span>,\n",
       "    <span style=\"color: #008000; text-decoration-color: #008000\">'symbol'</span>: <span style=\"color: #008000; text-decoration-color: #008000\">'tau_i_j'</span>,\n",
       "    <span style=\"color: #008000; text-decoration-color: #008000\">'unit'</span>: <span style=\"color: #008080; text-decoration-color: #008080; font-weight: bold\">1</span>,\n",
       "    <span style=\"color: #008000; text-decoration-color: #008000\">'message'</span>: <span style=\"color: #008000; text-decoration-color: #008000\">'NRTL Tau value'</span>\n",
       "<span style=\"font-weight: bold\">}</span>\n",
       "</pre>\n"
      ],
      "text/plain": [
       "\u001b[1m{\u001b[0m\n",
       "    \u001b[32m'value'\u001b[0m: \u001b[1;35marray\u001b[0m\u001b[1m(\u001b[0m\u001b[1m[\u001b[0m\u001b[1m[\u001b[0m \u001b[1;36m0\u001b[0m.    ,  \u001b[1;36m0.8136\u001b[0m,  \u001b[1;36m1.2835\u001b[0m\u001b[1m]\u001b[0m,\n",
       "       \u001b[1m[\u001b[0m\u001b[1;36m-0.6903\u001b[0m,  \u001b[1;36m0\u001b[0m.    ,  \u001b[1;36m0.3852\u001b[0m\u001b[1m]\u001b[0m,\n",
       "       \u001b[1m[\u001b[0m \u001b[1;36m0.5701\u001b[0m,  \u001b[1;36m1.841\u001b[0m ,  \u001b[1;36m0\u001b[0m.    \u001b[1m]\u001b[0m\u001b[1m]\u001b[0m\u001b[1m)\u001b[0m,\n",
       "    \u001b[32m'name'\u001b[0m: \u001b[32m'tau_i_j'\u001b[0m,\n",
       "    \u001b[32m'symbol'\u001b[0m: \u001b[32m'tau_i_j'\u001b[0m,\n",
       "    \u001b[32m'unit'\u001b[0m: \u001b[1;36m1\u001b[0m,\n",
       "    \u001b[32m'message'\u001b[0m: \u001b[32m'NRTL Tau value'\u001b[0m\n",
       "\u001b[1m}\u001b[0m\n"
      ]
     },
     "metadata": {},
     "output_type": "display_data"
    }
   ],
   "source": [
    "# cal\n",
    "nrtl_tau_cal = nrtl_tau_eq.cal(message=f\"NRTL Tau value\", T=298.15)\n",
    "print(nrtl_tau_cal)"
   ]
  }
 ],
 "metadata": {
  "kernelspec": {
   "display_name": ".venv",
   "language": "python",
   "name": "python3"
  },
  "language_info": {
   "codemirror_mode": {
    "name": "ipython",
    "version": 3
   },
   "file_extension": ".py",
   "mimetype": "text/x-python",
   "name": "python",
   "nbconvert_exporter": "python",
   "pygments_lexer": "ipython3",
   "version": "3.13.1"
  }
 },
 "nbformat": 4,
 "nbformat_minor": 5
}
