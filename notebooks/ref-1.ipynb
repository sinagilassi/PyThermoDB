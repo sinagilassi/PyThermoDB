{
 "cells": [
  {
   "cell_type": "markdown",
   "id": "bcead44a",
   "metadata": {},
   "source": [
    "# Import Libs"
   ]
  },
  {
   "cell_type": "code",
   "execution_count": 1,
   "id": "609e44cf",
   "metadata": {},
   "outputs": [],
   "source": [
    "import os\n",
    "from rich import print\n",
    "import pyThermoDB as ptdb"
   ]
  },
  {
   "cell_type": "code",
   "execution_count": 2,
   "id": "a930f671",
   "metadata": {},
   "outputs": [
    {
     "data": {
      "text/html": [
       "<pre style=\"white-space:pre;overflow-x:auto;line-height:normal;font-family:Menlo,'DejaVu Sans Mono',consolas,'Courier New',monospace\"><span style=\"color: #008080; text-decoration-color: #008080; font-weight: bold\">1.7</span>.<span style=\"color: #008080; text-decoration-color: #008080; font-weight: bold\">19</span>\n",
       "</pre>\n"
      ],
      "text/plain": [
       "\u001b[1;36m1.7\u001b[0m.\u001b[1;36m19\u001b[0m\n"
      ]
     },
     "metadata": {},
     "output_type": "display_data"
    }
   ],
   "source": [
    "# versions\n",
    "print(ptdb.__version__)"
   ]
  },
  {
   "cell_type": "markdown",
   "id": "8067c233",
   "metadata": {},
   "source": [
    "# Custom Reference"
   ]
  },
  {
   "cell_type": "code",
   "execution_count": 3,
   "id": "5f4af500",
   "metadata": {},
   "outputs": [
    {
     "data": {
      "text/html": [
       "<pre style=\"white-space:pre;overflow-x:auto;line-height:normal;font-family:Menlo,'DejaVu Sans Mono',consolas,'Courier New',monospace\"><span style=\"font-weight: bold\">{</span>\n",
       "    <span style=\"color: #008000; text-decoration-color: #008000\">'reference'</span>: <span style=\"font-weight: bold\">[</span><span style=\"color: #008000; text-decoration-color: #008000\">'e:\\\\Python Projects\\\\pyThermoDB\\\\tests\\\\nrtl-2.yml'</span><span style=\"font-weight: bold\">]</span>,\n",
       "    <span style=\"color: #008000; text-decoration-color: #008000\">'tables'</span>: <span style=\"font-weight: bold\">[</span>\n",
       "        <span style=\"color: #008000; text-decoration-color: #008000\">'e:\\\\Python Projects\\\\pyThermoDB\\\\tests\\\\Non-randomness parameters of the NRTL equation.csv'</span>,\n",
       "        <span style=\"color: #008000; text-decoration-color: #008000\">'e:\\\\Python Projects\\\\pyThermoDB\\\\tests\\\\Interaction parameters of the NRTL equation-2.csv'</span>\n",
       "    <span style=\"font-weight: bold\">]</span>\n",
       "<span style=\"font-weight: bold\">}</span>\n",
       "</pre>\n"
      ],
      "text/plain": [
       "\u001b[1m{\u001b[0m\n",
       "    \u001b[32m'reference'\u001b[0m: \u001b[1m[\u001b[0m\u001b[32m'e:\\\\Python Projects\\\\pyThermoDB\\\\tests\\\\nrtl-2.yml'\u001b[0m\u001b[1m]\u001b[0m,\n",
       "    \u001b[32m'tables'\u001b[0m: \u001b[1m[\u001b[0m\n",
       "        \u001b[32m'e:\\\\Python Projects\\\\pyThermoDB\\\\tests\\\\Non-randomness parameters of the NRTL equation.csv'\u001b[0m,\n",
       "        \u001b[32m'e:\\\\Python Projects\\\\pyThermoDB\\\\tests\\\\Interaction parameters of the NRTL equation-2.csv'\u001b[0m\n",
       "    \u001b[1m]\u001b[0m\n",
       "\u001b[1m}\u001b[0m\n"
      ]
     },
     "metadata": {},
     "output_type": "display_data"
    }
   ],
   "source": [
    "# parent directory\n",
    "parent_dir = os.path.dirname(os.getcwd())\n",
    "# test directory\n",
    "test_dir = os.path.join(parent_dir, 'tests')\n",
    "# files\n",
    "yml_file = 'nrtl-2.yml'\n",
    "yml_path = os.path.join(test_dir, yml_file)\n",
    "# csv files (data/equation tables)\n",
    "# NOTE: data\n",
    "csv_file_1 = 'Non-randomness parameters of the NRTL equation.csv'\n",
    "# NOTE: equation\n",
    "csv_file_2 = 'Interaction parameters of the NRTL equation-2.csv'\n",
    "csv_path_1 = os.path.join(test_dir, csv_file_1)\n",
    "csv_path_2 = os.path.join(test_dir, csv_file_2)\n",
    "\n",
    "# custom ref\n",
    "ref = {\n",
    "    'reference': [yml_path],\n",
    "    'tables': [csv_path_1, csv_path_2]\n",
    "}\n",
    "\n",
    "print(ref)"
   ]
  },
  {
   "cell_type": "markdown",
   "id": "21a261c8",
   "metadata": {},
   "source": [
    "# App Initializtion"
   ]
  },
  {
   "cell_type": "markdown",
   "id": "a549ec3c",
   "metadata": {},
   "source": [
    "## Defines a Custom Reference (Added to the App Databook)"
   ]
  },
  {
   "cell_type": "code",
   "execution_count": 4,
   "id": "b6a0deac",
   "metadata": {},
   "outputs": [],
   "source": [
    "tdb = ptdb.init(custom_reference=ref)"
   ]
  },
  {
   "cell_type": "markdown",
   "id": "3075d5d1",
   "metadata": {},
   "source": [
    "## Use Only to Check References"
   ]
  },
  {
   "cell_type": "code",
   "execution_count": 5,
   "id": "c4357805",
   "metadata": {},
   "outputs": [
    {
     "data": {
      "text/html": [
       "<pre style=\"white-space:pre;overflow-x:auto;line-height:normal;font-family:Menlo,'DejaVu Sans Mono',consolas,'Courier New',monospace\"><span style=\"font-weight: bold\">&lt;</span><span style=\"color: #ff00ff; text-decoration-color: #ff00ff; font-weight: bold\">pyThermoDB.docs.tableref.TableReference</span><span style=\"color: #000000; text-decoration-color: #000000\"> object at </span><span style=\"color: #008080; text-decoration-color: #008080; font-weight: bold\">0x0000022333DB9FD0</span><span style=\"font-weight: bold\">&gt;</span>\n",
       "</pre>\n"
      ],
      "text/plain": [
       "\u001b[1m<\u001b[0m\u001b[1;95mpyThermoDB.docs.tableref.TableReference\u001b[0m\u001b[39m object at \u001b[0m\u001b[1;36m0x0000022333DB9FD0\u001b[0m\u001b[1m>\u001b[0m\n"
      ]
     },
     "metadata": {},
     "output_type": "display_data"
    }
   ],
   "source": [
    "tdb_ref = ptdb.ref(custom_reference=ref)\n",
    "print(tdb_ref)"
   ]
  },
  {
   "cell_type": "markdown",
   "id": "c57f1e8e",
   "metadata": {},
   "source": [
    "# Databook List"
   ]
  },
  {
   "cell_type": "code",
   "execution_count": 6,
   "id": "d274d77c",
   "metadata": {},
   "outputs": [
    {
     "data": {
      "text/html": [
       "<pre style=\"white-space:pre;overflow-x:auto;line-height:normal;font-family:Menlo,'DejaVu Sans Mono',consolas,'Courier New',monospace\">                                           Databooks   Id\n",
       "<span style=\"color: #008080; text-decoration-color: #008080; font-weight: bold\">0</span>               Perry's Chemical Engineers' Handbook  <span style=\"font-weight: bold\">[</span><span style=\"color: #008080; text-decoration-color: #008080; font-weight: bold\">1</span><span style=\"font-weight: bold\">]</span>\n",
       "<span style=\"color: #008080; text-decoration-color: #008080; font-weight: bold\">1</span>     Chemical Thermodynamics for Process Simulation  <span style=\"font-weight: bold\">[</span><span style=\"color: #008080; text-decoration-color: #008080; font-weight: bold\">2</span><span style=\"font-weight: bold\">]</span>\n",
       "<span style=\"color: #008080; text-decoration-color: #008080; font-weight: bold\">2</span>            Chemical and Engineering Thermodynamics  <span style=\"font-weight: bold\">[</span><span style=\"color: #008080; text-decoration-color: #008080; font-weight: bold\">3</span><span style=\"font-weight: bold\">]</span>\n",
       "<span style=\"color: #008080; text-decoration-color: #008080; font-weight: bold\">3</span>                         CO2 Hydrogenation Reaction  <span style=\"font-weight: bold\">[</span><span style=\"color: #008080; text-decoration-color: #008080; font-weight: bold\">4</span><span style=\"font-weight: bold\">]</span>\n",
       "<span style=\"color: #008080; text-decoration-color: #008080; font-weight: bold\">4</span>  Introduction to Chemical Engineering Thermodyn<span style=\"color: #808000; text-decoration-color: #808000\">...</span>  <span style=\"font-weight: bold\">[</span><span style=\"color: #008080; text-decoration-color: #008080; font-weight: bold\">5</span><span style=\"font-weight: bold\">]</span>\n",
       "<span style=\"color: #008080; text-decoration-color: #008080; font-weight: bold\">5</span>                    Properties of Gases and Liquids  <span style=\"font-weight: bold\">[</span><span style=\"color: #008080; text-decoration-color: #008080; font-weight: bold\">6</span><span style=\"font-weight: bold\">]</span>\n",
       "<span style=\"color: #008080; text-decoration-color: #008080; font-weight: bold\">6</span>                                               NRTL  <span style=\"font-weight: bold\">[</span><span style=\"color: #008080; text-decoration-color: #008080; font-weight: bold\">7</span><span style=\"font-weight: bold\">]</span>\n",
       "</pre>\n"
      ],
      "text/plain": [
       "                                           Databooks   Id\n",
       "\u001b[1;36m0\u001b[0m               Perry's Chemical Engineers' Handbook  \u001b[1m[\u001b[0m\u001b[1;36m1\u001b[0m\u001b[1m]\u001b[0m\n",
       "\u001b[1;36m1\u001b[0m     Chemical Thermodynamics for Process Simulation  \u001b[1m[\u001b[0m\u001b[1;36m2\u001b[0m\u001b[1m]\u001b[0m\n",
       "\u001b[1;36m2\u001b[0m            Chemical and Engineering Thermodynamics  \u001b[1m[\u001b[0m\u001b[1;36m3\u001b[0m\u001b[1m]\u001b[0m\n",
       "\u001b[1;36m3\u001b[0m                         CO2 Hydrogenation Reaction  \u001b[1m[\u001b[0m\u001b[1;36m4\u001b[0m\u001b[1m]\u001b[0m\n",
       "\u001b[1;36m4\u001b[0m  Introduction to Chemical Engineering Thermodyn\u001b[33m...\u001b[0m  \u001b[1m[\u001b[0m\u001b[1;36m5\u001b[0m\u001b[1m]\u001b[0m\n",
       "\u001b[1;36m5\u001b[0m                    Properties of Gases and Liquids  \u001b[1m[\u001b[0m\u001b[1;36m6\u001b[0m\u001b[1m]\u001b[0m\n",
       "\u001b[1;36m6\u001b[0m                                               NRTL  \u001b[1m[\u001b[0m\u001b[1;36m7\u001b[0m\u001b[1m]\u001b[0m\n"
      ]
     },
     "metadata": {},
     "output_type": "display_data"
    }
   ],
   "source": [
    "db_list = tdb.list_databooks()\n",
    "print(db_list)"
   ]
  },
  {
   "cell_type": "markdown",
   "id": "43d502e2",
   "metadata": {},
   "source": [
    "# Table List"
   ]
  },
  {
   "cell_type": "code",
   "execution_count": 7,
   "id": "7a1e2a7b",
   "metadata": {},
   "outputs": [
    {
     "data": {
      "text/html": [
       "<pre style=\"white-space:pre;overflow-x:auto;line-height:normal;font-family:Menlo,'DejaVu Sans Mono',consolas,'Courier New',monospace\"><span style=\"font-weight: bold\">{</span>\n",
       "    <span style=\"color: #008000; text-decoration-color: #008000\">\"table-1\"</span>: <span style=\"color: #008000; text-decoration-color: #008000\">\"Non-randomness parameters of the NRTL equation\"</span>,\n",
       "    <span style=\"color: #008000; text-decoration-color: #008000\">\"table-2\"</span>: <span style=\"color: #008000; text-decoration-color: #008000\">\"Interaction parameters of the NRTL equation-2\"</span>\n",
       "<span style=\"font-weight: bold\">}</span>\n",
       "</pre>\n"
      ],
      "text/plain": [
       "\u001b[1m{\u001b[0m\n",
       "    \u001b[32m\"table-1\"\u001b[0m: \u001b[32m\"Non-randomness parameters of the NRTL equation\"\u001b[0m,\n",
       "    \u001b[32m\"table-2\"\u001b[0m: \u001b[32m\"Interaction parameters of the NRTL equation-2\"\u001b[0m\n",
       "\u001b[1m}\u001b[0m\n"
      ]
     },
     "metadata": {},
     "output_type": "display_data"
    }
   ],
   "source": [
    "tb_lists = tdb.list_tables(\"NRTL\", res_format='json')\n",
    "print(tb_lists)"
   ]
  },
  {
   "cell_type": "markdown",
   "id": "45d80642",
   "metadata": {},
   "source": [
    "# Table Info"
   ]
  },
  {
   "cell_type": "markdown",
   "id": "4471d60e",
   "metadata": {},
   "source": [
    "## Structure"
   ]
  },
  {
   "cell_type": "code",
   "execution_count": 8,
   "id": "c0c8b13c",
   "metadata": {},
   "outputs": [
    {
     "data": {
      "text/html": [
       "<pre style=\"white-space:pre;overflow-x:auto;line-height:normal;font-family:Menlo,'DejaVu Sans Mono',consolas,'Courier New',monospace\"><span style=\"font-weight: bold\">{</span>\n",
       "    <span style=\"color: #008000; text-decoration-color: #008000\">'table_id'</span>: <span style=\"color: #008080; text-decoration-color: #008080; font-weight: bold\">-1</span>,\n",
       "    <span style=\"color: #008000; text-decoration-color: #008000\">'table'</span>: <span style=\"color: #008000; text-decoration-color: #008000\">'Non-randomness parameters of the NRTL equation'</span>,\n",
       "    <span style=\"color: #008000; text-decoration-color: #008000\">'description'</span>: <span style=\"color: #800080; text-decoration-color: #800080; font-style: italic\">None</span>,\n",
       "    <span style=\"color: #008000; text-decoration-color: #008000\">'equations'</span>: <span style=\"color: #800080; text-decoration-color: #800080; font-style: italic\">None</span>,\n",
       "    <span style=\"color: #008000; text-decoration-color: #008000\">'data'</span>: <span style=\"color: #800080; text-decoration-color: #800080; font-style: italic\">None</span>,\n",
       "    <span style=\"color: #008000; text-decoration-color: #008000\">'matrix_equations'</span>: <span style=\"color: #800080; text-decoration-color: #800080; font-style: italic\">None</span>,\n",
       "    <span style=\"color: #008000; text-decoration-color: #008000\">'matrix_data'</span>: <span style=\"font-weight: bold\">{</span>\n",
       "        <span style=\"color: #008000; text-decoration-color: #008000\">'COLUMNS'</span>: <span style=\"font-weight: bold\">[</span><span style=\"color: #008000; text-decoration-color: #008000\">'No.'</span>, <span style=\"color: #008000; text-decoration-color: #008000\">'Name'</span>, <span style=\"color: #008000; text-decoration-color: #008000\">'Formula'</span>, <span style=\"color: #008000; text-decoration-color: #008000\">'Alpha_i_1'</span>, <span style=\"color: #008000; text-decoration-color: #008000\">'Alpha_i_2'</span>, <span style=\"color: #008000; text-decoration-color: #008000\">'Alpha_i_3'</span><span style=\"font-weight: bold\">]</span>,\n",
       "        <span style=\"color: #008000; text-decoration-color: #008000\">'SYMBOL'</span>: <span style=\"font-weight: bold\">[</span><span style=\"color: #008000; text-decoration-color: #008000\">'None'</span>, <span style=\"color: #008000; text-decoration-color: #008000\">'None'</span>, <span style=\"color: #008000; text-decoration-color: #008000\">'None'</span>, <span style=\"color: #008000; text-decoration-color: #008000\">'Alpha_i_1'</span>, <span style=\"color: #008000; text-decoration-color: #008000\">'Alpha_i_2'</span>, <span style=\"color: #008000; text-decoration-color: #008000\">'Alpha_i_3'</span><span style=\"font-weight: bold\">]</span>,\n",
       "        <span style=\"color: #008000; text-decoration-color: #008000\">'UNIT'</span>: <span style=\"font-weight: bold\">[</span><span style=\"color: #008000; text-decoration-color: #008000\">'None'</span>, <span style=\"color: #008000; text-decoration-color: #008000\">'None'</span>, <span style=\"color: #008000; text-decoration-color: #008000\">'None'</span>, <span style=\"color: #008080; text-decoration-color: #008080; font-weight: bold\">1</span>, <span style=\"color: #008080; text-decoration-color: #008080; font-weight: bold\">1</span>, <span style=\"color: #008080; text-decoration-color: #008080; font-weight: bold\">1</span><span style=\"font-weight: bold\">]</span>,\n",
       "        <span style=\"color: #008000; text-decoration-color: #008000\">'CONVERSION'</span>: <span style=\"font-weight: bold\">[</span><span style=\"color: #008000; text-decoration-color: #008000\">'None'</span>, <span style=\"color: #008000; text-decoration-color: #008000\">'None'</span>, <span style=\"color: #008000; text-decoration-color: #008000\">'None'</span>, <span style=\"color: #008080; text-decoration-color: #008080; font-weight: bold\">1</span>, <span style=\"color: #008080; text-decoration-color: #008080; font-weight: bold\">1</span>, <span style=\"color: #008080; text-decoration-color: #008080; font-weight: bold\">1</span><span style=\"font-weight: bold\">]</span>\n",
       "    <span style=\"font-weight: bold\">}</span>\n",
       "<span style=\"font-weight: bold\">}</span>\n",
       "</pre>\n"
      ],
      "text/plain": [
       "\u001b[1m{\u001b[0m\n",
       "    \u001b[32m'table_id'\u001b[0m: \u001b[1;36m-1\u001b[0m,\n",
       "    \u001b[32m'table'\u001b[0m: \u001b[32m'Non-randomness parameters of the NRTL equation'\u001b[0m,\n",
       "    \u001b[32m'description'\u001b[0m: \u001b[3;35mNone\u001b[0m,\n",
       "    \u001b[32m'equations'\u001b[0m: \u001b[3;35mNone\u001b[0m,\n",
       "    \u001b[32m'data'\u001b[0m: \u001b[3;35mNone\u001b[0m,\n",
       "    \u001b[32m'matrix_equations'\u001b[0m: \u001b[3;35mNone\u001b[0m,\n",
       "    \u001b[32m'matrix_data'\u001b[0m: \u001b[1m{\u001b[0m\n",
       "        \u001b[32m'COLUMNS'\u001b[0m: \u001b[1m[\u001b[0m\u001b[32m'No.'\u001b[0m, \u001b[32m'Name'\u001b[0m, \u001b[32m'Formula'\u001b[0m, \u001b[32m'Alpha_i_1'\u001b[0m, \u001b[32m'Alpha_i_2'\u001b[0m, \u001b[32m'Alpha_i_3'\u001b[0m\u001b[1m]\u001b[0m,\n",
       "        \u001b[32m'SYMBOL'\u001b[0m: \u001b[1m[\u001b[0m\u001b[32m'None'\u001b[0m, \u001b[32m'None'\u001b[0m, \u001b[32m'None'\u001b[0m, \u001b[32m'Alpha_i_1'\u001b[0m, \u001b[32m'Alpha_i_2'\u001b[0m, \u001b[32m'Alpha_i_3'\u001b[0m\u001b[1m]\u001b[0m,\n",
       "        \u001b[32m'UNIT'\u001b[0m: \u001b[1m[\u001b[0m\u001b[32m'None'\u001b[0m, \u001b[32m'None'\u001b[0m, \u001b[32m'None'\u001b[0m, \u001b[1;36m1\u001b[0m, \u001b[1;36m1\u001b[0m, \u001b[1;36m1\u001b[0m\u001b[1m]\u001b[0m,\n",
       "        \u001b[32m'CONVERSION'\u001b[0m: \u001b[1m[\u001b[0m\u001b[32m'None'\u001b[0m, \u001b[32m'None'\u001b[0m, \u001b[32m'None'\u001b[0m, \u001b[1;36m1\u001b[0m, \u001b[1;36m1\u001b[0m, \u001b[1;36m1\u001b[0m\u001b[1m]\u001b[0m\n",
       "    \u001b[1m}\u001b[0m\n",
       "\u001b[1m}\u001b[0m\n"
      ]
     },
     "metadata": {},
     "output_type": "display_data"
    }
   ],
   "source": [
    "# select a table\n",
    "tb_select = tdb.select_table(7, 1)\n",
    "print(tb_select)"
   ]
  },
  {
   "cell_type": "code",
   "execution_count": 9,
   "id": "e46609ab",
   "metadata": {},
   "outputs": [
    {
     "data": {
      "text/html": [
       "<pre style=\"white-space:pre;overflow-x:auto;line-height:normal;font-family:Menlo,'DejaVu Sans Mono',consolas,'Courier New',monospace\"><span style=\"font-weight: bold\">{</span>\n",
       "    <span style=\"color: #008000; text-decoration-color: #008000\">'table_id'</span>: <span style=\"color: #008080; text-decoration-color: #008080; font-weight: bold\">-1</span>,\n",
       "    <span style=\"color: #008000; text-decoration-color: #008000\">'table'</span>: <span style=\"color: #008000; text-decoration-color: #008000\">'Interaction parameters of the NRTL equation-2'</span>,\n",
       "    <span style=\"color: #008000; text-decoration-color: #008000\">'description'</span>: <span style=\"color: #800080; text-decoration-color: #800080; font-style: italic\">None</span>,\n",
       "    <span style=\"color: #008000; text-decoration-color: #008000\">'equations'</span>: <span style=\"color: #800080; text-decoration-color: #800080; font-style: italic\">None</span>,\n",
       "    <span style=\"color: #008000; text-decoration-color: #008000\">'data'</span>: <span style=\"color: #800080; text-decoration-color: #800080; font-style: italic\">None</span>,\n",
       "    <span style=\"color: #008000; text-decoration-color: #008000\">'matrix_equations'</span>: <span style=\"font-weight: bold\">[</span>\n",
       "        <span style=\"font-weight: bold\">{</span>\n",
       "            <span style=\"color: #008000; text-decoration-color: #008000\">'BODY'</span>: <span style=\"font-weight: bold\">[</span><span style=\"color: #008000; text-decoration-color: #008000\">\"res = parms['A_i_j'] + parms['B_i_j']*(args['T']**(-1))\"</span><span style=\"font-weight: bold\">]</span>,\n",
       "            <span style=\"color: #008000; text-decoration-color: #008000\">'ARGS'</span>: <span style=\"font-weight: bold\">{</span><span style=\"color: #008000; text-decoration-color: #008000\">'temperature'</span>: <span style=\"font-weight: bold\">{</span><span style=\"color: #008000; text-decoration-color: #008000\">'name'</span>: <span style=\"color: #008000; text-decoration-color: #008000\">'temperature'</span>, <span style=\"color: #008000; text-decoration-color: #008000\">'symbol'</span>: <span style=\"color: #008000; text-decoration-color: #008000\">'T'</span>, <span style=\"color: #008000; text-decoration-color: #008000\">'unit'</span>: <span style=\"color: #008000; text-decoration-color: #008000\">'K'</span><span style=\"font-weight: bold\">}}</span>,\n",
       "            <span style=\"color: #008000; text-decoration-color: #008000\">'PARMS'</span>: <span style=\"font-weight: bold\">{</span>\n",
       "                <span style=\"color: #008000; text-decoration-color: #008000\">'A_i_j'</span>: <span style=\"font-weight: bold\">{</span><span style=\"color: #008000; text-decoration-color: #008000\">'name'</span>: <span style=\"color: #008000; text-decoration-color: #008000\">'A_i_j'</span>, <span style=\"color: #008000; text-decoration-color: #008000\">'symbol'</span>: <span style=\"color: #008000; text-decoration-color: #008000\">'A_i_j'</span>, <span style=\"color: #008000; text-decoration-color: #008000\">'unit'</span>: <span style=\"color: #008080; text-decoration-color: #008080; font-weight: bold\">1</span>, <span style=\"color: #008000; text-decoration-color: #008000\">'conversion'</span>: <span style=\"color: #008080; text-decoration-color: #008080; font-weight: bold\">1</span><span style=\"font-weight: bold\">}</span>,\n",
       "                <span style=\"color: #008000; text-decoration-color: #008000\">'B_i_j'</span>: <span style=\"font-weight: bold\">{</span><span style=\"color: #008000; text-decoration-color: #008000\">'name'</span>: <span style=\"color: #008000; text-decoration-color: #008000\">'B_i_j'</span>, <span style=\"color: #008000; text-decoration-color: #008000\">'symbol'</span>: <span style=\"color: #008000; text-decoration-color: #008000\">'B_i_j'</span>, <span style=\"color: #008000; text-decoration-color: #008000\">'unit'</span>: <span style=\"color: #008080; text-decoration-color: #008080; font-weight: bold\">1</span>, <span style=\"color: #008000; text-decoration-color: #008000\">'conversion'</span>: <span style=\"color: #008080; text-decoration-color: #008080; font-weight: bold\">1</span><span style=\"font-weight: bold\">}</span>\n",
       "            <span style=\"font-weight: bold\">}</span>,\n",
       "            <span style=\"color: #008000; text-decoration-color: #008000\">'RETURNS'</span>: <span style=\"font-weight: bold\">{</span><span style=\"color: #008000; text-decoration-color: #008000\">'tau_i_j'</span>: <span style=\"font-weight: bold\">{</span><span style=\"color: #008000; text-decoration-color: #008000\">'name'</span>: <span style=\"color: #008000; text-decoration-color: #008000\">'tau_i_j'</span>, <span style=\"color: #008000; text-decoration-color: #008000\">'symbol'</span>: <span style=\"color: #008000; text-decoration-color: #008000\">'tau_i_j'</span>, <span style=\"color: #008000; text-decoration-color: #008000\">'unit'</span>: <span style=\"color: #008080; text-decoration-color: #008080; font-weight: bold\">1</span><span style=\"font-weight: bold\">}}</span>,\n",
       "            <span style=\"color: #008000; text-decoration-color: #008000\">'BODY-INTEGRAL'</span>: <span style=\"color: #008000; text-decoration-color: #008000\">'None'</span>,\n",
       "            <span style=\"color: #008000; text-decoration-color: #008000\">'BODY-FIRST-DERIVATIVE'</span>: <span style=\"color: #008000; text-decoration-color: #008000\">'None'</span>,\n",
       "            <span style=\"color: #008000; text-decoration-color: #008000\">'BODY-SECOND-DERIVATIVE'</span>: <span style=\"color: #008000; text-decoration-color: #008000\">'None'</span>\n",
       "        <span style=\"font-weight: bold\">}</span>\n",
       "    <span style=\"font-weight: bold\">]</span>,\n",
       "    <span style=\"color: #008000; text-decoration-color: #008000\">'matrix_data'</span>: <span style=\"color: #800080; text-decoration-color: #800080; font-style: italic\">None</span>\n",
       "<span style=\"font-weight: bold\">}</span>\n",
       "</pre>\n"
      ],
      "text/plain": [
       "\u001b[1m{\u001b[0m\n",
       "    \u001b[32m'table_id'\u001b[0m: \u001b[1;36m-1\u001b[0m,\n",
       "    \u001b[32m'table'\u001b[0m: \u001b[32m'Interaction parameters of the NRTL equation-2'\u001b[0m,\n",
       "    \u001b[32m'description'\u001b[0m: \u001b[3;35mNone\u001b[0m,\n",
       "    \u001b[32m'equations'\u001b[0m: \u001b[3;35mNone\u001b[0m,\n",
       "    \u001b[32m'data'\u001b[0m: \u001b[3;35mNone\u001b[0m,\n",
       "    \u001b[32m'matrix_equations'\u001b[0m: \u001b[1m[\u001b[0m\n",
       "        \u001b[1m{\u001b[0m\n",
       "            \u001b[32m'BODY'\u001b[0m: \u001b[1m[\u001b[0m\u001b[32m\"res = parms\u001b[0m\u001b[32m[\u001b[0m\u001b[32m'A_i_j'\u001b[0m\u001b[32m]\u001b[0m\u001b[32m + parms\u001b[0m\u001b[32m[\u001b[0m\u001b[32m'B_i_j'\u001b[0m\u001b[32m]\u001b[0m\u001b[32m*\u001b[0m\u001b[32m(\u001b[0m\u001b[32margs\u001b[0m\u001b[32m[\u001b[0m\u001b[32m'T'\u001b[0m\u001b[32m]\u001b[0m\u001b[32m**\u001b[0m\u001b[32m(\u001b[0m\u001b[32m-1\u001b[0m\u001b[32m)\u001b[0m\u001b[32m)\u001b[0m\u001b[32m\"\u001b[0m\u001b[1m]\u001b[0m,\n",
       "            \u001b[32m'ARGS'\u001b[0m: \u001b[1m{\u001b[0m\u001b[32m'temperature'\u001b[0m: \u001b[1m{\u001b[0m\u001b[32m'name'\u001b[0m: \u001b[32m'temperature'\u001b[0m, \u001b[32m'symbol'\u001b[0m: \u001b[32m'T'\u001b[0m, \u001b[32m'unit'\u001b[0m: \u001b[32m'K'\u001b[0m\u001b[1m}\u001b[0m\u001b[1m}\u001b[0m,\n",
       "            \u001b[32m'PARMS'\u001b[0m: \u001b[1m{\u001b[0m\n",
       "                \u001b[32m'A_i_j'\u001b[0m: \u001b[1m{\u001b[0m\u001b[32m'name'\u001b[0m: \u001b[32m'A_i_j'\u001b[0m, \u001b[32m'symbol'\u001b[0m: \u001b[32m'A_i_j'\u001b[0m, \u001b[32m'unit'\u001b[0m: \u001b[1;36m1\u001b[0m, \u001b[32m'conversion'\u001b[0m: \u001b[1;36m1\u001b[0m\u001b[1m}\u001b[0m,\n",
       "                \u001b[32m'B_i_j'\u001b[0m: \u001b[1m{\u001b[0m\u001b[32m'name'\u001b[0m: \u001b[32m'B_i_j'\u001b[0m, \u001b[32m'symbol'\u001b[0m: \u001b[32m'B_i_j'\u001b[0m, \u001b[32m'unit'\u001b[0m: \u001b[1;36m1\u001b[0m, \u001b[32m'conversion'\u001b[0m: \u001b[1;36m1\u001b[0m\u001b[1m}\u001b[0m\n",
       "            \u001b[1m}\u001b[0m,\n",
       "            \u001b[32m'RETURNS'\u001b[0m: \u001b[1m{\u001b[0m\u001b[32m'tau_i_j'\u001b[0m: \u001b[1m{\u001b[0m\u001b[32m'name'\u001b[0m: \u001b[32m'tau_i_j'\u001b[0m, \u001b[32m'symbol'\u001b[0m: \u001b[32m'tau_i_j'\u001b[0m, \u001b[32m'unit'\u001b[0m: \u001b[1;36m1\u001b[0m\u001b[1m}\u001b[0m\u001b[1m}\u001b[0m,\n",
       "            \u001b[32m'BODY-INTEGRAL'\u001b[0m: \u001b[32m'None'\u001b[0m,\n",
       "            \u001b[32m'BODY-FIRST-DERIVATIVE'\u001b[0m: \u001b[32m'None'\u001b[0m,\n",
       "            \u001b[32m'BODY-SECOND-DERIVATIVE'\u001b[0m: \u001b[32m'None'\u001b[0m\n",
       "        \u001b[1m}\u001b[0m\n",
       "    \u001b[1m]\u001b[0m,\n",
       "    \u001b[32m'matrix_data'\u001b[0m: \u001b[3;35mNone\u001b[0m\n",
       "\u001b[1m}\u001b[0m\n"
      ]
     },
     "metadata": {},
     "output_type": "display_data"
    }
   ],
   "source": [
    "tb_select = tdb.select_table(7, 2)\n",
    "print(tb_select)"
   ]
  },
  {
   "cell_type": "markdown",
   "id": "e1e3964c",
   "metadata": {},
   "source": [
    "## Information"
   ]
  },
  {
   "cell_type": "code",
   "execution_count": 10,
   "id": "b773754b",
   "metadata": {},
   "outputs": [
    {
     "data": {
      "text/html": [
       "<pre style=\"white-space:pre;overflow-x:auto;line-height:normal;font-family:Menlo,'DejaVu Sans Mono',consolas,'Courier New',monospace\">                                       Table Name         Type  Equations  \\\n",
       "<span style=\"color: #008080; text-decoration-color: #008080; font-weight: bold\">0</span>  Non-randomness parameters of the NRTL equation  Matrix-Data          <span style=\"color: #008080; text-decoration-color: #008080; font-weight: bold\">0</span>   \n",
       "\n",
       "   Data  Matrix-Equations  Matrix-Data  \n",
       "<span style=\"color: #008080; text-decoration-color: #008080; font-weight: bold\">0</span>     <span style=\"color: #008080; text-decoration-color: #008080; font-weight: bold\">0</span>                 <span style=\"color: #008080; text-decoration-color: #008080; font-weight: bold\">0</span>            <span style=\"color: #008080; text-decoration-color: #008080; font-weight: bold\">1</span>  \n",
       "</pre>\n"
      ],
      "text/plain": [
       "                                       Table Name         Type  Equations  \\\n",
       "\u001b[1;36m0\u001b[0m  Non-randomness parameters of the NRTL equation  Matrix-Data          \u001b[1;36m0\u001b[0m   \n",
       "\n",
       "   Data  Matrix-Equations  Matrix-Data  \n",
       "\u001b[1;36m0\u001b[0m     \u001b[1;36m0\u001b[0m                 \u001b[1;36m0\u001b[0m            \u001b[1;36m1\u001b[0m  \n"
      ]
     },
     "metadata": {},
     "output_type": "display_data"
    }
   ],
   "source": [
    "# display a table\n",
    "tb_info = tdb.table_info(7, 1)\n",
    "print(tb_info)"
   ]
  },
  {
   "cell_type": "code",
   "execution_count": 11,
   "id": "7bc5e1a1",
   "metadata": {},
   "outputs": [
    {
     "data": {
      "text/html": [
       "<pre style=\"white-space:pre;overflow-x:auto;line-height:normal;font-family:Menlo,'DejaVu Sans Mono',consolas,'Courier New',monospace\">                                      Table Name             Type  Equations  \\\n",
       "<span style=\"color: #008080; text-decoration-color: #008080; font-weight: bold\">0</span>  Interaction parameters of the NRTL equation-<span style=\"color: #008080; text-decoration-color: #008080; font-weight: bold\">2</span>  Matrix-Equation          <span style=\"color: #008080; text-decoration-color: #008080; font-weight: bold\">0</span>   \n",
       "\n",
       "   Data  Matrix-Equations  Matrix-Data  \n",
       "<span style=\"color: #008080; text-decoration-color: #008080; font-weight: bold\">0</span>     <span style=\"color: #008080; text-decoration-color: #008080; font-weight: bold\">0</span>                 <span style=\"color: #008080; text-decoration-color: #008080; font-weight: bold\">1</span>            <span style=\"color: #008080; text-decoration-color: #008080; font-weight: bold\">0</span>  \n",
       "</pre>\n"
      ],
      "text/plain": [
       "                                      Table Name             Type  Equations  \\\n",
       "\u001b[1;36m0\u001b[0m  Interaction parameters of the NRTL equation-\u001b[1;36m2\u001b[0m  Matrix-Equation          \u001b[1;36m0\u001b[0m   \n",
       "\n",
       "   Data  Matrix-Equations  Matrix-Data  \n",
       "\u001b[1;36m0\u001b[0m     \u001b[1;36m0\u001b[0m                 \u001b[1;36m1\u001b[0m            \u001b[1;36m0\u001b[0m  \n"
      ]
     },
     "metadata": {},
     "output_type": "display_data"
    }
   ],
   "source": [
    "# display a table\n",
    "tb_info = tdb.table_info(7, 2)\n",
    "print(tb_info)"
   ]
  },
  {
   "cell_type": "markdown",
   "id": "dd4b81cb",
   "metadata": {},
   "source": [
    "# Load Tables' Structure"
   ]
  },
  {
   "cell_type": "markdown",
   "id": "765a38bf",
   "metadata": {},
   "source": [
    "## Equation"
   ]
  },
  {
   "cell_type": "code",
   "execution_count": 12,
   "id": "82fc641d",
   "metadata": {},
   "outputs": [
    {
     "data": {
      "text/html": [
       "<pre style=\"white-space:pre;overflow-x:auto;line-height:normal;font-family:Menlo,'DejaVu Sans Mono',consolas,'Courier New',monospace\"><span style=\"font-weight: bold\">{</span>\n",
       "    <span style=\"color: #008000; text-decoration-color: #008000\">'id'</span>: <span style=\"color: #008080; text-decoration-color: #008080; font-weight: bold\">0</span>,\n",
       "    <span style=\"color: #008000; text-decoration-color: #008000\">'body'</span>: <span style=\"font-weight: bold\">[</span><span style=\"color: #008000; text-decoration-color: #008000\">\"res = parms['A_i_j'] + parms['B_i_j']*(args['T']**(-1))\"</span><span style=\"font-weight: bold\">]</span>,\n",
       "    <span style=\"color: #008000; text-decoration-color: #008000\">'args'</span>: <span style=\"font-weight: bold\">{</span><span style=\"color: #008000; text-decoration-color: #008000\">'temperature'</span>: <span style=\"font-weight: bold\">{</span><span style=\"color: #008000; text-decoration-color: #008000\">'name'</span>: <span style=\"color: #008000; text-decoration-color: #008000\">'temperature'</span>, <span style=\"color: #008000; text-decoration-color: #008000\">'symbol'</span>: <span style=\"color: #008000; text-decoration-color: #008000\">'T'</span>, <span style=\"color: #008000; text-decoration-color: #008000\">'unit'</span>: <span style=\"color: #008000; text-decoration-color: #008000\">'K'</span><span style=\"font-weight: bold\">}}</span>,\n",
       "    <span style=\"color: #008000; text-decoration-color: #008000\">'parms'</span>: <span style=\"font-weight: bold\">{</span>\n",
       "        <span style=\"color: #008000; text-decoration-color: #008000\">'A_i_j'</span>: <span style=\"font-weight: bold\">{</span><span style=\"color: #008000; text-decoration-color: #008000\">'name'</span>: <span style=\"color: #008000; text-decoration-color: #008000\">'A_i_j'</span>, <span style=\"color: #008000; text-decoration-color: #008000\">'symbol'</span>: <span style=\"color: #008000; text-decoration-color: #008000\">'A_i_j'</span>, <span style=\"color: #008000; text-decoration-color: #008000\">'unit'</span>: <span style=\"color: #008080; text-decoration-color: #008080; font-weight: bold\">1</span>, <span style=\"color: #008000; text-decoration-color: #008000\">'conversion'</span>: <span style=\"color: #008080; text-decoration-color: #008080; font-weight: bold\">1</span><span style=\"font-weight: bold\">}</span>,\n",
       "        <span style=\"color: #008000; text-decoration-color: #008000\">'B_i_j'</span>: <span style=\"font-weight: bold\">{</span><span style=\"color: #008000; text-decoration-color: #008000\">'name'</span>: <span style=\"color: #008000; text-decoration-color: #008000\">'B_i_j'</span>, <span style=\"color: #008000; text-decoration-color: #008000\">'symbol'</span>: <span style=\"color: #008000; text-decoration-color: #008000\">'B_i_j'</span>, <span style=\"color: #008000; text-decoration-color: #008000\">'unit'</span>: <span style=\"color: #008080; text-decoration-color: #008080; font-weight: bold\">1</span>, <span style=\"color: #008000; text-decoration-color: #008000\">'conversion'</span>: <span style=\"color: #008080; text-decoration-color: #008080; font-weight: bold\">1</span><span style=\"font-weight: bold\">}</span>\n",
       "    <span style=\"font-weight: bold\">}</span>,\n",
       "    <span style=\"color: #008000; text-decoration-color: #008000\">'return'</span>: <span style=\"font-weight: bold\">{</span><span style=\"color: #008000; text-decoration-color: #008000\">'tau_i_j'</span>: <span style=\"font-weight: bold\">{</span><span style=\"color: #008000; text-decoration-color: #008000\">'name'</span>: <span style=\"color: #008000; text-decoration-color: #008000\">'tau_i_j'</span>, <span style=\"color: #008000; text-decoration-color: #008000\">'symbol'</span>: <span style=\"color: #008000; text-decoration-color: #008000\">'tau_i_j'</span>, <span style=\"color: #008000; text-decoration-color: #008000\">'unit'</span>: <span style=\"color: #008080; text-decoration-color: #008080; font-weight: bold\">1</span><span style=\"font-weight: bold\">}}</span>,\n",
       "    <span style=\"color: #008000; text-decoration-color: #008000\">'body_integral'</span>: <span style=\"color: #008000; text-decoration-color: #008000\">'None'</span>,\n",
       "    <span style=\"color: #008000; text-decoration-color: #008000\">'body_first_derivative'</span>: <span style=\"color: #008000; text-decoration-color: #008000\">'None'</span>,\n",
       "    <span style=\"color: #008000; text-decoration-color: #008000\">'body_second_derivative'</span>: <span style=\"color: #008000; text-decoration-color: #008000\">'None'</span>,\n",
       "    <span style=\"color: #008000; text-decoration-color: #008000\">'custom_integral'</span>: <span style=\"color: #800080; text-decoration-color: #800080; font-style: italic\">None</span>\n",
       "<span style=\"font-weight: bold\">}</span>\n",
       "</pre>\n"
      ],
      "text/plain": [
       "\u001b[1m{\u001b[0m\n",
       "    \u001b[32m'id'\u001b[0m: \u001b[1;36m0\u001b[0m,\n",
       "    \u001b[32m'body'\u001b[0m: \u001b[1m[\u001b[0m\u001b[32m\"res = parms\u001b[0m\u001b[32m[\u001b[0m\u001b[32m'A_i_j'\u001b[0m\u001b[32m]\u001b[0m\u001b[32m + parms\u001b[0m\u001b[32m[\u001b[0m\u001b[32m'B_i_j'\u001b[0m\u001b[32m]\u001b[0m\u001b[32m*\u001b[0m\u001b[32m(\u001b[0m\u001b[32margs\u001b[0m\u001b[32m[\u001b[0m\u001b[32m'T'\u001b[0m\u001b[32m]\u001b[0m\u001b[32m**\u001b[0m\u001b[32m(\u001b[0m\u001b[32m-1\u001b[0m\u001b[32m)\u001b[0m\u001b[32m)\u001b[0m\u001b[32m\"\u001b[0m\u001b[1m]\u001b[0m,\n",
       "    \u001b[32m'args'\u001b[0m: \u001b[1m{\u001b[0m\u001b[32m'temperature'\u001b[0m: \u001b[1m{\u001b[0m\u001b[32m'name'\u001b[0m: \u001b[32m'temperature'\u001b[0m, \u001b[32m'symbol'\u001b[0m: \u001b[32m'T'\u001b[0m, \u001b[32m'unit'\u001b[0m: \u001b[32m'K'\u001b[0m\u001b[1m}\u001b[0m\u001b[1m}\u001b[0m,\n",
       "    \u001b[32m'parms'\u001b[0m: \u001b[1m{\u001b[0m\n",
       "        \u001b[32m'A_i_j'\u001b[0m: \u001b[1m{\u001b[0m\u001b[32m'name'\u001b[0m: \u001b[32m'A_i_j'\u001b[0m, \u001b[32m'symbol'\u001b[0m: \u001b[32m'A_i_j'\u001b[0m, \u001b[32m'unit'\u001b[0m: \u001b[1;36m1\u001b[0m, \u001b[32m'conversion'\u001b[0m: \u001b[1;36m1\u001b[0m\u001b[1m}\u001b[0m,\n",
       "        \u001b[32m'B_i_j'\u001b[0m: \u001b[1m{\u001b[0m\u001b[32m'name'\u001b[0m: \u001b[32m'B_i_j'\u001b[0m, \u001b[32m'symbol'\u001b[0m: \u001b[32m'B_i_j'\u001b[0m, \u001b[32m'unit'\u001b[0m: \u001b[1;36m1\u001b[0m, \u001b[32m'conversion'\u001b[0m: \u001b[1;36m1\u001b[0m\u001b[1m}\u001b[0m\n",
       "    \u001b[1m}\u001b[0m,\n",
       "    \u001b[32m'return'\u001b[0m: \u001b[1m{\u001b[0m\u001b[32m'tau_i_j'\u001b[0m: \u001b[1m{\u001b[0m\u001b[32m'name'\u001b[0m: \u001b[32m'tau_i_j'\u001b[0m, \u001b[32m'symbol'\u001b[0m: \u001b[32m'tau_i_j'\u001b[0m, \u001b[32m'unit'\u001b[0m: \u001b[1;36m1\u001b[0m\u001b[1m}\u001b[0m\u001b[1m}\u001b[0m,\n",
       "    \u001b[32m'body_integral'\u001b[0m: \u001b[32m'None'\u001b[0m,\n",
       "    \u001b[32m'body_first_derivative'\u001b[0m: \u001b[32m'None'\u001b[0m,\n",
       "    \u001b[32m'body_second_derivative'\u001b[0m: \u001b[32m'None'\u001b[0m,\n",
       "    \u001b[32m'custom_integral'\u001b[0m: \u001b[3;35mNone\u001b[0m\n",
       "\u001b[1m}\u001b[0m\n"
      ]
     },
     "metadata": {},
     "output_type": "display_data"
    }
   ],
   "source": [
    "# load equation to check\n",
    "tb_eq_1 = tdb.matrix_equation_load(7,2)\n",
    "print(tb_eq_1.eq_structure(1))"
   ]
  },
  {
   "cell_type": "markdown",
   "id": "214987bc",
   "metadata": {},
   "source": [
    "## Data"
   ]
  },
  {
   "cell_type": "code",
   "execution_count": 13,
   "id": "4e6717db",
   "metadata": {},
   "outputs": [
    {
     "data": {
      "text/html": [
       "<pre style=\"white-space:pre;overflow-x:auto;line-height:normal;font-family:Menlo,'DejaVu Sans Mono',consolas,'Courier New',monospace\">     COLUMNS     SYMBOL  UNIT CONVERSION  ID\n",
       "<span style=\"color: #008080; text-decoration-color: #008080; font-weight: bold\">0</span>        No.       <span style=\"color: #800080; text-decoration-color: #800080; font-style: italic\">None</span>  <span style=\"color: #800080; text-decoration-color: #800080; font-style: italic\">None</span>       <span style=\"color: #800080; text-decoration-color: #800080; font-style: italic\">None</span>   <span style=\"color: #008080; text-decoration-color: #008080; font-weight: bold\">1</span>\n",
       "<span style=\"color: #008080; text-decoration-color: #008080; font-weight: bold\">1</span>       Name       <span style=\"color: #800080; text-decoration-color: #800080; font-style: italic\">None</span>  <span style=\"color: #800080; text-decoration-color: #800080; font-style: italic\">None</span>       <span style=\"color: #800080; text-decoration-color: #800080; font-style: italic\">None</span>   <span style=\"color: #008080; text-decoration-color: #008080; font-weight: bold\">2</span>\n",
       "<span style=\"color: #008080; text-decoration-color: #008080; font-weight: bold\">2</span>    Formula       <span style=\"color: #800080; text-decoration-color: #800080; font-style: italic\">None</span>  <span style=\"color: #800080; text-decoration-color: #800080; font-style: italic\">None</span>       <span style=\"color: #800080; text-decoration-color: #800080; font-style: italic\">None</span>   <span style=\"color: #008080; text-decoration-color: #008080; font-weight: bold\">3</span>\n",
       "<span style=\"color: #008080; text-decoration-color: #008080; font-weight: bold\">3</span>  Alpha_i_1  Alpha_i_1     <span style=\"color: #008080; text-decoration-color: #008080; font-weight: bold\">1</span>          <span style=\"color: #008080; text-decoration-color: #008080; font-weight: bold\">1</span>   <span style=\"color: #008080; text-decoration-color: #008080; font-weight: bold\">4</span>\n",
       "<span style=\"color: #008080; text-decoration-color: #008080; font-weight: bold\">4</span>  Alpha_i_2  Alpha_i_2     <span style=\"color: #008080; text-decoration-color: #008080; font-weight: bold\">1</span>          <span style=\"color: #008080; text-decoration-color: #008080; font-weight: bold\">1</span>   <span style=\"color: #008080; text-decoration-color: #008080; font-weight: bold\">5</span>\n",
       "<span style=\"color: #008080; text-decoration-color: #008080; font-weight: bold\">5</span>  Alpha_i_3  Alpha_i_3     <span style=\"color: #008080; text-decoration-color: #008080; font-weight: bold\">1</span>          <span style=\"color: #008080; text-decoration-color: #008080; font-weight: bold\">1</span>   <span style=\"color: #008080; text-decoration-color: #008080; font-weight: bold\">6</span>\n",
       "</pre>\n"
      ],
      "text/plain": [
       "     COLUMNS     SYMBOL  UNIT CONVERSION  ID\n",
       "\u001b[1;36m0\u001b[0m        No.       \u001b[3;35mNone\u001b[0m  \u001b[3;35mNone\u001b[0m       \u001b[3;35mNone\u001b[0m   \u001b[1;36m1\u001b[0m\n",
       "\u001b[1;36m1\u001b[0m       Name       \u001b[3;35mNone\u001b[0m  \u001b[3;35mNone\u001b[0m       \u001b[3;35mNone\u001b[0m   \u001b[1;36m2\u001b[0m\n",
       "\u001b[1;36m2\u001b[0m    Formula       \u001b[3;35mNone\u001b[0m  \u001b[3;35mNone\u001b[0m       \u001b[3;35mNone\u001b[0m   \u001b[1;36m3\u001b[0m\n",
       "\u001b[1;36m3\u001b[0m  Alpha_i_1  Alpha_i_1     \u001b[1;36m1\u001b[0m          \u001b[1;36m1\u001b[0m   \u001b[1;36m4\u001b[0m\n",
       "\u001b[1;36m4\u001b[0m  Alpha_i_2  Alpha_i_2     \u001b[1;36m1\u001b[0m          \u001b[1;36m1\u001b[0m   \u001b[1;36m5\u001b[0m\n",
       "\u001b[1;36m5\u001b[0m  Alpha_i_3  Alpha_i_3     \u001b[1;36m1\u001b[0m          \u001b[1;36m1\u001b[0m   \u001b[1;36m6\u001b[0m\n"
      ]
     },
     "metadata": {},
     "output_type": "display_data"
    }
   ],
   "source": [
    "# load data to check\n",
    "tb_dt_1 = tdb.matrix_data_load(7, 1)\n",
    "print(tb_dt_1.matrix_data_structure())"
   ]
  },
  {
   "cell_type": "markdown",
   "id": "9a089ed8",
   "metadata": {},
   "source": [
    "# Table Data | Table Equation Source"
   ]
  },
  {
   "cell_type": "code",
   "execution_count": 15,
   "id": "25436d6a",
   "metadata": {},
   "outputs": [
    {
     "data": {
      "application/vnd.microsoft.datawrangler.viewer.v0+json": {
       "columns": [
        {
         "name": "index",
         "rawType": "int64",
         "type": "integer"
        },
        {
         "name": "No.",
         "rawType": "object",
         "type": "string"
        },
        {
         "name": "Name",
         "rawType": "object",
         "type": "string"
        },
        {
         "name": "Formula",
         "rawType": "object",
         "type": "string"
        },
        {
         "name": "Alpha_i_1",
         "rawType": "object",
         "type": "string"
        },
        {
         "name": "Alpha_i_2",
         "rawType": "object",
         "type": "string"
        },
        {
         "name": "Alpha_i_3",
         "rawType": "object",
         "type": "string"
        }
       ],
       "conversionMethod": "pd.DataFrame",
       "ref": "ec0be67f-ce87-44bd-8745-7b0a37bd2f9e",
       "rows": [
        [
         "0",
         "-",
         "-",
         "-",
         "Alpha_i_1",
         "Alpha_i_2",
         "Alpha_i_3"
        ],
        [
         "1",
         "-",
         "-",
         "-",
         "1",
         "1",
         "1"
        ],
        [
         "2",
         "-",
         "-",
         "-",
         "1",
         "2",
         "3"
        ],
        [
         "3",
         "-",
         "-",
         "-",
         "methanol",
         "ethanol",
         "benzene"
        ],
        [
         "4",
         "-",
         "-",
         "-",
         "CH3OH",
         "C2H5OH",
         "C6H6"
        ],
        [
         "5",
         "1",
         "methanol",
         "CH3OH",
         "0",
         "0.3",
         "-1.709"
        ],
        [
         "6",
         "2",
         "ethanol",
         "C2H5OH",
         "0.3",
         "0",
         "0.569"
        ],
        [
         "7",
         "3",
         "benzene",
         "C6H6",
         "11.58",
         "-0.916",
         "0"
        ]
       ],
       "shape": {
        "columns": 6,
        "rows": 8
       }
      },
      "text/html": [
       "<div>\n",
       "<style scoped>\n",
       "    .dataframe tbody tr th:only-of-type {\n",
       "        vertical-align: middle;\n",
       "    }\n",
       "\n",
       "    .dataframe tbody tr th {\n",
       "        vertical-align: top;\n",
       "    }\n",
       "\n",
       "    .dataframe thead th {\n",
       "        text-align: right;\n",
       "    }\n",
       "</style>\n",
       "<table border=\"1\" class=\"dataframe\">\n",
       "  <thead>\n",
       "    <tr style=\"text-align: right;\">\n",
       "      <th></th>\n",
       "      <th>No.</th>\n",
       "      <th>Name</th>\n",
       "      <th>Formula</th>\n",
       "      <th>Alpha_i_1</th>\n",
       "      <th>Alpha_i_2</th>\n",
       "      <th>Alpha_i_3</th>\n",
       "    </tr>\n",
       "  </thead>\n",
       "  <tbody>\n",
       "    <tr>\n",
       "      <th>0</th>\n",
       "      <td>-</td>\n",
       "      <td>-</td>\n",
       "      <td>-</td>\n",
       "      <td>Alpha_i_1</td>\n",
       "      <td>Alpha_i_2</td>\n",
       "      <td>Alpha_i_3</td>\n",
       "    </tr>\n",
       "    <tr>\n",
       "      <th>1</th>\n",
       "      <td>-</td>\n",
       "      <td>-</td>\n",
       "      <td>-</td>\n",
       "      <td>1</td>\n",
       "      <td>1</td>\n",
       "      <td>1</td>\n",
       "    </tr>\n",
       "    <tr>\n",
       "      <th>2</th>\n",
       "      <td>-</td>\n",
       "      <td>-</td>\n",
       "      <td>-</td>\n",
       "      <td>1</td>\n",
       "      <td>2</td>\n",
       "      <td>3</td>\n",
       "    </tr>\n",
       "    <tr>\n",
       "      <th>3</th>\n",
       "      <td>-</td>\n",
       "      <td>-</td>\n",
       "      <td>-</td>\n",
       "      <td>methanol</td>\n",
       "      <td>ethanol</td>\n",
       "      <td>benzene</td>\n",
       "    </tr>\n",
       "    <tr>\n",
       "      <th>4</th>\n",
       "      <td>-</td>\n",
       "      <td>-</td>\n",
       "      <td>-</td>\n",
       "      <td>CH3OH</td>\n",
       "      <td>C2H5OH</td>\n",
       "      <td>C6H6</td>\n",
       "    </tr>\n",
       "    <tr>\n",
       "      <th>5</th>\n",
       "      <td>1</td>\n",
       "      <td>methanol</td>\n",
       "      <td>CH3OH</td>\n",
       "      <td>0</td>\n",
       "      <td>0.3</td>\n",
       "      <td>-1.709</td>\n",
       "    </tr>\n",
       "    <tr>\n",
       "      <th>6</th>\n",
       "      <td>2</td>\n",
       "      <td>ethanol</td>\n",
       "      <td>C2H5OH</td>\n",
       "      <td>0.3</td>\n",
       "      <td>0</td>\n",
       "      <td>0.569</td>\n",
       "    </tr>\n",
       "    <tr>\n",
       "      <th>7</th>\n",
       "      <td>3</td>\n",
       "      <td>benzene</td>\n",
       "      <td>C6H6</td>\n",
       "      <td>11.58</td>\n",
       "      <td>-0.916</td>\n",
       "      <td>0</td>\n",
       "    </tr>\n",
       "  </tbody>\n",
       "</table>\n",
       "</div>"
      ],
      "text/plain": [
       "  No.      Name Formula  Alpha_i_1  Alpha_i_2  Alpha_i_3\n",
       "0   -         -       -  Alpha_i_1  Alpha_i_2  Alpha_i_3\n",
       "1   -         -       -          1          1          1\n",
       "2   -         -       -          1          2          3\n",
       "3   -         -       -   methanol    ethanol    benzene\n",
       "4   -         -       -      CH3OH     C2H5OH       C6H6\n",
       "5   1  methanol   CH3OH          0        0.3     -1.709\n",
       "6   2   ethanol  C2H5OH        0.3          0      0.569\n",
       "7   3   benzene    C6H6      11.58     -0.916          0"
      ]
     },
     "execution_count": 15,
     "metadata": {},
     "output_type": "execute_result"
    }
   ],
   "source": [
    "tdb.table_data(7, 1)"
   ]
  },
  {
   "cell_type": "code",
   "execution_count": 16,
   "id": "60798443",
   "metadata": {},
   "outputs": [
    {
     "data": {
      "application/vnd.microsoft.datawrangler.viewer.v0+json": {
       "columns": [
        {
         "name": "index",
         "rawType": "int64",
         "type": "integer"
        },
        {
         "name": "No.",
         "rawType": "object",
         "type": "string"
        },
        {
         "name": "Name",
         "rawType": "object",
         "type": "string"
        },
        {
         "name": "Formula",
         "rawType": "object",
         "type": "string"
        },
        {
         "name": "A_i_1",
         "rawType": "object",
         "type": "string"
        },
        {
         "name": "A_i_2",
         "rawType": "object",
         "type": "string"
        },
        {
         "name": "A_i_3",
         "rawType": "object",
         "type": "string"
        },
        {
         "name": "B_i_1",
         "rawType": "object",
         "type": "string"
        },
        {
         "name": "B_i_2",
         "rawType": "object",
         "type": "string"
        },
        {
         "name": "B_i_3",
         "rawType": "object",
         "type": "string"
        },
        {
         "name": "Eq",
         "rawType": "object",
         "type": "string"
        }
       ],
       "conversionMethod": "pd.DataFrame",
       "ref": "514ed4cd-bcb0-400c-8ad9-e2cd4b43b88a",
       "rows": [
        [
         "0",
         "-",
         "-",
         "-",
         "A_i_1",
         "A_i_2",
         "A_i_3",
         "B_i_1",
         "B_i_2",
         "B_i_3",
         "tau_i_j"
        ],
        [
         "1",
         "-",
         "-",
         "-",
         "1",
         "1",
         "1",
         "1",
         "1",
         "1",
         "1"
        ],
        [
         "2",
         "-",
         "-",
         "-",
         "1",
         "2",
         "3",
         "1",
         "2",
         "3",
         "1"
        ],
        [
         "3",
         "-",
         "-",
         "-",
         "methanol",
         "ethanol",
         "benzene",
         "methanol",
         "ethanol",
         "benzene",
         "1"
        ],
        [
         "4",
         "-",
         "-",
         "-",
         "CH3OH",
         "C2H5OH",
         "C6H6",
         "CH3OH",
         "C2H5OH",
         "C6H6",
         "1"
        ],
        [
         "5",
         "1",
         "methanol",
         "CH3OH",
         "0",
         "4.712",
         "-1.709",
         "0",
         "-1162.3",
         "892.2",
         "1"
        ],
        [
         "6",
         "2",
         "ethanol",
         "C2H5OH",
         "-2.313",
         "0",
         "0.569",
         "483.8",
         "0",
         "-54.8",
         "1"
        ],
        [
         "7",
         "3",
         "benzene",
         "C6H6",
         "11.58",
         "-0.916",
         "0",
         "-3282.6",
         "822",
         "0",
         "1"
        ]
       ],
       "shape": {
        "columns": 10,
        "rows": 8
       }
      },
      "text/html": [
       "<div>\n",
       "<style scoped>\n",
       "    .dataframe tbody tr th:only-of-type {\n",
       "        vertical-align: middle;\n",
       "    }\n",
       "\n",
       "    .dataframe tbody tr th {\n",
       "        vertical-align: top;\n",
       "    }\n",
       "\n",
       "    .dataframe thead th {\n",
       "        text-align: right;\n",
       "    }\n",
       "</style>\n",
       "<table border=\"1\" class=\"dataframe\">\n",
       "  <thead>\n",
       "    <tr style=\"text-align: right;\">\n",
       "      <th></th>\n",
       "      <th>No.</th>\n",
       "      <th>Name</th>\n",
       "      <th>Formula</th>\n",
       "      <th>A_i_1</th>\n",
       "      <th>A_i_2</th>\n",
       "      <th>A_i_3</th>\n",
       "      <th>B_i_1</th>\n",
       "      <th>B_i_2</th>\n",
       "      <th>B_i_3</th>\n",
       "      <th>Eq</th>\n",
       "    </tr>\n",
       "  </thead>\n",
       "  <tbody>\n",
       "    <tr>\n",
       "      <th>0</th>\n",
       "      <td>-</td>\n",
       "      <td>-</td>\n",
       "      <td>-</td>\n",
       "      <td>A_i_1</td>\n",
       "      <td>A_i_2</td>\n",
       "      <td>A_i_3</td>\n",
       "      <td>B_i_1</td>\n",
       "      <td>B_i_2</td>\n",
       "      <td>B_i_3</td>\n",
       "      <td>tau_i_j</td>\n",
       "    </tr>\n",
       "    <tr>\n",
       "      <th>1</th>\n",
       "      <td>-</td>\n",
       "      <td>-</td>\n",
       "      <td>-</td>\n",
       "      <td>1</td>\n",
       "      <td>1</td>\n",
       "      <td>1</td>\n",
       "      <td>1</td>\n",
       "      <td>1</td>\n",
       "      <td>1</td>\n",
       "      <td>1</td>\n",
       "    </tr>\n",
       "    <tr>\n",
       "      <th>2</th>\n",
       "      <td>-</td>\n",
       "      <td>-</td>\n",
       "      <td>-</td>\n",
       "      <td>1</td>\n",
       "      <td>2</td>\n",
       "      <td>3</td>\n",
       "      <td>1</td>\n",
       "      <td>2</td>\n",
       "      <td>3</td>\n",
       "      <td>1</td>\n",
       "    </tr>\n",
       "    <tr>\n",
       "      <th>3</th>\n",
       "      <td>-</td>\n",
       "      <td>-</td>\n",
       "      <td>-</td>\n",
       "      <td>methanol</td>\n",
       "      <td>ethanol</td>\n",
       "      <td>benzene</td>\n",
       "      <td>methanol</td>\n",
       "      <td>ethanol</td>\n",
       "      <td>benzene</td>\n",
       "      <td>1</td>\n",
       "    </tr>\n",
       "    <tr>\n",
       "      <th>4</th>\n",
       "      <td>-</td>\n",
       "      <td>-</td>\n",
       "      <td>-</td>\n",
       "      <td>CH3OH</td>\n",
       "      <td>C2H5OH</td>\n",
       "      <td>C6H6</td>\n",
       "      <td>CH3OH</td>\n",
       "      <td>C2H5OH</td>\n",
       "      <td>C6H6</td>\n",
       "      <td>1</td>\n",
       "    </tr>\n",
       "    <tr>\n",
       "      <th>5</th>\n",
       "      <td>1</td>\n",
       "      <td>methanol</td>\n",
       "      <td>CH3OH</td>\n",
       "      <td>0</td>\n",
       "      <td>4.712</td>\n",
       "      <td>-1.709</td>\n",
       "      <td>0</td>\n",
       "      <td>-1162.3</td>\n",
       "      <td>892.2</td>\n",
       "      <td>1</td>\n",
       "    </tr>\n",
       "    <tr>\n",
       "      <th>6</th>\n",
       "      <td>2</td>\n",
       "      <td>ethanol</td>\n",
       "      <td>C2H5OH</td>\n",
       "      <td>-2.313</td>\n",
       "      <td>0</td>\n",
       "      <td>0.569</td>\n",
       "      <td>483.8</td>\n",
       "      <td>0</td>\n",
       "      <td>-54.8</td>\n",
       "      <td>1</td>\n",
       "    </tr>\n",
       "    <tr>\n",
       "      <th>7</th>\n",
       "      <td>3</td>\n",
       "      <td>benzene</td>\n",
       "      <td>C6H6</td>\n",
       "      <td>11.58</td>\n",
       "      <td>-0.916</td>\n",
       "      <td>0</td>\n",
       "      <td>-3282.6</td>\n",
       "      <td>822</td>\n",
       "      <td>0</td>\n",
       "      <td>1</td>\n",
       "    </tr>\n",
       "  </tbody>\n",
       "</table>\n",
       "</div>"
      ],
      "text/plain": [
       "  No.      Name Formula     A_i_1    A_i_2    A_i_3     B_i_1    B_i_2  \\\n",
       "0   -         -       -     A_i_1    A_i_2    A_i_3     B_i_1    B_i_2   \n",
       "1   -         -       -         1        1        1         1        1   \n",
       "2   -         -       -         1        2        3         1        2   \n",
       "3   -         -       -  methanol  ethanol  benzene  methanol  ethanol   \n",
       "4   -         -       -     CH3OH   C2H5OH     C6H6     CH3OH   C2H5OH   \n",
       "5   1  methanol   CH3OH         0    4.712   -1.709         0  -1162.3   \n",
       "6   2   ethanol  C2H5OH    -2.313        0    0.569     483.8        0   \n",
       "7   3   benzene    C6H6     11.58   -0.916        0   -3282.6      822   \n",
       "\n",
       "     B_i_3       Eq  \n",
       "0    B_i_3  tau_i_j  \n",
       "1        1        1  \n",
       "2        3        1  \n",
       "3  benzene        1  \n",
       "4     C6H6        1  \n",
       "5    892.2        1  \n",
       "6    -54.8        1  \n",
       "7        0        1  "
      ]
     },
     "execution_count": 16,
     "metadata": {},
     "output_type": "execute_result"
    }
   ],
   "source": [
    "tdb.table_data(7, 2)"
   ]
  },
  {
   "cell_type": "code",
   "execution_count": 17,
   "id": "f363a51f",
   "metadata": {},
   "outputs": [
    {
     "data": {
      "application/vnd.microsoft.datawrangler.viewer.v0+json": {
       "columns": [
        {
         "name": "index",
         "rawType": "int64",
         "type": "integer"
        },
        {
         "name": "Tables in 6 databook",
         "rawType": "object",
         "type": "string"
        },
        {
         "name": "Type",
         "rawType": "object",
         "type": "string"
        },
        {
         "name": "Id",
         "rawType": "object",
         "type": "string"
        }
       ],
       "conversionMethod": "pd.DataFrame",
       "ref": "5c7893a0-3882-4f1a-8ca6-5342b93cc09d",
       "rows": [
        [
         "0",
         "Non-randomness parameters of the NRTL equation",
         "matrix-data",
         "[1]"
        ],
        [
         "1",
         "Interaction parameters of the NRTL equation-2",
         "matrix-equation",
         "[2]"
        ]
       ],
       "shape": {
        "columns": 3,
        "rows": 2
       }
      },
      "text/html": [
       "<div>\n",
       "<style scoped>\n",
       "    .dataframe tbody tr th:only-of-type {\n",
       "        vertical-align: middle;\n",
       "    }\n",
       "\n",
       "    .dataframe tbody tr th {\n",
       "        vertical-align: top;\n",
       "    }\n",
       "\n",
       "    .dataframe thead th {\n",
       "        text-align: right;\n",
       "    }\n",
       "</style>\n",
       "<table border=\"1\" class=\"dataframe\">\n",
       "  <thead>\n",
       "    <tr style=\"text-align: right;\">\n",
       "      <th></th>\n",
       "      <th>Tables in 6 databook</th>\n",
       "      <th>Type</th>\n",
       "      <th>Id</th>\n",
       "    </tr>\n",
       "  </thead>\n",
       "  <tbody>\n",
       "    <tr>\n",
       "      <th>0</th>\n",
       "      <td>Non-randomness parameters of the NRTL equation</td>\n",
       "      <td>matrix-data</td>\n",
       "      <td>[1]</td>\n",
       "    </tr>\n",
       "    <tr>\n",
       "      <th>1</th>\n",
       "      <td>Interaction parameters of the NRTL equation-2</td>\n",
       "      <td>matrix-equation</td>\n",
       "      <td>[2]</td>\n",
       "    </tr>\n",
       "  </tbody>\n",
       "</table>\n",
       "</div>"
      ],
      "text/plain": [
       "                             Tables in 6 databook             Type   Id\n",
       "0  Non-randomness parameters of the NRTL equation      matrix-data  [1]\n",
       "1   Interaction parameters of the NRTL equation-2  matrix-equation  [2]"
      ]
     },
     "execution_count": 17,
     "metadata": {},
     "output_type": "execute_result"
    }
   ],
   "source": [
    "tdb_ref.list_tables(7)"
   ]
  },
  {
   "cell_type": "markdown",
   "id": "5adf2795",
   "metadata": {},
   "source": [
    "# Build Data"
   ]
  },
  {
   "cell_type": "markdown",
   "id": "99793d28",
   "metadata": {},
   "source": [
    "## Components"
   ]
  },
  {
   "cell_type": "code",
   "execution_count": 18,
   "id": "ecd8951a",
   "metadata": {},
   "outputs": [
    {
     "data": {
      "text/html": [
       "<pre style=\"white-space:pre;overflow-x:auto;line-height:normal;font-family:Menlo,'DejaVu Sans Mono',consolas,'Courier New',monospace\"><span style=\"font-weight: bold\">{</span>\n",
       "    <span style=\"color: #008000; text-decoration-color: #008000\">\"databook_id\"</span>: <span style=\"color: #008080; text-decoration-color: #008080; font-weight: bold\">7</span>,\n",
       "    <span style=\"color: #008000; text-decoration-color: #008000\">\"table_id\"</span>: <span style=\"color: #008080; text-decoration-color: #008080; font-weight: bold\">1</span>,\n",
       "    <span style=\"color: #008000; text-decoration-color: #008000\">\"component_name\"</span>: <span style=\"color: #008000; text-decoration-color: #008000\">\"methanol\"</span>,\n",
       "    <span style=\"color: #008000; text-decoration-color: #008000\">\"availability\"</span>: true\n",
       "<span style=\"font-weight: bold\">}</span>\n",
       "</pre>\n"
      ],
      "text/plain": [
       "\u001b[1m{\u001b[0m\n",
       "    \u001b[32m\"databook_id\"\u001b[0m: \u001b[1;36m7\u001b[0m,\n",
       "    \u001b[32m\"table_id\"\u001b[0m: \u001b[1;36m1\u001b[0m,\n",
       "    \u001b[32m\"component_name\"\u001b[0m: \u001b[32m\"methanol\"\u001b[0m,\n",
       "    \u001b[32m\"availability\"\u001b[0m: true\n",
       "\u001b[1m}\u001b[0m\n"
      ]
     },
     "metadata": {},
     "output_type": "display_data"
    },
    {
     "data": {
      "text/html": [
       "<pre style=\"white-space:pre;overflow-x:auto;line-height:normal;font-family:Menlo,'DejaVu Sans Mono',consolas,'Courier New',monospace\"><span style=\"font-weight: bold\">{</span>\n",
       "    <span style=\"color: #008000; text-decoration-color: #008000\">\"databook_id\"</span>: <span style=\"color: #008080; text-decoration-color: #008080; font-weight: bold\">7</span>,\n",
       "    <span style=\"color: #008000; text-decoration-color: #008000\">\"table_id\"</span>: <span style=\"color: #008080; text-decoration-color: #008080; font-weight: bold\">1</span>,\n",
       "    <span style=\"color: #008000; text-decoration-color: #008000\">\"component_name\"</span>: <span style=\"color: #008000; text-decoration-color: #008000\">\"ethanol\"</span>,\n",
       "    <span style=\"color: #008000; text-decoration-color: #008000\">\"availability\"</span>: true\n",
       "<span style=\"font-weight: bold\">}</span>\n",
       "</pre>\n"
      ],
      "text/plain": [
       "\u001b[1m{\u001b[0m\n",
       "    \u001b[32m\"databook_id\"\u001b[0m: \u001b[1;36m7\u001b[0m,\n",
       "    \u001b[32m\"table_id\"\u001b[0m: \u001b[1;36m1\u001b[0m,\n",
       "    \u001b[32m\"component_name\"\u001b[0m: \u001b[32m\"ethanol\"\u001b[0m,\n",
       "    \u001b[32m\"availability\"\u001b[0m: true\n",
       "\u001b[1m}\u001b[0m\n"
      ]
     },
     "metadata": {},
     "output_type": "display_data"
    },
    {
     "data": {
      "text/html": [
       "<pre style=\"white-space:pre;overflow-x:auto;line-height:normal;font-family:Menlo,'DejaVu Sans Mono',consolas,'Courier New',monospace\"><span style=\"font-weight: bold\">{</span>\n",
       "    <span style=\"color: #008000; text-decoration-color: #008000\">\"databook_id\"</span>: <span style=\"color: #008080; text-decoration-color: #008080; font-weight: bold\">7</span>,\n",
       "    <span style=\"color: #008000; text-decoration-color: #008000\">\"table_id\"</span>: <span style=\"color: #008080; text-decoration-color: #008080; font-weight: bold\">1</span>,\n",
       "    <span style=\"color: #008000; text-decoration-color: #008000\">\"component_name\"</span>: <span style=\"color: #008000; text-decoration-color: #008000\">\"benzene\"</span>,\n",
       "    <span style=\"color: #008000; text-decoration-color: #008000\">\"availability\"</span>: true\n",
       "<span style=\"font-weight: bold\">}</span>\n",
       "</pre>\n"
      ],
      "text/plain": [
       "\u001b[1m{\u001b[0m\n",
       "    \u001b[32m\"databook_id\"\u001b[0m: \u001b[1;36m7\u001b[0m,\n",
       "    \u001b[32m\"table_id\"\u001b[0m: \u001b[1;36m1\u001b[0m,\n",
       "    \u001b[32m\"component_name\"\u001b[0m: \u001b[32m\"benzene\"\u001b[0m,\n",
       "    \u001b[32m\"availability\"\u001b[0m: true\n",
       "\u001b[1m}\u001b[0m\n"
      ]
     },
     "metadata": {},
     "output_type": "display_data"
    }
   ],
   "source": [
    "# check component availability in the databook and table\n",
    "comp1 = \"methanol\"\n",
    "res_ = tdb.check_component(\n",
    "    comp1, 'NRTL', \"Non-randomness parameters of the NRTL equation\")\n",
    "print(res_)\n",
    "\n",
    "comp2 = \"ethanol\"\n",
    "res_ = tdb.check_component(\n",
    "    comp2, 'NRTL', \"Non-randomness parameters of the NRTL equation\")\n",
    "print(res_)\n",
    "\n",
    "# comp3\n",
    "comp3 = 'benzene'\n",
    "res_ = tdb.check_component(\n",
    "    comp3, 'NRTL', \"Non-randomness parameters of the NRTL equation\")\n",
    "print(res_)"
   ]
  },
  {
   "cell_type": "markdown",
   "id": "c29f941a",
   "metadata": {},
   "source": [
    "## Matrix Data"
   ]
  },
  {
   "cell_type": "code",
   "execution_count": 19,
   "id": "222e7987",
   "metadata": {},
   "outputs": [],
   "source": [
    "# build data\n",
    "nrtl_alpha = tdb.build_matrix_data(\n",
    "    [comp1, comp2], 'NRTL', \"Non-randomness parameters of the NRTL equation\")"
   ]
  },
  {
   "cell_type": "code",
   "execution_count": 21,
   "id": "708b1172",
   "metadata": {},
   "outputs": [
    {
     "data": {
      "application/vnd.microsoft.datawrangler.viewer.v0+json": {
       "columns": [
        {
         "name": "index",
         "rawType": "int64",
         "type": "integer"
        },
        {
         "name": "COLUMNS",
         "rawType": "object",
         "type": "string"
        },
        {
         "name": "SYMBOL",
         "rawType": "object",
         "type": "string"
        },
        {
         "name": "UNIT",
         "rawType": "object",
         "type": "unknown"
        },
        {
         "name": "CONVERSION",
         "rawType": "object",
         "type": "unknown"
        },
        {
         "name": "ID",
         "rawType": "int64",
         "type": "integer"
        }
       ],
       "conversionMethod": "pd.DataFrame",
       "ref": "c33d0a59-3fbe-405b-8bcf-34cf8b9b6e69",
       "rows": [
        [
         "0",
         "No.",
         "None",
         "None",
         "None",
         "1"
        ],
        [
         "1",
         "Name",
         "None",
         "None",
         "None",
         "2"
        ],
        [
         "2",
         "Formula",
         "None",
         "None",
         "None",
         "3"
        ],
        [
         "3",
         "Alpha_i_1",
         "Alpha_i_1",
         "1",
         "1",
         "4"
        ],
        [
         "4",
         "Alpha_i_2",
         "Alpha_i_2",
         "1",
         "1",
         "5"
        ],
        [
         "5",
         "Alpha_i_3",
         "Alpha_i_3",
         "1",
         "1",
         "6"
        ]
       ],
       "shape": {
        "columns": 5,
        "rows": 6
       }
      },
      "text/html": [
       "<div>\n",
       "<style scoped>\n",
       "    .dataframe tbody tr th:only-of-type {\n",
       "        vertical-align: middle;\n",
       "    }\n",
       "\n",
       "    .dataframe tbody tr th {\n",
       "        vertical-align: top;\n",
       "    }\n",
       "\n",
       "    .dataframe thead th {\n",
       "        text-align: right;\n",
       "    }\n",
       "</style>\n",
       "<table border=\"1\" class=\"dataframe\">\n",
       "  <thead>\n",
       "    <tr style=\"text-align: right;\">\n",
       "      <th></th>\n",
       "      <th>COLUMNS</th>\n",
       "      <th>SYMBOL</th>\n",
       "      <th>UNIT</th>\n",
       "      <th>CONVERSION</th>\n",
       "      <th>ID</th>\n",
       "    </tr>\n",
       "  </thead>\n",
       "  <tbody>\n",
       "    <tr>\n",
       "      <th>0</th>\n",
       "      <td>No.</td>\n",
       "      <td>None</td>\n",
       "      <td>None</td>\n",
       "      <td>None</td>\n",
       "      <td>1</td>\n",
       "    </tr>\n",
       "    <tr>\n",
       "      <th>1</th>\n",
       "      <td>Name</td>\n",
       "      <td>None</td>\n",
       "      <td>None</td>\n",
       "      <td>None</td>\n",
       "      <td>2</td>\n",
       "    </tr>\n",
       "    <tr>\n",
       "      <th>2</th>\n",
       "      <td>Formula</td>\n",
       "      <td>None</td>\n",
       "      <td>None</td>\n",
       "      <td>None</td>\n",
       "      <td>3</td>\n",
       "    </tr>\n",
       "    <tr>\n",
       "      <th>3</th>\n",
       "      <td>Alpha_i_1</td>\n",
       "      <td>Alpha_i_1</td>\n",
       "      <td>1</td>\n",
       "      <td>1</td>\n",
       "      <td>4</td>\n",
       "    </tr>\n",
       "    <tr>\n",
       "      <th>4</th>\n",
       "      <td>Alpha_i_2</td>\n",
       "      <td>Alpha_i_2</td>\n",
       "      <td>1</td>\n",
       "      <td>1</td>\n",
       "      <td>5</td>\n",
       "    </tr>\n",
       "    <tr>\n",
       "      <th>5</th>\n",
       "      <td>Alpha_i_3</td>\n",
       "      <td>Alpha_i_3</td>\n",
       "      <td>1</td>\n",
       "      <td>1</td>\n",
       "      <td>6</td>\n",
       "    </tr>\n",
       "  </tbody>\n",
       "</table>\n",
       "</div>"
      ],
      "text/plain": [
       "     COLUMNS     SYMBOL  UNIT CONVERSION  ID\n",
       "0        No.       None  None       None   1\n",
       "1       Name       None  None       None   2\n",
       "2    Formula       None  None       None   3\n",
       "3  Alpha_i_1  Alpha_i_1     1          1   4\n",
       "4  Alpha_i_2  Alpha_i_2     1          1   5\n",
       "5  Alpha_i_3  Alpha_i_3     1          1   6"
      ]
     },
     "execution_count": 21,
     "metadata": {},
     "output_type": "execute_result"
    }
   ],
   "source": [
    "nrtl_alpha.matrix_data_structure()"
   ]
  },
  {
   "cell_type": "code",
   "execution_count": 22,
   "id": "f0bcff25",
   "metadata": {},
   "outputs": [
    {
     "data": {
      "text/html": [
       "<pre style=\"white-space:pre;overflow-x:auto;line-height:normal;font-family:Menlo,'DejaVu Sans Mono',consolas,'Courier New',monospace\"><span style=\"font-weight: bold\">{</span><span style=\"color: #008000; text-decoration-color: #008000\">'value'</span>: <span style=\"color: #008000; text-decoration-color: #008000\">'0'</span>, <span style=\"color: #008000; text-decoration-color: #008000\">'unit'</span>: <span style=\"color: #008000; text-decoration-color: #008000\">'1'</span>, <span style=\"color: #008000; text-decoration-color: #008000\">'symbol'</span>: <span style=\"color: #008000; text-decoration-color: #008000\">'Alpha_i_1'</span><span style=\"font-weight: bold\">}</span>\n",
       "</pre>\n"
      ],
      "text/plain": [
       "\u001b[1m{\u001b[0m\u001b[32m'value'\u001b[0m: \u001b[32m'0'\u001b[0m, \u001b[32m'unit'\u001b[0m: \u001b[32m'1'\u001b[0m, \u001b[32m'symbol'\u001b[0m: \u001b[32m'Alpha_i_1'\u001b[0m\u001b[1m}\u001b[0m\n"
      ]
     },
     "metadata": {},
     "output_type": "display_data"
    }
   ],
   "source": [
    "print(nrtl_alpha.get_property('Alpha_i_1', comp1))"
   ]
  },
  {
   "cell_type": "code",
   "execution_count": 23,
   "id": "e272f78f",
   "metadata": {},
   "outputs": [
    {
     "data": {
      "text/html": [
       "<pre style=\"white-space:pre;overflow-x:auto;line-height:normal;font-family:Menlo,'DejaVu Sans Mono',consolas,'Courier New',monospace\"><span style=\"font-weight: bold\">{</span>\n",
       "    <span style=\"color: #008000; text-decoration-color: #008000\">'property_name'</span>: <span style=\"color: #008000; text-decoration-color: #008000\">'Alpha'</span>,\n",
       "    <span style=\"color: #008000; text-decoration-color: #008000\">'symbol'</span>: <span style=\"color: #008000; text-decoration-color: #008000\">'Alpha_methanol_ethanol'</span>,\n",
       "    <span style=\"color: #008000; text-decoration-color: #008000\">'unit'</span>: <span style=\"color: #008000; text-decoration-color: #008000\">'1'</span>,\n",
       "    <span style=\"color: #008000; text-decoration-color: #008000\">'value'</span>: <span style=\"color: #008080; text-decoration-color: #008080; font-weight: bold\">0.3</span>,\n",
       "    <span style=\"color: #008000; text-decoration-color: #008000\">'message'</span>: <span style=\"color: #008000; text-decoration-color: #008000\">'NRTL Alpha value'</span>,\n",
       "    <span style=\"color: #008000; text-decoration-color: #008000\">'databook_name'</span>: <span style=\"color: #008000; text-decoration-color: #008000\">'NRTL'</span>,\n",
       "    <span style=\"color: #008000; text-decoration-color: #008000\">'table_name'</span>: <span style=\"color: #008000; text-decoration-color: #008000\">'Non-randomness parameters of the NRTL equation'</span>\n",
       "<span style=\"font-weight: bold\">}</span>\n",
       "</pre>\n"
      ],
      "text/plain": [
       "\u001b[1m{\u001b[0m\n",
       "    \u001b[32m'property_name'\u001b[0m: \u001b[32m'Alpha'\u001b[0m,\n",
       "    \u001b[32m'symbol'\u001b[0m: \u001b[32m'Alpha_methanol_ethanol'\u001b[0m,\n",
       "    \u001b[32m'unit'\u001b[0m: \u001b[32m'1'\u001b[0m,\n",
       "    \u001b[32m'value'\u001b[0m: \u001b[1;36m0.3\u001b[0m,\n",
       "    \u001b[32m'message'\u001b[0m: \u001b[32m'NRTL Alpha value'\u001b[0m,\n",
       "    \u001b[32m'databook_name'\u001b[0m: \u001b[32m'NRTL'\u001b[0m,\n",
       "    \u001b[32m'table_name'\u001b[0m: \u001b[32m'Non-randomness parameters of the NRTL equation'\u001b[0m\n",
       "\u001b[1m}\u001b[0m\n"
      ]
     },
     "metadata": {},
     "output_type": "display_data"
    }
   ],
   "source": [
    "print(nrtl_alpha.get_matrix_property(\"Alpha_i_j\",\n",
    "                                     [comp1, comp2], symbol_format='alphabetic', message=\"NRTL Alpha value\"))"
   ]
  },
  {
   "cell_type": "code",
   "execution_count": 25,
   "id": "aa7576cb",
   "metadata": {},
   "outputs": [
    {
     "data": {
      "text/html": [
       "<pre style=\"white-space:pre;overflow-x:auto;line-height:normal;font-family:Menlo,'DejaVu Sans Mono',consolas,'Courier New',monospace\"><span style=\"font-weight: bold\">{</span>\n",
       "    <span style=\"color: #008000; text-decoration-color: #008000\">'property_name'</span>: <span style=\"color: #008000; text-decoration-color: #008000\">'Alpha'</span>,\n",
       "    <span style=\"color: #008000; text-decoration-color: #008000\">'symbol'</span>: <span style=\"color: #008000; text-decoration-color: #008000\">'Alpha_1_2'</span>,\n",
       "    <span style=\"color: #008000; text-decoration-color: #008000\">'unit'</span>: <span style=\"color: #008000; text-decoration-color: #008000\">'1'</span>,\n",
       "    <span style=\"color: #008000; text-decoration-color: #008000\">'value'</span>: <span style=\"color: #008080; text-decoration-color: #008080; font-weight: bold\">0.3</span>,\n",
       "    <span style=\"color: #008000; text-decoration-color: #008000\">'message'</span>: <span style=\"color: #008000; text-decoration-color: #008000\">'NRTL Alpha value'</span>,\n",
       "    <span style=\"color: #008000; text-decoration-color: #008000\">'databook_name'</span>: <span style=\"color: #008000; text-decoration-color: #008000\">'NRTL'</span>,\n",
       "    <span style=\"color: #008000; text-decoration-color: #008000\">'table_name'</span>: <span style=\"color: #008000; text-decoration-color: #008000\">'Non-randomness parameters of the NRTL equation'</span>\n",
       "<span style=\"font-weight: bold\">}</span>\n",
       "</pre>\n"
      ],
      "text/plain": [
       "\u001b[1m{\u001b[0m\n",
       "    \u001b[32m'property_name'\u001b[0m: \u001b[32m'Alpha'\u001b[0m,\n",
       "    \u001b[32m'symbol'\u001b[0m: \u001b[32m'Alpha_1_2'\u001b[0m,\n",
       "    \u001b[32m'unit'\u001b[0m: \u001b[32m'1'\u001b[0m,\n",
       "    \u001b[32m'value'\u001b[0m: \u001b[1;36m0.3\u001b[0m,\n",
       "    \u001b[32m'message'\u001b[0m: \u001b[32m'NRTL Alpha value'\u001b[0m,\n",
       "    \u001b[32m'databook_name'\u001b[0m: \u001b[32m'NRTL'\u001b[0m,\n",
       "    \u001b[32m'table_name'\u001b[0m: \u001b[32m'Non-randomness parameters of the NRTL equation'\u001b[0m\n",
       "\u001b[1m}\u001b[0m\n"
      ]
     },
     "metadata": {},
     "output_type": "display_data"
    }
   ],
   "source": [
    "print(nrtl_alpha.get_matrix_property(\"Alpha_i_j\",\n",
    "                                     [comp1, comp2], symbol_format='numeric', message=\"NRTL Alpha value\"))"
   ]
  },
  {
   "cell_type": "code",
   "execution_count": 24,
   "id": "850e02b3",
   "metadata": {},
   "outputs": [
    {
     "data": {
      "text/html": [
       "<pre style=\"white-space:pre;overflow-x:auto;line-height:normal;font-family:Menlo,'DejaVu Sans Mono',consolas,'Courier New',monospace\">Alpha_methanol_benzene\n",
       "</pre>\n"
      ],
      "text/plain": [
       "Alpha_methanol_benzene\n"
      ]
     },
     "metadata": {},
     "output_type": "display_data"
    },
    {
     "data": {
      "text/html": [
       "<pre style=\"white-space:pre;overflow-x:auto;line-height:normal;font-family:Menlo,'DejaVu Sans Mono',consolas,'Courier New',monospace\"><span style=\"font-weight: bold\">{</span>\n",
       "    <span style=\"color: #008000; text-decoration-color: #008000\">'property_name'</span>: <span style=\"color: #008000; text-decoration-color: #008000\">'Alpha'</span>,\n",
       "    <span style=\"color: #008000; text-decoration-color: #008000\">'symbol'</span>: <span style=\"color: #008000; text-decoration-color: #008000\">'Alpha_methanol_benzene'</span>,\n",
       "    <span style=\"color: #008000; text-decoration-color: #008000\">'unit'</span>: <span style=\"color: #008000; text-decoration-color: #008000\">'1'</span>,\n",
       "    <span style=\"color: #008000; text-decoration-color: #008000\">'value'</span>: <span style=\"color: #008080; text-decoration-color: #008080; font-weight: bold\">-1.709</span>,\n",
       "    <span style=\"color: #008000; text-decoration-color: #008000\">'message'</span>: <span style=\"color: #008000; text-decoration-color: #008000\">'Get a component property from data table structure'</span>,\n",
       "    <span style=\"color: #008000; text-decoration-color: #008000\">'databook_name'</span>: <span style=\"color: #008000; text-decoration-color: #008000\">'NRTL'</span>,\n",
       "    <span style=\"color: #008000; text-decoration-color: #008000\">'table_name'</span>: <span style=\"color: #008000; text-decoration-color: #008000\">'Non-randomness parameters of the NRTL equation'</span>\n",
       "<span style=\"font-weight: bold\">}</span>\n",
       "</pre>\n"
      ],
      "text/plain": [
       "\u001b[1m{\u001b[0m\n",
       "    \u001b[32m'property_name'\u001b[0m: \u001b[32m'Alpha'\u001b[0m,\n",
       "    \u001b[32m'symbol'\u001b[0m: \u001b[32m'Alpha_methanol_benzene'\u001b[0m,\n",
       "    \u001b[32m'unit'\u001b[0m: \u001b[32m'1'\u001b[0m,\n",
       "    \u001b[32m'value'\u001b[0m: \u001b[1;36m-1.709\u001b[0m,\n",
       "    \u001b[32m'message'\u001b[0m: \u001b[32m'Get a component property from data table structure'\u001b[0m,\n",
       "    \u001b[32m'databook_name'\u001b[0m: \u001b[32m'NRTL'\u001b[0m,\n",
       "    \u001b[32m'table_name'\u001b[0m: \u001b[32m'Non-randomness parameters of the NRTL equation'\u001b[0m\n",
       "\u001b[1m}\u001b[0m\n"
      ]
     },
     "metadata": {},
     "output_type": "display_data"
    },
    {
     "data": {
      "text/html": [
       "<pre style=\"white-space:pre;overflow-x:auto;line-height:normal;font-family:Menlo,'DejaVu Sans Mono',consolas,'Courier New',monospace\"><span style=\"color: #008080; text-decoration-color: #008080; font-weight: bold\">-1.709</span>\n",
       "</pre>\n"
      ],
      "text/plain": [
       "\u001b[1;36m-1.709\u001b[0m\n"
      ]
     },
     "metadata": {},
     "output_type": "display_data"
    }
   ],
   "source": [
    "# # property name\n",
    "prop_name_lists = [\"Alpha\", comp1, comp3]\n",
    "prop_name = \"_\".join(prop_name_lists)\n",
    "print(prop_name)\n",
    "print(nrtl_alpha.get_matrix_property_by_name(prop_name))\n",
    "print(nrtl_alpha.get_matrix_property_by_name(prop_name).get('value'))"
   ]
  },
  {
   "cell_type": "markdown",
   "id": "b07de9b9",
   "metadata": {},
   "source": [
    "# Build Equation"
   ]
  },
  {
   "cell_type": "code",
   "execution_count": 26,
   "id": "c1ef85ed",
   "metadata": {},
   "outputs": [],
   "source": [
    "# build equation\n",
    "nrtl_tau_eq = tdb.build_matrix_equation(\n",
    "    [comp1, comp2, comp3], 'NRTL', 'Interaction parameters of the NRTL equation-2')"
   ]
  },
  {
   "cell_type": "code",
   "execution_count": 27,
   "id": "53f803c2",
   "metadata": {},
   "outputs": [
    {
     "data": {
      "text/html": [
       "<pre style=\"white-space:pre;overflow-x:auto;line-height:normal;font-family:Menlo,'DejaVu Sans Mono',consolas,'Courier New',monospace\"><span style=\"font-weight: bold\">{</span>\n",
       "    <span style=\"color: #008000; text-decoration-color: #008000\">'A_i_j'</span>: <span style=\"font-weight: bold\">{</span><span style=\"color: #008000; text-decoration-color: #008000\">'name'</span>: <span style=\"color: #008000; text-decoration-color: #008000\">'A_i_j'</span>, <span style=\"color: #008000; text-decoration-color: #008000\">'symbol'</span>: <span style=\"color: #008000; text-decoration-color: #008000\">'A_i_j'</span>, <span style=\"color: #008000; text-decoration-color: #008000\">'unit'</span>: <span style=\"color: #008080; text-decoration-color: #008080; font-weight: bold\">1</span>, <span style=\"color: #008000; text-decoration-color: #008000\">'conversion'</span>: <span style=\"color: #008080; text-decoration-color: #008080; font-weight: bold\">1</span><span style=\"font-weight: bold\">}</span>,\n",
       "    <span style=\"color: #008000; text-decoration-color: #008000\">'B_i_j'</span>: <span style=\"font-weight: bold\">{</span><span style=\"color: #008000; text-decoration-color: #008000\">'name'</span>: <span style=\"color: #008000; text-decoration-color: #008000\">'B_i_j'</span>, <span style=\"color: #008000; text-decoration-color: #008000\">'symbol'</span>: <span style=\"color: #008000; text-decoration-color: #008000\">'B_i_j'</span>, <span style=\"color: #008000; text-decoration-color: #008000\">'unit'</span>: <span style=\"color: #008080; text-decoration-color: #008080; font-weight: bold\">1</span>, <span style=\"color: #008000; text-decoration-color: #008000\">'conversion'</span>: <span style=\"color: #008080; text-decoration-color: #008080; font-weight: bold\">1</span><span style=\"font-weight: bold\">}</span>\n",
       "<span style=\"font-weight: bold\">}</span>\n",
       "</pre>\n"
      ],
      "text/plain": [
       "\u001b[1m{\u001b[0m\n",
       "    \u001b[32m'A_i_j'\u001b[0m: \u001b[1m{\u001b[0m\u001b[32m'name'\u001b[0m: \u001b[32m'A_i_j'\u001b[0m, \u001b[32m'symbol'\u001b[0m: \u001b[32m'A_i_j'\u001b[0m, \u001b[32m'unit'\u001b[0m: \u001b[1;36m1\u001b[0m, \u001b[32m'conversion'\u001b[0m: \u001b[1;36m1\u001b[0m\u001b[1m}\u001b[0m,\n",
       "    \u001b[32m'B_i_j'\u001b[0m: \u001b[1m{\u001b[0m\u001b[32m'name'\u001b[0m: \u001b[32m'B_i_j'\u001b[0m, \u001b[32m'symbol'\u001b[0m: \u001b[32m'B_i_j'\u001b[0m, \u001b[32m'unit'\u001b[0m: \u001b[1;36m1\u001b[0m, \u001b[32m'conversion'\u001b[0m: \u001b[1;36m1\u001b[0m\u001b[1m}\u001b[0m\n",
       "\u001b[1m}\u001b[0m\n"
      ]
     },
     "metadata": {},
     "output_type": "display_data"
    },
    {
     "data": {
      "text/html": [
       "<pre style=\"white-space:pre;overflow-x:auto;line-height:normal;font-family:Menlo,'DejaVu Sans Mono',consolas,'Courier New',monospace\"><span style=\"font-weight: bold\">{</span>\n",
       "    <span style=\"color: #008000; text-decoration-color: #008000\">'A_i_j'</span>: <span style=\"color: #800080; text-decoration-color: #800080; font-weight: bold\">array</span><span style=\"font-weight: bold\">([[</span> <span style=\"color: #008080; text-decoration-color: #008080; font-weight: bold\">0</span>.   ,  <span style=\"color: #008080; text-decoration-color: #008080; font-weight: bold\">4.712</span>, <span style=\"color: #008080; text-decoration-color: #008080; font-weight: bold\">-1.709</span><span style=\"font-weight: bold\">]</span>,\n",
       "       <span style=\"font-weight: bold\">[</span><span style=\"color: #008080; text-decoration-color: #008080; font-weight: bold\">-2.313</span>,  <span style=\"color: #008080; text-decoration-color: #008080; font-weight: bold\">0</span>.   ,  <span style=\"color: #008080; text-decoration-color: #008080; font-weight: bold\">0.569</span><span style=\"font-weight: bold\">]</span>,\n",
       "       <span style=\"font-weight: bold\">[</span><span style=\"color: #008080; text-decoration-color: #008080; font-weight: bold\">11.58</span> , <span style=\"color: #008080; text-decoration-color: #008080; font-weight: bold\">-0.916</span>,  <span style=\"color: #008080; text-decoration-color: #008080; font-weight: bold\">0</span>.   <span style=\"font-weight: bold\">]])</span>,\n",
       "    <span style=\"color: #008000; text-decoration-color: #008000\">'B_i_j'</span>: <span style=\"color: #800080; text-decoration-color: #800080; font-weight: bold\">array</span><span style=\"font-weight: bold\">([[</span>    <span style=\"color: #008080; text-decoration-color: #008080; font-weight: bold\">0</span>. , <span style=\"color: #008080; text-decoration-color: #008080; font-weight: bold\">-1162.3</span>,   <span style=\"color: #008080; text-decoration-color: #008080; font-weight: bold\">892.2</span><span style=\"font-weight: bold\">]</span>,\n",
       "       <span style=\"font-weight: bold\">[</span>  <span style=\"color: #008080; text-decoration-color: #008080; font-weight: bold\">483.8</span>,     <span style=\"color: #008080; text-decoration-color: #008080; font-weight: bold\">0</span>. ,   <span style=\"color: #008080; text-decoration-color: #008080; font-weight: bold\">-54.8</span><span style=\"font-weight: bold\">]</span>,\n",
       "       <span style=\"font-weight: bold\">[</span><span style=\"color: #008080; text-decoration-color: #008080; font-weight: bold\">-3282.6</span>,   <span style=\"color: #008080; text-decoration-color: #008080; font-weight: bold\">822</span>. ,     <span style=\"color: #008080; text-decoration-color: #008080; font-weight: bold\">0</span>. <span style=\"font-weight: bold\">]])</span>\n",
       "<span style=\"font-weight: bold\">}</span>\n",
       "</pre>\n"
      ],
      "text/plain": [
       "\u001b[1m{\u001b[0m\n",
       "    \u001b[32m'A_i_j'\u001b[0m: \u001b[1;35marray\u001b[0m\u001b[1m(\u001b[0m\u001b[1m[\u001b[0m\u001b[1m[\u001b[0m \u001b[1;36m0\u001b[0m.   ,  \u001b[1;36m4.712\u001b[0m, \u001b[1;36m-1.709\u001b[0m\u001b[1m]\u001b[0m,\n",
       "       \u001b[1m[\u001b[0m\u001b[1;36m-2.313\u001b[0m,  \u001b[1;36m0\u001b[0m.   ,  \u001b[1;36m0.569\u001b[0m\u001b[1m]\u001b[0m,\n",
       "       \u001b[1m[\u001b[0m\u001b[1;36m11.58\u001b[0m , \u001b[1;36m-0.916\u001b[0m,  \u001b[1;36m0\u001b[0m.   \u001b[1m]\u001b[0m\u001b[1m]\u001b[0m\u001b[1m)\u001b[0m,\n",
       "    \u001b[32m'B_i_j'\u001b[0m: \u001b[1;35marray\u001b[0m\u001b[1m(\u001b[0m\u001b[1m[\u001b[0m\u001b[1m[\u001b[0m    \u001b[1;36m0\u001b[0m. , \u001b[1;36m-1162.3\u001b[0m,   \u001b[1;36m892.2\u001b[0m\u001b[1m]\u001b[0m,\n",
       "       \u001b[1m[\u001b[0m  \u001b[1;36m483.8\u001b[0m,     \u001b[1;36m0\u001b[0m. ,   \u001b[1;36m-54.8\u001b[0m\u001b[1m]\u001b[0m,\n",
       "       \u001b[1m[\u001b[0m\u001b[1;36m-3282.6\u001b[0m,   \u001b[1;36m822\u001b[0m. ,     \u001b[1;36m0\u001b[0m. \u001b[1m]\u001b[0m\u001b[1m]\u001b[0m\u001b[1m)\u001b[0m\n",
       "\u001b[1m}\u001b[0m\n"
      ]
     },
     "metadata": {},
     "output_type": "display_data"
    },
    {
     "data": {
      "text/html": [
       "<pre style=\"white-space:pre;overflow-x:auto;line-height:normal;font-family:Menlo,'DejaVu Sans Mono',consolas,'Courier New',monospace\"><span style=\"font-weight: bold\">{</span><span style=\"color: #008000; text-decoration-color: #008000\">'temperature'</span>: <span style=\"font-weight: bold\">{</span><span style=\"color: #008000; text-decoration-color: #008000\">'name'</span>: <span style=\"color: #008000; text-decoration-color: #008000\">'temperature'</span>, <span style=\"color: #008000; text-decoration-color: #008000\">'symbol'</span>: <span style=\"color: #008000; text-decoration-color: #008000\">'T'</span>, <span style=\"color: #008000; text-decoration-color: #008000\">'unit'</span>: <span style=\"color: #008000; text-decoration-color: #008000\">'K'</span><span style=\"font-weight: bold\">}}</span>\n",
       "</pre>\n"
      ],
      "text/plain": [
       "\u001b[1m{\u001b[0m\u001b[32m'temperature'\u001b[0m: \u001b[1m{\u001b[0m\u001b[32m'name'\u001b[0m: \u001b[32m'temperature'\u001b[0m, \u001b[32m'symbol'\u001b[0m: \u001b[32m'T'\u001b[0m, \u001b[32m'unit'\u001b[0m: \u001b[32m'K'\u001b[0m\u001b[1m}\u001b[0m\u001b[1m}\u001b[0m\n"
      ]
     },
     "metadata": {},
     "output_type": "display_data"
    },
    {
     "data": {
      "text/html": [
       "<pre style=\"white-space:pre;overflow-x:auto;line-height:normal;font-family:Menlo,'DejaVu Sans Mono',consolas,'Courier New',monospace\"><span style=\"font-weight: bold\">{</span><span style=\"color: #008000; text-decoration-color: #008000\">'T'</span>: <span style=\"font-weight: bold\">{</span><span style=\"color: #008000; text-decoration-color: #008000\">'name'</span>: <span style=\"color: #008000; text-decoration-color: #008000\">'temperature'</span>, <span style=\"color: #008000; text-decoration-color: #008000\">'symbol'</span>: <span style=\"color: #008000; text-decoration-color: #008000\">'T'</span>, <span style=\"color: #008000; text-decoration-color: #008000\">'unit'</span>: <span style=\"color: #008000; text-decoration-color: #008000\">'K'</span><span style=\"font-weight: bold\">}}</span>\n",
       "</pre>\n"
      ],
      "text/plain": [
       "\u001b[1m{\u001b[0m\u001b[32m'T'\u001b[0m: \u001b[1m{\u001b[0m\u001b[32m'name'\u001b[0m: \u001b[32m'temperature'\u001b[0m, \u001b[32m'symbol'\u001b[0m: \u001b[32m'T'\u001b[0m, \u001b[32m'unit'\u001b[0m: \u001b[32m'K'\u001b[0m\u001b[1m}\u001b[0m\u001b[1m}\u001b[0m\n"
      ]
     },
     "metadata": {},
     "output_type": "display_data"
    },
    {
     "data": {
      "text/html": [
       "<pre style=\"white-space:pre;overflow-x:auto;line-height:normal;font-family:Menlo,'DejaVu Sans Mono',consolas,'Courier New',monospace\"><span style=\"font-weight: bold\">{</span><span style=\"color: #008000; text-decoration-color: #008000\">'tau_i_j'</span>: <span style=\"font-weight: bold\">{</span><span style=\"color: #008000; text-decoration-color: #008000\">'name'</span>: <span style=\"color: #008000; text-decoration-color: #008000\">'tau_i_j'</span>, <span style=\"color: #008000; text-decoration-color: #008000\">'symbol'</span>: <span style=\"color: #008000; text-decoration-color: #008000\">'tau_i_j'</span>, <span style=\"color: #008000; text-decoration-color: #008000\">'unit'</span>: <span style=\"color: #008080; text-decoration-color: #008080; font-weight: bold\">1</span><span style=\"font-weight: bold\">}}</span>\n",
       "</pre>\n"
      ],
      "text/plain": [
       "\u001b[1m{\u001b[0m\u001b[32m'tau_i_j'\u001b[0m: \u001b[1m{\u001b[0m\u001b[32m'name'\u001b[0m: \u001b[32m'tau_i_j'\u001b[0m, \u001b[32m'symbol'\u001b[0m: \u001b[32m'tau_i_j'\u001b[0m, \u001b[32m'unit'\u001b[0m: \u001b[1;36m1\u001b[0m\u001b[1m}\u001b[0m\u001b[1m}\u001b[0m\n"
      ]
     },
     "metadata": {},
     "output_type": "display_data"
    },
    {
     "data": {
      "text/html": [
       "<pre style=\"white-space:pre;overflow-x:auto;line-height:normal;font-family:Menlo,'DejaVu Sans Mono',consolas,'Courier New',monospace\"><span style=\"font-weight: bold\">{</span><span style=\"color: #008000; text-decoration-color: #008000\">'tau_i_j'</span>: <span style=\"font-weight: bold\">{</span><span style=\"color: #008000; text-decoration-color: #008000\">'name'</span>: <span style=\"color: #008000; text-decoration-color: #008000\">'tau_i_j'</span>, <span style=\"color: #008000; text-decoration-color: #008000\">'symbol'</span>: <span style=\"color: #008000; text-decoration-color: #008000\">'tau_i_j'</span>, <span style=\"color: #008000; text-decoration-color: #008000\">'unit'</span>: <span style=\"color: #008080; text-decoration-color: #008080; font-weight: bold\">1</span><span style=\"font-weight: bold\">}}</span>\n",
       "</pre>\n"
      ],
      "text/plain": [
       "\u001b[1m{\u001b[0m\u001b[32m'tau_i_j'\u001b[0m: \u001b[1m{\u001b[0m\u001b[32m'name'\u001b[0m: \u001b[32m'tau_i_j'\u001b[0m, \u001b[32m'symbol'\u001b[0m: \u001b[32m'tau_i_j'\u001b[0m, \u001b[32m'unit'\u001b[0m: \u001b[1;36m1\u001b[0m\u001b[1m}\u001b[0m\u001b[1m}\u001b[0m\n"
      ]
     },
     "metadata": {},
     "output_type": "display_data"
    },
    {
     "data": {
      "text/html": [
       "<pre style=\"white-space:pre;overflow-x:auto;line-height:normal;font-family:Menlo,'DejaVu Sans Mono',consolas,'Courier New',monospace\"><span style=\"font-weight: bold\">{</span>\n",
       "    <span style=\"color: #008000; text-decoration-color: #008000\">'eq_id'</span>: <span style=\"color: #008080; text-decoration-color: #008080; font-weight: bold\">1</span>,\n",
       "    <span style=\"color: #008000; text-decoration-color: #008000\">'table_name'</span>: <span style=\"color: #008000; text-decoration-color: #008000\">'Interaction parameters of the NRTL equation-2'</span>,\n",
       "    <span style=\"color: #008000; text-decoration-color: #008000\">'args'</span>: <span style=\"font-weight: bold\">{</span><span style=\"color: #008000; text-decoration-color: #008000\">'temperature'</span>: <span style=\"font-weight: bold\">{</span><span style=\"color: #008000; text-decoration-color: #008000\">'name'</span>: <span style=\"color: #008000; text-decoration-color: #008000\">'temperature'</span>, <span style=\"color: #008000; text-decoration-color: #008000\">'symbol'</span>: <span style=\"color: #008000; text-decoration-color: #008000\">'T'</span>, <span style=\"color: #008000; text-decoration-color: #008000\">'unit'</span>: <span style=\"color: #008000; text-decoration-color: #008000\">'K'</span><span style=\"font-weight: bold\">}}</span>,\n",
       "    <span style=\"color: #008000; text-decoration-color: #008000\">'arg_symbols'</span>: <span style=\"font-weight: bold\">{</span><span style=\"color: #008000; text-decoration-color: #008000\">'T'</span>: <span style=\"font-weight: bold\">{</span><span style=\"color: #008000; text-decoration-color: #008000\">'name'</span>: <span style=\"color: #008000; text-decoration-color: #008000\">'temperature'</span>, <span style=\"color: #008000; text-decoration-color: #008000\">'symbol'</span>: <span style=\"color: #008000; text-decoration-color: #008000\">'T'</span>, <span style=\"color: #008000; text-decoration-color: #008000\">'unit'</span>: <span style=\"color: #008000; text-decoration-color: #008000\">'K'</span><span style=\"font-weight: bold\">}}</span>,\n",
       "    <span style=\"color: #008000; text-decoration-color: #008000\">'parms'</span>: <span style=\"font-weight: bold\">{</span>\n",
       "        <span style=\"color: #008000; text-decoration-color: #008000\">'A_i_j'</span>: <span style=\"font-weight: bold\">{</span><span style=\"color: #008000; text-decoration-color: #008000\">'name'</span>: <span style=\"color: #008000; text-decoration-color: #008000\">'A_i_j'</span>, <span style=\"color: #008000; text-decoration-color: #008000\">'symbol'</span>: <span style=\"color: #008000; text-decoration-color: #008000\">'A_i_j'</span>, <span style=\"color: #008000; text-decoration-color: #008000\">'unit'</span>: <span style=\"color: #008080; text-decoration-color: #008080; font-weight: bold\">1</span>, <span style=\"color: #008000; text-decoration-color: #008000\">'conversion'</span>: <span style=\"color: #008080; text-decoration-color: #008080; font-weight: bold\">1</span><span style=\"font-weight: bold\">}</span>,\n",
       "        <span style=\"color: #008000; text-decoration-color: #008000\">'B_i_j'</span>: <span style=\"font-weight: bold\">{</span><span style=\"color: #008000; text-decoration-color: #008000\">'name'</span>: <span style=\"color: #008000; text-decoration-color: #008000\">'B_i_j'</span>, <span style=\"color: #008000; text-decoration-color: #008000\">'symbol'</span>: <span style=\"color: #008000; text-decoration-color: #008000\">'B_i_j'</span>, <span style=\"color: #008000; text-decoration-color: #008000\">'unit'</span>: <span style=\"color: #008080; text-decoration-color: #008080; font-weight: bold\">1</span>, <span style=\"color: #008000; text-decoration-color: #008000\">'conversion'</span>: <span style=\"color: #008080; text-decoration-color: #008080; font-weight: bold\">1</span><span style=\"font-weight: bold\">}</span>\n",
       "    <span style=\"font-weight: bold\">}</span>,\n",
       "    <span style=\"color: #008000; text-decoration-color: #008000\">'returns'</span>: <span style=\"font-weight: bold\">{</span><span style=\"color: #008000; text-decoration-color: #008000\">'tau_i_j'</span>: <span style=\"font-weight: bold\">{</span><span style=\"color: #008000; text-decoration-color: #008000\">'name'</span>: <span style=\"color: #008000; text-decoration-color: #008000\">'tau_i_j'</span>, <span style=\"color: #008000; text-decoration-color: #008000\">'symbol'</span>: <span style=\"color: #008000; text-decoration-color: #008000\">'tau_i_j'</span>, <span style=\"color: #008000; text-decoration-color: #008000\">'unit'</span>: <span style=\"color: #008080; text-decoration-color: #008080; font-weight: bold\">1</span><span style=\"font-weight: bold\">}}</span>,\n",
       "    <span style=\"color: #008000; text-decoration-color: #008000\">'return_symbols'</span>: <span style=\"font-weight: bold\">{</span><span style=\"color: #008000; text-decoration-color: #008000\">'tau_i_j'</span>: <span style=\"font-weight: bold\">{</span><span style=\"color: #008000; text-decoration-color: #008000\">'name'</span>: <span style=\"color: #008000; text-decoration-color: #008000\">'tau_i_j'</span>, <span style=\"color: #008000; text-decoration-color: #008000\">'symbol'</span>: <span style=\"color: #008000; text-decoration-color: #008000\">'tau_i_j'</span>, <span style=\"color: #008000; text-decoration-color: #008000\">'unit'</span>: <span style=\"color: #008080; text-decoration-color: #008080; font-weight: bold\">1</span><span style=\"font-weight: bold\">}}</span>,\n",
       "    <span style=\"color: #008000; text-decoration-color: #008000\">'body'</span>: <span style=\"color: #008000; text-decoration-color: #008000\">\"res = parms['A_i_j'] + parms['B_i_j']*(args['T']**(-1))\"</span>,\n",
       "    <span style=\"color: #008000; text-decoration-color: #008000\">'body_integral'</span>: <span style=\"color: #800080; text-decoration-color: #800080; font-style: italic\">None</span>,\n",
       "    <span style=\"color: #008000; text-decoration-color: #008000\">'body_first_derivative'</span>: <span style=\"color: #800080; text-decoration-color: #800080; font-style: italic\">None</span>,\n",
       "    <span style=\"color: #008000; text-decoration-color: #008000\">'body_second_derivative'</span>: <span style=\"color: #800080; text-decoration-color: #800080; font-style: italic\">None</span>,\n",
       "    <span style=\"color: #008000; text-decoration-color: #008000\">'custom_integral'</span>: <span style=\"font-weight: bold\">{}</span>\n",
       "<span style=\"font-weight: bold\">}</span>\n",
       "</pre>\n"
      ],
      "text/plain": [
       "\u001b[1m{\u001b[0m\n",
       "    \u001b[32m'eq_id'\u001b[0m: \u001b[1;36m1\u001b[0m,\n",
       "    \u001b[32m'table_name'\u001b[0m: \u001b[32m'Interaction parameters of the NRTL equation-2'\u001b[0m,\n",
       "    \u001b[32m'args'\u001b[0m: \u001b[1m{\u001b[0m\u001b[32m'temperature'\u001b[0m: \u001b[1m{\u001b[0m\u001b[32m'name'\u001b[0m: \u001b[32m'temperature'\u001b[0m, \u001b[32m'symbol'\u001b[0m: \u001b[32m'T'\u001b[0m, \u001b[32m'unit'\u001b[0m: \u001b[32m'K'\u001b[0m\u001b[1m}\u001b[0m\u001b[1m}\u001b[0m,\n",
       "    \u001b[32m'arg_symbols'\u001b[0m: \u001b[1m{\u001b[0m\u001b[32m'T'\u001b[0m: \u001b[1m{\u001b[0m\u001b[32m'name'\u001b[0m: \u001b[32m'temperature'\u001b[0m, \u001b[32m'symbol'\u001b[0m: \u001b[32m'T'\u001b[0m, \u001b[32m'unit'\u001b[0m: \u001b[32m'K'\u001b[0m\u001b[1m}\u001b[0m\u001b[1m}\u001b[0m,\n",
       "    \u001b[32m'parms'\u001b[0m: \u001b[1m{\u001b[0m\n",
       "        \u001b[32m'A_i_j'\u001b[0m: \u001b[1m{\u001b[0m\u001b[32m'name'\u001b[0m: \u001b[32m'A_i_j'\u001b[0m, \u001b[32m'symbol'\u001b[0m: \u001b[32m'A_i_j'\u001b[0m, \u001b[32m'unit'\u001b[0m: \u001b[1;36m1\u001b[0m, \u001b[32m'conversion'\u001b[0m: \u001b[1;36m1\u001b[0m\u001b[1m}\u001b[0m,\n",
       "        \u001b[32m'B_i_j'\u001b[0m: \u001b[1m{\u001b[0m\u001b[32m'name'\u001b[0m: \u001b[32m'B_i_j'\u001b[0m, \u001b[32m'symbol'\u001b[0m: \u001b[32m'B_i_j'\u001b[0m, \u001b[32m'unit'\u001b[0m: \u001b[1;36m1\u001b[0m, \u001b[32m'conversion'\u001b[0m: \u001b[1;36m1\u001b[0m\u001b[1m}\u001b[0m\n",
       "    \u001b[1m}\u001b[0m,\n",
       "    \u001b[32m'returns'\u001b[0m: \u001b[1m{\u001b[0m\u001b[32m'tau_i_j'\u001b[0m: \u001b[1m{\u001b[0m\u001b[32m'name'\u001b[0m: \u001b[32m'tau_i_j'\u001b[0m, \u001b[32m'symbol'\u001b[0m: \u001b[32m'tau_i_j'\u001b[0m, \u001b[32m'unit'\u001b[0m: \u001b[1;36m1\u001b[0m\u001b[1m}\u001b[0m\u001b[1m}\u001b[0m,\n",
       "    \u001b[32m'return_symbols'\u001b[0m: \u001b[1m{\u001b[0m\u001b[32m'tau_i_j'\u001b[0m: \u001b[1m{\u001b[0m\u001b[32m'name'\u001b[0m: \u001b[32m'tau_i_j'\u001b[0m, \u001b[32m'symbol'\u001b[0m: \u001b[32m'tau_i_j'\u001b[0m, \u001b[32m'unit'\u001b[0m: \u001b[1;36m1\u001b[0m\u001b[1m}\u001b[0m\u001b[1m}\u001b[0m,\n",
       "    \u001b[32m'body'\u001b[0m: \u001b[32m\"res = parms\u001b[0m\u001b[32m[\u001b[0m\u001b[32m'A_i_j'\u001b[0m\u001b[32m]\u001b[0m\u001b[32m + parms\u001b[0m\u001b[32m[\u001b[0m\u001b[32m'B_i_j'\u001b[0m\u001b[32m]\u001b[0m\u001b[32m*\u001b[0m\u001b[32m(\u001b[0m\u001b[32margs\u001b[0m\u001b[32m[\u001b[0m\u001b[32m'T'\u001b[0m\u001b[32m]\u001b[0m\u001b[32m**\u001b[0m\u001b[32m(\u001b[0m\u001b[32m-1\u001b[0m\u001b[32m)\u001b[0m\u001b[32m)\u001b[0m\u001b[32m\"\u001b[0m,\n",
       "    \u001b[32m'body_integral'\u001b[0m: \u001b[3;35mNone\u001b[0m,\n",
       "    \u001b[32m'body_first_derivative'\u001b[0m: \u001b[3;35mNone\u001b[0m,\n",
       "    \u001b[32m'body_second_derivative'\u001b[0m: \u001b[3;35mNone\u001b[0m,\n",
       "    \u001b[32m'custom_integral'\u001b[0m: \u001b[1m{\u001b[0m\u001b[1m}\u001b[0m\n",
       "\u001b[1m}\u001b[0m\n"
      ]
     },
     "metadata": {},
     "output_type": "display_data"
    },
    {
     "data": {
      "text/html": [
       "<pre style=\"white-space:pre;overflow-x:auto;line-height:normal;font-family:Menlo,'DejaVu Sans Mono',consolas,'Courier New',monospace\">            A_i_j  B_i_j\n",
       "name        A_i_j  B_i_j\n",
       "symbol      A_i_j  B_i_j\n",
       "unit            <span style=\"color: #008080; text-decoration-color: #008080; font-weight: bold\">1</span>      <span style=\"color: #008080; text-decoration-color: #008080; font-weight: bold\">1</span>\n",
       "conversion      <span style=\"color: #008080; text-decoration-color: #008080; font-weight: bold\">1</span>      <span style=\"color: #008080; text-decoration-color: #008080; font-weight: bold\">1</span>\n",
       "</pre>\n"
      ],
      "text/plain": [
       "            A_i_j  B_i_j\n",
       "name        A_i_j  B_i_j\n",
       "symbol      A_i_j  B_i_j\n",
       "unit            \u001b[1;36m1\u001b[0m      \u001b[1;36m1\u001b[0m\n",
       "conversion      \u001b[1;36m1\u001b[0m      \u001b[1;36m1\u001b[0m\n"
      ]
     },
     "metadata": {},
     "output_type": "display_data"
    },
    {
     "data": {
      "text/html": [
       "<pre style=\"white-space:pre;overflow-x:auto;line-height:normal;font-family:Menlo,'DejaVu Sans Mono',consolas,'Courier New',monospace\">        temperature\n",
       "name    temperature\n",
       "symbol            T\n",
       "unit              K\n",
       "</pre>\n"
      ],
      "text/plain": [
       "        temperature\n",
       "name    temperature\n",
       "symbol            T\n",
       "unit              K\n"
      ]
     },
     "metadata": {},
     "output_type": "display_data"
    },
    {
     "data": {
      "text/html": [
       "<pre style=\"white-space:pre;overflow-x:auto;line-height:normal;font-family:Menlo,'DejaVu Sans Mono',consolas,'Courier New',monospace\">res = parms<span style=\"font-weight: bold\">[</span><span style=\"color: #008000; text-decoration-color: #008000\">'A_i_j'</span><span style=\"font-weight: bold\">]</span> + parms<span style=\"font-weight: bold\">[</span><span style=\"color: #008000; text-decoration-color: #008000\">'B_i_j'</span><span style=\"font-weight: bold\">]</span>*<span style=\"font-weight: bold\">(</span>args<span style=\"font-weight: bold\">[</span><span style=\"color: #008000; text-decoration-color: #008000\">'T'</span><span style=\"font-weight: bold\">]</span>**<span style=\"font-weight: bold\">(</span><span style=\"color: #008080; text-decoration-color: #008080; font-weight: bold\">-1</span><span style=\"font-weight: bold\">))</span>\n",
       "</pre>\n"
      ],
      "text/plain": [
       "res = parms\u001b[1m[\u001b[0m\u001b[32m'A_i_j'\u001b[0m\u001b[1m]\u001b[0m + parms\u001b[1m[\u001b[0m\u001b[32m'B_i_j'\u001b[0m\u001b[1m]\u001b[0m*\u001b[1m(\u001b[0margs\u001b[1m[\u001b[0m\u001b[32m'T'\u001b[0m\u001b[1m]\u001b[0m**\u001b[1m(\u001b[0m\u001b[1;36m-1\u001b[0m\u001b[1m)\u001b[0m\u001b[1m)\u001b[0m\n"
      ]
     },
     "metadata": {},
     "output_type": "display_data"
    },
    {
     "data": {
      "text/html": [
       "<pre style=\"white-space:pre;overflow-x:auto;line-height:normal;font-family:Menlo,'DejaVu Sans Mono',consolas,'Courier New',monospace\">        tau_i_j\n",
       "name    tau_i_j\n",
       "symbol  tau_i_j\n",
       "unit          <span style=\"color: #008080; text-decoration-color: #008080; font-weight: bold\">1</span>\n",
       "</pre>\n"
      ],
      "text/plain": [
       "        tau_i_j\n",
       "name    tau_i_j\n",
       "symbol  tau_i_j\n",
       "unit          \u001b[1;36m1\u001b[0m\n"
      ]
     },
     "metadata": {},
     "output_type": "display_data"
    }
   ],
   "source": [
    "# load parms\n",
    "print(nrtl_tau_eq.parms)\n",
    "print(nrtl_tau_eq.parms_values)\n",
    "print(nrtl_tau_eq.args)\n",
    "print(nrtl_tau_eq.arg_symbols)\n",
    "print(nrtl_tau_eq.returns)\n",
    "print(nrtl_tau_eq.return_symbols)\n",
    "print(nrtl_tau_eq.summary)\n",
    "# equation details\n",
    "print(nrtl_tau_eq.equation_parms())\n",
    "print(nrtl_tau_eq.equation_args())\n",
    "print(nrtl_tau_eq.equation_body())\n",
    "print(nrtl_tau_eq.equation_return())"
   ]
  },
  {
   "cell_type": "code",
   "execution_count": 29,
   "id": "14b946ef",
   "metadata": {},
   "outputs": [],
   "source": [
    "# cal\n",
    "tau_cal = nrtl_tau_eq.cal(T=298.15)\n",
    "tau_cal = nrtl_tau_eq.cal(message=\"NRTL Tau value\", T=298.15)"
   ]
  },
  {
   "cell_type": "code",
   "execution_count": 30,
   "id": "82e5be7b",
   "metadata": {},
   "outputs": [
    {
     "data": {
      "text/html": [
       "<pre style=\"white-space:pre;overflow-x:auto;line-height:normal;font-family:Menlo,'DejaVu Sans Mono',consolas,'Courier New',monospace\"><span style=\"font-weight: bold\">{</span>\n",
       "    <span style=\"color: #008000; text-decoration-color: #008000\">'value'</span>: <span style=\"color: #800080; text-decoration-color: #800080; font-weight: bold\">array</span><span style=\"font-weight: bold\">([[</span> <span style=\"color: #008080; text-decoration-color: #008080; font-weight: bold\">0</span>.    ,  <span style=\"color: #008080; text-decoration-color: #008080; font-weight: bold\">0.8136</span>,  <span style=\"color: #008080; text-decoration-color: #008080; font-weight: bold\">1.2835</span><span style=\"font-weight: bold\">]</span>,\n",
       "       <span style=\"font-weight: bold\">[</span><span style=\"color: #008080; text-decoration-color: #008080; font-weight: bold\">-0.6903</span>,  <span style=\"color: #008080; text-decoration-color: #008080; font-weight: bold\">0</span>.    ,  <span style=\"color: #008080; text-decoration-color: #008080; font-weight: bold\">0.3852</span><span style=\"font-weight: bold\">]</span>,\n",
       "       <span style=\"font-weight: bold\">[</span> <span style=\"color: #008080; text-decoration-color: #008080; font-weight: bold\">0.5701</span>,  <span style=\"color: #008080; text-decoration-color: #008080; font-weight: bold\">1.841</span> ,  <span style=\"color: #008080; text-decoration-color: #008080; font-weight: bold\">0</span>.    <span style=\"font-weight: bold\">]])</span>,\n",
       "    <span style=\"color: #008000; text-decoration-color: #008000\">'name'</span>: <span style=\"color: #008000; text-decoration-color: #008000\">'tau_i_j'</span>,\n",
       "    <span style=\"color: #008000; text-decoration-color: #008000\">'symbol'</span>: <span style=\"color: #008000; text-decoration-color: #008000\">'tau_i_j'</span>,\n",
       "    <span style=\"color: #008000; text-decoration-color: #008000\">'unit'</span>: <span style=\"color: #008080; text-decoration-color: #008080; font-weight: bold\">1</span>,\n",
       "    <span style=\"color: #008000; text-decoration-color: #008000\">'message'</span>: <span style=\"color: #008000; text-decoration-color: #008000\">'NRTL Tau value'</span>\n",
       "<span style=\"font-weight: bold\">}</span>\n",
       "</pre>\n"
      ],
      "text/plain": [
       "\u001b[1m{\u001b[0m\n",
       "    \u001b[32m'value'\u001b[0m: \u001b[1;35marray\u001b[0m\u001b[1m(\u001b[0m\u001b[1m[\u001b[0m\u001b[1m[\u001b[0m \u001b[1;36m0\u001b[0m.    ,  \u001b[1;36m0.8136\u001b[0m,  \u001b[1;36m1.2835\u001b[0m\u001b[1m]\u001b[0m,\n",
       "       \u001b[1m[\u001b[0m\u001b[1;36m-0.6903\u001b[0m,  \u001b[1;36m0\u001b[0m.    ,  \u001b[1;36m0.3852\u001b[0m\u001b[1m]\u001b[0m,\n",
       "       \u001b[1m[\u001b[0m \u001b[1;36m0.5701\u001b[0m,  \u001b[1;36m1.841\u001b[0m ,  \u001b[1;36m0\u001b[0m.    \u001b[1m]\u001b[0m\u001b[1m]\u001b[0m\u001b[1m)\u001b[0m,\n",
       "    \u001b[32m'name'\u001b[0m: \u001b[32m'tau_i_j'\u001b[0m,\n",
       "    \u001b[32m'symbol'\u001b[0m: \u001b[32m'tau_i_j'\u001b[0m,\n",
       "    \u001b[32m'unit'\u001b[0m: \u001b[1;36m1\u001b[0m,\n",
       "    \u001b[32m'message'\u001b[0m: \u001b[32m'NRTL Tau value'\u001b[0m\n",
       "\u001b[1m}\u001b[0m\n"
      ]
     },
     "metadata": {},
     "output_type": "display_data"
    }
   ],
   "source": [
    "print(tau_cal)"
   ]
  },
  {
   "cell_type": "code",
   "execution_count": 31,
   "id": "3fe56ba7",
   "metadata": {},
   "outputs": [
    {
     "data": {
      "text/html": [
       "<pre style=\"white-space:pre;overflow-x:auto;line-height:normal;font-family:Menlo,'DejaVu Sans Mono',consolas,'Courier New',monospace\"><span style=\"font-weight: bold\">[[</span> <span style=\"color: #008080; text-decoration-color: #008080; font-weight: bold\">0</span>.      <span style=\"color: #008080; text-decoration-color: #008080; font-weight: bold\">0.8136</span>  <span style=\"color: #008080; text-decoration-color: #008080; font-weight: bold\">1.2835</span><span style=\"font-weight: bold\">]</span>\n",
       " <span style=\"font-weight: bold\">[</span><span style=\"color: #008080; text-decoration-color: #008080; font-weight: bold\">-0.6903</span>  <span style=\"color: #008080; text-decoration-color: #008080; font-weight: bold\">0</span>.      <span style=\"color: #008080; text-decoration-color: #008080; font-weight: bold\">0.3852</span><span style=\"font-weight: bold\">]</span>\n",
       " <span style=\"font-weight: bold\">[</span> <span style=\"color: #008080; text-decoration-color: #008080; font-weight: bold\">0.5701</span>  <span style=\"color: #008080; text-decoration-color: #008080; font-weight: bold\">1.841</span>   <span style=\"color: #008080; text-decoration-color: #008080; font-weight: bold\">0</span>.    <span style=\"font-weight: bold\">]]</span>\n",
       "</pre>\n"
      ],
      "text/plain": [
       "\u001b[1m[\u001b[0m\u001b[1m[\u001b[0m \u001b[1;36m0\u001b[0m.      \u001b[1;36m0.8136\u001b[0m  \u001b[1;36m1.2835\u001b[0m\u001b[1m]\u001b[0m\n",
       " \u001b[1m[\u001b[0m\u001b[1;36m-0.6903\u001b[0m  \u001b[1;36m0\u001b[0m.      \u001b[1;36m0.3852\u001b[0m\u001b[1m]\u001b[0m\n",
       " \u001b[1m[\u001b[0m \u001b[1;36m0.5701\u001b[0m  \u001b[1;36m1.841\u001b[0m   \u001b[1;36m0\u001b[0m.    \u001b[1m]\u001b[0m\u001b[1m]\u001b[0m\n"
      ]
     },
     "metadata": {},
     "output_type": "display_data"
    }
   ],
   "source": [
    "print(tau_cal['value'])"
   ]
  },
  {
   "cell_type": "markdown",
   "id": "9464a738",
   "metadata": {},
   "source": [
    "# Build ThermoDB"
   ]
  },
  {
   "cell_type": "code",
   "execution_count": 32,
   "id": "60f21550",
   "metadata": {},
   "outputs": [
    {
     "data": {
      "text/html": [
       "<pre style=\"white-space:pre;overflow-x:auto;line-height:normal;font-family:Menlo,'DejaVu Sans Mono',consolas,'Courier New',monospace\"><span style=\"font-weight: bold\">&lt;</span><span style=\"color: #ff00ff; text-decoration-color: #ff00ff; font-weight: bold\">class</span><span style=\"color: #000000; text-decoration-color: #000000\"> </span><span style=\"color: #008000; text-decoration-color: #008000\">'pyThermoDB.docs.compbuilder.CompBuilder'</span><span style=\"font-weight: bold\">&gt;</span>\n",
       "</pre>\n"
      ],
      "text/plain": [
       "\u001b[1m<\u001b[0m\u001b[1;95mclass\u001b[0m\u001b[39m \u001b[0m\u001b[32m'pyThermoDB.docs.compbuilder.CompBuilder'\u001b[0m\u001b[1m>\u001b[0m\n"
      ]
     },
     "metadata": {},
     "output_type": "display_data"
    },
    {
     "data": {
      "text/plain": [
       "True"
      ]
     },
     "execution_count": 32,
     "metadata": {},
     "output_type": "execute_result"
    }
   ],
   "source": [
    "# thermodb name\n",
    "thermodb_name = \"thermodb_nrtl_0\"\n",
    "\n",
    "# build a thermodb\n",
    "thermo_db = ptdb.build_thermodb()\n",
    "print(type(thermo_db))\n",
    "\n",
    "# * add TableMatrixData\n",
    "thermo_db.add_data('nrtl_alpha', nrtl_alpha)\n",
    "# * add TableMatrixEquation\n",
    "thermo_db.add_data('nrtl_tau', nrtl_tau_eq)"
   ]
  },
  {
   "cell_type": "code",
   "execution_count": 35,
   "id": "bb0cd7cd",
   "metadata": {},
   "outputs": [
    {
     "data": {
      "text/plain": [
       "True"
      ]
     },
     "execution_count": 35,
     "metadata": {},
     "output_type": "execute_result"
    }
   ],
   "source": [
    "# file name\n",
    "thermodb_file_path = os.path.join(os.getcwd())\n",
    "# save\n",
    "thermo_db.save(\n",
    "    f'{thermodb_name}', file_path=thermodb_file_path)"
   ]
  },
  {
   "cell_type": "code",
   "execution_count": 36,
   "id": "505a24fd",
   "metadata": {},
   "outputs": [
    {
     "data": {
      "text/html": [
       "<pre style=\"white-space:pre;overflow-x:auto;line-height:normal;font-family:Menlo,'DejaVu Sans Mono',consolas,'Courier New',monospace\"><span style=\"font-weight: bold\">{</span><span style=\"color: #008000; text-decoration-color: #008000\">'nrtl_alpha'</span>: <span style=\"font-weight: bold\">&lt;</span><span style=\"color: #ff00ff; text-decoration-color: #ff00ff; font-weight: bold\">pyThermoDB.docs.tablematrixdata.TableMatrixData</span><span style=\"color: #000000; text-decoration-color: #000000\"> object at </span><span style=\"color: #008080; text-decoration-color: #008080; font-weight: bold\">0x00000223341579D0</span><span style=\"font-weight: bold\">&gt;}</span>\n",
       "</pre>\n"
      ],
      "text/plain": [
       "\u001b[1m{\u001b[0m\u001b[32m'nrtl_alpha'\u001b[0m: \u001b[1m<\u001b[0m\u001b[1;95mpyThermoDB.docs.tablematrixdata.TableMatrixData\u001b[0m\u001b[39m object at \u001b[0m\u001b[1;36m0x00000223341579D0\u001b[0m\u001b[1m>\u001b[0m\u001b[1m}\u001b[0m\n"
      ]
     },
     "metadata": {},
     "output_type": "display_data"
    },
    {
     "data": {
      "text/html": [
       "<pre style=\"white-space:pre;overflow-x:auto;line-height:normal;font-family:Menlo,'DejaVu Sans Mono',consolas,'Courier New',monospace\"><span style=\"font-weight: bold\">{</span><span style=\"color: #008000; text-decoration-color: #008000\">'nrtl_tau'</span>: <span style=\"font-weight: bold\">&lt;</span><span style=\"color: #ff00ff; text-decoration-color: #ff00ff; font-weight: bold\">pyThermoDB.docs.tablematrixequation.TableMatrixEquation</span><span style=\"color: #000000; text-decoration-color: #000000\"> object at </span><span style=\"color: #008080; text-decoration-color: #008080; font-weight: bold\">0x0000022333F7C050</span><span style=\"font-weight: bold\">&gt;}</span>\n",
       "</pre>\n"
      ],
      "text/plain": [
       "\u001b[1m{\u001b[0m\u001b[32m'nrtl_tau'\u001b[0m: \u001b[1m<\u001b[0m\u001b[1;95mpyThermoDB.docs.tablematrixequation.TableMatrixEquation\u001b[0m\u001b[39m object at \u001b[0m\u001b[1;36m0x0000022333F7C050\u001b[0m\u001b[1m>\u001b[0m\u001b[1m}\u001b[0m\n"
      ]
     },
     "metadata": {},
     "output_type": "display_data"
    }
   ],
   "source": [
    "# check all properties and functions registered\n",
    "print(thermo_db.check_properties())\n",
    "print(thermo_db.check_functions())"
   ]
  }
 ],
 "metadata": {
  "kernelspec": {
   "display_name": ".venv",
   "language": "python",
   "name": "python3"
  },
  "language_info": {
   "codemirror_mode": {
    "name": "ipython",
    "version": 3
   },
   "file_extension": ".py",
   "mimetype": "text/x-python",
   "name": "python",
   "nbconvert_exporter": "python",
   "pygments_lexer": "ipython3",
   "version": "3.13.1"
  }
 },
 "nbformat": 4,
 "nbformat_minor": 5
}
