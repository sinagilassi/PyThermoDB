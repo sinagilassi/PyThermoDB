{
 "cells": [
  {
   "cell_type": "markdown",
   "id": "bcead44a",
   "metadata": {},
   "source": [
    "# Import Libs"
   ]
  },
  {
   "cell_type": "code",
   "execution_count": 3,
   "id": "609e44cf",
   "metadata": {},
   "outputs": [],
   "source": [
    "import os\n",
    "from rich import print\n",
    "import pyThermoDB as ptdb"
   ]
  },
  {
   "cell_type": "code",
   "execution_count": 4,
   "id": "a930f671",
   "metadata": {},
   "outputs": [
    {
     "data": {
      "text/html": [
       "<pre style=\"white-space:pre;overflow-x:auto;line-height:normal;font-family:Menlo,'DejaVu Sans Mono',consolas,'Courier New',monospace\"><span style=\"color: #008080; text-decoration-color: #008080; font-weight: bold\">1.7</span>.<span style=\"color: #008080; text-decoration-color: #008080; font-weight: bold\">18</span>\n",
       "</pre>\n"
      ],
      "text/plain": [
       "\u001b[1;36m1.7\u001b[0m.\u001b[1;36m18\u001b[0m\n"
      ]
     },
     "metadata": {},
     "output_type": "display_data"
    }
   ],
   "source": [
    "# versions\n",
    "print(ptdb.__version__)"
   ]
  },
  {
   "cell_type": "markdown",
   "id": "8067c233",
   "metadata": {},
   "source": [
    "# Custom Reference"
   ]
  },
  {
   "cell_type": "code",
   "execution_count": 5,
   "id": "5f4af500",
   "metadata": {},
   "outputs": [
    {
     "data": {
      "text/html": [
       "<pre style=\"white-space:pre;overflow-x:auto;line-height:normal;font-family:Menlo,'DejaVu Sans Mono',consolas,'Courier New',monospace\"><span style=\"font-weight: bold\">{</span>\n",
       "    <span style=\"color: #008000; text-decoration-color: #008000\">'reference'</span>: <span style=\"font-weight: bold\">[</span><span style=\"color: #008000; text-decoration-color: #008000\">'e:\\\\Python Projects\\\\pyThermoDB\\\\tests\\\\CO2 Hydrogenation.yml'</span><span style=\"font-weight: bold\">]</span>,\n",
       "    <span style=\"color: #008000; text-decoration-color: #008000\">'tables'</span>: <span style=\"font-weight: bold\">[</span>\n",
       "        <span style=\"color: #008000; text-decoration-color: #008000\">'e:\\\\Python Projects\\\\pyThermoDB\\\\tests\\\\The Molar Heat Capacities of Gases in the Ideal Gas </span>\n",
       "<span style=\"color: #008000; text-decoration-color: #008000\">(Zero-Pressure) State.csv'</span>,\n",
       "        <span style=\"color: #008000; text-decoration-color: #008000\">'e:\\\\Python Projects\\\\pyThermoDB\\\\tests\\\\General Data.csv'</span>\n",
       "    <span style=\"font-weight: bold\">]</span>\n",
       "<span style=\"font-weight: bold\">}</span>\n",
       "</pre>\n"
      ],
      "text/plain": [
       "\u001b[1m{\u001b[0m\n",
       "    \u001b[32m'reference'\u001b[0m: \u001b[1m[\u001b[0m\u001b[32m'e:\\\\Python Projects\\\\pyThermoDB\\\\tests\\\\CO2 Hydrogenation.yml'\u001b[0m\u001b[1m]\u001b[0m,\n",
       "    \u001b[32m'tables'\u001b[0m: \u001b[1m[\u001b[0m\n",
       "        \u001b[32m'e:\\\\Python Projects\\\\pyThermoDB\\\\tests\\\\The Molar Heat Capacities of Gases in the Ideal Gas \u001b[0m\n",
       "\u001b[32m(\u001b[0m\u001b[32mZero-Pressure\u001b[0m\u001b[32m)\u001b[0m\u001b[32m State.csv'\u001b[0m,\n",
       "        \u001b[32m'e:\\\\Python Projects\\\\pyThermoDB\\\\tests\\\\General Data.csv'\u001b[0m\n",
       "    \u001b[1m]\u001b[0m\n",
       "\u001b[1m}\u001b[0m\n"
      ]
     },
     "metadata": {},
     "output_type": "display_data"
    }
   ],
   "source": [
    "# parent directory\n",
    "parent_dir = os.path.dirname(os.getcwd())\n",
    "# test directory\n",
    "test_dir = os.path.join(parent_dir, 'tests')\n",
    "# files\n",
    "yml_file = 'CO2 Hydrogenation.yml'\n",
    "yml_path = os.path.join(test_dir, yml_file)\n",
    "# csv files (data/equation tables)\n",
    "# NOTE: data\n",
    "csv_file_1 = 'The Molar Heat Capacities of Gases in the Ideal Gas (Zero-Pressure) State.csv'\n",
    "# NOTE: equation\n",
    "csv_file_2 = 'General Data.csv'\n",
    "csv_path_1 = os.path.join(test_dir, csv_file_1)\n",
    "csv_path_2 = os.path.join(test_dir, csv_file_2)\n",
    "\n",
    "# NOTE: custom ref\n",
    "ref = {\n",
    "    'reference': [yml_path],\n",
    "    'tables': [csv_path_1, csv_path_2]\n",
    "}\n",
    "\n",
    "print(ref)"
   ]
  },
  {
   "cell_type": "markdown",
   "id": "21a261c8",
   "metadata": {},
   "source": [
    "# App Initializtion"
   ]
  },
  {
   "cell_type": "code",
   "execution_count": 6,
   "id": "c4357805",
   "metadata": {},
   "outputs": [
    {
     "data": {
      "text/html": [
       "<pre style=\"white-space:pre;overflow-x:auto;line-height:normal;font-family:Menlo,'DejaVu Sans Mono',consolas,'Courier New',monospace\"><span style=\"font-weight: bold\">&lt;</span><span style=\"color: #ff00ff; text-decoration-color: #ff00ff; font-weight: bold\">pyThermoDB.docs.tableref.TableReference</span><span style=\"color: #000000; text-decoration-color: #000000\"> object at </span><span style=\"color: #008080; text-decoration-color: #008080; font-weight: bold\">0x000001A0941627B0</span><span style=\"font-weight: bold\">&gt;</span>\n",
       "</pre>\n"
      ],
      "text/plain": [
       "\u001b[1m<\u001b[0m\u001b[1;95mpyThermoDB.docs.tableref.TableReference\u001b[0m\u001b[39m object at \u001b[0m\u001b[1;36m0x000001A0941627B0\u001b[0m\u001b[1m>\u001b[0m\n"
      ]
     },
     "metadata": {},
     "output_type": "display_data"
    }
   ],
   "source": [
    "tdb_ref = ptdb.ref(ref=ref)\n",
    "print(tdb_ref)"
   ]
  },
  {
   "cell_type": "markdown",
   "id": "c57f1e8e",
   "metadata": {},
   "source": [
    "# Databook List"
   ]
  },
  {
   "cell_type": "code",
   "execution_count": 7,
   "id": "d274d77c",
   "metadata": {},
   "outputs": [
    {
     "ename": "ValueError",
     "evalue": "too many values to unpack (expected 2)",
     "output_type": "error",
     "traceback": [
      "\u001b[31m---------------------------------------------------------------------------\u001b[39m",
      "\u001b[31mValueError\u001b[39m                                Traceback (most recent call last)",
      "\u001b[36mCell\u001b[39m\u001b[36m \u001b[39m\u001b[32mIn[7]\u001b[39m\u001b[32m, line 1\u001b[39m\n\u001b[32m----> \u001b[39m\u001b[32m1\u001b[39m db_list = \u001b[43mtdb_ref\u001b[49m\u001b[43m.\u001b[49m\u001b[43mlist_databooks\u001b[49m\u001b[43m(\u001b[49m\u001b[43m)\u001b[49m\n\u001b[32m      2\u001b[39m \u001b[38;5;28mprint\u001b[39m(db_list)\n",
      "\u001b[36mFile \u001b[39m\u001b[32me:\\Python Projects\\pyThermoDB\\.venv\\Lib\\site-packages\\pyThermoDB\\docs\\tableref.py:53\u001b[39m, in \u001b[36mTableReference.list_databooks\u001b[39m\u001b[34m(self)\u001b[39m\n\u001b[32m     49\u001b[39m \u001b[38;5;28;01mdef\u001b[39;00m \u001b[34mlist_databooks\u001b[39m(\u001b[38;5;28mself\u001b[39m):\n\u001b[32m     50\u001b[39m \u001b[38;5;250m    \u001b[39m\u001b[33;03m'''\u001b[39;00m\n\u001b[32m     51\u001b[39m \u001b[33;03m    list databooks\u001b[39;00m\n\u001b[32m     52\u001b[39m \u001b[33;03m    '''\u001b[39;00m\n\u001b[32m---> \u001b[39m\u001b[32m53\u001b[39m     _, df = \u001b[38;5;28mself\u001b[39m.get_databooks()\n\u001b[32m     54\u001b[39m     \u001b[38;5;28;01mreturn\u001b[39;00m df\n",
      "\u001b[31mValueError\u001b[39m: too many values to unpack (expected 2)"
     ]
    }
   ],
   "source": [
    "db_list = tdb_ref.list_databooks()\n",
    "print(db_list)"
   ]
  },
  {
   "cell_type": "markdown",
   "id": "43d502e2",
   "metadata": {},
   "source": [
    "# Table List"
   ]
  },
  {
   "cell_type": "code",
   "execution_count": 8,
   "id": "7a1e2a7b",
   "metadata": {},
   "outputs": [
    {
     "ename": "TypeError",
     "evalue": "TableReference.list_tables() got an unexpected keyword argument 'res_format'",
     "output_type": "error",
     "traceback": [
      "\u001b[31m---------------------------------------------------------------------------\u001b[39m",
      "\u001b[31mTypeError\u001b[39m                                 Traceback (most recent call last)",
      "\u001b[36mCell\u001b[39m\u001b[36m \u001b[39m\u001b[32mIn[8]\u001b[39m\u001b[32m, line 1\u001b[39m\n\u001b[32m----> \u001b[39m\u001b[32m1\u001b[39m tb_lists = \u001b[43mtdb_ref\u001b[49m\u001b[43m.\u001b[49m\u001b[43mlist_tables\u001b[49m\u001b[43m(\u001b[49m\u001b[33;43m\"\u001b[39;49m\u001b[33;43mCO2 Hydrogenation Reaction\u001b[39;49m\u001b[33;43m\"\u001b[39;49m\u001b[43m,\u001b[49m\u001b[43m \u001b[49m\u001b[43mres_format\u001b[49m\u001b[43m=\u001b[49m\u001b[33;43m'\u001b[39;49m\u001b[33;43mjson\u001b[39;49m\u001b[33;43m'\u001b[39;49m\u001b[43m)\u001b[49m\n\u001b[32m      2\u001b[39m \u001b[38;5;28mprint\u001b[39m(tb_lists)\n",
      "\u001b[31mTypeError\u001b[39m: TableReference.list_tables() got an unexpected keyword argument 'res_format'"
     ]
    }
   ],
   "source": [
    "tb_lists = tdb_ref.list_tables(\"CO2 Hydrogenation Reaction\", res_format='json')\n",
    "print(tb_lists)"
   ]
  },
  {
   "cell_type": "markdown",
   "id": "9a089ed8",
   "metadata": {},
   "source": [
    "# Load Table Data"
   ]
  },
  {
   "cell_type": "code",
   "execution_count": 11,
   "id": "abe0ce7a",
   "metadata": {},
   "outputs": [
    {
     "data": {
      "application/vnd.microsoft.datawrangler.viewer.v0+json": {
       "columns": [
        {
         "name": "index",
         "rawType": "int64",
         "type": "integer"
        },
        {
         "name": "No.",
         "rawType": "object",
         "type": "string"
        },
        {
         "name": "Name",
         "rawType": "object",
         "type": "string"
        },
        {
         "name": "Formula",
         "rawType": "object",
         "type": "string"
        },
        {
         "name": "a",
         "rawType": "object",
         "type": "string"
        },
        {
         "name": "b",
         "rawType": "object",
         "type": "string"
        },
        {
         "name": "c",
         "rawType": "object",
         "type": "string"
        },
        {
         "name": "d",
         "rawType": "object",
         "type": "string"
        },
        {
         "name": "T(min)",
         "rawType": "object",
         "type": "string"
        },
        {
         "name": "T(max)",
         "rawType": "object",
         "type": "string"
        },
        {
         "name": "Eq",
         "rawType": "object",
         "type": "string"
        }
       ],
       "conversionMethod": "pd.DataFrame",
       "ref": "797bfef0-3024-428c-8470-e6ecac1ed230",
       "rows": [
        [
         "0",
         "-",
         "-",
         "-",
         "a",
         "b",
         "c",
         "d",
         "T(min)",
         "T(max)",
         "HeCa_IG"
        ],
        [
         "1",
         "-",
         "-",
         "-",
         "1",
         "1.00E+02",
         "1.00E+05",
         "1.00E+09",
         "K",
         "K",
         "J/mol.K"
        ],
        [
         "2",
         "1",
         "Methane",
         "CH4",
         "19.875",
         "5.021",
         "1.268",
         "-11.004",
         "273",
         "1500",
         "1"
        ],
        [
         "3",
         "2",
         "Ethane",
         "C2H6",
         "6.895",
         "17.255",
         "-6.402",
         "7.280",
         "273",
         "1500",
         "1"
        ],
        [
         "4",
         "3",
         "Propane",
         "C3H",
         "-4.042",
         "30.456",
         "-15.711",
         "31.716",
         "273",
         "1500",
         "1"
        ],
        [
         "5",
         "4",
         "n-Butane",
         "C4H10",
         "3.954",
         "37.126",
         "-18.326",
         "34.979",
         "273",
         "1500",
         "1"
        ],
        [
         "6",
         "5",
         "i-Butane",
         "C4H10",
         "-7.908",
         "41.573",
         "-22.992",
         "49.875",
         "273",
         "1500",
         "1"
        ],
        [
         "7",
         "6",
         "n-Pentane",
         "C5H12",
         "6.770",
         "45.398",
         "-22448.000",
         "42.259",
         "273",
         "1500",
         "1"
        ],
        [
         "8",
         "7",
         "n-Hexane",
         "C6H14",
         "6.933",
         "55.188",
         "-28.636",
         "57.657",
         "273",
         "1500",
         "1"
        ],
        [
         "9",
         "8",
         "Ethylene",
         "C2H4",
         "3.950",
         "15.628",
         "-8.339",
         "17.657",
         "273",
         "1500",
         "1"
        ],
        [
         "10",
         "9",
         "Propylene",
         "C3H6",
         "3.151",
         "23.812",
         "-12.176",
         "24.603",
         "273",
         "1500",
         "1"
        ],
        [
         "11",
         "10",
         "1-Butene",
         "C4H8",
         "-1.004",
         "36.193",
         "-21.381",
         "50.502",
         "273",
         "1500",
         "1"
        ],
        [
         "12",
         "11",
         "i-Butene",
         "C4H8",
         "6.904",
         "32.226",
         "-16.657",
         "33.557",
         "273",
         "1500",
         "1"
        ],
        [
         "13",
         "12",
         "cis-2-Butene",
         "C4H8",
         "-7.439",
         "33.799",
         "-17.046",
         "33.013",
         "273",
         "1500",
         "1"
        ],
        [
         "14",
         "13",
         "trans-2-Butene",
         "C4H8",
         "9.791",
         "30209.000",
         "-14.239",
         "25.398",
         "273",
         "1500",
         "1"
        ],
        [
         "15",
         "14",
         "Cyclopentane",
         "C5H10",
         "-54.213",
         "54.757",
         "-31.159",
         "68.661",
         "273",
         "1500",
         "1"
        ],
        [
         "16",
         "15",
         "Methylcyclopentane",
         "C6H12",
         "-50.686",
         "64.352",
         "-37.301",
         "83.808",
         "273",
         "1500",
         "1"
        ],
        [
         "17",
         "16",
         "Cyclohexane",
         "C6H12",
         "-66.674",
         "68.845",
         "-38.506",
         "80.628",
         "273",
         "1500",
         "1"
        ],
        [
         "18",
         "17",
         "Methylcyclohexane",
         "C7H14",
         "-63.054",
         "79.381",
         "-45.979",
         "100.795",
         "273",
         "1500",
         "1"
        ],
        [
         "19",
         "18",
         "Benzene",
         "C6H6",
         "-36.193",
         "48.444",
         "-31.548",
         "77.573",
         "273",
         "1500",
         "1"
        ],
        [
         "20",
         "19",
         "Toluene",
         "C7H8",
         "-34.364",
         "55.887",
         "-34.435",
         "80.335",
         "273",
         "1500",
         "1"
        ],
        [
         "21",
         "20",
         "Ethylbenzene",
         "C&H10",
         "-35138.000",
         "66.674",
         "-41.854",
         "100.209",
         "273",
         "1500",
         "1"
        ],
        [
         "22",
         "21",
         "Styrene",
         "C8H8",
         "-24971.000",
         "60.059",
         "-38.285",
         "92.176",
         "273",
         "1500",
         "1"
        ],
        [
         "23",
         "22",
         "Cumene",
         "C,H12",
         "-39548.000",
         "78.184",
         "-49.661",
         "120502.000",
         "273",
         "1500",
         "1"
        ],
        [
         "24",
         "23",
         "Formaldehyde",
         "CH2O ",
         "22.791",
         "4.075",
         "0.713",
         "-8.695",
         "273",
         "1500",
         "1"
        ],
        [
         "25",
         "24",
         "Acetaldehyde",
         "C2H4O",
         "17.531",
         "13.239",
         "-2.155",
         "-15.900",
         "273",
         "1000",
         "1"
        ],
        [
         "26",
         "25",
         "Methanol ",
         " CH4O ",
         "19.038",
         "9.146",
         "1.218",
         "-8.034",
         "273",
         "1000",
         "1"
        ],
        [
         "27",
         "26",
         "Ethanol ",
         "C2H6O ",
         "19.875",
         "20.946",
         "-10.372",
         "20.042",
         "273",
         "1500",
         "1"
        ],
        [
         "28",
         "27",
         "Ethylene oxide ",
         "C2H4O ",
         "-4.686",
         "20.607",
         "-9.996",
         "13.176",
         "273",
         "1000",
         "1"
        ],
        [
         "29",
         "28",
         "Ketene",
         "C2H2O",
         "17.197",
         "12.410",
         "-7.502",
         "17.657",
         "273",
         "1500",
         "1"
        ],
        [
         "30",
         "29",
         "Cyclopropane",
         "C3H6",
         "-27.117",
         "34.335",
         "-23.335",
         "65.314",
         "273",
         "1000",
         "1"
        ],
        [
         "31",
         "30",
         "Isopentane",
         "C5H12",
         "-9.511",
         "52.025",
         "-29.695",
         "66.360",
         "273",
         "1500",
         "1"
        ],
        [
         "32",
         "31",
         "Neopentane",
         "C5H12",
         "16.172",
         "55.670",
         "-33.548",
         "78.787",
         "273",
         "1500",
         "1"
        ],
        [
         "33",
         "32",
         "o-Xylene",
         "CgH10",
         "-15.854",
         "59.795",
         "-34.954",
         "78.661",
         "273",
         "1500",
         "1"
        ],
        [
         "34",
         "33",
         "m-Xylene",
         "CgH10",
         "-27.335",
         "62.364",
         "-36.950",
         "83.891",
         "273",
         "1500",
         "1"
        ],
        [
         "35",
         "34",
         "p-Xylene",
         "C8H10",
         "-22.318",
         "59.498",
         "-33.406",
         "71.255",
         "273",
         "1500",
         "1"
        ],
        [
         "36",
         "35",
         "Carbon suboxide",
         "C3O2",
         "34.322",
         "12.858",
         "-8.707",
         "-21.682",
         "273",
         "1500",
         "1"
        ],
        [
         "37",
         "36",
         "Acetone",
         "C3H6O",
         "6.799",
         "27.870",
         "-15.636",
         "34.757",
         "273",
         "1500",
         "1"
        ],
        [
         "38",
         "37",
         "i-Propyl alcohol",
         "C3H8O",
         "3.321",
         "35.573",
         "-20.987",
         "48.368",
         "273",
         "1500",
         "1"
        ],
        [
         "39",
         "38",
         "n-Propyl alcohol",
         "C3H8O",
         "-5.469",
         "38.640",
         "-24268.000",
         "59.163",
         "273",
         "1500",
         "1"
        ],
        [
         "40",
         "39",
         "Allyl alcohol",
         "C3H6O",
         "2.177",
         "29.799",
         "-17.820",
         "41.623",
         "273",
         "1500",
         "1"
        ],
        [
         "41",
         "40",
         "Chloroethene",
         "C2H3C1",
         "10.046",
         "17.866",
         "-11.511",
         "28.439",
         "273",
         "1500",
         "1"
        ],
        [
         "42",
         "41",
         "1,1-Dichloroethene",
         "C2H2Cl2",
         "24.682",
         "18.339",
         "-13.314",
         "35.632",
         "273",
         "1500",
         "1"
        ],
        [
         "43",
         "42",
         "cis-1,2-Dichloroethene",
         "C2H2Cl2",
         "18.142",
         "19.628",
         "-14213.000",
         "37.699",
         "273",
         "1500",
         "1"
        ],
        [
         "44",
         "43",
         "trans-1,2-Dichloroethene",
         "C2H2Cl2",
         "23.686",
         "17.971",
         "-12.644",
         "33.017",
         "273",
         "1500",
         "1"
        ],
        [
         "45",
         "44",
         "Trichloroethene",
         "C2HCl3",
         "38.494",
         "18.900",
         "-15.063",
         "42.259",
         "273",
         "1500",
         "1"
        ],
        [
         "46",
         "45",
         "Tetrachloroethene",
         "C2Cl4",
         "63.222",
         "15.895",
         "-13.301",
         "38.029",
         "273",
         "1500",
         "1"
        ],
        [
         "47",
         "46",
         "Ammonia",
         "NH3",
         "27.551",
         "2.563",
         "0.990",
         "-6.687",
         "273",
         "1500",
         "1"
        ],
        [
         "48",
         "47",
         "Hydrazine",
         "N2H4",
         "16.276",
         "14.870",
         "-9.640",
         "25.063",
         "273",
         "1500",
         "1"
        ],
        [
         "49",
         "48",
         "Methylamine",
         "CH5N",
         "12.534",
         "15.105",
         "-6.881",
         "12.345",
         "273",
         "1500",
         "1"
        ]
       ],
       "shape": {
        "columns": 10,
        "rows": 104
       }
      },
      "text/html": [
       "<div>\n",
       "<style scoped>\n",
       "    .dataframe tbody tr th:only-of-type {\n",
       "        vertical-align: middle;\n",
       "    }\n",
       "\n",
       "    .dataframe tbody tr th {\n",
       "        vertical-align: top;\n",
       "    }\n",
       "\n",
       "    .dataframe thead th {\n",
       "        text-align: right;\n",
       "    }\n",
       "</style>\n",
       "<table border=\"1\" class=\"dataframe\">\n",
       "  <thead>\n",
       "    <tr style=\"text-align: right;\">\n",
       "      <th></th>\n",
       "      <th>No.</th>\n",
       "      <th>Name</th>\n",
       "      <th>Formula</th>\n",
       "      <th>a</th>\n",
       "      <th>b</th>\n",
       "      <th>c</th>\n",
       "      <th>d</th>\n",
       "      <th>T(min)</th>\n",
       "      <th>T(max)</th>\n",
       "      <th>Eq</th>\n",
       "    </tr>\n",
       "  </thead>\n",
       "  <tbody>\n",
       "    <tr>\n",
       "      <th>0</th>\n",
       "      <td>-</td>\n",
       "      <td>-</td>\n",
       "      <td>-</td>\n",
       "      <td>a</td>\n",
       "      <td>b</td>\n",
       "      <td>c</td>\n",
       "      <td>d</td>\n",
       "      <td>T(min)</td>\n",
       "      <td>T(max)</td>\n",
       "      <td>HeCa_IG</td>\n",
       "    </tr>\n",
       "    <tr>\n",
       "      <th>1</th>\n",
       "      <td>-</td>\n",
       "      <td>-</td>\n",
       "      <td>-</td>\n",
       "      <td>1</td>\n",
       "      <td>1.00E+02</td>\n",
       "      <td>1.00E+05</td>\n",
       "      <td>1.00E+09</td>\n",
       "      <td>K</td>\n",
       "      <td>K</td>\n",
       "      <td>J/mol.K</td>\n",
       "    </tr>\n",
       "    <tr>\n",
       "      <th>2</th>\n",
       "      <td>1</td>\n",
       "      <td>Methane</td>\n",
       "      <td>CH4</td>\n",
       "      <td>19.875</td>\n",
       "      <td>5.021</td>\n",
       "      <td>1.268</td>\n",
       "      <td>-11.004</td>\n",
       "      <td>273</td>\n",
       "      <td>1500</td>\n",
       "      <td>1</td>\n",
       "    </tr>\n",
       "    <tr>\n",
       "      <th>3</th>\n",
       "      <td>2</td>\n",
       "      <td>Ethane</td>\n",
       "      <td>C2H6</td>\n",
       "      <td>6.895</td>\n",
       "      <td>17.255</td>\n",
       "      <td>-6.402</td>\n",
       "      <td>7.280</td>\n",
       "      <td>273</td>\n",
       "      <td>1500</td>\n",
       "      <td>1</td>\n",
       "    </tr>\n",
       "    <tr>\n",
       "      <th>4</th>\n",
       "      <td>3</td>\n",
       "      <td>Propane</td>\n",
       "      <td>C3H</td>\n",
       "      <td>-4.042</td>\n",
       "      <td>30.456</td>\n",
       "      <td>-15.711</td>\n",
       "      <td>31.716</td>\n",
       "      <td>273</td>\n",
       "      <td>1500</td>\n",
       "      <td>1</td>\n",
       "    </tr>\n",
       "    <tr>\n",
       "      <th>...</th>\n",
       "      <td>...</td>\n",
       "      <td>...</td>\n",
       "      <td>...</td>\n",
       "      <td>...</td>\n",
       "      <td>...</td>\n",
       "      <td>...</td>\n",
       "      <td>...</td>\n",
       "      <td>...</td>\n",
       "      <td>...</td>\n",
       "      <td>...</td>\n",
       "    </tr>\n",
       "    <tr>\n",
       "      <th>99</th>\n",
       "      <td>98</td>\n",
       "      <td>Sulfur dioxide</td>\n",
       "      <td>SO2</td>\n",
       "      <td>25.762</td>\n",
       "      <td>5.791</td>\n",
       "      <td>-3.809</td>\n",
       "      <td>8.607</td>\n",
       "      <td>273</td>\n",
       "      <td>1800</td>\n",
       "      <td>1</td>\n",
       "    </tr>\n",
       "    <tr>\n",
       "      <th>100</th>\n",
       "      <td>99</td>\n",
       "      <td>Sulfur trioxide</td>\n",
       "      <td>SO3</td>\n",
       "      <td>16.393</td>\n",
       "      <td>14.573</td>\n",
       "      <td>11.193</td>\n",
       "      <td>32.402</td>\n",
       "      <td>273</td>\n",
       "      <td>1300</td>\n",
       "      <td>1</td>\n",
       "    </tr>\n",
       "    <tr>\n",
       "      <th>101</th>\n",
       "      <td>100</td>\n",
       "      <td>Hydrogen sulfide</td>\n",
       "      <td>H2S</td>\n",
       "      <td>29.582</td>\n",
       "      <td>1.309</td>\n",
       "      <td>0.571</td>\n",
       "      <td>-3.292</td>\n",
       "      <td>273</td>\n",
       "      <td>1800</td>\n",
       "      <td>1</td>\n",
       "    </tr>\n",
       "    <tr>\n",
       "      <th>102</th>\n",
       "      <td>101</td>\n",
       "      <td>Carbon distilfide</td>\n",
       "      <td>CS2</td>\n",
       "      <td>30.921</td>\n",
       "      <td>6.230</td>\n",
       "      <td>-4.586</td>\n",
       "      <td>11.548</td>\n",
       "      <td>273</td>\n",
       "      <td>1800</td>\n",
       "      <td>1</td>\n",
       "    </tr>\n",
       "    <tr>\n",
       "      <th>103</th>\n",
       "      <td>102</td>\n",
       "      <td>Carbonyl sulfide</td>\n",
       "      <td>COS</td>\n",
       "      <td>26.034</td>\n",
       "      <td>6.427</td>\n",
       "      <td>-4.427</td>\n",
       "      <td>10.711</td>\n",
       "      <td>273</td>\n",
       "      <td>1800</td>\n",
       "      <td>1</td>\n",
       "    </tr>\n",
       "  </tbody>\n",
       "</table>\n",
       "<p>104 rows × 10 columns</p>\n",
       "</div>"
      ],
      "text/plain": [
       "     No.                Name Formula       a         b         c         d  \\\n",
       "0      -                   -       -       a         b         c         d   \n",
       "1      -                   -       -       1  1.00E+02  1.00E+05  1.00E+09   \n",
       "2      1             Methane     CH4  19.875     5.021     1.268   -11.004   \n",
       "3      2              Ethane    C2H6   6.895    17.255    -6.402     7.280   \n",
       "4      3             Propane     C3H  -4.042    30.456   -15.711    31.716   \n",
       "..   ...                 ...     ...     ...       ...       ...       ...   \n",
       "99    98      Sulfur dioxide     SO2  25.762     5.791    -3.809     8.607   \n",
       "100   99    Sulfur trioxide      SO3  16.393    14.573    11.193    32.402   \n",
       "101  100    Hydrogen sulfide     H2S  29.582     1.309     0.571    -3.292   \n",
       "102  101  Carbon distilfide      CS2  30.921     6.230    -4.586    11.548   \n",
       "103  102    Carbonyl sulfide     COS  26.034     6.427    -4.427    10.711   \n",
       "\n",
       "     T(min)  T(max)       Eq  \n",
       "0    T(min)  T(max)  HeCa_IG  \n",
       "1         K       K  J/mol.K  \n",
       "2       273    1500        1  \n",
       "3       273    1500        1  \n",
       "4       273    1500        1  \n",
       "..      ...     ...      ...  \n",
       "99      273    1800        1  \n",
       "100     273    1300        1  \n",
       "101     273    1800        1  \n",
       "102     273    1800        1  \n",
       "103     273    1800        1  \n",
       "\n",
       "[104 rows x 10 columns]"
      ]
     },
     "execution_count": 11,
     "metadata": {},
     "output_type": "execute_result"
    }
   ],
   "source": [
    "# load table\n",
    "res_ = tdb_ref.load_table(3, 1)\n",
    "res_"
   ]
  },
  {
   "cell_type": "markdown",
   "id": "f7177ca2",
   "metadata": {},
   "source": [
    "# Search Table"
   ]
  },
  {
   "cell_type": "code",
   "execution_count": 12,
   "id": "b1e6d26f",
   "metadata": {},
   "outputs": [
    {
     "data": {
      "application/vnd.microsoft.datawrangler.viewer.v0+json": {
       "columns": [
        {
         "name": "index",
         "rawType": "int64",
         "type": "integer"
        },
        {
         "name": "No.",
         "rawType": "object",
         "type": "string"
        },
        {
         "name": "Name",
         "rawType": "object",
         "type": "string"
        },
        {
         "name": "Formula",
         "rawType": "object",
         "type": "string"
        },
        {
         "name": "State",
         "rawType": "object",
         "type": "string"
        },
        {
         "name": "enthalpy-of-formation",
         "rawType": "object",
         "type": "string"
        },
        {
         "name": "gibbs-energy-of-formation",
         "rawType": "object",
         "type": "string"
        }
       ],
       "conversionMethod": "pd.DataFrame",
       "ref": "9d477825-60df-44cc-ab76-3db0ac063bea",
       "rows": [
        [
         "0",
         "-",
         "-",
         "-",
         "-",
         "EnFo",
         "GiEnFo"
        ],
        [
         "1",
         "-",
         "-",
         "-",
         "-",
         "kJ/mol",
         "kJ/mol"
        ],
        [
         "64",
         "63",
         "Carbon dioxide",
         "CO2",
         "g",
         "-393.50",
         "-394.40"
        ],
        [
         "65",
         "64",
         "Carbon dioxide",
         "CO2",
         "aq",
         "-413.80",
         "-386.00"
        ]
       ],
       "shape": {
        "columns": 6,
        "rows": 4
       }
      },
      "text/html": [
       "<div>\n",
       "<style scoped>\n",
       "    .dataframe tbody tr th:only-of-type {\n",
       "        vertical-align: middle;\n",
       "    }\n",
       "\n",
       "    .dataframe tbody tr th {\n",
       "        vertical-align: top;\n",
       "    }\n",
       "\n",
       "    .dataframe thead th {\n",
       "        text-align: right;\n",
       "    }\n",
       "</style>\n",
       "<table border=\"1\" class=\"dataframe\">\n",
       "  <thead>\n",
       "    <tr style=\"text-align: right;\">\n",
       "      <th></th>\n",
       "      <th>No.</th>\n",
       "      <th>Name</th>\n",
       "      <th>Formula</th>\n",
       "      <th>State</th>\n",
       "      <th>enthalpy-of-formation</th>\n",
       "      <th>gibbs-energy-of-formation</th>\n",
       "    </tr>\n",
       "  </thead>\n",
       "  <tbody>\n",
       "    <tr>\n",
       "      <th>0</th>\n",
       "      <td>-</td>\n",
       "      <td>-</td>\n",
       "      <td>-</td>\n",
       "      <td>-</td>\n",
       "      <td>EnFo</td>\n",
       "      <td>GiEnFo</td>\n",
       "    </tr>\n",
       "    <tr>\n",
       "      <th>1</th>\n",
       "      <td>-</td>\n",
       "      <td>-</td>\n",
       "      <td>-</td>\n",
       "      <td>-</td>\n",
       "      <td>kJ/mol</td>\n",
       "      <td>kJ/mol</td>\n",
       "    </tr>\n",
       "    <tr>\n",
       "      <th>64</th>\n",
       "      <td>63</td>\n",
       "      <td>Carbon dioxide</td>\n",
       "      <td>CO2</td>\n",
       "      <td>g</td>\n",
       "      <td>-393.50</td>\n",
       "      <td>-394.40</td>\n",
       "    </tr>\n",
       "    <tr>\n",
       "      <th>65</th>\n",
       "      <td>64</td>\n",
       "      <td>Carbon dioxide</td>\n",
       "      <td>CO2</td>\n",
       "      <td>aq</td>\n",
       "      <td>-413.80</td>\n",
       "      <td>-386.00</td>\n",
       "    </tr>\n",
       "  </tbody>\n",
       "</table>\n",
       "</div>"
      ],
      "text/plain": [
       "   No.            Name Formula State enthalpy-of-formation  \\\n",
       "0    -               -       -     -                  EnFo   \n",
       "1    -               -       -     -                kJ/mol   \n",
       "64  63  Carbon dioxide     CO2     g               -393.50   \n",
       "65  64  Carbon dioxide     CO2    aq               -413.80   \n",
       "\n",
       "   gibbs-energy-of-formation  \n",
       "0                     GiEnFo  \n",
       "1                     kJ/mol  \n",
       "64                   -394.40  \n",
       "65                   -386.00  "
      ]
     },
     "execution_count": 12,
     "metadata": {},
     "output_type": "execute_result"
    }
   ],
   "source": [
    "# search table\n",
    "res_ = tdb_ref.search_table(3, 2, \"Formula\", \"CO2\")\n",
    "res_"
   ]
  },
  {
   "cell_type": "code",
   "execution_count": 13,
   "id": "d4ad7a7c",
   "metadata": {},
   "outputs": [
    {
     "data": {
      "application/vnd.microsoft.datawrangler.viewer.v0+json": {
       "columns": [
        {
         "name": "index",
         "rawType": "int64",
         "type": "integer"
        },
        {
         "name": "No.",
         "rawType": "object",
         "type": "string"
        },
        {
         "name": "Name",
         "rawType": "object",
         "type": "string"
        },
        {
         "name": "Formula",
         "rawType": "object",
         "type": "string"
        },
        {
         "name": "State",
         "rawType": "object",
         "type": "string"
        },
        {
         "name": "enthalpy-of-formation",
         "rawType": "object",
         "type": "string"
        },
        {
         "name": "gibbs-energy-of-formation",
         "rawType": "object",
         "type": "string"
        }
       ],
       "conversionMethod": "pd.DataFrame",
       "ref": "090ba010-989a-4ea1-8aab-4285e957a0ae",
       "rows": [
        [
         "0",
         "-",
         "-",
         "-",
         "-",
         "EnFo",
         "GiEnFo"
        ],
        [
         "1",
         "-",
         "-",
         "-",
         "-",
         "kJ/mol",
         "kJ/mol"
        ],
        [
         "64",
         "63",
         "Carbon dioxide",
         "CO2",
         "g",
         "-393.50",
         "-394.40"
        ]
       ],
       "shape": {
        "columns": 6,
        "rows": 3
       }
      },
      "text/html": [
       "<div>\n",
       "<style scoped>\n",
       "    .dataframe tbody tr th:only-of-type {\n",
       "        vertical-align: middle;\n",
       "    }\n",
       "\n",
       "    .dataframe tbody tr th {\n",
       "        vertical-align: top;\n",
       "    }\n",
       "\n",
       "    .dataframe thead th {\n",
       "        text-align: right;\n",
       "    }\n",
       "</style>\n",
       "<table border=\"1\" class=\"dataframe\">\n",
       "  <thead>\n",
       "    <tr style=\"text-align: right;\">\n",
       "      <th></th>\n",
       "      <th>No.</th>\n",
       "      <th>Name</th>\n",
       "      <th>Formula</th>\n",
       "      <th>State</th>\n",
       "      <th>enthalpy-of-formation</th>\n",
       "      <th>gibbs-energy-of-formation</th>\n",
       "    </tr>\n",
       "  </thead>\n",
       "  <tbody>\n",
       "    <tr>\n",
       "      <th>0</th>\n",
       "      <td>-</td>\n",
       "      <td>-</td>\n",
       "      <td>-</td>\n",
       "      <td>-</td>\n",
       "      <td>EnFo</td>\n",
       "      <td>GiEnFo</td>\n",
       "    </tr>\n",
       "    <tr>\n",
       "      <th>1</th>\n",
       "      <td>-</td>\n",
       "      <td>-</td>\n",
       "      <td>-</td>\n",
       "      <td>-</td>\n",
       "      <td>kJ/mol</td>\n",
       "      <td>kJ/mol</td>\n",
       "    </tr>\n",
       "    <tr>\n",
       "      <th>64</th>\n",
       "      <td>63</td>\n",
       "      <td>Carbon dioxide</td>\n",
       "      <td>CO2</td>\n",
       "      <td>g</td>\n",
       "      <td>-393.50</td>\n",
       "      <td>-394.40</td>\n",
       "    </tr>\n",
       "  </tbody>\n",
       "</table>\n",
       "</div>"
      ],
      "text/plain": [
       "   No.            Name Formula State enthalpy-of-formation  \\\n",
       "0    -               -       -     -                  EnFo   \n",
       "1    -               -       -     -                kJ/mol   \n",
       "64  63  Carbon dioxide     CO2     g               -393.50   \n",
       "\n",
       "   gibbs-energy-of-formation  \n",
       "0                     GiEnFo  \n",
       "1                     kJ/mol  \n",
       "64                   -394.40  "
      ]
     },
     "execution_count": 13,
     "metadata": {},
     "output_type": "execute_result"
    }
   ],
   "source": [
    "res_ = tdb_ref.search_table(3, 2, [\"Formula\", \"State\"], [\"CO2\", \"g\"])\n",
    "res_"
   ]
  }
 ],
 "metadata": {
  "kernelspec": {
   "display_name": ".venv",
   "language": "python",
   "name": "python3"
  },
  "language_info": {
   "codemirror_mode": {
    "name": "ipython",
    "version": 3
   },
   "file_extension": ".py",
   "mimetype": "text/x-python",
   "name": "python",
   "nbconvert_exporter": "python",
   "pygments_lexer": "ipython3",
   "version": "3.13.1"
  }
 },
 "nbformat": 4,
 "nbformat_minor": 5
}
