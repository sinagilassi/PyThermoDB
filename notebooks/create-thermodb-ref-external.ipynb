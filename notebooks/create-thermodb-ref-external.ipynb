{
 "cells": [
  {
   "cell_type": "markdown",
   "id": "bcead44a",
   "metadata": {},
   "source": [
    "# Import Libs"
   ]
  },
  {
   "cell_type": "code",
   "execution_count": 1,
   "id": "609e44cf",
   "metadata": {},
   "outputs": [],
   "source": [
    "import os\n",
    "from rich import print\n",
    "import pyThermoDB as ptdb"
   ]
  },
  {
   "cell_type": "code",
   "execution_count": 2,
   "id": "a930f671",
   "metadata": {},
   "outputs": [
    {
     "data": {
      "text/html": [
       "<pre style=\"white-space:pre;overflow-x:auto;line-height:normal;font-family:Menlo,'DejaVu Sans Mono',consolas,'Courier New',monospace\"><span style=\"color: #008080; text-decoration-color: #008080; font-weight: bold\">1.10</span>.<span style=\"color: #008080; text-decoration-color: #008080; font-weight: bold\">2</span>\n",
       "</pre>\n"
      ],
      "text/plain": [
       "\u001b[1;36m1.10\u001b[0m.\u001b[1;36m2\u001b[0m\n"
      ]
     },
     "metadata": {},
     "output_type": "display_data"
    }
   ],
   "source": [
    "# versions\n",
    "print(ptdb.__version__)"
   ]
  },
  {
   "cell_type": "markdown",
   "id": "8067c233",
   "metadata": {},
   "source": [
    "# Custom Reference"
   ]
  },
  {
   "cell_type": "code",
   "execution_count": 3,
   "id": "987eb963",
   "metadata": {},
   "outputs": [
    {
     "data": {
      "text/html": [
       "<pre style=\"white-space:pre;overflow-x:auto;line-height:normal;font-family:Menlo,'DejaVu Sans Mono',consolas,'Courier New',monospace\">Parent directory: e:\\Python Projects\\pyThermoDB\n",
       "</pre>\n"
      ],
      "text/plain": [
       "Parent directory: e:\\Python Projects\\pyThermoDB\n"
      ]
     },
     "metadata": {},
     "output_type": "display_data"
    }
   ],
   "source": [
    "# parent directory\n",
    "parent_dir = os.path.dirname(os.getcwd())\n",
    "print(f\"Parent directory: {parent_dir}\")"
   ]
  },
  {
   "cell_type": "code",
   "execution_count": 4,
   "id": "c35db60e",
   "metadata": {},
   "outputs": [
    {
     "data": {
      "text/html": [
       "<pre style=\"white-space:pre;overflow-x:auto;line-height:normal;font-family:Menlo,'DejaVu Sans Mono',consolas,'Courier New',monospace\">Current directory: e:\\Python Projects\\pyThermoDB\\notebooks\n",
       "</pre>\n"
      ],
      "text/plain": [
       "Current directory: e:\\Python Projects\\pyThermoDB\\notebooks\n"
      ]
     },
     "metadata": {},
     "output_type": "display_data"
    }
   ],
   "source": [
    "# current directory\n",
    "current_directory = os.getcwd()\n",
    "print(f\"Current directory: {current_directory}\")"
   ]
  },
  {
   "cell_type": "code",
   "execution_count": 19,
   "id": "5f4af500",
   "metadata": {},
   "outputs": [
    {
     "data": {
      "text/html": [
       "<pre style=\"white-space:pre;overflow-x:auto;line-height:normal;font-family:Menlo,'DejaVu Sans Mono',consolas,'Courier New',monospace\"><span style=\"font-weight: bold\">{</span>\n",
       "    <span style=\"color: #008000; text-decoration-color: #008000\">'reference'</span>: <span style=\"font-weight: bold\">[</span><span style=\"color: #008000; text-decoration-color: #008000\">'e:\\\\Python Projects\\\\pyThermoDB\\\\notebooks\\\\Ref-1\\\\general data.yml'</span><span style=\"font-weight: bold\">]</span>,\n",
       "    <span style=\"color: #008000; text-decoration-color: #008000\">'tables'</span>: <span style=\"font-weight: bold\">[</span>\n",
       "        <span style=\"color: #008000; text-decoration-color: #008000\">'e:\\\\Python Projects\\\\pyThermoDB\\\\notebooks\\\\Ref-1\\\\The Molar Heat Capacities of Gases in the Ideal Gas </span>\n",
       "<span style=\"color: #008000; text-decoration-color: #008000\">(Zero-Pressure) State.csv'</span>,\n",
       "        <span style=\"color: #008000; text-decoration-color: #008000\">'e:\\\\Python Projects\\\\pyThermoDB\\\\notebooks\\\\Ref-1\\\\General Data.csv'</span>,\n",
       "        <span style=\"color: #008000; text-decoration-color: #008000\">'e:\\\\Python Projects\\\\pyThermoDB\\\\notebooks\\\\Ref-1\\\\Vapor Pressure.csv'</span>\n",
       "    <span style=\"font-weight: bold\">]</span>\n",
       "<span style=\"font-weight: bold\">}</span>\n",
       "</pre>\n"
      ],
      "text/plain": [
       "\u001b[1m{\u001b[0m\n",
       "    \u001b[32m'reference'\u001b[0m: \u001b[1m[\u001b[0m\u001b[32m'e:\\\\Python Projects\\\\pyThermoDB\\\\notebooks\\\\Ref-1\\\\general data.yml'\u001b[0m\u001b[1m]\u001b[0m,\n",
       "    \u001b[32m'tables'\u001b[0m: \u001b[1m[\u001b[0m\n",
       "        \u001b[32m'e:\\\\Python Projects\\\\pyThermoDB\\\\notebooks\\\\Ref-1\\\\The Molar Heat Capacities of Gases in the Ideal Gas \u001b[0m\n",
       "\u001b[32m(\u001b[0m\u001b[32mZero-Pressure\u001b[0m\u001b[32m)\u001b[0m\u001b[32m State.csv'\u001b[0m,\n",
       "        \u001b[32m'e:\\\\Python Projects\\\\pyThermoDB\\\\notebooks\\\\Ref-1\\\\General Data.csv'\u001b[0m,\n",
       "        \u001b[32m'e:\\\\Python Projects\\\\pyThermoDB\\\\notebooks\\\\Ref-1\\\\Vapor Pressure.csv'\u001b[0m\n",
       "    \u001b[1m]\u001b[0m\n",
       "\u001b[1m}\u001b[0m\n"
      ]
     },
     "metadata": {},
     "output_type": "display_data"
    }
   ],
   "source": [
    "# target directory\n",
    "test_dir = os.path.join(current_directory, 'Ref-1')\n",
    "\n",
    "# NOTE: files\n",
    "yml_file = 'general data.yml'\n",
    "yml_path = os.path.join(test_dir, yml_file)\n",
    "\n",
    "# NOTE: csv files (data/equation tables)\n",
    "# data\n",
    "csv_file_1 = 'The Molar Heat Capacities of Gases in the Ideal Gas (Zero-Pressure) State.csv'\n",
    "# equation\n",
    "csv_file_2 = 'General Data.csv'\n",
    "csv_file_3 = 'Vapor Pressure.csv'\n",
    "\n",
    "# set csv files\n",
    "csv_path_1 = os.path.join(test_dir, csv_file_1)\n",
    "csv_path_2 = os.path.join(test_dir, csv_file_2)\n",
    "csv_path_3 = os.path.join(test_dir, csv_file_3)\n",
    "\n",
    "# NOTE: custom ref\n",
    "ref = {\n",
    "    'reference': [yml_path],\n",
    "    'tables': [csv_path_1, csv_path_2, csv_path_3],\n",
    "}\n",
    "\n",
    "print(ref)"
   ]
  },
  {
   "cell_type": "markdown",
   "id": "21a261c8",
   "metadata": {},
   "source": [
    "# App Initializtion"
   ]
  },
  {
   "cell_type": "code",
   "execution_count": 20,
   "id": "c4357805",
   "metadata": {},
   "outputs": [
    {
     "data": {
      "text/html": [
       "<pre style=\"white-space:pre;overflow-x:auto;line-height:normal;font-family:Menlo,'DejaVu Sans Mono',consolas,'Courier New',monospace\"><span style=\"font-weight: bold\">&lt;</span><span style=\"color: #ff00ff; text-decoration-color: #ff00ff; font-weight: bold\">pyThermoDB.docs.thermo.ThermoDB</span><span style=\"color: #000000; text-decoration-color: #000000\"> object at </span><span style=\"color: #008080; text-decoration-color: #008080; font-weight: bold\">0x00000200D9978D60</span><span style=\"font-weight: bold\">&gt;</span>\n",
       "</pre>\n"
      ],
      "text/plain": [
       "\u001b[1m<\u001b[0m\u001b[1;95mpyThermoDB.docs.thermo.ThermoDB\u001b[0m\u001b[39m object at \u001b[0m\u001b[1;36m0x00000200D9978D60\u001b[0m\u001b[1m>\u001b[0m\n"
      ]
     },
     "metadata": {},
     "output_type": "display_data"
    }
   ],
   "source": [
    "tdb_ref = ptdb.init(custom_reference=ref)\n",
    "print(tdb_ref)"
   ]
  },
  {
   "cell_type": "markdown",
   "id": "c57f1e8e",
   "metadata": {},
   "source": [
    "# Databook List"
   ]
  },
  {
   "cell_type": "code",
   "execution_count": 21,
   "id": "d274d77c",
   "metadata": {},
   "outputs": [
    {
     "data": {
      "text/html": [
       "<pre style=\"white-space:pre;overflow-x:auto;line-height:normal;font-family:Menlo,'DejaVu Sans Mono',consolas,'Courier New',monospace\">                                           Databooks   Id\n",
       "<span style=\"color: #008080; text-decoration-color: #008080; font-weight: bold\">0</span>               Perry's Chemical Engineers' Handbook  <span style=\"font-weight: bold\">[</span><span style=\"color: #008080; text-decoration-color: #008080; font-weight: bold\">1</span><span style=\"font-weight: bold\">]</span>\n",
       "<span style=\"color: #008080; text-decoration-color: #008080; font-weight: bold\">1</span>     Chemical Thermodynamics for Process Simulation  <span style=\"font-weight: bold\">[</span><span style=\"color: #008080; text-decoration-color: #008080; font-weight: bold\">2</span><span style=\"font-weight: bold\">]</span>\n",
       "<span style=\"color: #008080; text-decoration-color: #008080; font-weight: bold\">2</span>            Chemical and Engineering Thermodynamics  <span style=\"font-weight: bold\">[</span><span style=\"color: #008080; text-decoration-color: #008080; font-weight: bold\">3</span><span style=\"font-weight: bold\">]</span>\n",
       "<span style=\"color: #008080; text-decoration-color: #008080; font-weight: bold\">3</span>                         CO2 Hydrogenation Reaction  <span style=\"font-weight: bold\">[</span><span style=\"color: #008080; text-decoration-color: #008080; font-weight: bold\">4</span><span style=\"font-weight: bold\">]</span>\n",
       "<span style=\"color: #008080; text-decoration-color: #008080; font-weight: bold\">4</span>  Introduction to Chemical Engineering Thermodyn<span style=\"color: #808000; text-decoration-color: #808000\">...</span>  <span style=\"font-weight: bold\">[</span><span style=\"color: #008080; text-decoration-color: #008080; font-weight: bold\">5</span><span style=\"font-weight: bold\">]</span>\n",
       "<span style=\"color: #008080; text-decoration-color: #008080; font-weight: bold\">5</span>                    Properties of Gases and Liquids  <span style=\"font-weight: bold\">[</span><span style=\"color: #008080; text-decoration-color: #008080; font-weight: bold\">6</span><span style=\"font-weight: bold\">]</span>\n",
       "<span style=\"color: #008080; text-decoration-color: #008080; font-weight: bold\">6</span>  The Thermodynamics of Phase and Reaction Equil<span style=\"color: #808000; text-decoration-color: #808000\">...</span>  <span style=\"font-weight: bold\">[</span><span style=\"color: #008080; text-decoration-color: #008080; font-weight: bold\">7</span><span style=\"font-weight: bold\">]</span>\n",
       "<span style=\"color: #008080; text-decoration-color: #008080; font-weight: bold\">7</span>                                            GENERAL  <span style=\"font-weight: bold\">[</span><span style=\"color: #008080; text-decoration-color: #008080; font-weight: bold\">8</span><span style=\"font-weight: bold\">]</span>\n",
       "</pre>\n"
      ],
      "text/plain": [
       "                                           Databooks   Id\n",
       "\u001b[1;36m0\u001b[0m               Perry's Chemical Engineers' Handbook  \u001b[1m[\u001b[0m\u001b[1;36m1\u001b[0m\u001b[1m]\u001b[0m\n",
       "\u001b[1;36m1\u001b[0m     Chemical Thermodynamics for Process Simulation  \u001b[1m[\u001b[0m\u001b[1;36m2\u001b[0m\u001b[1m]\u001b[0m\n",
       "\u001b[1;36m2\u001b[0m            Chemical and Engineering Thermodynamics  \u001b[1m[\u001b[0m\u001b[1;36m3\u001b[0m\u001b[1m]\u001b[0m\n",
       "\u001b[1;36m3\u001b[0m                         CO2 Hydrogenation Reaction  \u001b[1m[\u001b[0m\u001b[1;36m4\u001b[0m\u001b[1m]\u001b[0m\n",
       "\u001b[1;36m4\u001b[0m  Introduction to Chemical Engineering Thermodyn\u001b[33m...\u001b[0m  \u001b[1m[\u001b[0m\u001b[1;36m5\u001b[0m\u001b[1m]\u001b[0m\n",
       "\u001b[1;36m5\u001b[0m                    Properties of Gases and Liquids  \u001b[1m[\u001b[0m\u001b[1;36m6\u001b[0m\u001b[1m]\u001b[0m\n",
       "\u001b[1;36m6\u001b[0m  The Thermodynamics of Phase and Reaction Equil\u001b[33m...\u001b[0m  \u001b[1m[\u001b[0m\u001b[1;36m7\u001b[0m\u001b[1m]\u001b[0m\n",
       "\u001b[1;36m7\u001b[0m                                            GENERAL  \u001b[1m[\u001b[0m\u001b[1;36m8\u001b[0m\u001b[1m]\u001b[0m\n"
      ]
     },
     "metadata": {},
     "output_type": "display_data"
    }
   ],
   "source": [
    "db_list = tdb_ref.list_databooks()\n",
    "print(db_list)"
   ]
  },
  {
   "cell_type": "markdown",
   "id": "43d502e2",
   "metadata": {},
   "source": [
    "# Table List"
   ]
  },
  {
   "cell_type": "code",
   "execution_count": 22,
   "id": "7a1e2a7b",
   "metadata": {},
   "outputs": [
    {
     "data": {
      "text/html": [
       "<pre style=\"white-space:pre;overflow-x:auto;line-height:normal;font-family:Menlo,'DejaVu Sans Mono',consolas,'Courier New',monospace\">  Tables in The Thermodynamics of Phase and Reaction Equilibria databook  \\\n",
       "<span style=\"color: #008080; text-decoration-color: #008080; font-weight: bold\">0</span>            Critical constants and acentric factors                       \n",
       "<span style=\"color: #008080; text-decoration-color: #008080; font-weight: bold\">1</span>                                  Antoine constants                       \n",
       "\n",
       "       Type   Id  \n",
       "<span style=\"color: #008080; text-decoration-color: #008080; font-weight: bold\">0</span>      data  <span style=\"font-weight: bold\">[</span><span style=\"color: #008080; text-decoration-color: #008080; font-weight: bold\">1</span><span style=\"font-weight: bold\">]</span>  \n",
       "<span style=\"color: #008080; text-decoration-color: #008080; font-weight: bold\">1</span>  equation  <span style=\"font-weight: bold\">[</span><span style=\"color: #008080; text-decoration-color: #008080; font-weight: bold\">2</span><span style=\"font-weight: bold\">]</span>  \n",
       "</pre>\n"
      ],
      "text/plain": [
       "  Tables in The Thermodynamics of Phase and Reaction Equilibria databook  \\\n",
       "\u001b[1;36m0\u001b[0m            Critical constants and acentric factors                       \n",
       "\u001b[1;36m1\u001b[0m                                  Antoine constants                       \n",
       "\n",
       "       Type   Id  \n",
       "\u001b[1;36m0\u001b[0m      data  \u001b[1m[\u001b[0m\u001b[1;36m1\u001b[0m\u001b[1m]\u001b[0m  \n",
       "\u001b[1;36m1\u001b[0m  equation  \u001b[1m[\u001b[0m\u001b[1;36m2\u001b[0m\u001b[1m]\u001b[0m  \n"
      ]
     },
     "metadata": {},
     "output_type": "display_data"
    }
   ],
   "source": [
    "tb_lists = tdb_ref.list_tables(7)\n",
    "print(tb_lists)"
   ]
  },
  {
   "cell_type": "markdown",
   "id": "4c72287a",
   "metadata": {},
   "source": [
    "# Create ThermoDB "
   ]
  },
  {
   "cell_type": "markdown",
   "id": "ea783ff2",
   "metadata": {},
   "source": [
    "## Table List"
   ]
  },
  {
   "cell_type": "code",
   "execution_count": 23,
   "id": "422a15e3",
   "metadata": {},
   "outputs": [
    {
     "data": {
      "text/html": [
       "<pre style=\"white-space:pre;overflow-x:auto;line-height:normal;font-family:Menlo,'DejaVu Sans Mono',consolas,'Courier New',monospace\"><span style=\"font-weight: bold\">{</span>\n",
       "    <span style=\"color: #008000; text-decoration-color: #008000\">'table-1'</span>: <span style=\"color: #008000; text-decoration-color: #008000\">'The Molar Heat Capacities of Gases in the Ideal Gas (Zero-Pressure) State'</span>,\n",
       "    <span style=\"color: #008000; text-decoration-color: #008000\">'table-2'</span>: <span style=\"color: #008000; text-decoration-color: #008000\">'General Data'</span>,\n",
       "    <span style=\"color: #008000; text-decoration-color: #008000\">'table-3'</span>: <span style=\"color: #008000; text-decoration-color: #008000\">'Vapor Pressure'</span>\n",
       "<span style=\"font-weight: bold\">}</span>\n",
       "</pre>\n"
      ],
      "text/plain": [
       "\u001b[1m{\u001b[0m\n",
       "    \u001b[32m'table-1'\u001b[0m: \u001b[32m'The Molar Heat Capacities of Gases in the Ideal Gas \u001b[0m\u001b[32m(\u001b[0m\u001b[32mZero-Pressure\u001b[0m\u001b[32m)\u001b[0m\u001b[32m State'\u001b[0m,\n",
       "    \u001b[32m'table-2'\u001b[0m: \u001b[32m'General Data'\u001b[0m,\n",
       "    \u001b[32m'table-3'\u001b[0m: \u001b[32m'Vapor Pressure'\u001b[0m\n",
       "\u001b[1m}\u001b[0m\n"
      ]
     },
     "metadata": {},
     "output_type": "display_data"
    }
   ],
   "source": [
    "tb_lists = tdb_ref.list_tables(\"GENERAL\", res_format='dict')\n",
    "print(tb_lists)"
   ]
  },
  {
   "cell_type": "markdown",
   "id": "36f58c44",
   "metadata": {},
   "source": [
    "## Define Components"
   ]
  },
  {
   "cell_type": "code",
   "execution_count": 23,
   "id": "09d208c1",
   "metadata": {},
   "outputs": [],
   "source": [
    "# components\n",
    "components = ['carbon dioxide', 'carbon monoxide', 'methanol', 'ethanol', 'methane',\n",
    "              'propane', 'n-butane', 'ethylene', 'acetylene', '1,3-Butadiene', '1-butene', 'hydrogen', 'water','nitrogen', 'benzene','ethane']"
   ]
  },
  {
   "cell_type": "code",
   "execution_count": 24,
   "id": "79bd5c61",
   "metadata": {},
   "outputs": [],
   "source": [
    "components = ['toluene']"
   ]
  },
  {
   "cell_type": "markdown",
   "id": "72a4cdf5",
   "metadata": {},
   "source": [
    "## Check Component Availability"
   ]
  },
  {
   "cell_type": "code",
   "execution_count": null,
   "id": "2fa6b205",
   "metadata": {},
   "outputs": [
    {
     "ename": "Exception",
     "evalue": "Component check error! Reading data error Table searching error Searching table error Table loading error Table data is None for General Data.csv.",
     "output_type": "error",
     "traceback": [
      "\u001b[1;31m---------------------------------------------------------------------------\u001b[0m",
      "\u001b[1;31mException\u001b[0m                                 Traceback (most recent call last)",
      "File \u001b[1;32me:\\Python Projects\\pyThermoDB\\venv\\lib\\site-packages\\pyThermoDB\\docs\\tableref.py:162\u001b[0m, in \u001b[0;36mTableReference.load_table\u001b[1;34m(self, databook_id, table_id)\u001b[0m\n\u001b[0;32m    161\u001b[0m \u001b[38;5;28;01mif\u001b[39;00m values \u001b[38;5;129;01mis\u001b[39;00m \u001b[38;5;28;01mNone\u001b[39;00m:\n\u001b[1;32m--> 162\u001b[0m     \u001b[38;5;28;01mraise\u001b[39;00m \u001b[38;5;167;01mException\u001b[39;00m(\n\u001b[0;32m    163\u001b[0m         \u001b[38;5;124mf\u001b[39m\u001b[38;5;124m\"\u001b[39m\u001b[38;5;124mTable data is None for \u001b[39m\u001b[38;5;132;01m{\u001b[39;00mfile_name\u001b[38;5;132;01m}\u001b[39;00m\u001b[38;5;124m.\u001b[39m\u001b[38;5;124m\"\u001b[39m)\n\u001b[0;32m    165\u001b[0m \u001b[38;5;66;03m# NOTE: add to file data\u001b[39;00m\n",
      "\u001b[1;31mException\u001b[0m: Table data is None for General Data.csv.",
      "\nDuring handling of the above exception, another exception occurred:\n",
      "\u001b[1;31mException\u001b[0m                                 Traceback (most recent call last)",
      "File \u001b[1;32me:\\Python Projects\\pyThermoDB\\venv\\lib\\site-packages\\pyThermoDB\\docs\\tableref.py:293\u001b[0m, in \u001b[0;36mTableReference.search_table\u001b[1;34m(self, databook_id, table_id, column_name, lookup, query)\u001b[0m\n\u001b[0;32m    290\u001b[0m \u001b[38;5;28;01mtry\u001b[39;00m:\n\u001b[0;32m    291\u001b[0m     \u001b[38;5;66;03m# SECTION: tb\u001b[39;00m\n\u001b[0;32m    292\u001b[0m     \u001b[38;5;66;03m# NOTE: load table data/equations (all data)\u001b[39;00m\n\u001b[1;32m--> 293\u001b[0m     df \u001b[38;5;241m=\u001b[39m \u001b[38;5;28;43mself\u001b[39;49m\u001b[38;5;241;43m.\u001b[39;49m\u001b[43mload_table\u001b[49m\u001b[43m(\u001b[49m\u001b[43mdatabook_id\u001b[49m\u001b[43m,\u001b[49m\u001b[43m \u001b[49m\u001b[43mtable_id\u001b[49m\u001b[43m)\u001b[49m\n\u001b[0;32m    294\u001b[0m     \u001b[38;5;66;03m# print(df)\u001b[39;00m\n\u001b[0;32m    295\u001b[0m \n\u001b[0;32m    296\u001b[0m     \u001b[38;5;66;03m# take first three rows\u001b[39;00m\n",
      "File \u001b[1;32me:\\Python Projects\\pyThermoDB\\venv\\lib\\site-packages\\pyThermoDB\\docs\\tableref.py:223\u001b[0m, in \u001b[0;36mTableReference.load_table\u001b[1;34m(self, databook_id, table_id)\u001b[0m\n\u001b[0;32m    222\u001b[0m \u001b[38;5;28;01mexcept\u001b[39;00m \u001b[38;5;167;01mException\u001b[39;00m \u001b[38;5;28;01mas\u001b[39;00m e:\n\u001b[1;32m--> 223\u001b[0m     \u001b[38;5;28;01mraise\u001b[39;00m \u001b[38;5;167;01mException\u001b[39;00m(\u001b[38;5;124mf\u001b[39m\u001b[38;5;124m\"\u001b[39m\u001b[38;5;124mTable loading error \u001b[39m\u001b[38;5;132;01m{\u001b[39;00me\u001b[38;5;132;01m}\u001b[39;00m\u001b[38;5;124m\"\u001b[39m)\n",
      "\u001b[1;31mException\u001b[0m: Table loading error Table data is None for General Data.csv.",
      "\nDuring handling of the above exception, another exception occurred:\n",
      "\u001b[1;31mException\u001b[0m                                 Traceback (most recent call last)",
      "File \u001b[1;32me:\\Python Projects\\pyThermoDB\\venv\\lib\\site-packages\\pyThermoDB\\docs\\tableref.py:258\u001b[0m, in \u001b[0;36mTableReference.search_tables\u001b[1;34m(self, databook_id, table_id, column_name, lookup, query)\u001b[0m\n\u001b[0;32m    257\u001b[0m \u001b[38;5;28;01mif\u001b[39;00m tb_type \u001b[38;5;241m==\u001b[39m TableTypes\u001b[38;5;241m.\u001b[39mDATA\u001b[38;5;241m.\u001b[39mvalue \u001b[38;5;129;01mor\u001b[39;00m tb_type \u001b[38;5;241m==\u001b[39m TableTypes\u001b[38;5;241m.\u001b[39mEQUATIONS\u001b[38;5;241m.\u001b[39mvalue:\n\u001b[1;32m--> 258\u001b[0m     df \u001b[38;5;241m=\u001b[39m \u001b[38;5;28;43mself\u001b[39;49m\u001b[38;5;241;43m.\u001b[39;49m\u001b[43msearch_table\u001b[49m\u001b[43m(\u001b[49m\u001b[43mdatabook_id\u001b[49m\u001b[43m,\u001b[49m\u001b[43m \u001b[49m\u001b[43mtable_id\u001b[49m\u001b[43m,\u001b[49m\n\u001b[0;32m    259\u001b[0m \u001b[43m                           \u001b[49m\u001b[43mcolumn_name\u001b[49m\u001b[43m,\u001b[49m\u001b[43m \u001b[49m\u001b[43mlookup\u001b[49m\u001b[43m,\u001b[49m\u001b[43m \u001b[49m\u001b[43mquery\u001b[49m\u001b[38;5;241;43m=\u001b[39;49m\u001b[43mquery\u001b[49m\u001b[43m)\u001b[49m\n\u001b[0;32m    260\u001b[0m \u001b[38;5;28;01melif\u001b[39;00m tb_type \u001b[38;5;241m==\u001b[39m TableTypes\u001b[38;5;241m.\u001b[39mMATRIX_DATA\u001b[38;5;241m.\u001b[39mvalue \u001b[38;5;129;01mor\u001b[39;00m tb_type \u001b[38;5;241m==\u001b[39m TableTypes\u001b[38;5;241m.\u001b[39mMATRIX_EQUATIONS\u001b[38;5;241m.\u001b[39mvalue:\n",
      "File \u001b[1;32me:\\Python Projects\\pyThermoDB\\venv\\lib\\site-packages\\pyThermoDB\\docs\\tableref.py:325\u001b[0m, in \u001b[0;36mTableReference.search_table\u001b[1;34m(self, databook_id, table_id, column_name, lookup, query)\u001b[0m\n\u001b[0;32m    324\u001b[0m \u001b[38;5;28;01mexcept\u001b[39;00m \u001b[38;5;167;01mException\u001b[39;00m \u001b[38;5;28;01mas\u001b[39;00m e:\n\u001b[1;32m--> 325\u001b[0m     \u001b[38;5;28;01mraise\u001b[39;00m \u001b[38;5;167;01mException\u001b[39;00m(\u001b[38;5;124mf\u001b[39m\u001b[38;5;124m\"\u001b[39m\u001b[38;5;124mSearching table error \u001b[39m\u001b[38;5;132;01m{\u001b[39;00me\u001b[38;5;132;01m}\u001b[39;00m\u001b[38;5;124m\"\u001b[39m)\n",
      "\u001b[1;31mException\u001b[0m: Searching table error Table loading error Table data is None for General Data.csv.",
      "\nDuring handling of the above exception, another exception occurred:\n",
      "\u001b[1;31mException\u001b[0m                                 Traceback (most recent call last)",
      "File \u001b[1;32me:\\Python Projects\\pyThermoDB\\venv\\lib\\site-packages\\pyThermoDB\\docs\\thermo.py:1146\u001b[0m, in \u001b[0;36mThermoDB.check_component_local\u001b[1;34m(self, component_name, databook_id, table_id, column_name, query, verbose)\u001b[0m\n\u001b[0;32m   1145\u001b[0m \u001b[38;5;66;03m# search\u001b[39;00m\n\u001b[1;32m-> 1146\u001b[0m df \u001b[38;5;241m=\u001b[39m \u001b[43mTableReferenceC\u001b[49m\u001b[38;5;241;43m.\u001b[39;49m\u001b[43msearch_tables\u001b[49m\u001b[43m(\u001b[49m\n\u001b[0;32m   1147\u001b[0m \u001b[43m    \u001b[49m\u001b[43mdatabook_id\u001b[49m\u001b[43m,\u001b[49m\u001b[43m \u001b[49m\u001b[43mtable_id\u001b[49m\u001b[43m,\u001b[49m\u001b[43m \u001b[49m\u001b[43mcolumn_name\u001b[49m\u001b[43m,\u001b[49m\u001b[43m \u001b[49m\u001b[43mcomponent_name\u001b[49m\u001b[43m,\u001b[49m\n\u001b[0;32m   1148\u001b[0m \u001b[43m    \u001b[49m\u001b[43mquery\u001b[49m\u001b[38;5;241;43m=\u001b[39;49m\u001b[43mquery\u001b[49m\u001b[43m)\u001b[49m\n\u001b[0;32m   1149\u001b[0m \u001b[38;5;66;03m# check availability\u001b[39;00m\n",
      "File \u001b[1;32me:\\Python Projects\\pyThermoDB\\venv\\lib\\site-packages\\pyThermoDB\\docs\\tableref.py:268\u001b[0m, in \u001b[0;36mTableReference.search_tables\u001b[1;34m(self, databook_id, table_id, column_name, lookup, query)\u001b[0m\n\u001b[0;32m    267\u001b[0m \u001b[38;5;28;01mexcept\u001b[39;00m \u001b[38;5;167;01mException\u001b[39;00m \u001b[38;5;28;01mas\u001b[39;00m e:\n\u001b[1;32m--> 268\u001b[0m     \u001b[38;5;28;01mraise\u001b[39;00m \u001b[38;5;167;01mException\u001b[39;00m(\u001b[38;5;124mf\u001b[39m\u001b[38;5;124m\"\u001b[39m\u001b[38;5;124mTable searching error \u001b[39m\u001b[38;5;132;01m{\u001b[39;00me\u001b[38;5;132;01m}\u001b[39;00m\u001b[38;5;124m\"\u001b[39m)\n",
      "\u001b[1;31mException\u001b[0m: Table searching error Searching table error Table loading error Table data is None for General Data.csv.",
      "\nDuring handling of the above exception, another exception occurred:\n",
      "\u001b[1;31mException\u001b[0m                                 Traceback (most recent call last)",
      "File \u001b[1;32me:\\Python Projects\\pyThermoDB\\venv\\lib\\site-packages\\pyThermoDB\\docs\\thermo.py:1024\u001b[0m, in \u001b[0;36mThermoDB.check_component\u001b[1;34m(self, component_name, databook, table, column_name, query, res_format)\u001b[0m\n\u001b[0;32m   1023\u001b[0m \u001b[38;5;28;01melif\u001b[39;00m \u001b[38;5;28mself\u001b[39m\u001b[38;5;241m.\u001b[39mdata_source \u001b[38;5;241m==\u001b[39m \u001b[38;5;124m'\u001b[39m\u001b[38;5;124mlocal\u001b[39m\u001b[38;5;124m'\u001b[39m:\n\u001b[1;32m-> 1024\u001b[0m     res \u001b[38;5;241m=\u001b[39m \u001b[38;5;28;43mself\u001b[39;49m\u001b[38;5;241;43m.\u001b[39;49m\u001b[43mcheck_component_local\u001b[49m\u001b[43m(\u001b[49m\n\u001b[0;32m   1025\u001b[0m \u001b[43m        \u001b[49m\u001b[43mcomponent_name\u001b[49m\u001b[43m,\u001b[49m\u001b[43m \u001b[49m\u001b[43mdatabook_id\u001b[49m\u001b[43m,\u001b[49m\u001b[43m \u001b[49m\u001b[43mtable_id\u001b[49m\u001b[43m,\u001b[49m\n\u001b[0;32m   1026\u001b[0m \u001b[43m        \u001b[49m\u001b[43mcolumn_name\u001b[49m\u001b[43m,\u001b[49m\u001b[43m \u001b[49m\u001b[43mquery\u001b[49m\u001b[38;5;241;43m=\u001b[39;49m\u001b[43mquery\u001b[49m\u001b[43m)\u001b[49m\n\u001b[0;32m   1027\u001b[0m \u001b[38;5;28;01melse\u001b[39;00m:\n",
      "File \u001b[1;32me:\\Python Projects\\pyThermoDB\\venv\\lib\\site-packages\\pyThermoDB\\docs\\thermo.py:1181\u001b[0m, in \u001b[0;36mThermoDB.check_component_local\u001b[1;34m(self, component_name, databook_id, table_id, column_name, query, verbose)\u001b[0m\n\u001b[0;32m   1180\u001b[0m \u001b[38;5;28;01mexcept\u001b[39;00m \u001b[38;5;167;01mException\u001b[39;00m \u001b[38;5;28;01mas\u001b[39;00m e:\n\u001b[1;32m-> 1181\u001b[0m     \u001b[38;5;28;01mraise\u001b[39;00m \u001b[38;5;167;01mException\u001b[39;00m(\u001b[38;5;124mf\u001b[39m\u001b[38;5;124m'\u001b[39m\u001b[38;5;124mReading data error \u001b[39m\u001b[38;5;132;01m{\u001b[39;00me\u001b[38;5;132;01m}\u001b[39;00m\u001b[38;5;124m'\u001b[39m)\n",
      "\u001b[1;31mException\u001b[0m: Reading data error Table searching error Searching table error Table loading error Table data is None for General Data.csv.",
      "\nDuring handling of the above exception, another exception occurred:\n",
      "\u001b[1;31mException\u001b[0m                                 Traceback (most recent call last)",
      "Cell \u001b[1;32mIn[25], line 17\u001b[0m\n\u001b[0;32m     14\u001b[0m     \u001b[38;5;28;01mcontinue\u001b[39;00m\n\u001b[0;32m     16\u001b[0m \u001b[38;5;66;03m# NOTE: check component availability in the databook and table\u001b[39;00m\n\u001b[1;32m---> 17\u001b[0m check_availability_ \u001b[38;5;241m=\u001b[39m \u001b[43mtdb_ref\u001b[49m\u001b[38;5;241;43m.\u001b[39;49m\u001b[43mcheck_component\u001b[49m\u001b[43m(\u001b[49m\u001b[43mcomponent\u001b[49m\u001b[43m,\u001b[49m\u001b[43m \u001b[49m\u001b[38;5;124;43m'\u001b[39;49m\u001b[38;5;124;43mGENERAL\u001b[39;49m\u001b[38;5;124;43m'\u001b[39;49m\u001b[43m,\u001b[49m\u001b[43m \u001b[49m\u001b[43mtb_name\u001b[49m\u001b[43m,\u001b[49m\u001b[43m \u001b[49m\u001b[43mres_format\u001b[49m\u001b[38;5;241;43m=\u001b[39;49m\u001b[38;5;124;43m'\u001b[39;49m\u001b[38;5;124;43mdict\u001b[39;49m\u001b[38;5;124;43m'\u001b[39;49m\u001b[43m)\u001b[49m\n\u001b[0;32m     18\u001b[0m \u001b[38;5;66;03m# print(f\"Component {component}: {check_availability_}\")\u001b[39;00m\n\u001b[0;32m     19\u001b[0m \u001b[38;5;66;03m# check\u001b[39;00m\n\u001b[0;32m     20\u001b[0m \u001b[38;5;28;01mif\u001b[39;00m check_availability_[\u001b[38;5;124m'\u001b[39m\u001b[38;5;124mavailability\u001b[39m\u001b[38;5;124m'\u001b[39m] \u001b[38;5;241m==\u001b[39m \u001b[38;5;28;01mTrue\u001b[39;00m:\n\u001b[0;32m     21\u001b[0m     \u001b[38;5;66;03m# build data\u001b[39;00m\n",
      "File \u001b[1;32me:\\Python Projects\\pyThermoDB\\venv\\lib\\site-packages\\pyThermoDB\\docs\\thermo.py:1053\u001b[0m, in \u001b[0;36mThermoDB.check_component\u001b[1;34m(self, component_name, databook, table, column_name, query, res_format)\u001b[0m\n\u001b[0;32m   1051\u001b[0m         \u001b[38;5;28;01mraise\u001b[39;00m \u001b[38;5;167;01mValueError\u001b[39;00m(\u001b[38;5;124m'\u001b[39m\u001b[38;5;124mInvalid res_format\u001b[39m\u001b[38;5;124m'\u001b[39m)\n\u001b[0;32m   1052\u001b[0m \u001b[38;5;28;01mexcept\u001b[39;00m \u001b[38;5;167;01mException\u001b[39;00m \u001b[38;5;28;01mas\u001b[39;00m e:\n\u001b[1;32m-> 1053\u001b[0m     \u001b[38;5;28;01mraise\u001b[39;00m \u001b[38;5;167;01mException\u001b[39;00m(\u001b[38;5;124mf\u001b[39m\u001b[38;5;124m\"\u001b[39m\u001b[38;5;124mComponent check error! \u001b[39m\u001b[38;5;132;01m{\u001b[39;00me\u001b[38;5;132;01m}\u001b[39;00m\u001b[38;5;124m\"\u001b[39m)\n",
      "\u001b[1;31mException\u001b[0m: Component check error! Reading data error Table searching error Searching table error Table loading error Table data is None for General Data.csv."
     ]
    }
   ],
   "source": [
    "# thermo_db\n",
    "thermodb_items = {}\n",
    "\n",
    "# looping through the components\n",
    "for component in components:\n",
    "\n",
    "    # init thermodb\n",
    "    thermodb_items[component] = []\n",
    "\n",
    "    # looping through tables\n",
    "    for tb_key, tb_name in tb_lists.items():\n",
    "        # NOTE: check\n",
    "        if tb_name == 'The Molar Heat Capacities of Gases in the Ideal Gas (Zero-Pressure) State':\n",
    "            continue\n",
    "\n",
    "        # NOTE: check component availability in the databook and table\n",
    "        check_availability_ = tdb_ref.check_component(component, 'GENERAL', tb_name, res_format='dict')\n",
    "        # print(f\"Component {component}: {check_availability_}\")\n",
    "        # check\n",
    "        if check_availability_['availability'] == True:\n",
    "            # build data\n",
    "            res_ = tdb_ref.build_thermo_property([component], 'GENERAL', tb_name)\n",
    "            # add to the list\n",
    "            thermodb_items[component].append(res_)"
   ]
  },
  {
   "cell_type": "code",
   "execution_count": 25,
   "id": "a7d368e0",
   "metadata": {},
   "outputs": [
    {
     "data": {
      "text/html": [
       "<pre style=\"white-space:pre;overflow-x:auto;line-height:normal;font-family:Menlo,'DejaVu Sans Mono',consolas,'Courier New',monospace\"><span style=\"font-weight: bold\">{</span>\n",
       "    <span style=\"color: #008000; text-decoration-color: #008000\">'carbon dioxide'</span>: <span style=\"font-weight: bold\">[</span>\n",
       "        <span style=\"font-weight: bold\">&lt;</span><span style=\"color: #ff00ff; text-decoration-color: #ff00ff; font-weight: bold\">pyThermoDB.docs.tableequation.TableEquation</span><span style=\"color: #000000; text-decoration-color: #000000\"> object at </span><span style=\"color: #008080; text-decoration-color: #008080; font-weight: bold\">0x0000019264E6F220</span><span style=\"color: #000000; text-decoration-color: #000000\">&gt;,</span>\n",
       "<span style=\"color: #000000; text-decoration-color: #000000\">        &lt;pyThermoDB.docs.tabledata.TableData object at </span><span style=\"color: #008080; text-decoration-color: #008080; font-weight: bold\">0x0000019264EEF190</span><span style=\"color: #000000; text-decoration-color: #000000\">&gt;,</span>\n",
       "<span style=\"color: #000000; text-decoration-color: #000000\">        &lt;pyThermoDB.docs.tableequation.TableEquation object at </span><span style=\"color: #008080; text-decoration-color: #008080; font-weight: bold\">0x0000019264FA2470</span><span style=\"color: #000000; text-decoration-color: #000000\">&gt;</span>\n",
       "<span style=\"color: #000000; text-decoration-color: #000000\">    </span><span style=\"color: #000000; text-decoration-color: #000000; font-weight: bold\">]</span><span style=\"color: #000000; text-decoration-color: #000000\">,</span>\n",
       "<span style=\"color: #000000; text-decoration-color: #000000\">    </span><span style=\"color: #008000; text-decoration-color: #008000\">'carbon monoxide'</span><span style=\"color: #000000; text-decoration-color: #000000\">: </span><span style=\"color: #000000; text-decoration-color: #000000; font-weight: bold\">[</span>\n",
       "<span style=\"color: #000000; text-decoration-color: #000000\">        &lt;pyThermoDB.docs.tableequation.TableEquation object at </span><span style=\"color: #008080; text-decoration-color: #008080; font-weight: bold\">0x0000019264E3A470</span><span style=\"color: #000000; text-decoration-color: #000000\">&gt;,</span>\n",
       "<span style=\"color: #000000; text-decoration-color: #000000\">        &lt;pyThermoDB.docs.tabledata.TableData object at </span><span style=\"color: #008080; text-decoration-color: #008080; font-weight: bold\">0x0000019252836380</span><span style=\"color: #000000; text-decoration-color: #000000\">&gt;,</span>\n",
       "<span style=\"color: #000000; text-decoration-color: #000000\">        &lt;pyThermoDB.docs.tableequation.TableEquation object at </span><span style=\"color: #008080; text-decoration-color: #008080; font-weight: bold\">0x0000019264EC6560</span><span style=\"color: #000000; text-decoration-color: #000000\">&gt;</span>\n",
       "<span style=\"color: #000000; text-decoration-color: #000000\">    </span><span style=\"color: #000000; text-decoration-color: #000000; font-weight: bold\">]</span><span style=\"color: #000000; text-decoration-color: #000000\">,</span>\n",
       "<span style=\"color: #000000; text-decoration-color: #000000\">    </span><span style=\"color: #008000; text-decoration-color: #008000\">'methanol'</span><span style=\"color: #000000; text-decoration-color: #000000\">: </span><span style=\"color: #000000; text-decoration-color: #000000; font-weight: bold\">[</span>\n",
       "<span style=\"color: #000000; text-decoration-color: #000000\">        &lt;pyThermoDB.docs.tableequation.TableEquation object at </span><span style=\"color: #008080; text-decoration-color: #008080; font-weight: bold\">0x0000019264FA3880</span><span style=\"color: #000000; text-decoration-color: #000000\">&gt;,</span>\n",
       "<span style=\"color: #000000; text-decoration-color: #000000\">        &lt;pyThermoDB.docs.tabledata.TableData object at </span><span style=\"color: #008080; text-decoration-color: #008080; font-weight: bold\">0x0000019264E6E050</span><span style=\"color: #000000; text-decoration-color: #000000\">&gt;,</span>\n",
       "<span style=\"color: #000000; text-decoration-color: #000000\">        &lt;pyThermoDB.docs.tableequation.TableEquation object at </span><span style=\"color: #008080; text-decoration-color: #008080; font-weight: bold\">0x0000019264EB0C40</span><span style=\"color: #000000; text-decoration-color: #000000\">&gt;</span>\n",
       "<span style=\"color: #000000; text-decoration-color: #000000\">    </span><span style=\"color: #000000; text-decoration-color: #000000; font-weight: bold\">]</span><span style=\"color: #000000; text-decoration-color: #000000\">,</span>\n",
       "<span style=\"color: #000000; text-decoration-color: #000000\">    </span><span style=\"color: #008000; text-decoration-color: #008000\">'ethanol'</span><span style=\"color: #000000; text-decoration-color: #000000\">: </span><span style=\"color: #000000; text-decoration-color: #000000; font-weight: bold\">[</span>\n",
       "<span style=\"color: #000000; text-decoration-color: #000000\">        &lt;pyThermoDB.docs.tableequation.TableEquation object at </span><span style=\"color: #008080; text-decoration-color: #008080; font-weight: bold\">0x0000019264E38EE0</span><span style=\"color: #000000; text-decoration-color: #000000\">&gt;,</span>\n",
       "<span style=\"color: #000000; text-decoration-color: #000000\">        &lt;pyThermoDB.docs.tabledata.TableData object at </span><span style=\"color: #008080; text-decoration-color: #008080; font-weight: bold\">0x0000019264FA1E70</span><span style=\"color: #000000; text-decoration-color: #000000\">&gt;,</span>\n",
       "<span style=\"color: #000000; text-decoration-color: #000000\">        &lt;pyThermoDB.docs.tableequation.TableEquation object at </span><span style=\"color: #008080; text-decoration-color: #008080; font-weight: bold\">0x0000019264EEDB10</span><span style=\"color: #000000; text-decoration-color: #000000\">&gt;</span>\n",
       "<span style=\"color: #000000; text-decoration-color: #000000\">    </span><span style=\"color: #000000; text-decoration-color: #000000; font-weight: bold\">]</span><span style=\"color: #000000; text-decoration-color: #000000\">,</span>\n",
       "<span style=\"color: #000000; text-decoration-color: #000000\">    </span><span style=\"color: #008000; text-decoration-color: #008000\">'methane'</span><span style=\"color: #000000; text-decoration-color: #000000\">: </span><span style=\"color: #000000; text-decoration-color: #000000; font-weight: bold\">[</span>\n",
       "<span style=\"color: #000000; text-decoration-color: #000000\">        &lt;pyThermoDB.docs.tableequation.TableEquation object at </span><span style=\"color: #008080; text-decoration-color: #008080; font-weight: bold\">0x0000019264F480A0</span><span style=\"color: #000000; text-decoration-color: #000000\">&gt;,</span>\n",
       "<span style=\"color: #000000; text-decoration-color: #000000\">        &lt;pyThermoDB.docs.tabledata.TableData object at </span><span style=\"color: #008080; text-decoration-color: #008080; font-weight: bold\">0x0000019264E6D210</span><span style=\"color: #000000; text-decoration-color: #000000\">&gt;,</span>\n",
       "<span style=\"color: #000000; text-decoration-color: #000000\">        &lt;pyThermoDB.docs.tableequation.TableEquation object at </span><span style=\"color: #008080; text-decoration-color: #008080; font-weight: bold\">0x0000019264EED6C0</span><span style=\"color: #000000; text-decoration-color: #000000\">&gt;</span>\n",
       "<span style=\"color: #000000; text-decoration-color: #000000\">    </span><span style=\"color: #000000; text-decoration-color: #000000; font-weight: bold\">]</span><span style=\"color: #000000; text-decoration-color: #000000\">,</span>\n",
       "<span style=\"color: #000000; text-decoration-color: #000000\">    </span><span style=\"color: #008000; text-decoration-color: #008000\">'propane'</span><span style=\"color: #000000; text-decoration-color: #000000\">: </span><span style=\"color: #000000; text-decoration-color: #000000; font-weight: bold\">[</span>\n",
       "<span style=\"color: #000000; text-decoration-color: #000000\">        &lt;pyThermoDB.docs.tableequation.TableEquation object at </span><span style=\"color: #008080; text-decoration-color: #008080; font-weight: bold\">0x00000192528367A0</span><span style=\"color: #000000; text-decoration-color: #000000\">&gt;,</span>\n",
       "<span style=\"color: #000000; text-decoration-color: #000000\">        &lt;pyThermoDB.docs.tabledata.TableData object at </span><span style=\"color: #008080; text-decoration-color: #008080; font-weight: bold\">0x0000019264E6C280</span><span style=\"color: #000000; text-decoration-color: #000000\">&gt;,</span>\n",
       "<span style=\"color: #000000; text-decoration-color: #000000\">        &lt;pyThermoDB.docs.tableequation.TableEquation object at </span><span style=\"color: #008080; text-decoration-color: #008080; font-weight: bold\">0x0000019264E38700</span><span style=\"color: #000000; text-decoration-color: #000000\">&gt;</span>\n",
       "<span style=\"color: #000000; text-decoration-color: #000000\">    </span><span style=\"color: #000000; text-decoration-color: #000000; font-weight: bold\">]</span><span style=\"color: #000000; text-decoration-color: #000000\">,</span>\n",
       "<span style=\"color: #000000; text-decoration-color: #000000\">    </span><span style=\"color: #008000; text-decoration-color: #008000\">'n-butane'</span><span style=\"color: #000000; text-decoration-color: #000000\">: </span><span style=\"color: #000000; text-decoration-color: #000000; font-weight: bold\">[</span>\n",
       "<span style=\"color: #000000; text-decoration-color: #000000\">        &lt;pyThermoDB.docs.tableequation.TableEquation object at </span><span style=\"color: #008080; text-decoration-color: #008080; font-weight: bold\">0x0000019264EC76A0</span><span style=\"color: #000000; text-decoration-color: #000000\">&gt;,</span>\n",
       "<span style=\"color: #000000; text-decoration-color: #000000\">        &lt;pyThermoDB.docs.tabledata.TableData object at </span><span style=\"color: #008080; text-decoration-color: #008080; font-weight: bold\">0x0000019264FA3C70</span><span style=\"color: #000000; text-decoration-color: #000000\">&gt;,</span>\n",
       "<span style=\"color: #000000; text-decoration-color: #000000\">        &lt;pyThermoDB.docs.tableequation.TableEquation object at </span><span style=\"color: #008080; text-decoration-color: #008080; font-weight: bold\">0x0000019264FAF310</span><span style=\"color: #000000; text-decoration-color: #000000\">&gt;</span>\n",
       "<span style=\"color: #000000; text-decoration-color: #000000\">    </span><span style=\"color: #000000; text-decoration-color: #000000; font-weight: bold\">]</span><span style=\"color: #000000; text-decoration-color: #000000\">,</span>\n",
       "<span style=\"color: #000000; text-decoration-color: #000000\">    </span><span style=\"color: #008000; text-decoration-color: #008000\">'ethylene'</span><span style=\"color: #000000; text-decoration-color: #000000\">: </span><span style=\"color: #000000; text-decoration-color: #000000; font-weight: bold\">[</span>\n",
       "<span style=\"color: #000000; text-decoration-color: #000000\">        &lt;pyThermoDB.docs.tableequation.TableEquation object at </span><span style=\"color: #008080; text-decoration-color: #008080; font-weight: bold\">0x0000019264EB2590</span><span style=\"color: #000000; text-decoration-color: #000000\">&gt;,</span>\n",
       "<span style=\"color: #000000; text-decoration-color: #000000\">        &lt;pyThermoDB.docs.tabledata.TableData object at </span><span style=\"color: #008080; text-decoration-color: #008080; font-weight: bold\">0x0000019252836C20</span><span style=\"color: #000000; text-decoration-color: #000000\">&gt;,</span>\n",
       "<span style=\"color: #000000; text-decoration-color: #000000\">        &lt;pyThermoDB.docs.tableequation.TableEquation object at </span><span style=\"color: #008080; text-decoration-color: #008080; font-weight: bold\">0x0000019264E6FA30</span><span style=\"color: #000000; text-decoration-color: #000000\">&gt;</span>\n",
       "<span style=\"color: #000000; text-decoration-color: #000000\">    </span><span style=\"color: #000000; text-decoration-color: #000000; font-weight: bold\">]</span><span style=\"color: #000000; text-decoration-color: #000000\">,</span>\n",
       "<span style=\"color: #000000; text-decoration-color: #000000\">    </span><span style=\"color: #008000; text-decoration-color: #008000\">'acetylene'</span><span style=\"color: #000000; text-decoration-color: #000000\">: </span><span style=\"color: #000000; text-decoration-color: #000000; font-weight: bold\">[</span>\n",
       "<span style=\"color: #000000; text-decoration-color: #000000\">        &lt;pyThermoDB.docs.tableequation.TableEquation object at </span><span style=\"color: #008080; text-decoration-color: #008080; font-weight: bold\">0x0000019252836890</span><span style=\"color: #000000; text-decoration-color: #000000\">&gt;,</span>\n",
       "<span style=\"color: #000000; text-decoration-color: #000000\">        &lt;pyThermoDB.docs.tabledata.TableData object at </span><span style=\"color: #008080; text-decoration-color: #008080; font-weight: bold\">0x0000019252836D70</span><span style=\"color: #000000; text-decoration-color: #000000\">&gt;,</span>\n",
       "<span style=\"color: #000000; text-decoration-color: #000000\">        &lt;pyThermoDB.docs.tableequation.TableEquation object at </span><span style=\"color: #008080; text-decoration-color: #008080; font-weight: bold\">0x0000019264EC4C70</span><span style=\"color: #000000; text-decoration-color: #000000\">&gt;</span>\n",
       "<span style=\"color: #000000; text-decoration-color: #000000\">    </span><span style=\"color: #000000; text-decoration-color: #000000; font-weight: bold\">]</span><span style=\"color: #000000; text-decoration-color: #000000\">,</span>\n",
       "<span style=\"color: #000000; text-decoration-color: #000000\">    </span><span style=\"color: #008000; text-decoration-color: #008000\">'1,3-Butadiene'</span><span style=\"color: #000000; text-decoration-color: #000000\">: </span><span style=\"color: #000000; text-decoration-color: #000000; font-weight: bold\">[</span>\n",
       "<span style=\"color: #000000; text-decoration-color: #000000\">        &lt;pyThermoDB.docs.tableequation.TableEquation object at </span><span style=\"color: #008080; text-decoration-color: #008080; font-weight: bold\">0x0000019252836680</span><span style=\"color: #000000; text-decoration-color: #000000\">&gt;,</span>\n",
       "<span style=\"color: #000000; text-decoration-color: #000000\">        &lt;pyThermoDB.docs.tabledata.TableData object at </span><span style=\"color: #008080; text-decoration-color: #008080; font-weight: bold\">0x0000019264EEEC80</span><span style=\"color: #000000; text-decoration-color: #000000\">&gt;,</span>\n",
       "<span style=\"color: #000000; text-decoration-color: #000000\">        &lt;pyThermoDB.docs.tableequation.TableEquation object at </span><span style=\"color: #008080; text-decoration-color: #008080; font-weight: bold\">0x0000019264F4B4C0</span><span style=\"color: #000000; text-decoration-color: #000000\">&gt;</span>\n",
       "<span style=\"color: #000000; text-decoration-color: #000000\">    </span><span style=\"color: #000000; text-decoration-color: #000000; font-weight: bold\">]</span><span style=\"color: #000000; text-decoration-color: #000000\">,</span>\n",
       "<span style=\"color: #000000; text-decoration-color: #000000\">    </span><span style=\"color: #008000; text-decoration-color: #008000\">'1-butene'</span><span style=\"color: #000000; text-decoration-color: #000000\">: </span><span style=\"color: #000000; text-decoration-color: #000000; font-weight: bold\">[</span>\n",
       "<span style=\"color: #000000; text-decoration-color: #000000\">        &lt;pyThermoDB.docs.tableequation.TableEquation object at </span><span style=\"color: #008080; text-decoration-color: #008080; font-weight: bold\">0x00000192528369E0</span><span style=\"color: #000000; text-decoration-color: #000000\">&gt;,</span>\n",
       "<span style=\"color: #000000; text-decoration-color: #000000\">        &lt;pyThermoDB.docs.tabledata.TableData object at </span><span style=\"color: #008080; text-decoration-color: #008080; font-weight: bold\">0x0000019264E6F490</span><span style=\"color: #000000; text-decoration-color: #000000\">&gt;,</span>\n",
       "<span style=\"color: #000000; text-decoration-color: #000000\">        &lt;pyThermoDB.docs.tableequation.TableEquation object at </span><span style=\"color: #008080; text-decoration-color: #008080; font-weight: bold\">0x0000019252836E00</span><span style=\"color: #000000; text-decoration-color: #000000\">&gt;</span>\n",
       "<span style=\"color: #000000; text-decoration-color: #000000\">    </span><span style=\"color: #000000; text-decoration-color: #000000; font-weight: bold\">]</span><span style=\"color: #000000; text-decoration-color: #000000\">,</span>\n",
       "<span style=\"color: #000000; text-decoration-color: #000000\">    </span><span style=\"color: #008000; text-decoration-color: #008000\">'hydrogen'</span><span style=\"color: #000000; text-decoration-color: #000000\">: </span><span style=\"color: #000000; text-decoration-color: #000000; font-weight: bold\">[</span>\n",
       "<span style=\"color: #000000; text-decoration-color: #000000\">        &lt;pyThermoDB.docs.tableequation.TableEquation object at </span><span style=\"color: #008080; text-decoration-color: #008080; font-weight: bold\">0x0000019264EB34C0</span><span style=\"color: #000000; text-decoration-color: #000000\">&gt;,</span>\n",
       "<span style=\"color: #000000; text-decoration-color: #000000\">        &lt;pyThermoDB.docs.tabledata.TableData object at </span><span style=\"color: #008080; text-decoration-color: #008080; font-weight: bold\">0x0000019264EDAF20</span><span style=\"color: #000000; text-decoration-color: #000000\">&gt;,</span>\n",
       "<span style=\"color: #000000; text-decoration-color: #000000\">        &lt;pyThermoDB.docs.tableequation.TableEquation object at </span><span style=\"color: #008080; text-decoration-color: #008080; font-weight: bold\">0x0000019252836560</span><span style=\"color: #000000; text-decoration-color: #000000\">&gt;</span>\n",
       "<span style=\"color: #000000; text-decoration-color: #000000\">    </span><span style=\"color: #000000; text-decoration-color: #000000; font-weight: bold\">]</span><span style=\"color: #000000; text-decoration-color: #000000\">,</span>\n",
       "<span style=\"color: #000000; text-decoration-color: #000000\">    </span><span style=\"color: #008000; text-decoration-color: #008000\">'water'</span><span style=\"color: #000000; text-decoration-color: #000000\">: </span><span style=\"color: #000000; text-decoration-color: #000000; font-weight: bold\">[</span>\n",
       "<span style=\"color: #000000; text-decoration-color: #000000\">        &lt;pyThermoDB.docs.tableequation.TableEquation object at </span><span style=\"color: #008080; text-decoration-color: #008080; font-weight: bold\">0x0000019264EB1600</span><span style=\"color: #000000; text-decoration-color: #000000\">&gt;,</span>\n",
       "<span style=\"color: #000000; text-decoration-color: #000000\">        &lt;pyThermoDB.docs.tabledata.TableData object at </span><span style=\"color: #008080; text-decoration-color: #008080; font-weight: bold\">0x0000019252837B20</span><span style=\"color: #000000; text-decoration-color: #000000\">&gt;,</span>\n",
       "<span style=\"color: #000000; text-decoration-color: #000000\">        &lt;pyThermoDB.docs.tableequation.TableEquation object at </span><span style=\"color: #008080; text-decoration-color: #008080; font-weight: bold\">0x0000019264E6E020</span><span style=\"color: #000000; text-decoration-color: #000000\">&gt;</span>\n",
       "<span style=\"color: #000000; text-decoration-color: #000000\">    </span><span style=\"color: #000000; text-decoration-color: #000000; font-weight: bold\">]</span><span style=\"color: #000000; text-decoration-color: #000000\">,</span>\n",
       "<span style=\"color: #000000; text-decoration-color: #000000\">    </span><span style=\"color: #008000; text-decoration-color: #008000\">'nitrogen'</span><span style=\"color: #000000; text-decoration-color: #000000\">: </span><span style=\"color: #000000; text-decoration-color: #000000; font-weight: bold\">[</span>\n",
       "<span style=\"color: #000000; text-decoration-color: #000000\">        &lt;pyThermoDB.docs.tableequation.TableEquation object at </span><span style=\"color: #008080; text-decoration-color: #008080; font-weight: bold\">0x0000019264EEE230</span><span style=\"color: #000000; text-decoration-color: #000000\">&gt;,</span>\n",
       "<span style=\"color: #000000; text-decoration-color: #000000\">        &lt;pyThermoDB.docs.tabledata.TableData object at </span><span style=\"color: #008080; text-decoration-color: #008080; font-weight: bold\">0x0000019264EB13F0</span><span style=\"color: #000000; text-decoration-color: #000000\">&gt;,</span>\n",
       "<span style=\"color: #000000; text-decoration-color: #000000\">        &lt;pyThermoDB.docs.tableequation.TableEquation object at </span><span style=\"color: #008080; text-decoration-color: #008080; font-weight: bold\">0x0000019264F4AE60</span><span style=\"color: #000000; text-decoration-color: #000000\">&gt;</span>\n",
       "<span style=\"color: #000000; text-decoration-color: #000000\">    </span><span style=\"color: #000000; text-decoration-color: #000000; font-weight: bold\">]</span><span style=\"color: #000000; text-decoration-color: #000000\">,</span>\n",
       "<span style=\"color: #000000; text-decoration-color: #000000\">    </span><span style=\"color: #008000; text-decoration-color: #008000\">'benzene'</span><span style=\"color: #000000; text-decoration-color: #000000\">: </span><span style=\"color: #000000; text-decoration-color: #000000; font-weight: bold\">[</span>\n",
       "<span style=\"color: #000000; text-decoration-color: #000000\">        &lt;pyThermoDB.docs.tableequation.TableEquation object at </span><span style=\"color: #008080; text-decoration-color: #008080; font-weight: bold\">0x0000019264E392D0</span><span style=\"color: #000000; text-decoration-color: #000000\">&gt;,</span>\n",
       "<span style=\"color: #000000; text-decoration-color: #000000\">        &lt;pyThermoDB.docs.tabledata.TableData object at </span><span style=\"color: #008080; text-decoration-color: #008080; font-weight: bold\">0x0000019264EEFC10</span><span style=\"color: #000000; text-decoration-color: #000000\">&gt;,</span>\n",
       "<span style=\"color: #000000; text-decoration-color: #000000\">        &lt;pyThermoDB.docs.tableequation.TableEquation object at </span><span style=\"color: #008080; text-decoration-color: #008080; font-weight: bold\">0x00000192650C4430</span><span style=\"color: #000000; text-decoration-color: #000000\">&gt;</span>\n",
       "<span style=\"color: #000000; text-decoration-color: #000000\">    </span><span style=\"color: #000000; text-decoration-color: #000000; font-weight: bold\">]</span><span style=\"color: #000000; text-decoration-color: #000000\">,</span>\n",
       "<span style=\"color: #000000; text-decoration-color: #000000\">    </span><span style=\"color: #008000; text-decoration-color: #008000\">'ethane'</span><span style=\"color: #000000; text-decoration-color: #000000\">: </span><span style=\"color: #000000; text-decoration-color: #000000; font-weight: bold\">[</span>\n",
       "<span style=\"color: #000000; text-decoration-color: #000000\">        &lt;pyThermoDB.docs.tableequation.TableEquation object at </span><span style=\"color: #008080; text-decoration-color: #008080; font-weight: bold\">0x0000019264EC5000</span><span style=\"color: #000000; text-decoration-color: #000000\">&gt;,</span>\n",
       "<span style=\"color: #000000; text-decoration-color: #000000\">        &lt;pyThermoDB.docs.tabledata.TableData object at </span><span style=\"color: #008080; text-decoration-color: #008080; font-weight: bold\">0x0000019264E39570</span><span style=\"color: #000000; text-decoration-color: #000000\">&gt;,</span>\n",
       "<span style=\"color: #000000; text-decoration-color: #000000\">        &lt;pyThermoDB.docs.tableequation.TableEquation object at </span><span style=\"color: #008080; text-decoration-color: #008080; font-weight: bold\">0x0000019264E6C5B0</span><span style=\"font-weight: bold\">&gt;</span>\n",
       "    <span style=\"font-weight: bold\">]</span>\n",
       "<span style=\"font-weight: bold\">}</span>\n",
       "</pre>\n"
      ],
      "text/plain": [
       "\u001b[1m{\u001b[0m\n",
       "    \u001b[32m'carbon dioxide'\u001b[0m: \u001b[1m[\u001b[0m\n",
       "        \u001b[1m<\u001b[0m\u001b[1;95mpyThermoDB.docs.tableequation.TableEquation\u001b[0m\u001b[39m object at \u001b[0m\u001b[1;36m0x0000019264E6F220\u001b[0m\u001b[39m>,\u001b[0m\n",
       "\u001b[39m        <pyThermoDB.docs.tabledata.TableData object at \u001b[0m\u001b[1;36m0x0000019264EEF190\u001b[0m\u001b[39m>,\u001b[0m\n",
       "\u001b[39m        <pyThermoDB.docs.tableequation.TableEquation object at \u001b[0m\u001b[1;36m0x0000019264FA2470\u001b[0m\u001b[39m>\u001b[0m\n",
       "\u001b[39m    \u001b[0m\u001b[1;39m]\u001b[0m\u001b[39m,\u001b[0m\n",
       "\u001b[39m    \u001b[0m\u001b[32m'carbon monoxide'\u001b[0m\u001b[39m: \u001b[0m\u001b[1;39m[\u001b[0m\n",
       "\u001b[39m        <pyThermoDB.docs.tableequation.TableEquation object at \u001b[0m\u001b[1;36m0x0000019264E3A470\u001b[0m\u001b[39m>,\u001b[0m\n",
       "\u001b[39m        <pyThermoDB.docs.tabledata.TableData object at \u001b[0m\u001b[1;36m0x0000019252836380\u001b[0m\u001b[39m>,\u001b[0m\n",
       "\u001b[39m        <pyThermoDB.docs.tableequation.TableEquation object at \u001b[0m\u001b[1;36m0x0000019264EC6560\u001b[0m\u001b[39m>\u001b[0m\n",
       "\u001b[39m    \u001b[0m\u001b[1;39m]\u001b[0m\u001b[39m,\u001b[0m\n",
       "\u001b[39m    \u001b[0m\u001b[32m'methanol'\u001b[0m\u001b[39m: \u001b[0m\u001b[1;39m[\u001b[0m\n",
       "\u001b[39m        <pyThermoDB.docs.tableequation.TableEquation object at \u001b[0m\u001b[1;36m0x0000019264FA3880\u001b[0m\u001b[39m>,\u001b[0m\n",
       "\u001b[39m        <pyThermoDB.docs.tabledata.TableData object at \u001b[0m\u001b[1;36m0x0000019264E6E050\u001b[0m\u001b[39m>,\u001b[0m\n",
       "\u001b[39m        <pyThermoDB.docs.tableequation.TableEquation object at \u001b[0m\u001b[1;36m0x0000019264EB0C40\u001b[0m\u001b[39m>\u001b[0m\n",
       "\u001b[39m    \u001b[0m\u001b[1;39m]\u001b[0m\u001b[39m,\u001b[0m\n",
       "\u001b[39m    \u001b[0m\u001b[32m'ethanol'\u001b[0m\u001b[39m: \u001b[0m\u001b[1;39m[\u001b[0m\n",
       "\u001b[39m        <pyThermoDB.docs.tableequation.TableEquation object at \u001b[0m\u001b[1;36m0x0000019264E38EE0\u001b[0m\u001b[39m>,\u001b[0m\n",
       "\u001b[39m        <pyThermoDB.docs.tabledata.TableData object at \u001b[0m\u001b[1;36m0x0000019264FA1E70\u001b[0m\u001b[39m>,\u001b[0m\n",
       "\u001b[39m        <pyThermoDB.docs.tableequation.TableEquation object at \u001b[0m\u001b[1;36m0x0000019264EEDB10\u001b[0m\u001b[39m>\u001b[0m\n",
       "\u001b[39m    \u001b[0m\u001b[1;39m]\u001b[0m\u001b[39m,\u001b[0m\n",
       "\u001b[39m    \u001b[0m\u001b[32m'methane'\u001b[0m\u001b[39m: \u001b[0m\u001b[1;39m[\u001b[0m\n",
       "\u001b[39m        <pyThermoDB.docs.tableequation.TableEquation object at \u001b[0m\u001b[1;36m0x0000019264F480A0\u001b[0m\u001b[39m>,\u001b[0m\n",
       "\u001b[39m        <pyThermoDB.docs.tabledata.TableData object at \u001b[0m\u001b[1;36m0x0000019264E6D210\u001b[0m\u001b[39m>,\u001b[0m\n",
       "\u001b[39m        <pyThermoDB.docs.tableequation.TableEquation object at \u001b[0m\u001b[1;36m0x0000019264EED6C0\u001b[0m\u001b[39m>\u001b[0m\n",
       "\u001b[39m    \u001b[0m\u001b[1;39m]\u001b[0m\u001b[39m,\u001b[0m\n",
       "\u001b[39m    \u001b[0m\u001b[32m'propane'\u001b[0m\u001b[39m: \u001b[0m\u001b[1;39m[\u001b[0m\n",
       "\u001b[39m        <pyThermoDB.docs.tableequation.TableEquation object at \u001b[0m\u001b[1;36m0x00000192528367A0\u001b[0m\u001b[39m>,\u001b[0m\n",
       "\u001b[39m        <pyThermoDB.docs.tabledata.TableData object at \u001b[0m\u001b[1;36m0x0000019264E6C280\u001b[0m\u001b[39m>,\u001b[0m\n",
       "\u001b[39m        <pyThermoDB.docs.tableequation.TableEquation object at \u001b[0m\u001b[1;36m0x0000019264E38700\u001b[0m\u001b[39m>\u001b[0m\n",
       "\u001b[39m    \u001b[0m\u001b[1;39m]\u001b[0m\u001b[39m,\u001b[0m\n",
       "\u001b[39m    \u001b[0m\u001b[32m'n-butane'\u001b[0m\u001b[39m: \u001b[0m\u001b[1;39m[\u001b[0m\n",
       "\u001b[39m        <pyThermoDB.docs.tableequation.TableEquation object at \u001b[0m\u001b[1;36m0x0000019264EC76A0\u001b[0m\u001b[39m>,\u001b[0m\n",
       "\u001b[39m        <pyThermoDB.docs.tabledata.TableData object at \u001b[0m\u001b[1;36m0x0000019264FA3C70\u001b[0m\u001b[39m>,\u001b[0m\n",
       "\u001b[39m        <pyThermoDB.docs.tableequation.TableEquation object at \u001b[0m\u001b[1;36m0x0000019264FAF310\u001b[0m\u001b[39m>\u001b[0m\n",
       "\u001b[39m    \u001b[0m\u001b[1;39m]\u001b[0m\u001b[39m,\u001b[0m\n",
       "\u001b[39m    \u001b[0m\u001b[32m'ethylene'\u001b[0m\u001b[39m: \u001b[0m\u001b[1;39m[\u001b[0m\n",
       "\u001b[39m        <pyThermoDB.docs.tableequation.TableEquation object at \u001b[0m\u001b[1;36m0x0000019264EB2590\u001b[0m\u001b[39m>,\u001b[0m\n",
       "\u001b[39m        <pyThermoDB.docs.tabledata.TableData object at \u001b[0m\u001b[1;36m0x0000019252836C20\u001b[0m\u001b[39m>,\u001b[0m\n",
       "\u001b[39m        <pyThermoDB.docs.tableequation.TableEquation object at \u001b[0m\u001b[1;36m0x0000019264E6FA30\u001b[0m\u001b[39m>\u001b[0m\n",
       "\u001b[39m    \u001b[0m\u001b[1;39m]\u001b[0m\u001b[39m,\u001b[0m\n",
       "\u001b[39m    \u001b[0m\u001b[32m'acetylene'\u001b[0m\u001b[39m: \u001b[0m\u001b[1;39m[\u001b[0m\n",
       "\u001b[39m        <pyThermoDB.docs.tableequation.TableEquation object at \u001b[0m\u001b[1;36m0x0000019252836890\u001b[0m\u001b[39m>,\u001b[0m\n",
       "\u001b[39m        <pyThermoDB.docs.tabledata.TableData object at \u001b[0m\u001b[1;36m0x0000019252836D70\u001b[0m\u001b[39m>,\u001b[0m\n",
       "\u001b[39m        <pyThermoDB.docs.tableequation.TableEquation object at \u001b[0m\u001b[1;36m0x0000019264EC4C70\u001b[0m\u001b[39m>\u001b[0m\n",
       "\u001b[39m    \u001b[0m\u001b[1;39m]\u001b[0m\u001b[39m,\u001b[0m\n",
       "\u001b[39m    \u001b[0m\u001b[32m'1,3-Butadiene'\u001b[0m\u001b[39m: \u001b[0m\u001b[1;39m[\u001b[0m\n",
       "\u001b[39m        <pyThermoDB.docs.tableequation.TableEquation object at \u001b[0m\u001b[1;36m0x0000019252836680\u001b[0m\u001b[39m>,\u001b[0m\n",
       "\u001b[39m        <pyThermoDB.docs.tabledata.TableData object at \u001b[0m\u001b[1;36m0x0000019264EEEC80\u001b[0m\u001b[39m>,\u001b[0m\n",
       "\u001b[39m        <pyThermoDB.docs.tableequation.TableEquation object at \u001b[0m\u001b[1;36m0x0000019264F4B4C0\u001b[0m\u001b[39m>\u001b[0m\n",
       "\u001b[39m    \u001b[0m\u001b[1;39m]\u001b[0m\u001b[39m,\u001b[0m\n",
       "\u001b[39m    \u001b[0m\u001b[32m'1-butene'\u001b[0m\u001b[39m: \u001b[0m\u001b[1;39m[\u001b[0m\n",
       "\u001b[39m        <pyThermoDB.docs.tableequation.TableEquation object at \u001b[0m\u001b[1;36m0x00000192528369E0\u001b[0m\u001b[39m>,\u001b[0m\n",
       "\u001b[39m        <pyThermoDB.docs.tabledata.TableData object at \u001b[0m\u001b[1;36m0x0000019264E6F490\u001b[0m\u001b[39m>,\u001b[0m\n",
       "\u001b[39m        <pyThermoDB.docs.tableequation.TableEquation object at \u001b[0m\u001b[1;36m0x0000019252836E00\u001b[0m\u001b[39m>\u001b[0m\n",
       "\u001b[39m    \u001b[0m\u001b[1;39m]\u001b[0m\u001b[39m,\u001b[0m\n",
       "\u001b[39m    \u001b[0m\u001b[32m'hydrogen'\u001b[0m\u001b[39m: \u001b[0m\u001b[1;39m[\u001b[0m\n",
       "\u001b[39m        <pyThermoDB.docs.tableequation.TableEquation object at \u001b[0m\u001b[1;36m0x0000019264EB34C0\u001b[0m\u001b[39m>,\u001b[0m\n",
       "\u001b[39m        <pyThermoDB.docs.tabledata.TableData object at \u001b[0m\u001b[1;36m0x0000019264EDAF20\u001b[0m\u001b[39m>,\u001b[0m\n",
       "\u001b[39m        <pyThermoDB.docs.tableequation.TableEquation object at \u001b[0m\u001b[1;36m0x0000019252836560\u001b[0m\u001b[39m>\u001b[0m\n",
       "\u001b[39m    \u001b[0m\u001b[1;39m]\u001b[0m\u001b[39m,\u001b[0m\n",
       "\u001b[39m    \u001b[0m\u001b[32m'water'\u001b[0m\u001b[39m: \u001b[0m\u001b[1;39m[\u001b[0m\n",
       "\u001b[39m        <pyThermoDB.docs.tableequation.TableEquation object at \u001b[0m\u001b[1;36m0x0000019264EB1600\u001b[0m\u001b[39m>,\u001b[0m\n",
       "\u001b[39m        <pyThermoDB.docs.tabledata.TableData object at \u001b[0m\u001b[1;36m0x0000019252837B20\u001b[0m\u001b[39m>,\u001b[0m\n",
       "\u001b[39m        <pyThermoDB.docs.tableequation.TableEquation object at \u001b[0m\u001b[1;36m0x0000019264E6E020\u001b[0m\u001b[39m>\u001b[0m\n",
       "\u001b[39m    \u001b[0m\u001b[1;39m]\u001b[0m\u001b[39m,\u001b[0m\n",
       "\u001b[39m    \u001b[0m\u001b[32m'nitrogen'\u001b[0m\u001b[39m: \u001b[0m\u001b[1;39m[\u001b[0m\n",
       "\u001b[39m        <pyThermoDB.docs.tableequation.TableEquation object at \u001b[0m\u001b[1;36m0x0000019264EEE230\u001b[0m\u001b[39m>,\u001b[0m\n",
       "\u001b[39m        <pyThermoDB.docs.tabledata.TableData object at \u001b[0m\u001b[1;36m0x0000019264EB13F0\u001b[0m\u001b[39m>,\u001b[0m\n",
       "\u001b[39m        <pyThermoDB.docs.tableequation.TableEquation object at \u001b[0m\u001b[1;36m0x0000019264F4AE60\u001b[0m\u001b[39m>\u001b[0m\n",
       "\u001b[39m    \u001b[0m\u001b[1;39m]\u001b[0m\u001b[39m,\u001b[0m\n",
       "\u001b[39m    \u001b[0m\u001b[32m'benzene'\u001b[0m\u001b[39m: \u001b[0m\u001b[1;39m[\u001b[0m\n",
       "\u001b[39m        <pyThermoDB.docs.tableequation.TableEquation object at \u001b[0m\u001b[1;36m0x0000019264E392D0\u001b[0m\u001b[39m>,\u001b[0m\n",
       "\u001b[39m        <pyThermoDB.docs.tabledata.TableData object at \u001b[0m\u001b[1;36m0x0000019264EEFC10\u001b[0m\u001b[39m>,\u001b[0m\n",
       "\u001b[39m        <pyThermoDB.docs.tableequation.TableEquation object at \u001b[0m\u001b[1;36m0x00000192650C4430\u001b[0m\u001b[39m>\u001b[0m\n",
       "\u001b[39m    \u001b[0m\u001b[1;39m]\u001b[0m\u001b[39m,\u001b[0m\n",
       "\u001b[39m    \u001b[0m\u001b[32m'ethane'\u001b[0m\u001b[39m: \u001b[0m\u001b[1;39m[\u001b[0m\n",
       "\u001b[39m        <pyThermoDB.docs.tableequation.TableEquation object at \u001b[0m\u001b[1;36m0x0000019264EC5000\u001b[0m\u001b[39m>,\u001b[0m\n",
       "\u001b[39m        <pyThermoDB.docs.tabledata.TableData object at \u001b[0m\u001b[1;36m0x0000019264E39570\u001b[0m\u001b[39m>,\u001b[0m\n",
       "\u001b[39m        <pyThermoDB.docs.tableequation.TableEquation object at \u001b[0m\u001b[1;36m0x0000019264E6C5B0\u001b[0m\u001b[1m>\u001b[0m\n",
       "    \u001b[1m]\u001b[0m\n",
       "\u001b[1m}\u001b[0m\n"
      ]
     },
     "metadata": {},
     "output_type": "display_data"
    }
   ],
   "source": [
    "print(thermodb_items)"
   ]
  },
  {
   "cell_type": "code",
   "execution_count": 26,
   "id": "2b4f7f58",
   "metadata": {},
   "outputs": [
    {
     "data": {
      "text/html": [
       "<pre style=\"white-space:pre;overflow-x:auto;line-height:normal;font-family:Menlo,'DejaVu Sans Mono',consolas,'Courier New',monospace\">Component: carbon dioxide\n",
       "</pre>\n"
      ],
      "text/plain": [
       "Component: carbon dioxide\n"
      ]
     },
     "metadata": {},
     "output_type": "display_data"
    },
    {
     "data": {
      "text/html": [
       "<pre style=\"white-space:pre;overflow-x:auto;line-height:normal;font-family:Menlo,'DejaVu Sans Mono',consolas,'Courier New',monospace\">--------------------------------------------------\n",
       "</pre>\n"
      ],
      "text/plain": [
       "--------------------------------------------------\n"
      ]
     },
     "metadata": {},
     "output_type": "display_data"
    },
    {
     "data": {
      "text/html": [
       "<pre style=\"white-space:pre;overflow-x:auto;line-height:normal;font-family:Menlo,'DejaVu Sans Mono',consolas,'Courier New',monospace\">Component: carbon monoxide\n",
       "</pre>\n"
      ],
      "text/plain": [
       "Component: carbon monoxide\n"
      ]
     },
     "metadata": {},
     "output_type": "display_data"
    },
    {
     "data": {
      "text/html": [
       "<pre style=\"white-space:pre;overflow-x:auto;line-height:normal;font-family:Menlo,'DejaVu Sans Mono',consolas,'Courier New',monospace\">--------------------------------------------------\n",
       "</pre>\n"
      ],
      "text/plain": [
       "--------------------------------------------------\n"
      ]
     },
     "metadata": {},
     "output_type": "display_data"
    },
    {
     "data": {
      "text/html": [
       "<pre style=\"white-space:pre;overflow-x:auto;line-height:normal;font-family:Menlo,'DejaVu Sans Mono',consolas,'Courier New',monospace\">Component: methanol\n",
       "</pre>\n"
      ],
      "text/plain": [
       "Component: methanol\n"
      ]
     },
     "metadata": {},
     "output_type": "display_data"
    },
    {
     "data": {
      "text/html": [
       "<pre style=\"white-space:pre;overflow-x:auto;line-height:normal;font-family:Menlo,'DejaVu Sans Mono',consolas,'Courier New',monospace\">--------------------------------------------------\n",
       "</pre>\n"
      ],
      "text/plain": [
       "--------------------------------------------------\n"
      ]
     },
     "metadata": {},
     "output_type": "display_data"
    },
    {
     "data": {
      "text/html": [
       "<pre style=\"white-space:pre;overflow-x:auto;line-height:normal;font-family:Menlo,'DejaVu Sans Mono',consolas,'Courier New',monospace\">Component: ethanol\n",
       "</pre>\n"
      ],
      "text/plain": [
       "Component: ethanol\n"
      ]
     },
     "metadata": {},
     "output_type": "display_data"
    },
    {
     "data": {
      "text/html": [
       "<pre style=\"white-space:pre;overflow-x:auto;line-height:normal;font-family:Menlo,'DejaVu Sans Mono',consolas,'Courier New',monospace\">--------------------------------------------------\n",
       "</pre>\n"
      ],
      "text/plain": [
       "--------------------------------------------------\n"
      ]
     },
     "metadata": {},
     "output_type": "display_data"
    },
    {
     "data": {
      "text/html": [
       "<pre style=\"white-space:pre;overflow-x:auto;line-height:normal;font-family:Menlo,'DejaVu Sans Mono',consolas,'Courier New',monospace\">Component: methane\n",
       "</pre>\n"
      ],
      "text/plain": [
       "Component: methane\n"
      ]
     },
     "metadata": {},
     "output_type": "display_data"
    },
    {
     "data": {
      "text/html": [
       "<pre style=\"white-space:pre;overflow-x:auto;line-height:normal;font-family:Menlo,'DejaVu Sans Mono',consolas,'Courier New',monospace\">--------------------------------------------------\n",
       "</pre>\n"
      ],
      "text/plain": [
       "--------------------------------------------------\n"
      ]
     },
     "metadata": {},
     "output_type": "display_data"
    },
    {
     "data": {
      "text/html": [
       "<pre style=\"white-space:pre;overflow-x:auto;line-height:normal;font-family:Menlo,'DejaVu Sans Mono',consolas,'Courier New',monospace\">Component: propane\n",
       "</pre>\n"
      ],
      "text/plain": [
       "Component: propane\n"
      ]
     },
     "metadata": {},
     "output_type": "display_data"
    },
    {
     "data": {
      "text/html": [
       "<pre style=\"white-space:pre;overflow-x:auto;line-height:normal;font-family:Menlo,'DejaVu Sans Mono',consolas,'Courier New',monospace\">--------------------------------------------------\n",
       "</pre>\n"
      ],
      "text/plain": [
       "--------------------------------------------------\n"
      ]
     },
     "metadata": {},
     "output_type": "display_data"
    },
    {
     "data": {
      "text/html": [
       "<pre style=\"white-space:pre;overflow-x:auto;line-height:normal;font-family:Menlo,'DejaVu Sans Mono',consolas,'Courier New',monospace\">Component: n-butane\n",
       "</pre>\n"
      ],
      "text/plain": [
       "Component: n-butane\n"
      ]
     },
     "metadata": {},
     "output_type": "display_data"
    },
    {
     "data": {
      "text/html": [
       "<pre style=\"white-space:pre;overflow-x:auto;line-height:normal;font-family:Menlo,'DejaVu Sans Mono',consolas,'Courier New',monospace\">--------------------------------------------------\n",
       "</pre>\n"
      ],
      "text/plain": [
       "--------------------------------------------------\n"
      ]
     },
     "metadata": {},
     "output_type": "display_data"
    },
    {
     "data": {
      "text/html": [
       "<pre style=\"white-space:pre;overflow-x:auto;line-height:normal;font-family:Menlo,'DejaVu Sans Mono',consolas,'Courier New',monospace\">Component: ethylene\n",
       "</pre>\n"
      ],
      "text/plain": [
       "Component: ethylene\n"
      ]
     },
     "metadata": {},
     "output_type": "display_data"
    },
    {
     "data": {
      "text/html": [
       "<pre style=\"white-space:pre;overflow-x:auto;line-height:normal;font-family:Menlo,'DejaVu Sans Mono',consolas,'Courier New',monospace\">--------------------------------------------------\n",
       "</pre>\n"
      ],
      "text/plain": [
       "--------------------------------------------------\n"
      ]
     },
     "metadata": {},
     "output_type": "display_data"
    },
    {
     "data": {
      "text/html": [
       "<pre style=\"white-space:pre;overflow-x:auto;line-height:normal;font-family:Menlo,'DejaVu Sans Mono',consolas,'Courier New',monospace\">Component: acetylene\n",
       "</pre>\n"
      ],
      "text/plain": [
       "Component: acetylene\n"
      ]
     },
     "metadata": {},
     "output_type": "display_data"
    },
    {
     "data": {
      "text/html": [
       "<pre style=\"white-space:pre;overflow-x:auto;line-height:normal;font-family:Menlo,'DejaVu Sans Mono',consolas,'Courier New',monospace\">--------------------------------------------------\n",
       "</pre>\n"
      ],
      "text/plain": [
       "--------------------------------------------------\n"
      ]
     },
     "metadata": {},
     "output_type": "display_data"
    },
    {
     "data": {
      "text/html": [
       "<pre style=\"white-space:pre;overflow-x:auto;line-height:normal;font-family:Menlo,'DejaVu Sans Mono',consolas,'Courier New',monospace\">Component: <span style=\"color: #008080; text-decoration-color: #008080; font-weight: bold\">1</span>,<span style=\"color: #008080; text-decoration-color: #008080; font-weight: bold\">3</span>-Butadiene\n",
       "</pre>\n"
      ],
      "text/plain": [
       "Component: \u001b[1;36m1\u001b[0m,\u001b[1;36m3\u001b[0m-Butadiene\n"
      ]
     },
     "metadata": {},
     "output_type": "display_data"
    },
    {
     "data": {
      "text/html": [
       "<pre style=\"white-space:pre;overflow-x:auto;line-height:normal;font-family:Menlo,'DejaVu Sans Mono',consolas,'Courier New',monospace\">--------------------------------------------------\n",
       "</pre>\n"
      ],
      "text/plain": [
       "--------------------------------------------------\n"
      ]
     },
     "metadata": {},
     "output_type": "display_data"
    },
    {
     "data": {
      "text/html": [
       "<pre style=\"white-space:pre;overflow-x:auto;line-height:normal;font-family:Menlo,'DejaVu Sans Mono',consolas,'Courier New',monospace\">Component: <span style=\"color: #008080; text-decoration-color: #008080; font-weight: bold\">1</span>-butene\n",
       "</pre>\n"
      ],
      "text/plain": [
       "Component: \u001b[1;36m1\u001b[0m-butene\n"
      ]
     },
     "metadata": {},
     "output_type": "display_data"
    },
    {
     "data": {
      "text/html": [
       "<pre style=\"white-space:pre;overflow-x:auto;line-height:normal;font-family:Menlo,'DejaVu Sans Mono',consolas,'Courier New',monospace\">--------------------------------------------------\n",
       "</pre>\n"
      ],
      "text/plain": [
       "--------------------------------------------------\n"
      ]
     },
     "metadata": {},
     "output_type": "display_data"
    },
    {
     "data": {
      "text/html": [
       "<pre style=\"white-space:pre;overflow-x:auto;line-height:normal;font-family:Menlo,'DejaVu Sans Mono',consolas,'Courier New',monospace\">Component: hydrogen\n",
       "</pre>\n"
      ],
      "text/plain": [
       "Component: hydrogen\n"
      ]
     },
     "metadata": {},
     "output_type": "display_data"
    },
    {
     "data": {
      "text/html": [
       "<pre style=\"white-space:pre;overflow-x:auto;line-height:normal;font-family:Menlo,'DejaVu Sans Mono',consolas,'Courier New',monospace\">--------------------------------------------------\n",
       "</pre>\n"
      ],
      "text/plain": [
       "--------------------------------------------------\n"
      ]
     },
     "metadata": {},
     "output_type": "display_data"
    },
    {
     "data": {
      "text/html": [
       "<pre style=\"white-space:pre;overflow-x:auto;line-height:normal;font-family:Menlo,'DejaVu Sans Mono',consolas,'Courier New',monospace\">Component: water\n",
       "</pre>\n"
      ],
      "text/plain": [
       "Component: water\n"
      ]
     },
     "metadata": {},
     "output_type": "display_data"
    },
    {
     "data": {
      "text/html": [
       "<pre style=\"white-space:pre;overflow-x:auto;line-height:normal;font-family:Menlo,'DejaVu Sans Mono',consolas,'Courier New',monospace\">--------------------------------------------------\n",
       "</pre>\n"
      ],
      "text/plain": [
       "--------------------------------------------------\n"
      ]
     },
     "metadata": {},
     "output_type": "display_data"
    },
    {
     "data": {
      "text/html": [
       "<pre style=\"white-space:pre;overflow-x:auto;line-height:normal;font-family:Menlo,'DejaVu Sans Mono',consolas,'Courier New',monospace\">Component: nitrogen\n",
       "</pre>\n"
      ],
      "text/plain": [
       "Component: nitrogen\n"
      ]
     },
     "metadata": {},
     "output_type": "display_data"
    },
    {
     "data": {
      "text/html": [
       "<pre style=\"white-space:pre;overflow-x:auto;line-height:normal;font-family:Menlo,'DejaVu Sans Mono',consolas,'Courier New',monospace\">--------------------------------------------------\n",
       "</pre>\n"
      ],
      "text/plain": [
       "--------------------------------------------------\n"
      ]
     },
     "metadata": {},
     "output_type": "display_data"
    },
    {
     "data": {
      "text/html": [
       "<pre style=\"white-space:pre;overflow-x:auto;line-height:normal;font-family:Menlo,'DejaVu Sans Mono',consolas,'Courier New',monospace\">Component: benzene\n",
       "</pre>\n"
      ],
      "text/plain": [
       "Component: benzene\n"
      ]
     },
     "metadata": {},
     "output_type": "display_data"
    },
    {
     "data": {
      "text/html": [
       "<pre style=\"white-space:pre;overflow-x:auto;line-height:normal;font-family:Menlo,'DejaVu Sans Mono',consolas,'Courier New',monospace\">--------------------------------------------------\n",
       "</pre>\n"
      ],
      "text/plain": [
       "--------------------------------------------------\n"
      ]
     },
     "metadata": {},
     "output_type": "display_data"
    },
    {
     "data": {
      "text/html": [
       "<pre style=\"white-space:pre;overflow-x:auto;line-height:normal;font-family:Menlo,'DejaVu Sans Mono',consolas,'Courier New',monospace\">Component: ethane\n",
       "</pre>\n"
      ],
      "text/plain": [
       "Component: ethane\n"
      ]
     },
     "metadata": {},
     "output_type": "display_data"
    },
    {
     "data": {
      "text/html": [
       "<pre style=\"white-space:pre;overflow-x:auto;line-height:normal;font-family:Menlo,'DejaVu Sans Mono',consolas,'Courier New',monospace\">--------------------------------------------------\n",
       "</pre>\n"
      ],
      "text/plain": [
       "--------------------------------------------------\n"
      ]
     },
     "metadata": {},
     "output_type": "display_data"
    }
   ],
   "source": [
    "for component, items in thermodb_items.items():\n",
    "    # reset thermodb\n",
    "    thermodb_ = None\n",
    "\n",
    "    print(f\"Component: {component}\")\n",
    "\n",
    "    # thermodb name\n",
    "    thermodb_name = f'{component}-1'\n",
    "\n",
    "    # build thermodb\n",
    "    thermodb_ = ptdb.build_thermodb(thermodb_name=thermodb_name)\n",
    "\n",
    "    # add data\n",
    "    thermodb_.add_data('heat-capacity', items[0])\n",
    "    thermodb_.add_data('general-data', items[1])\n",
    "    thermodb_.add_data('vapor-pressure', items[2])\n",
    "    # save\n",
    "    thermodb_.save(f'{component.lower()}-1.pkl', file_path=f\"{current_directory}/Ref-1\")\n",
    "    print(\"-\" * 50)"
   ]
  },
  {
   "cell_type": "markdown",
   "id": "0f6c451e",
   "metadata": {},
   "source": [
    "## Check ThermoDB"
   ]
  },
  {
   "cell_type": "code",
   "execution_count": 19,
   "id": "ef4cfaa0",
   "metadata": {},
   "outputs": [
    {
     "data": {
      "text/html": [
       "<pre style=\"white-space:pre;overflow-x:auto;line-height:normal;font-family:Menlo,'DejaVu Sans Mono',consolas,'Courier New',monospace\"><span style=\"font-weight: bold\">&lt;</span><span style=\"color: #ff00ff; text-decoration-color: #ff00ff; font-weight: bold\">class</span><span style=\"color: #000000; text-decoration-color: #000000\"> </span><span style=\"color: #008000; text-decoration-color: #008000\">'pyThermoDB.docs.compbuilder.CompBuilder'</span><span style=\"font-weight: bold\">&gt;</span>\n",
       "</pre>\n"
      ],
      "text/plain": [
       "\u001b[1m<\u001b[0m\u001b[1;95mclass\u001b[0m\u001b[39m \u001b[0m\u001b[32m'pyThermoDB.docs.compbuilder.CompBuilder'\u001b[0m\u001b[1m>\u001b[0m\n"
      ]
     },
     "metadata": {},
     "output_type": "display_data"
    }
   ],
   "source": [
    "# load\n",
    "thermodb_ = ptdb.load_thermodb(f'{current_directory}/Ref-1/methanol-1.pkl')\n",
    "print(type(thermodb_))"
   ]
  },
  {
   "cell_type": "code",
   "execution_count": 20,
   "id": "0754345c",
   "metadata": {},
   "outputs": [
    {
     "data": {
      "text/plain": [
       "'methanol-1'"
      ]
     },
     "execution_count": 20,
     "metadata": {},
     "output_type": "execute_result"
    }
   ],
   "source": [
    "thermodb_.thermodb_name"
   ]
  },
  {
   "cell_type": "code",
   "execution_count": 21,
   "id": "215b192e",
   "metadata": {},
   "outputs": [
    {
     "data": {
      "text/plain": [
       "'1.8.13'"
      ]
     },
     "execution_count": 21,
     "metadata": {},
     "output_type": "execute_result"
    }
   ],
   "source": [
    "thermodb_.build_version"
   ]
  },
  {
   "cell_type": "code",
   "execution_count": 22,
   "id": "4539ab12",
   "metadata": {},
   "outputs": [
    {
     "data": {
      "text/plain": [
       "{'general-data': <pyThermoDB.docs.tabledata.TableData at 0x1347874fbb0>,\n",
       " 'heat-capacity': <pyThermoDB.docs.tableequation.TableEquation at 0x134789cada0>,\n",
       " 'vapor-pressure': <pyThermoDB.docs.tableequation.TableEquation at 0x1347874f1f0>}"
      ]
     },
     "execution_count": 22,
     "metadata": {},
     "output_type": "execute_result"
    }
   ],
   "source": [
    "thermodb_.check()"
   ]
  },
  {
   "cell_type": "code",
   "execution_count": 23,
   "id": "9c33f1f1",
   "metadata": {},
   "outputs": [
    {
     "data": {
      "text/html": [
       "<pre style=\"white-space:pre;overflow-x:auto;line-height:normal;font-family:Menlo,'DejaVu Sans Mono',consolas,'Courier New',monospace\"><span style=\"font-weight: bold\">{</span>\n",
       "    <span style=\"color: #008000; text-decoration-color: #008000\">'value'</span>: <span style=\"color: #008000; text-decoration-color: #008000\">'32.04'</span>,\n",
       "    <span style=\"color: #008000; text-decoration-color: #008000\">'unit'</span>: <span style=\"color: #008000; text-decoration-color: #008000\">'g/mol'</span>,\n",
       "    <span style=\"color: #008000; text-decoration-color: #008000\">'symbol'</span>: <span style=\"color: #008000; text-decoration-color: #008000\">'MW'</span>,\n",
       "    <span style=\"color: #008000; text-decoration-color: #008000\">'property_name'</span>: <span style=\"color: #008000; text-decoration-color: #008000\">'MW'</span>,\n",
       "    <span style=\"color: #008000; text-decoration-color: #008000\">'message'</span>: <span style=\"color: #008000; text-decoration-color: #008000\">'Retrieving used for general-data | MW!'</span>,\n",
       "    <span style=\"color: #008000; text-decoration-color: #008000\">'databook_name'</span>: <span style=\"color: #008000; text-decoration-color: #008000\">'GENERAL'</span>,\n",
       "    <span style=\"color: #008000; text-decoration-color: #008000\">'table_name'</span>: <span style=\"color: #008000; text-decoration-color: #008000\">'General Data'</span>\n",
       "<span style=\"font-weight: bold\">}</span>\n",
       "</pre>\n"
      ],
      "text/plain": [
       "\u001b[1m{\u001b[0m\n",
       "    \u001b[32m'value'\u001b[0m: \u001b[32m'32.04'\u001b[0m,\n",
       "    \u001b[32m'unit'\u001b[0m: \u001b[32m'g/mol'\u001b[0m,\n",
       "    \u001b[32m'symbol'\u001b[0m: \u001b[32m'MW'\u001b[0m,\n",
       "    \u001b[32m'property_name'\u001b[0m: \u001b[32m'MW'\u001b[0m,\n",
       "    \u001b[32m'message'\u001b[0m: \u001b[32m'Retrieving used for general-data | MW!'\u001b[0m,\n",
       "    \u001b[32m'databook_name'\u001b[0m: \u001b[32m'GENERAL'\u001b[0m,\n",
       "    \u001b[32m'table_name'\u001b[0m: \u001b[32m'General Data'\u001b[0m\n",
       "\u001b[1m}\u001b[0m\n"
      ]
     },
     "metadata": {},
     "output_type": "display_data"
    }
   ],
   "source": [
    "data_ = thermodb_.retrieve('general-data | MW')\n",
    "print(data_)"
   ]
  }
 ],
 "metadata": {
  "kernelspec": {
   "display_name": "venv (3.10.0)",
   "language": "python",
   "name": "python3"
  },
  "language_info": {
   "codemirror_mode": {
    "name": "ipython",
    "version": 3
   },
   "file_extension": ".py",
   "mimetype": "text/x-python",
   "name": "python",
   "nbconvert_exporter": "python",
   "pygments_lexer": "ipython3",
   "version": "3.10.0"
  }
 },
 "nbformat": 4,
 "nbformat_minor": 5
}
