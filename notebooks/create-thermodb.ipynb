{
 "cells": [
  {
   "cell_type": "markdown",
   "id": "8f1b1513",
   "metadata": {},
   "source": [
    "# Notebook Overview\n",
    "This notebook demonstrates the basic usage of the pyThermoDB library.\n",
    "\n",
    "## Contents:\n",
    "- **Import Libraries**: Import the necessary libraries including pyThermoDB and rich.\n",
    "- **Check Versions**: Print the version of pyThermoDB.\n",
    "- **App Initialization**: Initialize the pyThermoDB application.\n",
    "- **Databook List**: List all available databooks.\n",
    "- **Table List**: List all tables in a specific databook.\n",
    "- **Table Info**: Get information about a specific table.\n",
    "- **Load Tables**: Load and display data and equations from tables.\n",
    "- **Check Component Availability**: Check if a component is available in a specific table.\n",
    "- **Build Data**: Build data for a specific component from a table.\n",
    "- **Build Equation**: Build an equation for a specific component from a table."
   ]
  },
  {
   "cell_type": "markdown",
   "id": "bcead44a",
   "metadata": {},
   "source": [
    "# Import Libs"
   ]
  },
  {
   "cell_type": "code",
   "execution_count": 26,
   "id": "609e44cf",
   "metadata": {},
   "outputs": [],
   "source": [
    "import pyThermoDB as ptdb\n",
    "from rich import print\n",
    "import os\n",
    "import json"
   ]
  },
  {
   "cell_type": "code",
   "execution_count": 2,
   "id": "a930f671",
   "metadata": {},
   "outputs": [
    {
     "data": {
      "text/html": [
       "<pre style=\"white-space:pre;overflow-x:auto;line-height:normal;font-family:Menlo,'DejaVu Sans Mono',consolas,'Courier New',monospace\"><span style=\"color: #008080; text-decoration-color: #008080; font-weight: bold\">1.7</span>.<span style=\"color: #008080; text-decoration-color: #008080; font-weight: bold\">20</span>\n",
       "</pre>\n"
      ],
      "text/plain": [
       "\u001b[1;36m1.7\u001b[0m.\u001b[1;36m20\u001b[0m\n"
      ]
     },
     "metadata": {},
     "output_type": "display_data"
    }
   ],
   "source": [
    "# versions\n",
    "print(ptdb.__version__)"
   ]
  },
  {
   "cell_type": "markdown",
   "id": "21a261c8",
   "metadata": {},
   "source": [
    "# App Initializtion"
   ]
  },
  {
   "cell_type": "code",
   "execution_count": 3,
   "id": "b6a0deac",
   "metadata": {},
   "outputs": [],
   "source": [
    "tdb = ptdb.init()"
   ]
  },
  {
   "cell_type": "markdown",
   "id": "c57f1e8e",
   "metadata": {},
   "source": [
    "# Databook List"
   ]
  },
  {
   "cell_type": "code",
   "execution_count": 4,
   "id": "d274d77c",
   "metadata": {},
   "outputs": [
    {
     "data": {
      "application/vnd.microsoft.datawrangler.viewer.v0+json": {
       "columns": [
        {
         "name": "index",
         "rawType": "int64",
         "type": "integer"
        },
        {
         "name": "Databooks",
         "rawType": "object",
         "type": "string"
        },
        {
         "name": "Id",
         "rawType": "object",
         "type": "string"
        }
       ],
       "conversionMethod": "pd.DataFrame",
       "ref": "e4be2d99-159f-4228-bce0-d3784185d5ca",
       "rows": [
        [
         "0",
         "Perry's Chemical Engineers' Handbook",
         "[1]"
        ],
        [
         "1",
         "Chemical Thermodynamics for Process Simulation",
         "[2]"
        ],
        [
         "2",
         "Chemical and Engineering Thermodynamics",
         "[3]"
        ],
        [
         "3",
         "CO2 Hydrogenation Reaction",
         "[4]"
        ],
        [
         "4",
         "Introduction to Chemical Engineering Thermodynamics, 9th Edition",
         "[5]"
        ],
        [
         "5",
         "Properties of Gases and Liquids",
         "[6]"
        ]
       ],
       "shape": {
        "columns": 2,
        "rows": 6
       }
      },
      "text/html": [
       "<div>\n",
       "<style scoped>\n",
       "    .dataframe tbody tr th:only-of-type {\n",
       "        vertical-align: middle;\n",
       "    }\n",
       "\n",
       "    .dataframe tbody tr th {\n",
       "        vertical-align: top;\n",
       "    }\n",
       "\n",
       "    .dataframe thead th {\n",
       "        text-align: right;\n",
       "    }\n",
       "</style>\n",
       "<table border=\"1\" class=\"dataframe\">\n",
       "  <thead>\n",
       "    <tr style=\"text-align: right;\">\n",
       "      <th></th>\n",
       "      <th>Databooks</th>\n",
       "      <th>Id</th>\n",
       "    </tr>\n",
       "  </thead>\n",
       "  <tbody>\n",
       "    <tr>\n",
       "      <th>0</th>\n",
       "      <td>Perry's Chemical Engineers' Handbook</td>\n",
       "      <td>[1]</td>\n",
       "    </tr>\n",
       "    <tr>\n",
       "      <th>1</th>\n",
       "      <td>Chemical Thermodynamics for Process Simulation</td>\n",
       "      <td>[2]</td>\n",
       "    </tr>\n",
       "    <tr>\n",
       "      <th>2</th>\n",
       "      <td>Chemical and Engineering Thermodynamics</td>\n",
       "      <td>[3]</td>\n",
       "    </tr>\n",
       "    <tr>\n",
       "      <th>3</th>\n",
       "      <td>CO2 Hydrogenation Reaction</td>\n",
       "      <td>[4]</td>\n",
       "    </tr>\n",
       "    <tr>\n",
       "      <th>4</th>\n",
       "      <td>Introduction to Chemical Engineering Thermodyn...</td>\n",
       "      <td>[5]</td>\n",
       "    </tr>\n",
       "    <tr>\n",
       "      <th>5</th>\n",
       "      <td>Properties of Gases and Liquids</td>\n",
       "      <td>[6]</td>\n",
       "    </tr>\n",
       "  </tbody>\n",
       "</table>\n",
       "</div>"
      ],
      "text/plain": [
       "                                           Databooks   Id\n",
       "0               Perry's Chemical Engineers' Handbook  [1]\n",
       "1     Chemical Thermodynamics for Process Simulation  [2]\n",
       "2            Chemical and Engineering Thermodynamics  [3]\n",
       "3                         CO2 Hydrogenation Reaction  [4]\n",
       "4  Introduction to Chemical Engineering Thermodyn...  [5]\n",
       "5                    Properties of Gases and Liquids  [6]"
      ]
     },
     "execution_count": 4,
     "metadata": {},
     "output_type": "execute_result"
    }
   ],
   "source": [
    "db_list = tdb.list_databooks()\n",
    "db_list"
   ]
  },
  {
   "cell_type": "markdown",
   "id": "43d502e2",
   "metadata": {},
   "source": [
    "# Table List"
   ]
  },
  {
   "cell_type": "code",
   "execution_count": 5,
   "id": "6c259b0a",
   "metadata": {},
   "outputs": [
    {
     "data": {
      "application/vnd.microsoft.datawrangler.viewer.v0+json": {
       "columns": [
        {
         "name": "index",
         "rawType": "int64",
         "type": "integer"
        },
        {
         "name": "Tables in CO2 Hydrogenation Reaction databook",
         "rawType": "object",
         "type": "string"
        },
        {
         "name": "Type",
         "rawType": "object",
         "type": "string"
        },
        {
         "name": "Id",
         "rawType": "object",
         "type": "string"
        }
       ],
       "conversionMethod": "pd.DataFrame",
       "ref": "d85bbb4c-6f3f-40da-abbe-612fa13ad18a",
       "rows": [
        [
         "0",
         "CO2 hydrogenation - The Molar Heat Capacities of Gases in the Ideal Gas (Zero-Pressure) State",
         "equation",
         "[1]"
        ],
        [
         "1",
         "CO2 hydrogenation - General Data",
         "data",
         "[2]"
        ],
        [
         "2",
         "CO2 hydrogenation - Vapor Pressure",
         "equation",
         "[3]"
        ]
       ],
       "shape": {
        "columns": 3,
        "rows": 3
       }
      },
      "text/html": [
       "<div>\n",
       "<style scoped>\n",
       "    .dataframe tbody tr th:only-of-type {\n",
       "        vertical-align: middle;\n",
       "    }\n",
       "\n",
       "    .dataframe tbody tr th {\n",
       "        vertical-align: top;\n",
       "    }\n",
       "\n",
       "    .dataframe thead th {\n",
       "        text-align: right;\n",
       "    }\n",
       "</style>\n",
       "<table border=\"1\" class=\"dataframe\">\n",
       "  <thead>\n",
       "    <tr style=\"text-align: right;\">\n",
       "      <th></th>\n",
       "      <th>Tables in CO2 Hydrogenation Reaction databook</th>\n",
       "      <th>Type</th>\n",
       "      <th>Id</th>\n",
       "    </tr>\n",
       "  </thead>\n",
       "  <tbody>\n",
       "    <tr>\n",
       "      <th>0</th>\n",
       "      <td>CO2 hydrogenation - The Molar Heat Capacities ...</td>\n",
       "      <td>equation</td>\n",
       "      <td>[1]</td>\n",
       "    </tr>\n",
       "    <tr>\n",
       "      <th>1</th>\n",
       "      <td>CO2 hydrogenation - General Data</td>\n",
       "      <td>data</td>\n",
       "      <td>[2]</td>\n",
       "    </tr>\n",
       "    <tr>\n",
       "      <th>2</th>\n",
       "      <td>CO2 hydrogenation - Vapor Pressure</td>\n",
       "      <td>equation</td>\n",
       "      <td>[3]</td>\n",
       "    </tr>\n",
       "  </tbody>\n",
       "</table>\n",
       "</div>"
      ],
      "text/plain": [
       "       Tables in CO2 Hydrogenation Reaction databook      Type   Id\n",
       "0  CO2 hydrogenation - The Molar Heat Capacities ...  equation  [1]\n",
       "1                   CO2 hydrogenation - General Data      data  [2]\n",
       "2                 CO2 hydrogenation - Vapor Pressure  equation  [3]"
      ]
     },
     "execution_count": 5,
     "metadata": {},
     "output_type": "execute_result"
    }
   ],
   "source": [
    "tb_lists = tdb.list_tables(\"CO2 Hydrogenation Reaction\")\n",
    "tb_lists"
   ]
  },
  {
   "cell_type": "code",
   "execution_count": 25,
   "id": "7a1e2a7b",
   "metadata": {},
   "outputs": [
    {
     "data": {
      "text/html": [
       "<pre style=\"white-space:pre;overflow-x:auto;line-height:normal;font-family:Menlo,'DejaVu Sans Mono',consolas,'Courier New',monospace\"><span style=\"font-weight: bold\">{</span>\n",
       "    <span style=\"color: #008000; text-decoration-color: #008000\">\"table-1\"</span>: <span style=\"color: #008000; text-decoration-color: #008000\">\"CO2 hydrogenation - The Molar Heat Capacities of Gases in the Ideal Gas (Zero-Pressure) State\"</span>,\n",
       "    <span style=\"color: #008000; text-decoration-color: #008000\">\"table-2\"</span>: <span style=\"color: #008000; text-decoration-color: #008000\">\"CO2 hydrogenation - General Data\"</span>,\n",
       "    <span style=\"color: #008000; text-decoration-color: #008000\">\"table-3\"</span>: <span style=\"color: #008000; text-decoration-color: #008000\">\"CO2 hydrogenation - Vapor Pressure\"</span>\n",
       "<span style=\"font-weight: bold\">}</span>\n",
       "</pre>\n"
      ],
      "text/plain": [
       "\u001b[1m{\u001b[0m\n",
       "    \u001b[32m\"table-1\"\u001b[0m: \u001b[32m\"CO2 hydrogenation - The Molar Heat Capacities of Gases in the Ideal Gas \u001b[0m\u001b[32m(\u001b[0m\u001b[32mZero-Pressure\u001b[0m\u001b[32m)\u001b[0m\u001b[32m State\"\u001b[0m,\n",
       "    \u001b[32m\"table-2\"\u001b[0m: \u001b[32m\"CO2 hydrogenation - General Data\"\u001b[0m,\n",
       "    \u001b[32m\"table-3\"\u001b[0m: \u001b[32m\"CO2 hydrogenation - Vapor Pressure\"\u001b[0m\n",
       "\u001b[1m}\u001b[0m\n"
      ]
     },
     "metadata": {},
     "output_type": "display_data"
    }
   ],
   "source": [
    "tb_lists_json = tdb.list_tables(\"CO2 Hydrogenation Reaction\", res_format='json')\n",
    "print(tb_lists_json)"
   ]
  },
  {
   "cell_type": "markdown",
   "id": "45d80642",
   "metadata": {},
   "source": [
    "# Table Info"
   ]
  },
  {
   "cell_type": "code",
   "execution_count": 7,
   "id": "c0c8b13c",
   "metadata": {},
   "outputs": [
    {
     "data": {
      "text/html": [
       "<pre style=\"white-space:pre;overflow-x:auto;line-height:normal;font-family:Menlo,'DejaVu Sans Mono',consolas,'Courier New',monospace\"><span style=\"font-weight: bold\">{</span>\n",
       "    <span style=\"color: #008000; text-decoration-color: #008000\">'table_id'</span>: <span style=\"color: #008080; text-decoration-color: #008080; font-weight: bold\">1</span>,\n",
       "    <span style=\"color: #008000; text-decoration-color: #008000\">'table'</span>: <span style=\"color: #008000; text-decoration-color: #008000\">'CO2 hydrogenation - The Molar Heat Capacities of Gases in the Ideal Gas (Zero-Pressure) State'</span>,\n",
       "    <span style=\"color: #008000; text-decoration-color: #008000\">'description'</span>: <span style=\"color: #008000; text-decoration-color: #008000\">'This table provides the heat capacity at constant pressure of ideal gas (Cp_IG) in J/mol.K as a</span>\n",
       "<span style=\"color: #008000; text-decoration-color: #008000\">function of temperature (T) in K.'</span>,\n",
       "    <span style=\"color: #008000; text-decoration-color: #008000\">'equations'</span>: <span style=\"font-weight: bold\">[</span>\n",
       "        <span style=\"font-weight: bold\">{</span>\n",
       "            <span style=\"color: #008000; text-decoration-color: #008000\">'BODY'</span>: <span style=\"font-weight: bold\">[</span>\n",
       "                <span style=\"color: #008000; text-decoration-color: #008000\">\"res = (parms['a0'] + parms['a1']*args['T'] + parms['a2']*(args['T']**2) + </span>\n",
       "<span style=\"color: #008000; text-decoration-color: #008000\">parms['a3']*(args['T']**3) + parms['a4']*(args['T']**4))*parms['R']\"</span>\n",
       "            <span style=\"font-weight: bold\">]</span>,\n",
       "            <span style=\"color: #008000; text-decoration-color: #008000\">'ARGS'</span>: <span style=\"font-weight: bold\">{</span><span style=\"color: #008000; text-decoration-color: #008000\">'temperature'</span>: <span style=\"font-weight: bold\">{</span><span style=\"color: #008000; text-decoration-color: #008000\">'name'</span>: <span style=\"color: #008000; text-decoration-color: #008000\">'temperature'</span>, <span style=\"color: #008000; text-decoration-color: #008000\">'symbol'</span>: <span style=\"color: #008000; text-decoration-color: #008000\">'T'</span>, <span style=\"color: #008000; text-decoration-color: #008000\">'unit'</span>: <span style=\"color: #008000; text-decoration-color: #008000\">'K'</span><span style=\"font-weight: bold\">}}</span>,\n",
       "            <span style=\"color: #008000; text-decoration-color: #008000\">'PARMS'</span>: <span style=\"font-weight: bold\">{</span>\n",
       "                <span style=\"color: #008000; text-decoration-color: #008000\">'a0'</span>: <span style=\"font-weight: bold\">{</span><span style=\"color: #008000; text-decoration-color: #008000\">'name'</span>: <span style=\"color: #008000; text-decoration-color: #008000\">'a0'</span>, <span style=\"color: #008000; text-decoration-color: #008000\">'symbol'</span>: <span style=\"color: #008000; text-decoration-color: #008000\">'a0'</span>, <span style=\"color: #008000; text-decoration-color: #008000\">'unit'</span>: <span style=\"color: #008080; text-decoration-color: #008080; font-weight: bold\">1</span>, <span style=\"color: #008000; text-decoration-color: #008000\">'conversion'</span>: <span style=\"color: #008080; text-decoration-color: #008080; font-weight: bold\">1</span><span style=\"font-weight: bold\">}</span>,\n",
       "                <span style=\"color: #008000; text-decoration-color: #008000\">'a1'</span>: <span style=\"font-weight: bold\">{</span><span style=\"color: #008000; text-decoration-color: #008000\">'name'</span>: <span style=\"color: #008000; text-decoration-color: #008000\">'a1'</span>, <span style=\"color: #008000; text-decoration-color: #008000\">'symbol'</span>: <span style=\"color: #008000; text-decoration-color: #008000\">'a1'</span>, <span style=\"color: #008000; text-decoration-color: #008000\">'unit'</span>: <span style=\"color: #008000; text-decoration-color: #008000\">'1E3'</span>, <span style=\"color: #008000; text-decoration-color: #008000\">'conversion'</span>: <span style=\"color: #008000; text-decoration-color: #008000\">'1E3'</span><span style=\"font-weight: bold\">}</span>,\n",
       "                <span style=\"color: #008000; text-decoration-color: #008000\">'a2'</span>: <span style=\"font-weight: bold\">{</span><span style=\"color: #008000; text-decoration-color: #008000\">'name'</span>: <span style=\"color: #008000; text-decoration-color: #008000\">'a2'</span>, <span style=\"color: #008000; text-decoration-color: #008000\">'symbol'</span>: <span style=\"color: #008000; text-decoration-color: #008000\">'a2'</span>, <span style=\"color: #008000; text-decoration-color: #008000\">'unit'</span>: <span style=\"color: #008000; text-decoration-color: #008000\">'1E5'</span>, <span style=\"color: #008000; text-decoration-color: #008000\">'conversion'</span>: <span style=\"color: #008000; text-decoration-color: #008000\">'1E5'</span><span style=\"font-weight: bold\">}</span>,\n",
       "                <span style=\"color: #008000; text-decoration-color: #008000\">'a3'</span>: <span style=\"font-weight: bold\">{</span><span style=\"color: #008000; text-decoration-color: #008000\">'name'</span>: <span style=\"color: #008000; text-decoration-color: #008000\">'a3'</span>, <span style=\"color: #008000; text-decoration-color: #008000\">'symbol'</span>: <span style=\"color: #008000; text-decoration-color: #008000\">'a3'</span>, <span style=\"color: #008000; text-decoration-color: #008000\">'unit'</span>: <span style=\"color: #008000; text-decoration-color: #008000\">'1E8'</span>, <span style=\"color: #008000; text-decoration-color: #008000\">'conversion'</span>: <span style=\"color: #008000; text-decoration-color: #008000\">'1E8'</span><span style=\"font-weight: bold\">}</span>,\n",
       "                <span style=\"color: #008000; text-decoration-color: #008000\">'a4'</span>: <span style=\"font-weight: bold\">{</span><span style=\"color: #008000; text-decoration-color: #008000\">'name'</span>: <span style=\"color: #008000; text-decoration-color: #008000\">'a4'</span>, <span style=\"color: #008000; text-decoration-color: #008000\">'symbol'</span>: <span style=\"color: #008000; text-decoration-color: #008000\">'a4'</span>, <span style=\"color: #008000; text-decoration-color: #008000\">'unit'</span>: <span style=\"color: #008000; text-decoration-color: #008000\">'1E11'</span>, <span style=\"color: #008000; text-decoration-color: #008000\">'conversion'</span>: <span style=\"color: #008000; text-decoration-color: #008000\">'1E11'</span><span style=\"font-weight: bold\">}</span>,\n",
       "                <span style=\"color: #008000; text-decoration-color: #008000\">'R'</span>: <span style=\"font-weight: bold\">{</span><span style=\"color: #008000; text-decoration-color: #008000\">'name'</span>: <span style=\"color: #008000; text-decoration-color: #008000\">'R'</span>, <span style=\"color: #008000; text-decoration-color: #008000\">'symbol'</span>: <span style=\"color: #008000; text-decoration-color: #008000\">'R'</span>, <span style=\"color: #008000; text-decoration-color: #008000\">'unit'</span>: <span style=\"color: #008000; text-decoration-color: #008000\">'J/mol.K'</span>, <span style=\"color: #008000; text-decoration-color: #008000\">'conversion'</span>: <span style=\"color: #008080; text-decoration-color: #008080; font-weight: bold\">1</span><span style=\"font-weight: bold\">}</span>\n",
       "            <span style=\"font-weight: bold\">}</span>,\n",
       "            <span style=\"color: #008000; text-decoration-color: #008000\">'RETURNS'</span>: <span style=\"font-weight: bold\">{</span>\n",
       "                <span style=\"color: #008000; text-decoration-color: #008000\">'heat_capacity_ideal_gas'</span>: <span style=\"font-weight: bold\">{</span>\n",
       "                    <span style=\"color: #008000; text-decoration-color: #008000\">'name'</span>: <span style=\"color: #008000; text-decoration-color: #008000\">'heat capacity of ideal gas'</span>,\n",
       "                    <span style=\"color: #008000; text-decoration-color: #008000\">'symbol'</span>: <span style=\"color: #008000; text-decoration-color: #008000\">'Cp_IG'</span>,\n",
       "                    <span style=\"color: #008000; text-decoration-color: #008000\">'unit'</span>: <span style=\"color: #008000; text-decoration-color: #008000\">'J/mol.K'</span>\n",
       "                <span style=\"font-weight: bold\">}</span>\n",
       "            <span style=\"font-weight: bold\">}</span>,\n",
       "            <span style=\"color: #008000; text-decoration-color: #008000\">'BODY-INTEGRAL'</span>: <span style=\"font-weight: bold\">[</span>\n",
       "                <span style=\"color: #008000; text-decoration-color: #008000\">\"A1 = parms['a0']*args['T1']\"</span>,\n",
       "                <span style=\"color: #008000; text-decoration-color: #008000\">\"B1 = (parms['a1']/2)*(args['T1']**2)\"</span>,\n",
       "                <span style=\"color: #008000; text-decoration-color: #008000\">\"C1 = (parms['a2']/3)*(args['T1']**3)\"</span>,\n",
       "                <span style=\"color: #008000; text-decoration-color: #008000\">\"D1 = (parms['a3']/4)*(args['T1']**4)\"</span>,\n",
       "                <span style=\"color: #008000; text-decoration-color: #008000\">\"E1 = (parms['a4']/5)*(args['T1']**5)\"</span>,\n",
       "                <span style=\"color: #008000; text-decoration-color: #008000\">'res1 =  A1 + B1 + C1 + D1 + E1'</span>,\n",
       "                <span style=\"color: #008000; text-decoration-color: #008000\">\"A2 = parms['a0']*args['T2']\"</span>,\n",
       "                <span style=\"color: #008000; text-decoration-color: #008000\">\"B2 = (parms['a1']/2)*(args['T2']**2)\"</span>,\n",
       "                <span style=\"color: #008000; text-decoration-color: #008000\">\"C2 = (parms['a2']/3)*(args['T2']**3)\"</span>,\n",
       "                <span style=\"color: #008000; text-decoration-color: #008000\">\"D2 = (parms['a3']/4)*(args['T2']**4)\"</span>,\n",
       "                <span style=\"color: #008000; text-decoration-color: #008000\">\"E2 = (parms['a4']/5)*(args['T2']**5)\"</span>,\n",
       "                <span style=\"color: #008000; text-decoration-color: #008000\">'res2 =  A2 + B2 + C2 + D2 + E2'</span>,\n",
       "                <span style=\"color: #008000; text-decoration-color: #008000\">\"res = parms['R']*(res2 - res1)\"</span>\n",
       "            <span style=\"font-weight: bold\">]</span>,\n",
       "            <span style=\"color: #008000; text-decoration-color: #008000\">'BODY-FIRST-DERIVATIVE'</span>: <span style=\"font-weight: bold\">[</span>\n",
       "                <span style=\"color: #008000; text-decoration-color: #008000\">\"res = parms['R']*(parms['a1'] + 2*parms['a2']*args['T'] + 3*parms['a3']*(args['T']**2) + </span>\n",
       "<span style=\"color: #008000; text-decoration-color: #008000\">4*parms['a4']*(args['T']**3))\"</span>\n",
       "            <span style=\"font-weight: bold\">]</span>,\n",
       "            <span style=\"color: #008000; text-decoration-color: #008000\">'BODY-SECOND-DERIVATIVE'</span>: <span style=\"font-weight: bold\">[</span>\n",
       "                <span style=\"color: #008000; text-decoration-color: #008000\">\"res = parms['R']*(2*parms['a2'] + 6*parms['a3']*args['T'] + 12*parms['a4']*(args['T']**2))\"</span>\n",
       "            <span style=\"font-weight: bold\">]</span>\n",
       "        <span style=\"font-weight: bold\">}</span>\n",
       "    <span style=\"font-weight: bold\">]</span>,\n",
       "    <span style=\"color: #008000; text-decoration-color: #008000\">'data'</span>: <span style=\"color: #800080; text-decoration-color: #800080; font-style: italic\">None</span>,\n",
       "    <span style=\"color: #008000; text-decoration-color: #008000\">'matrix_equations'</span>: <span style=\"color: #800080; text-decoration-color: #800080; font-style: italic\">None</span>,\n",
       "    <span style=\"color: #008000; text-decoration-color: #008000\">'matrix_data'</span>: <span style=\"color: #800080; text-decoration-color: #800080; font-style: italic\">None</span>\n",
       "<span style=\"font-weight: bold\">}</span>\n",
       "</pre>\n"
      ],
      "text/plain": [
       "\u001b[1m{\u001b[0m\n",
       "    \u001b[32m'table_id'\u001b[0m: \u001b[1;36m1\u001b[0m,\n",
       "    \u001b[32m'table'\u001b[0m: \u001b[32m'CO2 hydrogenation - The Molar Heat Capacities of Gases in the Ideal Gas \u001b[0m\u001b[32m(\u001b[0m\u001b[32mZero-Pressure\u001b[0m\u001b[32m)\u001b[0m\u001b[32m State'\u001b[0m,\n",
       "    \u001b[32m'description'\u001b[0m: \u001b[32m'This table provides the heat capacity at constant pressure of ideal gas \u001b[0m\u001b[32m(\u001b[0m\u001b[32mCp_IG\u001b[0m\u001b[32m)\u001b[0m\u001b[32m in J/mol.K as a\u001b[0m\n",
       "\u001b[32mfunction of temperature \u001b[0m\u001b[32m(\u001b[0m\u001b[32mT\u001b[0m\u001b[32m)\u001b[0m\u001b[32m in K.'\u001b[0m,\n",
       "    \u001b[32m'equations'\u001b[0m: \u001b[1m[\u001b[0m\n",
       "        \u001b[1m{\u001b[0m\n",
       "            \u001b[32m'BODY'\u001b[0m: \u001b[1m[\u001b[0m\n",
       "                \u001b[32m\"res = \u001b[0m\u001b[32m(\u001b[0m\u001b[32mparms\u001b[0m\u001b[32m[\u001b[0m\u001b[32m'a0'\u001b[0m\u001b[32m]\u001b[0m\u001b[32m + parms\u001b[0m\u001b[32m[\u001b[0m\u001b[32m'a1'\u001b[0m\u001b[32m]\u001b[0m\u001b[32m*args\u001b[0m\u001b[32m[\u001b[0m\u001b[32m'T'\u001b[0m\u001b[32m]\u001b[0m\u001b[32m + parms\u001b[0m\u001b[32m[\u001b[0m\u001b[32m'a2'\u001b[0m\u001b[32m]\u001b[0m\u001b[32m*\u001b[0m\u001b[32m(\u001b[0m\u001b[32margs\u001b[0m\u001b[32m[\u001b[0m\u001b[32m'T'\u001b[0m\u001b[32m]\u001b[0m\u001b[32m**2\u001b[0m\u001b[32m)\u001b[0m\u001b[32m + \u001b[0m\n",
       "\u001b[32mparms\u001b[0m\u001b[32m[\u001b[0m\u001b[32m'a3'\u001b[0m\u001b[32m]\u001b[0m\u001b[32m*\u001b[0m\u001b[32m(\u001b[0m\u001b[32margs\u001b[0m\u001b[32m[\u001b[0m\u001b[32m'T'\u001b[0m\u001b[32m]\u001b[0m\u001b[32m**3\u001b[0m\u001b[32m)\u001b[0m\u001b[32m + parms\u001b[0m\u001b[32m[\u001b[0m\u001b[32m'a4'\u001b[0m\u001b[32m]\u001b[0m\u001b[32m*\u001b[0m\u001b[32m(\u001b[0m\u001b[32margs\u001b[0m\u001b[32m[\u001b[0m\u001b[32m'T'\u001b[0m\u001b[32m]\u001b[0m\u001b[32m**4\u001b[0m\u001b[32m)\u001b[0m\u001b[32m)\u001b[0m\u001b[32m*parms\u001b[0m\u001b[32m[\u001b[0m\u001b[32m'R'\u001b[0m\u001b[32m]\u001b[0m\u001b[32m\"\u001b[0m\n",
       "            \u001b[1m]\u001b[0m,\n",
       "            \u001b[32m'ARGS'\u001b[0m: \u001b[1m{\u001b[0m\u001b[32m'temperature'\u001b[0m: \u001b[1m{\u001b[0m\u001b[32m'name'\u001b[0m: \u001b[32m'temperature'\u001b[0m, \u001b[32m'symbol'\u001b[0m: \u001b[32m'T'\u001b[0m, \u001b[32m'unit'\u001b[0m: \u001b[32m'K'\u001b[0m\u001b[1m}\u001b[0m\u001b[1m}\u001b[0m,\n",
       "            \u001b[32m'PARMS'\u001b[0m: \u001b[1m{\u001b[0m\n",
       "                \u001b[32m'a0'\u001b[0m: \u001b[1m{\u001b[0m\u001b[32m'name'\u001b[0m: \u001b[32m'a0'\u001b[0m, \u001b[32m'symbol'\u001b[0m: \u001b[32m'a0'\u001b[0m, \u001b[32m'unit'\u001b[0m: \u001b[1;36m1\u001b[0m, \u001b[32m'conversion'\u001b[0m: \u001b[1;36m1\u001b[0m\u001b[1m}\u001b[0m,\n",
       "                \u001b[32m'a1'\u001b[0m: \u001b[1m{\u001b[0m\u001b[32m'name'\u001b[0m: \u001b[32m'a1'\u001b[0m, \u001b[32m'symbol'\u001b[0m: \u001b[32m'a1'\u001b[0m, \u001b[32m'unit'\u001b[0m: \u001b[32m'1E3'\u001b[0m, \u001b[32m'conversion'\u001b[0m: \u001b[32m'1E3'\u001b[0m\u001b[1m}\u001b[0m,\n",
       "                \u001b[32m'a2'\u001b[0m: \u001b[1m{\u001b[0m\u001b[32m'name'\u001b[0m: \u001b[32m'a2'\u001b[0m, \u001b[32m'symbol'\u001b[0m: \u001b[32m'a2'\u001b[0m, \u001b[32m'unit'\u001b[0m: \u001b[32m'1E5'\u001b[0m, \u001b[32m'conversion'\u001b[0m: \u001b[32m'1E5'\u001b[0m\u001b[1m}\u001b[0m,\n",
       "                \u001b[32m'a3'\u001b[0m: \u001b[1m{\u001b[0m\u001b[32m'name'\u001b[0m: \u001b[32m'a3'\u001b[0m, \u001b[32m'symbol'\u001b[0m: \u001b[32m'a3'\u001b[0m, \u001b[32m'unit'\u001b[0m: \u001b[32m'1E8'\u001b[0m, \u001b[32m'conversion'\u001b[0m: \u001b[32m'1E8'\u001b[0m\u001b[1m}\u001b[0m,\n",
       "                \u001b[32m'a4'\u001b[0m: \u001b[1m{\u001b[0m\u001b[32m'name'\u001b[0m: \u001b[32m'a4'\u001b[0m, \u001b[32m'symbol'\u001b[0m: \u001b[32m'a4'\u001b[0m, \u001b[32m'unit'\u001b[0m: \u001b[32m'1E11'\u001b[0m, \u001b[32m'conversion'\u001b[0m: \u001b[32m'1E11'\u001b[0m\u001b[1m}\u001b[0m,\n",
       "                \u001b[32m'R'\u001b[0m: \u001b[1m{\u001b[0m\u001b[32m'name'\u001b[0m: \u001b[32m'R'\u001b[0m, \u001b[32m'symbol'\u001b[0m: \u001b[32m'R'\u001b[0m, \u001b[32m'unit'\u001b[0m: \u001b[32m'J/mol.K'\u001b[0m, \u001b[32m'conversion'\u001b[0m: \u001b[1;36m1\u001b[0m\u001b[1m}\u001b[0m\n",
       "            \u001b[1m}\u001b[0m,\n",
       "            \u001b[32m'RETURNS'\u001b[0m: \u001b[1m{\u001b[0m\n",
       "                \u001b[32m'heat_capacity_ideal_gas'\u001b[0m: \u001b[1m{\u001b[0m\n",
       "                    \u001b[32m'name'\u001b[0m: \u001b[32m'heat capacity of ideal gas'\u001b[0m,\n",
       "                    \u001b[32m'symbol'\u001b[0m: \u001b[32m'Cp_IG'\u001b[0m,\n",
       "                    \u001b[32m'unit'\u001b[0m: \u001b[32m'J/mol.K'\u001b[0m\n",
       "                \u001b[1m}\u001b[0m\n",
       "            \u001b[1m}\u001b[0m,\n",
       "            \u001b[32m'BODY-INTEGRAL'\u001b[0m: \u001b[1m[\u001b[0m\n",
       "                \u001b[32m\"A1 = parms\u001b[0m\u001b[32m[\u001b[0m\u001b[32m'a0'\u001b[0m\u001b[32m]\u001b[0m\u001b[32m*args\u001b[0m\u001b[32m[\u001b[0m\u001b[32m'T1'\u001b[0m\u001b[32m]\u001b[0m\u001b[32m\"\u001b[0m,\n",
       "                \u001b[32m\"B1 = \u001b[0m\u001b[32m(\u001b[0m\u001b[32mparms\u001b[0m\u001b[32m[\u001b[0m\u001b[32m'a1'\u001b[0m\u001b[32m]\u001b[0m\u001b[32m/2\u001b[0m\u001b[32m)\u001b[0m\u001b[32m*\u001b[0m\u001b[32m(\u001b[0m\u001b[32margs\u001b[0m\u001b[32m[\u001b[0m\u001b[32m'T1'\u001b[0m\u001b[32m]\u001b[0m\u001b[32m**2\u001b[0m\u001b[32m)\u001b[0m\u001b[32m\"\u001b[0m,\n",
       "                \u001b[32m\"C1 = \u001b[0m\u001b[32m(\u001b[0m\u001b[32mparms\u001b[0m\u001b[32m[\u001b[0m\u001b[32m'a2'\u001b[0m\u001b[32m]\u001b[0m\u001b[32m/3\u001b[0m\u001b[32m)\u001b[0m\u001b[32m*\u001b[0m\u001b[32m(\u001b[0m\u001b[32margs\u001b[0m\u001b[32m[\u001b[0m\u001b[32m'T1'\u001b[0m\u001b[32m]\u001b[0m\u001b[32m**3\u001b[0m\u001b[32m)\u001b[0m\u001b[32m\"\u001b[0m,\n",
       "                \u001b[32m\"D1 = \u001b[0m\u001b[32m(\u001b[0m\u001b[32mparms\u001b[0m\u001b[32m[\u001b[0m\u001b[32m'a3'\u001b[0m\u001b[32m]\u001b[0m\u001b[32m/4\u001b[0m\u001b[32m)\u001b[0m\u001b[32m*\u001b[0m\u001b[32m(\u001b[0m\u001b[32margs\u001b[0m\u001b[32m[\u001b[0m\u001b[32m'T1'\u001b[0m\u001b[32m]\u001b[0m\u001b[32m**4\u001b[0m\u001b[32m)\u001b[0m\u001b[32m\"\u001b[0m,\n",
       "                \u001b[32m\"E1 = \u001b[0m\u001b[32m(\u001b[0m\u001b[32mparms\u001b[0m\u001b[32m[\u001b[0m\u001b[32m'a4'\u001b[0m\u001b[32m]\u001b[0m\u001b[32m/5\u001b[0m\u001b[32m)\u001b[0m\u001b[32m*\u001b[0m\u001b[32m(\u001b[0m\u001b[32margs\u001b[0m\u001b[32m[\u001b[0m\u001b[32m'T1'\u001b[0m\u001b[32m]\u001b[0m\u001b[32m**5\u001b[0m\u001b[32m)\u001b[0m\u001b[32m\"\u001b[0m,\n",
       "                \u001b[32m'res1 =  A1 + B1 + C1 + D1 + E1'\u001b[0m,\n",
       "                \u001b[32m\"A2 = parms\u001b[0m\u001b[32m[\u001b[0m\u001b[32m'a0'\u001b[0m\u001b[32m]\u001b[0m\u001b[32m*args\u001b[0m\u001b[32m[\u001b[0m\u001b[32m'T2'\u001b[0m\u001b[32m]\u001b[0m\u001b[32m\"\u001b[0m,\n",
       "                \u001b[32m\"B2 = \u001b[0m\u001b[32m(\u001b[0m\u001b[32mparms\u001b[0m\u001b[32m[\u001b[0m\u001b[32m'a1'\u001b[0m\u001b[32m]\u001b[0m\u001b[32m/2\u001b[0m\u001b[32m)\u001b[0m\u001b[32m*\u001b[0m\u001b[32m(\u001b[0m\u001b[32margs\u001b[0m\u001b[32m[\u001b[0m\u001b[32m'T2'\u001b[0m\u001b[32m]\u001b[0m\u001b[32m**2\u001b[0m\u001b[32m)\u001b[0m\u001b[32m\"\u001b[0m,\n",
       "                \u001b[32m\"C2 = \u001b[0m\u001b[32m(\u001b[0m\u001b[32mparms\u001b[0m\u001b[32m[\u001b[0m\u001b[32m'a2'\u001b[0m\u001b[32m]\u001b[0m\u001b[32m/3\u001b[0m\u001b[32m)\u001b[0m\u001b[32m*\u001b[0m\u001b[32m(\u001b[0m\u001b[32margs\u001b[0m\u001b[32m[\u001b[0m\u001b[32m'T2'\u001b[0m\u001b[32m]\u001b[0m\u001b[32m**3\u001b[0m\u001b[32m)\u001b[0m\u001b[32m\"\u001b[0m,\n",
       "                \u001b[32m\"D2 = \u001b[0m\u001b[32m(\u001b[0m\u001b[32mparms\u001b[0m\u001b[32m[\u001b[0m\u001b[32m'a3'\u001b[0m\u001b[32m]\u001b[0m\u001b[32m/4\u001b[0m\u001b[32m)\u001b[0m\u001b[32m*\u001b[0m\u001b[32m(\u001b[0m\u001b[32margs\u001b[0m\u001b[32m[\u001b[0m\u001b[32m'T2'\u001b[0m\u001b[32m]\u001b[0m\u001b[32m**4\u001b[0m\u001b[32m)\u001b[0m\u001b[32m\"\u001b[0m,\n",
       "                \u001b[32m\"E2 = \u001b[0m\u001b[32m(\u001b[0m\u001b[32mparms\u001b[0m\u001b[32m[\u001b[0m\u001b[32m'a4'\u001b[0m\u001b[32m]\u001b[0m\u001b[32m/5\u001b[0m\u001b[32m)\u001b[0m\u001b[32m*\u001b[0m\u001b[32m(\u001b[0m\u001b[32margs\u001b[0m\u001b[32m[\u001b[0m\u001b[32m'T2'\u001b[0m\u001b[32m]\u001b[0m\u001b[32m**5\u001b[0m\u001b[32m)\u001b[0m\u001b[32m\"\u001b[0m,\n",
       "                \u001b[32m'res2 =  A2 + B2 + C2 + D2 + E2'\u001b[0m,\n",
       "                \u001b[32m\"res = parms\u001b[0m\u001b[32m[\u001b[0m\u001b[32m'R'\u001b[0m\u001b[32m]\u001b[0m\u001b[32m*\u001b[0m\u001b[32m(\u001b[0m\u001b[32mres2 - res1\u001b[0m\u001b[32m)\u001b[0m\u001b[32m\"\u001b[0m\n",
       "            \u001b[1m]\u001b[0m,\n",
       "            \u001b[32m'BODY-FIRST-DERIVATIVE'\u001b[0m: \u001b[1m[\u001b[0m\n",
       "                \u001b[32m\"res = parms\u001b[0m\u001b[32m[\u001b[0m\u001b[32m'R'\u001b[0m\u001b[32m]\u001b[0m\u001b[32m*\u001b[0m\u001b[32m(\u001b[0m\u001b[32mparms\u001b[0m\u001b[32m[\u001b[0m\u001b[32m'a1'\u001b[0m\u001b[32m]\u001b[0m\u001b[32m + 2*parms\u001b[0m\u001b[32m[\u001b[0m\u001b[32m'a2'\u001b[0m\u001b[32m]\u001b[0m\u001b[32m*args\u001b[0m\u001b[32m[\u001b[0m\u001b[32m'T'\u001b[0m\u001b[32m]\u001b[0m\u001b[32m + 3*parms\u001b[0m\u001b[32m[\u001b[0m\u001b[32m'a3'\u001b[0m\u001b[32m]\u001b[0m\u001b[32m*\u001b[0m\u001b[32m(\u001b[0m\u001b[32margs\u001b[0m\u001b[32m[\u001b[0m\u001b[32m'T'\u001b[0m\u001b[32m]\u001b[0m\u001b[32m**2\u001b[0m\u001b[32m)\u001b[0m\u001b[32m + \u001b[0m\n",
       "\u001b[32m4*parms\u001b[0m\u001b[32m[\u001b[0m\u001b[32m'a4'\u001b[0m\u001b[32m]\u001b[0m\u001b[32m*\u001b[0m\u001b[32m(\u001b[0m\u001b[32margs\u001b[0m\u001b[32m[\u001b[0m\u001b[32m'T'\u001b[0m\u001b[32m]\u001b[0m\u001b[32m**3\u001b[0m\u001b[32m)\u001b[0m\u001b[32m)\u001b[0m\u001b[32m\"\u001b[0m\n",
       "            \u001b[1m]\u001b[0m,\n",
       "            \u001b[32m'BODY-SECOND-DERIVATIVE'\u001b[0m: \u001b[1m[\u001b[0m\n",
       "                \u001b[32m\"res = parms\u001b[0m\u001b[32m[\u001b[0m\u001b[32m'R'\u001b[0m\u001b[32m]\u001b[0m\u001b[32m*\u001b[0m\u001b[32m(\u001b[0m\u001b[32m2*parms\u001b[0m\u001b[32m[\u001b[0m\u001b[32m'a2'\u001b[0m\u001b[32m]\u001b[0m\u001b[32m + 6*parms\u001b[0m\u001b[32m[\u001b[0m\u001b[32m'a3'\u001b[0m\u001b[32m]\u001b[0m\u001b[32m*args\u001b[0m\u001b[32m[\u001b[0m\u001b[32m'T'\u001b[0m\u001b[32m]\u001b[0m\u001b[32m + 12*parms\u001b[0m\u001b[32m[\u001b[0m\u001b[32m'a4'\u001b[0m\u001b[32m]\u001b[0m\u001b[32m*\u001b[0m\u001b[32m(\u001b[0m\u001b[32margs\u001b[0m\u001b[32m[\u001b[0m\u001b[32m'T'\u001b[0m\u001b[32m]\u001b[0m\u001b[32m**2\u001b[0m\u001b[32m)\u001b[0m\u001b[32m)\u001b[0m\u001b[32m\"\u001b[0m\n",
       "            \u001b[1m]\u001b[0m\n",
       "        \u001b[1m}\u001b[0m\n",
       "    \u001b[1m]\u001b[0m,\n",
       "    \u001b[32m'data'\u001b[0m: \u001b[3;35mNone\u001b[0m,\n",
       "    \u001b[32m'matrix_equations'\u001b[0m: \u001b[3;35mNone\u001b[0m,\n",
       "    \u001b[32m'matrix_data'\u001b[0m: \u001b[3;35mNone\u001b[0m\n",
       "\u001b[1m}\u001b[0m\n"
      ]
     },
     "metadata": {},
     "output_type": "display_data"
    }
   ],
   "source": [
    "# select a table\n",
    "tb_select = tdb.select_table(\"CO2 Hydrogenation Reaction\", 1)\n",
    "print(tb_select)"
   ]
  },
  {
   "cell_type": "code",
   "execution_count": 8,
   "id": "e46609ab",
   "metadata": {},
   "outputs": [
    {
     "data": {
      "text/html": [
       "<pre style=\"white-space:pre;overflow-x:auto;line-height:normal;font-family:Menlo,'DejaVu Sans Mono',consolas,'Courier New',monospace\"><span style=\"font-weight: bold\">{</span>\n",
       "    <span style=\"color: #008000; text-decoration-color: #008000\">'table_id'</span>: <span style=\"color: #008080; text-decoration-color: #008080; font-weight: bold\">2</span>,\n",
       "    <span style=\"color: #008000; text-decoration-color: #008000\">'table'</span>: <span style=\"color: #008000; text-decoration-color: #008000\">'CO2 hydrogenation - General Data'</span>,\n",
       "    <span style=\"color: #008000; text-decoration-color: #008000\">'description'</span>: <span style=\"color: #008000; text-decoration-color: #008000\">'This table provides the general data of different chemical species participating in the CO2 </span>\n",
       "<span style=\"color: #008000; text-decoration-color: #008000\">hydrogenation reaction and includes molecular weight (MW) in g/mol, critical temperature (Tc) in K, critical </span>\n",
       "<span style=\"color: #008000; text-decoration-color: #008000\">pressure (Pc) in MPa, and critical molar volume (Vc) in m3/kmol. The table also includes the critical </span>\n",
       "<span style=\"color: #008000; text-decoration-color: #008000\">compressibility factor (Zc), acentric factor (AcFa), enthalpy of formation (EnFo) in kJ/mol, and Gibbs energy of </span>\n",
       "<span style=\"color: #008000; text-decoration-color: #008000\">formation (GiEnFo) in kJ/mol. The chemical state of the species is also provided in the table and hence the </span>\n",
       "<span style=\"color: #008000; text-decoration-color: #008000\">enthalpy of formation and Gibbs energy of formation are provided for the ideal gas and liquid state are designated </span>\n",
       "<span style=\"color: #008000; text-decoration-color: #008000\">as EnFo_IG, GiEnFo_IG, EnFo_LIQ, and GiEnFo_LIQ, respectively.'</span>,\n",
       "    <span style=\"color: #008000; text-decoration-color: #008000\">'equations'</span>: <span style=\"color: #800080; text-decoration-color: #800080; font-style: italic\">None</span>,\n",
       "    <span style=\"color: #008000; text-decoration-color: #008000\">'data'</span>: <span style=\"font-weight: bold\">{</span>\n",
       "        <span style=\"color: #008000; text-decoration-color: #008000\">'COLUMNS'</span>: <span style=\"font-weight: bold\">[</span>\n",
       "            <span style=\"color: #008000; text-decoration-color: #008000\">'No.'</span>,\n",
       "            <span style=\"color: #008000; text-decoration-color: #008000\">'Name'</span>,\n",
       "            <span style=\"color: #008000; text-decoration-color: #008000\">'Formula'</span>,\n",
       "            <span style=\"color: #008000; text-decoration-color: #008000\">'State'</span>,\n",
       "            <span style=\"color: #008000; text-decoration-color: #008000\">'molecular-weight'</span>,\n",
       "            <span style=\"color: #008000; text-decoration-color: #008000\">'critical-temperature'</span>,\n",
       "            <span style=\"color: #008000; text-decoration-color: #008000\">'critical-pressure'</span>,\n",
       "            <span style=\"color: #008000; text-decoration-color: #008000\">'critical-molar-volume'</span>,\n",
       "            <span style=\"color: #008000; text-decoration-color: #008000\">'critical-compressibility-factor'</span>,\n",
       "            <span style=\"color: #008000; text-decoration-color: #008000\">'acentric-factor'</span>,\n",
       "            <span style=\"color: #008000; text-decoration-color: #008000\">'enthalpy-of-formation'</span>,\n",
       "            <span style=\"color: #008000; text-decoration-color: #008000\">'gibbs-energy-of-formation'</span>\n",
       "        <span style=\"font-weight: bold\">]</span>,\n",
       "        <span style=\"color: #008000; text-decoration-color: #008000\">'SYMBOL'</span>: <span style=\"font-weight: bold\">[</span><span style=\"color: #008000; text-decoration-color: #008000\">'None'</span>, <span style=\"color: #008000; text-decoration-color: #008000\">'None'</span>, <span style=\"color: #008000; text-decoration-color: #008000\">'None'</span>, <span style=\"color: #008000; text-decoration-color: #008000\">'None'</span>, <span style=\"color: #008000; text-decoration-color: #008000\">'MW'</span>, <span style=\"color: #008000; text-decoration-color: #008000\">'Tc'</span>, <span style=\"color: #008000; text-decoration-color: #008000\">'Pc'</span>, <span style=\"color: #008000; text-decoration-color: #008000\">'Vc'</span>, <span style=\"color: #008000; text-decoration-color: #008000\">'Zc'</span>, <span style=\"color: #008000; text-decoration-color: #008000\">'AcFa'</span>, <span style=\"color: #008000; text-decoration-color: #008000\">'EnFo'</span>, <span style=\"color: #008000; text-decoration-color: #008000\">'GiEnFo'</span><span style=\"font-weight: bold\">]</span>,\n",
       "        <span style=\"color: #008000; text-decoration-color: #008000\">'UNIT'</span>: <span style=\"font-weight: bold\">[</span>\n",
       "            <span style=\"color: #008000; text-decoration-color: #008000\">'None'</span>,\n",
       "            <span style=\"color: #008000; text-decoration-color: #008000\">'None'</span>,\n",
       "            <span style=\"color: #008000; text-decoration-color: #008000\">'None'</span>,\n",
       "            <span style=\"color: #008000; text-decoration-color: #008000\">'None'</span>,\n",
       "            <span style=\"color: #008000; text-decoration-color: #008000\">'g/mol'</span>,\n",
       "            <span style=\"color: #008000; text-decoration-color: #008000\">'K'</span>,\n",
       "            <span style=\"color: #008000; text-decoration-color: #008000\">'MPa'</span>,\n",
       "            <span style=\"color: #008000; text-decoration-color: #008000\">'m3/kmol'</span>,\n",
       "            <span style=\"color: #008000; text-decoration-color: #008000\">'None'</span>,\n",
       "            <span style=\"color: #008000; text-decoration-color: #008000\">'None'</span>,\n",
       "            <span style=\"color: #008000; text-decoration-color: #008000\">'kJ/mol'</span>,\n",
       "            <span style=\"color: #008000; text-decoration-color: #008000\">'kJ/mol'</span>\n",
       "        <span style=\"font-weight: bold\">]</span>,\n",
       "        <span style=\"color: #008000; text-decoration-color: #008000\">'CONVERSION'</span>: <span style=\"font-weight: bold\">[</span><span style=\"color: #008000; text-decoration-color: #008000\">'None'</span>, <span style=\"color: #008000; text-decoration-color: #008000\">'None'</span>, <span style=\"color: #008000; text-decoration-color: #008000\">'None'</span>, <span style=\"color: #008000; text-decoration-color: #008000\">'None'</span>, <span style=\"color: #008080; text-decoration-color: #008080; font-weight: bold\">1</span>, <span style=\"color: #008080; text-decoration-color: #008080; font-weight: bold\">1</span>, <span style=\"color: #008080; text-decoration-color: #008080; font-weight: bold\">1</span>, <span style=\"color: #008080; text-decoration-color: #008080; font-weight: bold\">1</span>, <span style=\"color: #008080; text-decoration-color: #008080; font-weight: bold\">1</span>, <span style=\"color: #008080; text-decoration-color: #008080; font-weight: bold\">1</span>, <span style=\"color: #008080; text-decoration-color: #008080; font-weight: bold\">1</span>, <span style=\"color: #008080; text-decoration-color: #008080; font-weight: bold\">1</span><span style=\"font-weight: bold\">]</span>\n",
       "    <span style=\"font-weight: bold\">}</span>,\n",
       "    <span style=\"color: #008000; text-decoration-color: #008000\">'matrix_equations'</span>: <span style=\"color: #800080; text-decoration-color: #800080; font-style: italic\">None</span>,\n",
       "    <span style=\"color: #008000; text-decoration-color: #008000\">'matrix_data'</span>: <span style=\"color: #800080; text-decoration-color: #800080; font-style: italic\">None</span>\n",
       "<span style=\"font-weight: bold\">}</span>\n",
       "</pre>\n"
      ],
      "text/plain": [
       "\u001b[1m{\u001b[0m\n",
       "    \u001b[32m'table_id'\u001b[0m: \u001b[1;36m2\u001b[0m,\n",
       "    \u001b[32m'table'\u001b[0m: \u001b[32m'CO2 hydrogenation - General Data'\u001b[0m,\n",
       "    \u001b[32m'description'\u001b[0m: \u001b[32m'This table provides the general data of different chemical species participating in the CO2 \u001b[0m\n",
       "\u001b[32mhydrogenation reaction and includes molecular weight \u001b[0m\u001b[32m(\u001b[0m\u001b[32mMW\u001b[0m\u001b[32m)\u001b[0m\u001b[32m in g/mol, critical temperature \u001b[0m\u001b[32m(\u001b[0m\u001b[32mTc\u001b[0m\u001b[32m)\u001b[0m\u001b[32m in K, critical \u001b[0m\n",
       "\u001b[32mpressure \u001b[0m\u001b[32m(\u001b[0m\u001b[32mPc\u001b[0m\u001b[32m)\u001b[0m\u001b[32m in MPa, and critical molar volume \u001b[0m\u001b[32m(\u001b[0m\u001b[32mVc\u001b[0m\u001b[32m)\u001b[0m\u001b[32m in m3/kmol. The table also includes the critical \u001b[0m\n",
       "\u001b[32mcompressibility factor \u001b[0m\u001b[32m(\u001b[0m\u001b[32mZc\u001b[0m\u001b[32m)\u001b[0m\u001b[32m, acentric factor \u001b[0m\u001b[32m(\u001b[0m\u001b[32mAcFa\u001b[0m\u001b[32m)\u001b[0m\u001b[32m, enthalpy of formation \u001b[0m\u001b[32m(\u001b[0m\u001b[32mEnFo\u001b[0m\u001b[32m)\u001b[0m\u001b[32m in kJ/mol, and Gibbs energy of \u001b[0m\n",
       "\u001b[32mformation \u001b[0m\u001b[32m(\u001b[0m\u001b[32mGiEnFo\u001b[0m\u001b[32m)\u001b[0m\u001b[32m in kJ/mol. The chemical state of the species is also provided in the table and hence the \u001b[0m\n",
       "\u001b[32menthalpy of formation and Gibbs energy of formation are provided for the ideal gas and liquid state are designated \u001b[0m\n",
       "\u001b[32mas EnFo_IG, GiEnFo_IG, EnFo_LIQ, and GiEnFo_LIQ, respectively.'\u001b[0m,\n",
       "    \u001b[32m'equations'\u001b[0m: \u001b[3;35mNone\u001b[0m,\n",
       "    \u001b[32m'data'\u001b[0m: \u001b[1m{\u001b[0m\n",
       "        \u001b[32m'COLUMNS'\u001b[0m: \u001b[1m[\u001b[0m\n",
       "            \u001b[32m'No.'\u001b[0m,\n",
       "            \u001b[32m'Name'\u001b[0m,\n",
       "            \u001b[32m'Formula'\u001b[0m,\n",
       "            \u001b[32m'State'\u001b[0m,\n",
       "            \u001b[32m'molecular-weight'\u001b[0m,\n",
       "            \u001b[32m'critical-temperature'\u001b[0m,\n",
       "            \u001b[32m'critical-pressure'\u001b[0m,\n",
       "            \u001b[32m'critical-molar-volume'\u001b[0m,\n",
       "            \u001b[32m'critical-compressibility-factor'\u001b[0m,\n",
       "            \u001b[32m'acentric-factor'\u001b[0m,\n",
       "            \u001b[32m'enthalpy-of-formation'\u001b[0m,\n",
       "            \u001b[32m'gibbs-energy-of-formation'\u001b[0m\n",
       "        \u001b[1m]\u001b[0m,\n",
       "        \u001b[32m'SYMBOL'\u001b[0m: \u001b[1m[\u001b[0m\u001b[32m'None'\u001b[0m, \u001b[32m'None'\u001b[0m, \u001b[32m'None'\u001b[0m, \u001b[32m'None'\u001b[0m, \u001b[32m'MW'\u001b[0m, \u001b[32m'Tc'\u001b[0m, \u001b[32m'Pc'\u001b[0m, \u001b[32m'Vc'\u001b[0m, \u001b[32m'Zc'\u001b[0m, \u001b[32m'AcFa'\u001b[0m, \u001b[32m'EnFo'\u001b[0m, \u001b[32m'GiEnFo'\u001b[0m\u001b[1m]\u001b[0m,\n",
       "        \u001b[32m'UNIT'\u001b[0m: \u001b[1m[\u001b[0m\n",
       "            \u001b[32m'None'\u001b[0m,\n",
       "            \u001b[32m'None'\u001b[0m,\n",
       "            \u001b[32m'None'\u001b[0m,\n",
       "            \u001b[32m'None'\u001b[0m,\n",
       "            \u001b[32m'g/mol'\u001b[0m,\n",
       "            \u001b[32m'K'\u001b[0m,\n",
       "            \u001b[32m'MPa'\u001b[0m,\n",
       "            \u001b[32m'm3/kmol'\u001b[0m,\n",
       "            \u001b[32m'None'\u001b[0m,\n",
       "            \u001b[32m'None'\u001b[0m,\n",
       "            \u001b[32m'kJ/mol'\u001b[0m,\n",
       "            \u001b[32m'kJ/mol'\u001b[0m\n",
       "        \u001b[1m]\u001b[0m,\n",
       "        \u001b[32m'CONVERSION'\u001b[0m: \u001b[1m[\u001b[0m\u001b[32m'None'\u001b[0m, \u001b[32m'None'\u001b[0m, \u001b[32m'None'\u001b[0m, \u001b[32m'None'\u001b[0m, \u001b[1;36m1\u001b[0m, \u001b[1;36m1\u001b[0m, \u001b[1;36m1\u001b[0m, \u001b[1;36m1\u001b[0m, \u001b[1;36m1\u001b[0m, \u001b[1;36m1\u001b[0m, \u001b[1;36m1\u001b[0m, \u001b[1;36m1\u001b[0m\u001b[1m]\u001b[0m\n",
       "    \u001b[1m}\u001b[0m,\n",
       "    \u001b[32m'matrix_equations'\u001b[0m: \u001b[3;35mNone\u001b[0m,\n",
       "    \u001b[32m'matrix_data'\u001b[0m: \u001b[3;35mNone\u001b[0m\n",
       "\u001b[1m}\u001b[0m\n"
      ]
     },
     "metadata": {},
     "output_type": "display_data"
    }
   ],
   "source": [
    "tb_select = tdb.select_table(\n",
    "    \"CO2 Hydrogenation Reaction\", 2)\n",
    "print(tb_select)"
   ]
  },
  {
   "cell_type": "code",
   "execution_count": 9,
   "id": "b773754b",
   "metadata": {},
   "outputs": [
    {
     "data": {
      "application/vnd.microsoft.datawrangler.viewer.v0+json": {
       "columns": [
        {
         "name": "index",
         "rawType": "int64",
         "type": "integer"
        },
        {
         "name": "Table Name",
         "rawType": "object",
         "type": "string"
        },
        {
         "name": "Type",
         "rawType": "object",
         "type": "string"
        },
        {
         "name": "Equations",
         "rawType": "int64",
         "type": "integer"
        },
        {
         "name": "Data",
         "rawType": "int64",
         "type": "integer"
        },
        {
         "name": "Matrix-Equations",
         "rawType": "int64",
         "type": "integer"
        },
        {
         "name": "Matrix-Data",
         "rawType": "int64",
         "type": "integer"
        }
       ],
       "conversionMethod": "pd.DataFrame",
       "ref": "34960fcf-1ae2-4e1b-b6a7-23f845aa7fc5",
       "rows": [
        [
         "0",
         "CO2 hydrogenation - The Molar Heat Capacities of Gases in the Ideal Gas (Zero-Pressure) State",
         "Equation",
         "1",
         "0",
         "0",
         "0"
        ]
       ],
       "shape": {
        "columns": 6,
        "rows": 1
       }
      },
      "text/html": [
       "<div>\n",
       "<style scoped>\n",
       "    .dataframe tbody tr th:only-of-type {\n",
       "        vertical-align: middle;\n",
       "    }\n",
       "\n",
       "    .dataframe tbody tr th {\n",
       "        vertical-align: top;\n",
       "    }\n",
       "\n",
       "    .dataframe thead th {\n",
       "        text-align: right;\n",
       "    }\n",
       "</style>\n",
       "<table border=\"1\" class=\"dataframe\">\n",
       "  <thead>\n",
       "    <tr style=\"text-align: right;\">\n",
       "      <th></th>\n",
       "      <th>Table Name</th>\n",
       "      <th>Type</th>\n",
       "      <th>Equations</th>\n",
       "      <th>Data</th>\n",
       "      <th>Matrix-Equations</th>\n",
       "      <th>Matrix-Data</th>\n",
       "    </tr>\n",
       "  </thead>\n",
       "  <tbody>\n",
       "    <tr>\n",
       "      <th>0</th>\n",
       "      <td>CO2 hydrogenation - The Molar Heat Capacities ...</td>\n",
       "      <td>Equation</td>\n",
       "      <td>1</td>\n",
       "      <td>0</td>\n",
       "      <td>0</td>\n",
       "      <td>0</td>\n",
       "    </tr>\n",
       "  </tbody>\n",
       "</table>\n",
       "</div>"
      ],
      "text/plain": [
       "                                          Table Name      Type  Equations  \\\n",
       "0  CO2 hydrogenation - The Molar Heat Capacities ...  Equation          1   \n",
       "\n",
       "   Data  Matrix-Equations  Matrix-Data  \n",
       "0     0                 0            0  "
      ]
     },
     "execution_count": 9,
     "metadata": {},
     "output_type": "execute_result"
    }
   ],
   "source": [
    "# display a table\n",
    "tb_info = tdb.table_info(\"CO2 Hydrogenation Reaction\", 1)\n",
    "tb_info"
   ]
  },
  {
   "cell_type": "code",
   "execution_count": 10,
   "id": "81213b36",
   "metadata": {},
   "outputs": [
    {
     "data": {
      "text/html": [
       "<pre style=\"white-space:pre;overflow-x:auto;line-height:normal;font-family:Menlo,'DejaVu Sans Mono',consolas,'Courier New',monospace\"><span style=\"font-weight: bold\">{</span><span style=\"color: #008000; text-decoration-color: #008000\">\"Table Name\"</span>: <span style=\"color: #008000; text-decoration-color: #008000\">\"CO2 hydrogenation - The Molar Heat Capacities of Gases in the Ideal Gas (Zero-Pressure) State\"</span>, \n",
       "<span style=\"color: #008000; text-decoration-color: #008000\">\"Type\"</span>: <span style=\"color: #008000; text-decoration-color: #008000\">\"Equation\"</span>, <span style=\"color: #008000; text-decoration-color: #008000\">\"Equations\"</span>: <span style=\"color: #008080; text-decoration-color: #008080; font-weight: bold\">1</span>, <span style=\"color: #008000; text-decoration-color: #008000\">\"Data\"</span>: <span style=\"color: #008080; text-decoration-color: #008080; font-weight: bold\">0</span>, <span style=\"color: #008000; text-decoration-color: #008000\">\"Matrix-Equations\"</span>: <span style=\"color: #008080; text-decoration-color: #008080; font-weight: bold\">0</span>, <span style=\"color: #008000; text-decoration-color: #008000\">\"Matrix-Data\"</span>: <span style=\"color: #008080; text-decoration-color: #008080; font-weight: bold\">0</span><span style=\"font-weight: bold\">}</span>\n",
       "</pre>\n"
      ],
      "text/plain": [
       "\u001b[1m{\u001b[0m\u001b[32m\"Table Name\"\u001b[0m: \u001b[32m\"CO2 hydrogenation - The Molar Heat Capacities of Gases in the Ideal Gas \u001b[0m\u001b[32m(\u001b[0m\u001b[32mZero-Pressure\u001b[0m\u001b[32m)\u001b[0m\u001b[32m State\"\u001b[0m, \n",
       "\u001b[32m\"Type\"\u001b[0m: \u001b[32m\"Equation\"\u001b[0m, \u001b[32m\"Equations\"\u001b[0m: \u001b[1;36m1\u001b[0m, \u001b[32m\"Data\"\u001b[0m: \u001b[1;36m0\u001b[0m, \u001b[32m\"Matrix-Equations\"\u001b[0m: \u001b[1;36m0\u001b[0m, \u001b[32m\"Matrix-Data\"\u001b[0m: \u001b[1;36m0\u001b[0m\u001b[1m}\u001b[0m\n"
      ]
     },
     "metadata": {},
     "output_type": "display_data"
    }
   ],
   "source": [
    "tb_info = tdb.table_info(\"CO2 Hydrogenation Reaction\", 1, res_format='json')\n",
    "print(tb_info)"
   ]
  },
  {
   "cell_type": "markdown",
   "id": "dd4b81cb",
   "metadata": {},
   "source": [
    "# Load Tables"
   ]
  },
  {
   "cell_type": "markdown",
   "id": "765a38bf",
   "metadata": {},
   "source": [
    "## Equation"
   ]
  },
  {
   "cell_type": "code",
   "execution_count": 11,
   "id": "9c7bb2b4",
   "metadata": {},
   "outputs": [
    {
     "data": {
      "application/vnd.microsoft.datawrangler.viewer.v0+json": {
       "columns": [
        {
         "name": "index",
         "rawType": "int64",
         "type": "integer"
        },
        {
         "name": "No.",
         "rawType": "object",
         "type": "string"
        },
        {
         "name": "Name",
         "rawType": "object",
         "type": "string"
        },
        {
         "name": "Formula",
         "rawType": "object",
         "type": "string"
        },
        {
         "name": "State",
         "rawType": "object",
         "type": "string"
        },
        {
         "name": "a0",
         "rawType": "object",
         "type": "string"
        },
        {
         "name": "a1",
         "rawType": "object",
         "type": "string"
        },
        {
         "name": "a2",
         "rawType": "object",
         "type": "string"
        },
        {
         "name": "a3",
         "rawType": "object",
         "type": "string"
        },
        {
         "name": "a4",
         "rawType": "object",
         "type": "string"
        },
        {
         "name": "R",
         "rawType": "object",
         "type": "string"
        },
        {
         "name": "Eq",
         "rawType": "object",
         "type": "string"
        }
       ],
       "conversionMethod": "pd.DataFrame",
       "ref": "39ef1498-8703-48ae-bd62-da188c329fe3",
       "rows": [
        [
         "0",
         "-",
         "-",
         "-",
         "-",
         "a0",
         "a1",
         "a2",
         "a3",
         "a4",
         "R",
         "HeCa_IG"
        ],
        [
         "1",
         "-",
         "-",
         "-",
         "-",
         "1",
         "1.00E+03",
         "1.00E+05",
         "1.00E+08",
         "1.00E+11",
         "1.00E+00",
         "J/mol.K"
        ],
        [
         "2",
         "1",
         "carbon dioxide",
         "CO2",
         "g",
         "3.259",
         "1.356",
         "1.502",
         "-2.374",
         "1.056",
         "8.314",
         "1"
        ],
        [
         "3",
         "2",
         "carbon monoxide",
         "CO",
         "g",
         "3.912",
         "-3.913",
         "1.182",
         "-1.302",
         "0.515",
         "8.314",
         "1"
        ],
        [
         "4",
         "3",
         "hydrogen",
         "H2",
         "g",
         "2.883",
         "3.681",
         "-0.772",
         "0.692",
         "-0.213",
         "8.314",
         "1"
        ],
        [
         "5",
         "4",
         "methanol",
         "CH3OH",
         "g",
         "4.714",
         "-6.986",
         "4.211",
         "-4.443",
         "1.535",
         "8.314",
         "1"
        ],
        [
         "6",
         "5",
         "water",
         "H2O",
         "g",
         "4.395",
         "-4.186",
         "1.405",
         "-1.564",
         "0.632",
         "8.314",
         "1"
        ]
       ],
       "shape": {
        "columns": 11,
        "rows": 7
       }
      },
      "text/html": [
       "<div>\n",
       "<style scoped>\n",
       "    .dataframe tbody tr th:only-of-type {\n",
       "        vertical-align: middle;\n",
       "    }\n",
       "\n",
       "    .dataframe tbody tr th {\n",
       "        vertical-align: top;\n",
       "    }\n",
       "\n",
       "    .dataframe thead th {\n",
       "        text-align: right;\n",
       "    }\n",
       "</style>\n",
       "<table border=\"1\" class=\"dataframe\">\n",
       "  <thead>\n",
       "    <tr style=\"text-align: right;\">\n",
       "      <th></th>\n",
       "      <th>No.</th>\n",
       "      <th>Name</th>\n",
       "      <th>Formula</th>\n",
       "      <th>State</th>\n",
       "      <th>a0</th>\n",
       "      <th>a1</th>\n",
       "      <th>a2</th>\n",
       "      <th>a3</th>\n",
       "      <th>a4</th>\n",
       "      <th>R</th>\n",
       "      <th>Eq</th>\n",
       "    </tr>\n",
       "  </thead>\n",
       "  <tbody>\n",
       "    <tr>\n",
       "      <th>0</th>\n",
       "      <td>-</td>\n",
       "      <td>-</td>\n",
       "      <td>-</td>\n",
       "      <td>-</td>\n",
       "      <td>a0</td>\n",
       "      <td>a1</td>\n",
       "      <td>a2</td>\n",
       "      <td>a3</td>\n",
       "      <td>a4</td>\n",
       "      <td>R</td>\n",
       "      <td>HeCa_IG</td>\n",
       "    </tr>\n",
       "    <tr>\n",
       "      <th>1</th>\n",
       "      <td>-</td>\n",
       "      <td>-</td>\n",
       "      <td>-</td>\n",
       "      <td>-</td>\n",
       "      <td>1</td>\n",
       "      <td>1.00E+03</td>\n",
       "      <td>1.00E+05</td>\n",
       "      <td>1.00E+08</td>\n",
       "      <td>1.00E+11</td>\n",
       "      <td>1.00E+00</td>\n",
       "      <td>J/mol.K</td>\n",
       "    </tr>\n",
       "    <tr>\n",
       "      <th>2</th>\n",
       "      <td>1</td>\n",
       "      <td>carbon dioxide</td>\n",
       "      <td>CO2</td>\n",
       "      <td>g</td>\n",
       "      <td>3.259</td>\n",
       "      <td>1.356</td>\n",
       "      <td>1.502</td>\n",
       "      <td>-2.374</td>\n",
       "      <td>1.056</td>\n",
       "      <td>8.314</td>\n",
       "      <td>1</td>\n",
       "    </tr>\n",
       "    <tr>\n",
       "      <th>3</th>\n",
       "      <td>2</td>\n",
       "      <td>carbon monoxide</td>\n",
       "      <td>CO</td>\n",
       "      <td>g</td>\n",
       "      <td>3.912</td>\n",
       "      <td>-3.913</td>\n",
       "      <td>1.182</td>\n",
       "      <td>-1.302</td>\n",
       "      <td>0.515</td>\n",
       "      <td>8.314</td>\n",
       "      <td>1</td>\n",
       "    </tr>\n",
       "    <tr>\n",
       "      <th>4</th>\n",
       "      <td>3</td>\n",
       "      <td>hydrogen</td>\n",
       "      <td>H2</td>\n",
       "      <td>g</td>\n",
       "      <td>2.883</td>\n",
       "      <td>3.681</td>\n",
       "      <td>-0.772</td>\n",
       "      <td>0.692</td>\n",
       "      <td>-0.213</td>\n",
       "      <td>8.314</td>\n",
       "      <td>1</td>\n",
       "    </tr>\n",
       "    <tr>\n",
       "      <th>5</th>\n",
       "      <td>4</td>\n",
       "      <td>methanol</td>\n",
       "      <td>CH3OH</td>\n",
       "      <td>g</td>\n",
       "      <td>4.714</td>\n",
       "      <td>-6.986</td>\n",
       "      <td>4.211</td>\n",
       "      <td>-4.443</td>\n",
       "      <td>1.535</td>\n",
       "      <td>8.314</td>\n",
       "      <td>1</td>\n",
       "    </tr>\n",
       "    <tr>\n",
       "      <th>6</th>\n",
       "      <td>5</td>\n",
       "      <td>water</td>\n",
       "      <td>H2O</td>\n",
       "      <td>g</td>\n",
       "      <td>4.395</td>\n",
       "      <td>-4.186</td>\n",
       "      <td>1.405</td>\n",
       "      <td>-1.564</td>\n",
       "      <td>0.632</td>\n",
       "      <td>8.314</td>\n",
       "      <td>1</td>\n",
       "    </tr>\n",
       "  </tbody>\n",
       "</table>\n",
       "</div>"
      ],
      "text/plain": [
       "  No.             Name Formula State     a0        a1        a2        a3  \\\n",
       "0   -                -       -     -     a0        a1        a2        a3   \n",
       "1   -                -       -     -      1  1.00E+03  1.00E+05  1.00E+08   \n",
       "2   1   carbon dioxide     CO2     g  3.259     1.356     1.502    -2.374   \n",
       "3   2  carbon monoxide      CO     g  3.912    -3.913     1.182    -1.302   \n",
       "4   3         hydrogen      H2     g  2.883     3.681    -0.772     0.692   \n",
       "5   4         methanol   CH3OH     g  4.714    -6.986     4.211    -4.443   \n",
       "6   5            water     H2O     g  4.395    -4.186     1.405    -1.564   \n",
       "\n",
       "         a4         R       Eq  \n",
       "0        a4         R  HeCa_IG  \n",
       "1  1.00E+11  1.00E+00  J/mol.K  \n",
       "2     1.056     8.314        1  \n",
       "3     0.515     8.314        1  \n",
       "4    -0.213     8.314        1  \n",
       "5     1.535     8.314        1  \n",
       "6     0.632     8.314        1  "
      ]
     },
     "execution_count": 11,
     "metadata": {},
     "output_type": "execute_result"
    }
   ],
   "source": [
    "res_ = tdb.table_data(\"CO2 Hydrogenation Reaction\", 1)\n",
    "res_"
   ]
  },
  {
   "cell_type": "code",
   "execution_count": 13,
   "id": "452e849f",
   "metadata": {},
   "outputs": [
    {
     "data": {
      "text/html": [
       "<pre style=\"white-space:pre;overflow-x:auto;line-height:normal;font-family:Menlo,'DejaVu Sans Mono',consolas,'Courier New',monospace\"><span style=\"font-weight: bold\">&lt;</span><span style=\"color: #ff00ff; text-decoration-color: #ff00ff; font-weight: bold\">pyThermoDB.docs.tableequation.TableEquation</span><span style=\"color: #000000; text-decoration-color: #000000\"> object at </span><span style=\"color: #008080; text-decoration-color: #008080; font-weight: bold\">0x000002730A9BFED0</span><span style=\"font-weight: bold\">&gt;</span>\n",
       "</pre>\n"
      ],
      "text/plain": [
       "\u001b[1m<\u001b[0m\u001b[1;95mpyThermoDB.docs.tableequation.TableEquation\u001b[0m\u001b[39m object at \u001b[0m\u001b[1;36m0x000002730A9BFED0\u001b[0m\u001b[1m>\u001b[0m\n"
      ]
     },
     "metadata": {},
     "output_type": "display_data"
    }
   ],
   "source": [
    "# load equation to check\n",
    "res_heat_capacity = tdb.equation_load(\"CO2 Hydrogenation Reaction\", 1)\n",
    "print(res_heat_capacity)"
   ]
  },
  {
   "cell_type": "code",
   "execution_count": 14,
   "id": "82fc641d",
   "metadata": {},
   "outputs": [
    {
     "data": {
      "text/html": [
       "<pre style=\"white-space:pre;overflow-x:auto;line-height:normal;font-family:Menlo,'DejaVu Sans Mono',consolas,'Courier New',monospace\"><span style=\"font-weight: bold\">{</span>\n",
       "    <span style=\"color: #008000; text-decoration-color: #008000\">'id'</span>: <span style=\"color: #008080; text-decoration-color: #008080; font-weight: bold\">0</span>,\n",
       "    <span style=\"color: #008000; text-decoration-color: #008000\">'body'</span>: <span style=\"font-weight: bold\">[</span>\n",
       "        <span style=\"color: #008000; text-decoration-color: #008000\">\"res = (parms['a0'] + parms['a1']*args['T'] + parms['a2']*(args['T']**2) + parms['a3']*(args['T']**3) + </span>\n",
       "<span style=\"color: #008000; text-decoration-color: #008000\">parms['a4']*(args['T']**4))*parms['R']\"</span>\n",
       "    <span style=\"font-weight: bold\">]</span>,\n",
       "    <span style=\"color: #008000; text-decoration-color: #008000\">'args'</span>: <span style=\"font-weight: bold\">{</span><span style=\"color: #008000; text-decoration-color: #008000\">'temperature'</span>: <span style=\"font-weight: bold\">{</span><span style=\"color: #008000; text-decoration-color: #008000\">'name'</span>: <span style=\"color: #008000; text-decoration-color: #008000\">'temperature'</span>, <span style=\"color: #008000; text-decoration-color: #008000\">'symbol'</span>: <span style=\"color: #008000; text-decoration-color: #008000\">'T'</span>, <span style=\"color: #008000; text-decoration-color: #008000\">'unit'</span>: <span style=\"color: #008000; text-decoration-color: #008000\">'K'</span><span style=\"font-weight: bold\">}}</span>,\n",
       "    <span style=\"color: #008000; text-decoration-color: #008000\">'parms'</span>: <span style=\"font-weight: bold\">{</span>\n",
       "        <span style=\"color: #008000; text-decoration-color: #008000\">'a0'</span>: <span style=\"font-weight: bold\">{</span><span style=\"color: #008000; text-decoration-color: #008000\">'name'</span>: <span style=\"color: #008000; text-decoration-color: #008000\">'a0'</span>, <span style=\"color: #008000; text-decoration-color: #008000\">'symbol'</span>: <span style=\"color: #008000; text-decoration-color: #008000\">'a0'</span>, <span style=\"color: #008000; text-decoration-color: #008000\">'unit'</span>: <span style=\"color: #008080; text-decoration-color: #008080; font-weight: bold\">1</span>, <span style=\"color: #008000; text-decoration-color: #008000\">'conversion'</span>: <span style=\"color: #008080; text-decoration-color: #008080; font-weight: bold\">1</span><span style=\"font-weight: bold\">}</span>,\n",
       "        <span style=\"color: #008000; text-decoration-color: #008000\">'a1'</span>: <span style=\"font-weight: bold\">{</span><span style=\"color: #008000; text-decoration-color: #008000\">'name'</span>: <span style=\"color: #008000; text-decoration-color: #008000\">'a1'</span>, <span style=\"color: #008000; text-decoration-color: #008000\">'symbol'</span>: <span style=\"color: #008000; text-decoration-color: #008000\">'a1'</span>, <span style=\"color: #008000; text-decoration-color: #008000\">'unit'</span>: <span style=\"color: #008000; text-decoration-color: #008000\">'1E3'</span>, <span style=\"color: #008000; text-decoration-color: #008000\">'conversion'</span>: <span style=\"color: #008000; text-decoration-color: #008000\">'1E3'</span><span style=\"font-weight: bold\">}</span>,\n",
       "        <span style=\"color: #008000; text-decoration-color: #008000\">'a2'</span>: <span style=\"font-weight: bold\">{</span><span style=\"color: #008000; text-decoration-color: #008000\">'name'</span>: <span style=\"color: #008000; text-decoration-color: #008000\">'a2'</span>, <span style=\"color: #008000; text-decoration-color: #008000\">'symbol'</span>: <span style=\"color: #008000; text-decoration-color: #008000\">'a2'</span>, <span style=\"color: #008000; text-decoration-color: #008000\">'unit'</span>: <span style=\"color: #008000; text-decoration-color: #008000\">'1E5'</span>, <span style=\"color: #008000; text-decoration-color: #008000\">'conversion'</span>: <span style=\"color: #008000; text-decoration-color: #008000\">'1E5'</span><span style=\"font-weight: bold\">}</span>,\n",
       "        <span style=\"color: #008000; text-decoration-color: #008000\">'a3'</span>: <span style=\"font-weight: bold\">{</span><span style=\"color: #008000; text-decoration-color: #008000\">'name'</span>: <span style=\"color: #008000; text-decoration-color: #008000\">'a3'</span>, <span style=\"color: #008000; text-decoration-color: #008000\">'symbol'</span>: <span style=\"color: #008000; text-decoration-color: #008000\">'a3'</span>, <span style=\"color: #008000; text-decoration-color: #008000\">'unit'</span>: <span style=\"color: #008000; text-decoration-color: #008000\">'1E8'</span>, <span style=\"color: #008000; text-decoration-color: #008000\">'conversion'</span>: <span style=\"color: #008000; text-decoration-color: #008000\">'1E8'</span><span style=\"font-weight: bold\">}</span>,\n",
       "        <span style=\"color: #008000; text-decoration-color: #008000\">'a4'</span>: <span style=\"font-weight: bold\">{</span><span style=\"color: #008000; text-decoration-color: #008000\">'name'</span>: <span style=\"color: #008000; text-decoration-color: #008000\">'a4'</span>, <span style=\"color: #008000; text-decoration-color: #008000\">'symbol'</span>: <span style=\"color: #008000; text-decoration-color: #008000\">'a4'</span>, <span style=\"color: #008000; text-decoration-color: #008000\">'unit'</span>: <span style=\"color: #008000; text-decoration-color: #008000\">'1E11'</span>, <span style=\"color: #008000; text-decoration-color: #008000\">'conversion'</span>: <span style=\"color: #008000; text-decoration-color: #008000\">'1E11'</span><span style=\"font-weight: bold\">}</span>,\n",
       "        <span style=\"color: #008000; text-decoration-color: #008000\">'R'</span>: <span style=\"font-weight: bold\">{</span><span style=\"color: #008000; text-decoration-color: #008000\">'name'</span>: <span style=\"color: #008000; text-decoration-color: #008000\">'R'</span>, <span style=\"color: #008000; text-decoration-color: #008000\">'symbol'</span>: <span style=\"color: #008000; text-decoration-color: #008000\">'R'</span>, <span style=\"color: #008000; text-decoration-color: #008000\">'unit'</span>: <span style=\"color: #008000; text-decoration-color: #008000\">'J/mol.K'</span>, <span style=\"color: #008000; text-decoration-color: #008000\">'conversion'</span>: <span style=\"color: #008080; text-decoration-color: #008080; font-weight: bold\">1</span><span style=\"font-weight: bold\">}</span>\n",
       "    <span style=\"font-weight: bold\">}</span>,\n",
       "    <span style=\"color: #008000; text-decoration-color: #008000\">'return'</span>: <span style=\"font-weight: bold\">{</span>\n",
       "        <span style=\"color: #008000; text-decoration-color: #008000\">'heat_capacity_ideal_gas'</span>: <span style=\"font-weight: bold\">{</span><span style=\"color: #008000; text-decoration-color: #008000\">'name'</span>: <span style=\"color: #008000; text-decoration-color: #008000\">'heat capacity of ideal gas'</span>, <span style=\"color: #008000; text-decoration-color: #008000\">'symbol'</span>: <span style=\"color: #008000; text-decoration-color: #008000\">'Cp_IG'</span>, <span style=\"color: #008000; text-decoration-color: #008000\">'unit'</span>: <span style=\"color: #008000; text-decoration-color: #008000\">'J/mol.K'</span><span style=\"font-weight: bold\">}</span>\n",
       "    <span style=\"font-weight: bold\">}</span>,\n",
       "    <span style=\"color: #008000; text-decoration-color: #008000\">'body_integral'</span>: <span style=\"font-weight: bold\">[</span>\n",
       "        <span style=\"color: #008000; text-decoration-color: #008000\">\"A1 = parms['a0']*args['T1']\"</span>,\n",
       "        <span style=\"color: #008000; text-decoration-color: #008000\">\"B1 = (parms['a1']/2)*(args['T1']**2)\"</span>,\n",
       "        <span style=\"color: #008000; text-decoration-color: #008000\">\"C1 = (parms['a2']/3)*(args['T1']**3)\"</span>,\n",
       "        <span style=\"color: #008000; text-decoration-color: #008000\">\"D1 = (parms['a3']/4)*(args['T1']**4)\"</span>,\n",
       "        <span style=\"color: #008000; text-decoration-color: #008000\">\"E1 = (parms['a4']/5)*(args['T1']**5)\"</span>,\n",
       "        <span style=\"color: #008000; text-decoration-color: #008000\">'res1 =  A1 + B1 + C1 + D1 + E1'</span>,\n",
       "        <span style=\"color: #008000; text-decoration-color: #008000\">\"A2 = parms['a0']*args['T2']\"</span>,\n",
       "        <span style=\"color: #008000; text-decoration-color: #008000\">\"B2 = (parms['a1']/2)*(args['T2']**2)\"</span>,\n",
       "        <span style=\"color: #008000; text-decoration-color: #008000\">\"C2 = (parms['a2']/3)*(args['T2']**3)\"</span>,\n",
       "        <span style=\"color: #008000; text-decoration-color: #008000\">\"D2 = (parms['a3']/4)*(args['T2']**4)\"</span>,\n",
       "        <span style=\"color: #008000; text-decoration-color: #008000\">\"E2 = (parms['a4']/5)*(args['T2']**5)\"</span>,\n",
       "        <span style=\"color: #008000; text-decoration-color: #008000\">'res2 =  A2 + B2 + C2 + D2 + E2'</span>,\n",
       "        <span style=\"color: #008000; text-decoration-color: #008000\">\"res = parms['R']*(res2 - res1)\"</span>\n",
       "    <span style=\"font-weight: bold\">]</span>,\n",
       "    <span style=\"color: #008000; text-decoration-color: #008000\">'body_first_derivative'</span>: <span style=\"font-weight: bold\">[</span>\n",
       "        <span style=\"color: #008000; text-decoration-color: #008000\">\"res = parms['R']*(parms['a1'] + 2*parms['a2']*args['T'] + 3*parms['a3']*(args['T']**2) + </span>\n",
       "<span style=\"color: #008000; text-decoration-color: #008000\">4*parms['a4']*(args['T']**3))\"</span>\n",
       "    <span style=\"font-weight: bold\">]</span>,\n",
       "    <span style=\"color: #008000; text-decoration-color: #008000\">'body_second_derivative'</span>: <span style=\"font-weight: bold\">[</span>\n",
       "        <span style=\"color: #008000; text-decoration-color: #008000\">\"res = parms['R']*(2*parms['a2'] + 6*parms['a3']*args['T'] + 12*parms['a4']*(args['T']**2))\"</span>\n",
       "    <span style=\"font-weight: bold\">]</span>,\n",
       "    <span style=\"color: #008000; text-decoration-color: #008000\">'custom_integral'</span>: <span style=\"color: #800080; text-decoration-color: #800080; font-style: italic\">None</span>\n",
       "<span style=\"font-weight: bold\">}</span>\n",
       "</pre>\n"
      ],
      "text/plain": [
       "\u001b[1m{\u001b[0m\n",
       "    \u001b[32m'id'\u001b[0m: \u001b[1;36m0\u001b[0m,\n",
       "    \u001b[32m'body'\u001b[0m: \u001b[1m[\u001b[0m\n",
       "        \u001b[32m\"res = \u001b[0m\u001b[32m(\u001b[0m\u001b[32mparms\u001b[0m\u001b[32m[\u001b[0m\u001b[32m'a0'\u001b[0m\u001b[32m]\u001b[0m\u001b[32m + parms\u001b[0m\u001b[32m[\u001b[0m\u001b[32m'a1'\u001b[0m\u001b[32m]\u001b[0m\u001b[32m*args\u001b[0m\u001b[32m[\u001b[0m\u001b[32m'T'\u001b[0m\u001b[32m]\u001b[0m\u001b[32m + parms\u001b[0m\u001b[32m[\u001b[0m\u001b[32m'a2'\u001b[0m\u001b[32m]\u001b[0m\u001b[32m*\u001b[0m\u001b[32m(\u001b[0m\u001b[32margs\u001b[0m\u001b[32m[\u001b[0m\u001b[32m'T'\u001b[0m\u001b[32m]\u001b[0m\u001b[32m**2\u001b[0m\u001b[32m)\u001b[0m\u001b[32m + parms\u001b[0m\u001b[32m[\u001b[0m\u001b[32m'a3'\u001b[0m\u001b[32m]\u001b[0m\u001b[32m*\u001b[0m\u001b[32m(\u001b[0m\u001b[32margs\u001b[0m\u001b[32m[\u001b[0m\u001b[32m'T'\u001b[0m\u001b[32m]\u001b[0m\u001b[32m**3\u001b[0m\u001b[32m)\u001b[0m\u001b[32m + \u001b[0m\n",
       "\u001b[32mparms\u001b[0m\u001b[32m[\u001b[0m\u001b[32m'a4'\u001b[0m\u001b[32m]\u001b[0m\u001b[32m*\u001b[0m\u001b[32m(\u001b[0m\u001b[32margs\u001b[0m\u001b[32m[\u001b[0m\u001b[32m'T'\u001b[0m\u001b[32m]\u001b[0m\u001b[32m**4\u001b[0m\u001b[32m)\u001b[0m\u001b[32m)\u001b[0m\u001b[32m*parms\u001b[0m\u001b[32m[\u001b[0m\u001b[32m'R'\u001b[0m\u001b[32m]\u001b[0m\u001b[32m\"\u001b[0m\n",
       "    \u001b[1m]\u001b[0m,\n",
       "    \u001b[32m'args'\u001b[0m: \u001b[1m{\u001b[0m\u001b[32m'temperature'\u001b[0m: \u001b[1m{\u001b[0m\u001b[32m'name'\u001b[0m: \u001b[32m'temperature'\u001b[0m, \u001b[32m'symbol'\u001b[0m: \u001b[32m'T'\u001b[0m, \u001b[32m'unit'\u001b[0m: \u001b[32m'K'\u001b[0m\u001b[1m}\u001b[0m\u001b[1m}\u001b[0m,\n",
       "    \u001b[32m'parms'\u001b[0m: \u001b[1m{\u001b[0m\n",
       "        \u001b[32m'a0'\u001b[0m: \u001b[1m{\u001b[0m\u001b[32m'name'\u001b[0m: \u001b[32m'a0'\u001b[0m, \u001b[32m'symbol'\u001b[0m: \u001b[32m'a0'\u001b[0m, \u001b[32m'unit'\u001b[0m: \u001b[1;36m1\u001b[0m, \u001b[32m'conversion'\u001b[0m: \u001b[1;36m1\u001b[0m\u001b[1m}\u001b[0m,\n",
       "        \u001b[32m'a1'\u001b[0m: \u001b[1m{\u001b[0m\u001b[32m'name'\u001b[0m: \u001b[32m'a1'\u001b[0m, \u001b[32m'symbol'\u001b[0m: \u001b[32m'a1'\u001b[0m, \u001b[32m'unit'\u001b[0m: \u001b[32m'1E3'\u001b[0m, \u001b[32m'conversion'\u001b[0m: \u001b[32m'1E3'\u001b[0m\u001b[1m}\u001b[0m,\n",
       "        \u001b[32m'a2'\u001b[0m: \u001b[1m{\u001b[0m\u001b[32m'name'\u001b[0m: \u001b[32m'a2'\u001b[0m, \u001b[32m'symbol'\u001b[0m: \u001b[32m'a2'\u001b[0m, \u001b[32m'unit'\u001b[0m: \u001b[32m'1E5'\u001b[0m, \u001b[32m'conversion'\u001b[0m: \u001b[32m'1E5'\u001b[0m\u001b[1m}\u001b[0m,\n",
       "        \u001b[32m'a3'\u001b[0m: \u001b[1m{\u001b[0m\u001b[32m'name'\u001b[0m: \u001b[32m'a3'\u001b[0m, \u001b[32m'symbol'\u001b[0m: \u001b[32m'a3'\u001b[0m, \u001b[32m'unit'\u001b[0m: \u001b[32m'1E8'\u001b[0m, \u001b[32m'conversion'\u001b[0m: \u001b[32m'1E8'\u001b[0m\u001b[1m}\u001b[0m,\n",
       "        \u001b[32m'a4'\u001b[0m: \u001b[1m{\u001b[0m\u001b[32m'name'\u001b[0m: \u001b[32m'a4'\u001b[0m, \u001b[32m'symbol'\u001b[0m: \u001b[32m'a4'\u001b[0m, \u001b[32m'unit'\u001b[0m: \u001b[32m'1E11'\u001b[0m, \u001b[32m'conversion'\u001b[0m: \u001b[32m'1E11'\u001b[0m\u001b[1m}\u001b[0m,\n",
       "        \u001b[32m'R'\u001b[0m: \u001b[1m{\u001b[0m\u001b[32m'name'\u001b[0m: \u001b[32m'R'\u001b[0m, \u001b[32m'symbol'\u001b[0m: \u001b[32m'R'\u001b[0m, \u001b[32m'unit'\u001b[0m: \u001b[32m'J/mol.K'\u001b[0m, \u001b[32m'conversion'\u001b[0m: \u001b[1;36m1\u001b[0m\u001b[1m}\u001b[0m\n",
       "    \u001b[1m}\u001b[0m,\n",
       "    \u001b[32m'return'\u001b[0m: \u001b[1m{\u001b[0m\n",
       "        \u001b[32m'heat_capacity_ideal_gas'\u001b[0m: \u001b[1m{\u001b[0m\u001b[32m'name'\u001b[0m: \u001b[32m'heat capacity of ideal gas'\u001b[0m, \u001b[32m'symbol'\u001b[0m: \u001b[32m'Cp_IG'\u001b[0m, \u001b[32m'unit'\u001b[0m: \u001b[32m'J/mol.K'\u001b[0m\u001b[1m}\u001b[0m\n",
       "    \u001b[1m}\u001b[0m,\n",
       "    \u001b[32m'body_integral'\u001b[0m: \u001b[1m[\u001b[0m\n",
       "        \u001b[32m\"A1 = parms\u001b[0m\u001b[32m[\u001b[0m\u001b[32m'a0'\u001b[0m\u001b[32m]\u001b[0m\u001b[32m*args\u001b[0m\u001b[32m[\u001b[0m\u001b[32m'T1'\u001b[0m\u001b[32m]\u001b[0m\u001b[32m\"\u001b[0m,\n",
       "        \u001b[32m\"B1 = \u001b[0m\u001b[32m(\u001b[0m\u001b[32mparms\u001b[0m\u001b[32m[\u001b[0m\u001b[32m'a1'\u001b[0m\u001b[32m]\u001b[0m\u001b[32m/2\u001b[0m\u001b[32m)\u001b[0m\u001b[32m*\u001b[0m\u001b[32m(\u001b[0m\u001b[32margs\u001b[0m\u001b[32m[\u001b[0m\u001b[32m'T1'\u001b[0m\u001b[32m]\u001b[0m\u001b[32m**2\u001b[0m\u001b[32m)\u001b[0m\u001b[32m\"\u001b[0m,\n",
       "        \u001b[32m\"C1 = \u001b[0m\u001b[32m(\u001b[0m\u001b[32mparms\u001b[0m\u001b[32m[\u001b[0m\u001b[32m'a2'\u001b[0m\u001b[32m]\u001b[0m\u001b[32m/3\u001b[0m\u001b[32m)\u001b[0m\u001b[32m*\u001b[0m\u001b[32m(\u001b[0m\u001b[32margs\u001b[0m\u001b[32m[\u001b[0m\u001b[32m'T1'\u001b[0m\u001b[32m]\u001b[0m\u001b[32m**3\u001b[0m\u001b[32m)\u001b[0m\u001b[32m\"\u001b[0m,\n",
       "        \u001b[32m\"D1 = \u001b[0m\u001b[32m(\u001b[0m\u001b[32mparms\u001b[0m\u001b[32m[\u001b[0m\u001b[32m'a3'\u001b[0m\u001b[32m]\u001b[0m\u001b[32m/4\u001b[0m\u001b[32m)\u001b[0m\u001b[32m*\u001b[0m\u001b[32m(\u001b[0m\u001b[32margs\u001b[0m\u001b[32m[\u001b[0m\u001b[32m'T1'\u001b[0m\u001b[32m]\u001b[0m\u001b[32m**4\u001b[0m\u001b[32m)\u001b[0m\u001b[32m\"\u001b[0m,\n",
       "        \u001b[32m\"E1 = \u001b[0m\u001b[32m(\u001b[0m\u001b[32mparms\u001b[0m\u001b[32m[\u001b[0m\u001b[32m'a4'\u001b[0m\u001b[32m]\u001b[0m\u001b[32m/5\u001b[0m\u001b[32m)\u001b[0m\u001b[32m*\u001b[0m\u001b[32m(\u001b[0m\u001b[32margs\u001b[0m\u001b[32m[\u001b[0m\u001b[32m'T1'\u001b[0m\u001b[32m]\u001b[0m\u001b[32m**5\u001b[0m\u001b[32m)\u001b[0m\u001b[32m\"\u001b[0m,\n",
       "        \u001b[32m'res1 =  A1 + B1 + C1 + D1 + E1'\u001b[0m,\n",
       "        \u001b[32m\"A2 = parms\u001b[0m\u001b[32m[\u001b[0m\u001b[32m'a0'\u001b[0m\u001b[32m]\u001b[0m\u001b[32m*args\u001b[0m\u001b[32m[\u001b[0m\u001b[32m'T2'\u001b[0m\u001b[32m]\u001b[0m\u001b[32m\"\u001b[0m,\n",
       "        \u001b[32m\"B2 = \u001b[0m\u001b[32m(\u001b[0m\u001b[32mparms\u001b[0m\u001b[32m[\u001b[0m\u001b[32m'a1'\u001b[0m\u001b[32m]\u001b[0m\u001b[32m/2\u001b[0m\u001b[32m)\u001b[0m\u001b[32m*\u001b[0m\u001b[32m(\u001b[0m\u001b[32margs\u001b[0m\u001b[32m[\u001b[0m\u001b[32m'T2'\u001b[0m\u001b[32m]\u001b[0m\u001b[32m**2\u001b[0m\u001b[32m)\u001b[0m\u001b[32m\"\u001b[0m,\n",
       "        \u001b[32m\"C2 = \u001b[0m\u001b[32m(\u001b[0m\u001b[32mparms\u001b[0m\u001b[32m[\u001b[0m\u001b[32m'a2'\u001b[0m\u001b[32m]\u001b[0m\u001b[32m/3\u001b[0m\u001b[32m)\u001b[0m\u001b[32m*\u001b[0m\u001b[32m(\u001b[0m\u001b[32margs\u001b[0m\u001b[32m[\u001b[0m\u001b[32m'T2'\u001b[0m\u001b[32m]\u001b[0m\u001b[32m**3\u001b[0m\u001b[32m)\u001b[0m\u001b[32m\"\u001b[0m,\n",
       "        \u001b[32m\"D2 = \u001b[0m\u001b[32m(\u001b[0m\u001b[32mparms\u001b[0m\u001b[32m[\u001b[0m\u001b[32m'a3'\u001b[0m\u001b[32m]\u001b[0m\u001b[32m/4\u001b[0m\u001b[32m)\u001b[0m\u001b[32m*\u001b[0m\u001b[32m(\u001b[0m\u001b[32margs\u001b[0m\u001b[32m[\u001b[0m\u001b[32m'T2'\u001b[0m\u001b[32m]\u001b[0m\u001b[32m**4\u001b[0m\u001b[32m)\u001b[0m\u001b[32m\"\u001b[0m,\n",
       "        \u001b[32m\"E2 = \u001b[0m\u001b[32m(\u001b[0m\u001b[32mparms\u001b[0m\u001b[32m[\u001b[0m\u001b[32m'a4'\u001b[0m\u001b[32m]\u001b[0m\u001b[32m/5\u001b[0m\u001b[32m)\u001b[0m\u001b[32m*\u001b[0m\u001b[32m(\u001b[0m\u001b[32margs\u001b[0m\u001b[32m[\u001b[0m\u001b[32m'T2'\u001b[0m\u001b[32m]\u001b[0m\u001b[32m**5\u001b[0m\u001b[32m)\u001b[0m\u001b[32m\"\u001b[0m,\n",
       "        \u001b[32m'res2 =  A2 + B2 + C2 + D2 + E2'\u001b[0m,\n",
       "        \u001b[32m\"res = parms\u001b[0m\u001b[32m[\u001b[0m\u001b[32m'R'\u001b[0m\u001b[32m]\u001b[0m\u001b[32m*\u001b[0m\u001b[32m(\u001b[0m\u001b[32mres2 - res1\u001b[0m\u001b[32m)\u001b[0m\u001b[32m\"\u001b[0m\n",
       "    \u001b[1m]\u001b[0m,\n",
       "    \u001b[32m'body_first_derivative'\u001b[0m: \u001b[1m[\u001b[0m\n",
       "        \u001b[32m\"res = parms\u001b[0m\u001b[32m[\u001b[0m\u001b[32m'R'\u001b[0m\u001b[32m]\u001b[0m\u001b[32m*\u001b[0m\u001b[32m(\u001b[0m\u001b[32mparms\u001b[0m\u001b[32m[\u001b[0m\u001b[32m'a1'\u001b[0m\u001b[32m]\u001b[0m\u001b[32m + 2*parms\u001b[0m\u001b[32m[\u001b[0m\u001b[32m'a2'\u001b[0m\u001b[32m]\u001b[0m\u001b[32m*args\u001b[0m\u001b[32m[\u001b[0m\u001b[32m'T'\u001b[0m\u001b[32m]\u001b[0m\u001b[32m + 3*parms\u001b[0m\u001b[32m[\u001b[0m\u001b[32m'a3'\u001b[0m\u001b[32m]\u001b[0m\u001b[32m*\u001b[0m\u001b[32m(\u001b[0m\u001b[32margs\u001b[0m\u001b[32m[\u001b[0m\u001b[32m'T'\u001b[0m\u001b[32m]\u001b[0m\u001b[32m**2\u001b[0m\u001b[32m)\u001b[0m\u001b[32m + \u001b[0m\n",
       "\u001b[32m4*parms\u001b[0m\u001b[32m[\u001b[0m\u001b[32m'a4'\u001b[0m\u001b[32m]\u001b[0m\u001b[32m*\u001b[0m\u001b[32m(\u001b[0m\u001b[32margs\u001b[0m\u001b[32m[\u001b[0m\u001b[32m'T'\u001b[0m\u001b[32m]\u001b[0m\u001b[32m**3\u001b[0m\u001b[32m)\u001b[0m\u001b[32m)\u001b[0m\u001b[32m\"\u001b[0m\n",
       "    \u001b[1m]\u001b[0m,\n",
       "    \u001b[32m'body_second_derivative'\u001b[0m: \u001b[1m[\u001b[0m\n",
       "        \u001b[32m\"res = parms\u001b[0m\u001b[32m[\u001b[0m\u001b[32m'R'\u001b[0m\u001b[32m]\u001b[0m\u001b[32m*\u001b[0m\u001b[32m(\u001b[0m\u001b[32m2*parms\u001b[0m\u001b[32m[\u001b[0m\u001b[32m'a2'\u001b[0m\u001b[32m]\u001b[0m\u001b[32m + 6*parms\u001b[0m\u001b[32m[\u001b[0m\u001b[32m'a3'\u001b[0m\u001b[32m]\u001b[0m\u001b[32m*args\u001b[0m\u001b[32m[\u001b[0m\u001b[32m'T'\u001b[0m\u001b[32m]\u001b[0m\u001b[32m + 12*parms\u001b[0m\u001b[32m[\u001b[0m\u001b[32m'a4'\u001b[0m\u001b[32m]\u001b[0m\u001b[32m*\u001b[0m\u001b[32m(\u001b[0m\u001b[32margs\u001b[0m\u001b[32m[\u001b[0m\u001b[32m'T'\u001b[0m\u001b[32m]\u001b[0m\u001b[32m**2\u001b[0m\u001b[32m)\u001b[0m\u001b[32m)\u001b[0m\u001b[32m\"\u001b[0m\n",
       "    \u001b[1m]\u001b[0m,\n",
       "    \u001b[32m'custom_integral'\u001b[0m: \u001b[3;35mNone\u001b[0m\n",
       "\u001b[1m}\u001b[0m\n"
      ]
     },
     "metadata": {},
     "output_type": "display_data"
    }
   ],
   "source": [
    "print(res_heat_capacity.eq_structure(1))"
   ]
  },
  {
   "cell_type": "markdown",
   "id": "214987bc",
   "metadata": {},
   "source": [
    "## Data"
   ]
  },
  {
   "cell_type": "code",
   "execution_count": 15,
   "id": "36fb33e7",
   "metadata": {},
   "outputs": [
    {
     "data": {
      "application/vnd.microsoft.datawrangler.viewer.v0+json": {
       "columns": [
        {
         "name": "index",
         "rawType": "int64",
         "type": "integer"
        },
        {
         "name": "No.",
         "rawType": "object",
         "type": "string"
        },
        {
         "name": "Name",
         "rawType": "object",
         "type": "string"
        },
        {
         "name": "Formula",
         "rawType": "object",
         "type": "string"
        },
        {
         "name": "State",
         "rawType": "object",
         "type": "string"
        },
        {
         "name": "MW",
         "rawType": "object",
         "type": "string"
        },
        {
         "name": "critical temperature",
         "rawType": "object",
         "type": "string"
        },
        {
         "name": "Pc",
         "rawType": "object",
         "type": "string"
        },
        {
         "name": "Vc",
         "rawType": "object",
         "type": "string"
        },
        {
         "name": "Zc",
         "rawType": "object",
         "type": "string"
        },
        {
         "name": "AcFa",
         "rawType": "object",
         "type": "string"
        },
        {
         "name": "dHf_IG",
         "rawType": "object",
         "type": "string"
        },
        {
         "name": "dGf_IG",
         "rawType": "object",
         "type": "string"
        }
       ],
       "conversionMethod": "pd.DataFrame",
       "ref": "89ba9988-b5d8-414a-a6f8-d5a087f0bdec",
       "rows": [
        [
         "0",
         "-",
         "-",
         "-",
         "-",
         "MW",
         "Tc",
         "Pc",
         "Vc",
         "Zc",
         "AcFa",
         "dHf_IG",
         "dGf_IG"
        ],
        [
         "1",
         "-",
         "-",
         "-",
         "-",
         "g/mol",
         "K",
         "MPa",
         "m3/kmol",
         "1",
         "1",
         "kJ/mol",
         "kJ/mol"
        ],
        [
         "2",
         "1",
         "carbon dioxide",
         "CO2",
         "g",
         "44.01",
         "304.21",
         "7.383",
         "0.094",
         "0.274",
         "0.2236",
         "-393.5",
         "-394.4"
        ],
        [
         "3",
         "2",
         "carbon monoxide",
         "CO",
         "g",
         "28.01",
         "132.92",
         "3.499",
         "0.0944",
         "0.299",
         "0.0482",
         "-110.5",
         "-137.2"
        ],
        [
         "4",
         "3",
         "hydrogen",
         "H2",
         "g",
         "2.016",
         "33.19",
         "1.313",
         "0.064147",
         "0.305",
         "-0.216",
         "0",
         "0"
        ],
        [
         "5",
         "4",
         "methanol",
         "CH3OH",
         "g",
         "32.04",
         "512.5",
         "8.084",
         "0.117",
         "0.222",
         "0.5658",
         "-200.7",
         "-162"
        ],
        [
         "6",
         "5",
         "water",
         "H2O",
         "g",
         "18.01",
         "647.096",
         "22.064",
         "0.0559472",
         "0.229",
         "0.3449",
         "-241.8",
         "-228.6"
        ]
       ],
       "shape": {
        "columns": 12,
        "rows": 7
       }
      },
      "text/html": [
       "<div>\n",
       "<style scoped>\n",
       "    .dataframe tbody tr th:only-of-type {\n",
       "        vertical-align: middle;\n",
       "    }\n",
       "\n",
       "    .dataframe tbody tr th {\n",
       "        vertical-align: top;\n",
       "    }\n",
       "\n",
       "    .dataframe thead th {\n",
       "        text-align: right;\n",
       "    }\n",
       "</style>\n",
       "<table border=\"1\" class=\"dataframe\">\n",
       "  <thead>\n",
       "    <tr style=\"text-align: right;\">\n",
       "      <th></th>\n",
       "      <th>No.</th>\n",
       "      <th>Name</th>\n",
       "      <th>Formula</th>\n",
       "      <th>State</th>\n",
       "      <th>MW</th>\n",
       "      <th>critical temperature</th>\n",
       "      <th>Pc</th>\n",
       "      <th>Vc</th>\n",
       "      <th>Zc</th>\n",
       "      <th>AcFa</th>\n",
       "      <th>dHf_IG</th>\n",
       "      <th>dGf_IG</th>\n",
       "    </tr>\n",
       "  </thead>\n",
       "  <tbody>\n",
       "    <tr>\n",
       "      <th>0</th>\n",
       "      <td>-</td>\n",
       "      <td>-</td>\n",
       "      <td>-</td>\n",
       "      <td>-</td>\n",
       "      <td>MW</td>\n",
       "      <td>Tc</td>\n",
       "      <td>Pc</td>\n",
       "      <td>Vc</td>\n",
       "      <td>Zc</td>\n",
       "      <td>AcFa</td>\n",
       "      <td>dHf_IG</td>\n",
       "      <td>dGf_IG</td>\n",
       "    </tr>\n",
       "    <tr>\n",
       "      <th>1</th>\n",
       "      <td>-</td>\n",
       "      <td>-</td>\n",
       "      <td>-</td>\n",
       "      <td>-</td>\n",
       "      <td>g/mol</td>\n",
       "      <td>K</td>\n",
       "      <td>MPa</td>\n",
       "      <td>m3/kmol</td>\n",
       "      <td>1</td>\n",
       "      <td>1</td>\n",
       "      <td>kJ/mol</td>\n",
       "      <td>kJ/mol</td>\n",
       "    </tr>\n",
       "    <tr>\n",
       "      <th>2</th>\n",
       "      <td>1</td>\n",
       "      <td>carbon dioxide</td>\n",
       "      <td>CO2</td>\n",
       "      <td>g</td>\n",
       "      <td>44.01</td>\n",
       "      <td>304.21</td>\n",
       "      <td>7.383</td>\n",
       "      <td>0.094</td>\n",
       "      <td>0.274</td>\n",
       "      <td>0.2236</td>\n",
       "      <td>-393.5</td>\n",
       "      <td>-394.4</td>\n",
       "    </tr>\n",
       "    <tr>\n",
       "      <th>3</th>\n",
       "      <td>2</td>\n",
       "      <td>carbon monoxide</td>\n",
       "      <td>CO</td>\n",
       "      <td>g</td>\n",
       "      <td>28.01</td>\n",
       "      <td>132.92</td>\n",
       "      <td>3.499</td>\n",
       "      <td>0.0944</td>\n",
       "      <td>0.299</td>\n",
       "      <td>0.0482</td>\n",
       "      <td>-110.5</td>\n",
       "      <td>-137.2</td>\n",
       "    </tr>\n",
       "    <tr>\n",
       "      <th>4</th>\n",
       "      <td>3</td>\n",
       "      <td>hydrogen</td>\n",
       "      <td>H2</td>\n",
       "      <td>g</td>\n",
       "      <td>2.016</td>\n",
       "      <td>33.19</td>\n",
       "      <td>1.313</td>\n",
       "      <td>0.064147</td>\n",
       "      <td>0.305</td>\n",
       "      <td>-0.216</td>\n",
       "      <td>0</td>\n",
       "      <td>0</td>\n",
       "    </tr>\n",
       "    <tr>\n",
       "      <th>5</th>\n",
       "      <td>4</td>\n",
       "      <td>methanol</td>\n",
       "      <td>CH3OH</td>\n",
       "      <td>g</td>\n",
       "      <td>32.04</td>\n",
       "      <td>512.5</td>\n",
       "      <td>8.084</td>\n",
       "      <td>0.117</td>\n",
       "      <td>0.222</td>\n",
       "      <td>0.5658</td>\n",
       "      <td>-200.7</td>\n",
       "      <td>-162</td>\n",
       "    </tr>\n",
       "    <tr>\n",
       "      <th>6</th>\n",
       "      <td>5</td>\n",
       "      <td>water</td>\n",
       "      <td>H2O</td>\n",
       "      <td>g</td>\n",
       "      <td>18.01</td>\n",
       "      <td>647.096</td>\n",
       "      <td>22.064</td>\n",
       "      <td>0.0559472</td>\n",
       "      <td>0.229</td>\n",
       "      <td>0.3449</td>\n",
       "      <td>-241.8</td>\n",
       "      <td>-228.6</td>\n",
       "    </tr>\n",
       "  </tbody>\n",
       "</table>\n",
       "</div>"
      ],
      "text/plain": [
       "  No.             Name Formula State     MW critical temperature      Pc  \\\n",
       "0   -                -       -     -     MW                   Tc      Pc   \n",
       "1   -                -       -     -  g/mol                    K     MPa   \n",
       "2   1   carbon dioxide     CO2     g  44.01               304.21   7.383   \n",
       "3   2  carbon monoxide      CO     g  28.01               132.92   3.499   \n",
       "4   3         hydrogen      H2     g  2.016                33.19   1.313   \n",
       "5   4         methanol   CH3OH     g  32.04                512.5   8.084   \n",
       "6   5            water     H2O     g  18.01              647.096  22.064   \n",
       "\n",
       "          Vc     Zc    AcFa  dHf_IG  dGf_IG  \n",
       "0         Vc     Zc    AcFa  dHf_IG  dGf_IG  \n",
       "1    m3/kmol      1       1  kJ/mol  kJ/mol  \n",
       "2      0.094  0.274  0.2236  -393.5  -394.4  \n",
       "3     0.0944  0.299  0.0482  -110.5  -137.2  \n",
       "4   0.064147  0.305  -0.216       0       0  \n",
       "5      0.117  0.222  0.5658  -200.7    -162  \n",
       "6  0.0559472  0.229  0.3449  -241.8  -228.6  "
      ]
     },
     "execution_count": 15,
     "metadata": {},
     "output_type": "execute_result"
    }
   ],
   "source": [
    "res_ = tdb.table_data(\"CO2 Hydrogenation Reaction\", 2)\n",
    "res_"
   ]
  },
  {
   "cell_type": "code",
   "execution_count": 16,
   "id": "4e6717db",
   "metadata": {},
   "outputs": [
    {
     "data": {
      "text/html": [
       "<pre style=\"white-space:pre;overflow-x:auto;line-height:normal;font-family:Menlo,'DejaVu Sans Mono',consolas,'Courier New',monospace\"><span style=\"font-weight: bold\">&lt;</span><span style=\"color: #ff00ff; text-decoration-color: #ff00ff; font-weight: bold\">pyThermoDB.docs.tabledata.TableData</span><span style=\"color: #000000; text-decoration-color: #000000\"> object at </span><span style=\"color: #008080; text-decoration-color: #008080; font-weight: bold\">0x000002730AA167B0</span><span style=\"font-weight: bold\">&gt;</span>\n",
       "</pre>\n"
      ],
      "text/plain": [
       "\u001b[1m<\u001b[0m\u001b[1;95mpyThermoDB.docs.tabledata.TableData\u001b[0m\u001b[39m object at \u001b[0m\u001b[1;36m0x000002730AA167B0\u001b[0m\u001b[1m>\u001b[0m\n"
      ]
     },
     "metadata": {},
     "output_type": "display_data"
    }
   ],
   "source": [
    "# load data to check\n",
    "data_table = tdb.data_load(\"CO2 Hydrogenation Reaction\", 2)\n",
    "print(data_table)"
   ]
  },
  {
   "cell_type": "code",
   "execution_count": 17,
   "id": "830a8415",
   "metadata": {},
   "outputs": [
    {
     "data": {
      "text/html": [
       "<pre style=\"white-space:pre;overflow-x:auto;line-height:normal;font-family:Menlo,'DejaVu Sans Mono',consolas,'Courier New',monospace\">                            COLUMNS  SYMBOL     UNIT CONVERSION  ID\n",
       "<span style=\"color: #008080; text-decoration-color: #008080; font-weight: bold\">0</span>                               No.    <span style=\"color: #800080; text-decoration-color: #800080; font-style: italic\">None</span>     <span style=\"color: #800080; text-decoration-color: #800080; font-style: italic\">None</span>       <span style=\"color: #800080; text-decoration-color: #800080; font-style: italic\">None</span>   <span style=\"color: #008080; text-decoration-color: #008080; font-weight: bold\">1</span>\n",
       "<span style=\"color: #008080; text-decoration-color: #008080; font-weight: bold\">1</span>                              Name    <span style=\"color: #800080; text-decoration-color: #800080; font-style: italic\">None</span>     <span style=\"color: #800080; text-decoration-color: #800080; font-style: italic\">None</span>       <span style=\"color: #800080; text-decoration-color: #800080; font-style: italic\">None</span>   <span style=\"color: #008080; text-decoration-color: #008080; font-weight: bold\">2</span>\n",
       "<span style=\"color: #008080; text-decoration-color: #008080; font-weight: bold\">2</span>                           Formula    <span style=\"color: #800080; text-decoration-color: #800080; font-style: italic\">None</span>     <span style=\"color: #800080; text-decoration-color: #800080; font-style: italic\">None</span>       <span style=\"color: #800080; text-decoration-color: #800080; font-style: italic\">None</span>   <span style=\"color: #008080; text-decoration-color: #008080; font-weight: bold\">3</span>\n",
       "<span style=\"color: #008080; text-decoration-color: #008080; font-weight: bold\">3</span>                             State    <span style=\"color: #800080; text-decoration-color: #800080; font-style: italic\">None</span>     <span style=\"color: #800080; text-decoration-color: #800080; font-style: italic\">None</span>       <span style=\"color: #800080; text-decoration-color: #800080; font-style: italic\">None</span>   <span style=\"color: #008080; text-decoration-color: #008080; font-weight: bold\">4</span>\n",
       "<span style=\"color: #008080; text-decoration-color: #008080; font-weight: bold\">4</span>                  molecular-weight      MW    g/mol          <span style=\"color: #008080; text-decoration-color: #008080; font-weight: bold\">1</span>   <span style=\"color: #008080; text-decoration-color: #008080; font-weight: bold\">5</span>\n",
       "<span style=\"color: #008080; text-decoration-color: #008080; font-weight: bold\">5</span>              critical-temperature      Tc        K          <span style=\"color: #008080; text-decoration-color: #008080; font-weight: bold\">1</span>   <span style=\"color: #008080; text-decoration-color: #008080; font-weight: bold\">6</span>\n",
       "<span style=\"color: #008080; text-decoration-color: #008080; font-weight: bold\">6</span>                 critical-pressure      Pc      MPa          <span style=\"color: #008080; text-decoration-color: #008080; font-weight: bold\">1</span>   <span style=\"color: #008080; text-decoration-color: #008080; font-weight: bold\">7</span>\n",
       "<span style=\"color: #008080; text-decoration-color: #008080; font-weight: bold\">7</span>             critical-molar-volume      Vc  m3/kmol          <span style=\"color: #008080; text-decoration-color: #008080; font-weight: bold\">1</span>   <span style=\"color: #008080; text-decoration-color: #008080; font-weight: bold\">8</span>\n",
       "<span style=\"color: #008080; text-decoration-color: #008080; font-weight: bold\">8</span>   critical-compressibility-factor      Zc     <span style=\"color: #800080; text-decoration-color: #800080; font-style: italic\">None</span>          <span style=\"color: #008080; text-decoration-color: #008080; font-weight: bold\">1</span>   <span style=\"color: #008080; text-decoration-color: #008080; font-weight: bold\">9</span>\n",
       "<span style=\"color: #008080; text-decoration-color: #008080; font-weight: bold\">9</span>                   acentric-factor    AcFa     <span style=\"color: #800080; text-decoration-color: #800080; font-style: italic\">None</span>          <span style=\"color: #008080; text-decoration-color: #008080; font-weight: bold\">1</span>  <span style=\"color: #008080; text-decoration-color: #008080; font-weight: bold\">10</span>\n",
       "<span style=\"color: #008080; text-decoration-color: #008080; font-weight: bold\">10</span>            enthalpy-of-formation    EnFo   kJ/mol          <span style=\"color: #008080; text-decoration-color: #008080; font-weight: bold\">1</span>  <span style=\"color: #008080; text-decoration-color: #008080; font-weight: bold\">11</span>\n",
       "<span style=\"color: #008080; text-decoration-color: #008080; font-weight: bold\">11</span>        gibbs-energy-of-formation  GiEnFo   kJ/mol          <span style=\"color: #008080; text-decoration-color: #008080; font-weight: bold\">1</span>  <span style=\"color: #008080; text-decoration-color: #008080; font-weight: bold\">12</span>\n",
       "</pre>\n"
      ],
      "text/plain": [
       "                            COLUMNS  SYMBOL     UNIT CONVERSION  ID\n",
       "\u001b[1;36m0\u001b[0m                               No.    \u001b[3;35mNone\u001b[0m     \u001b[3;35mNone\u001b[0m       \u001b[3;35mNone\u001b[0m   \u001b[1;36m1\u001b[0m\n",
       "\u001b[1;36m1\u001b[0m                              Name    \u001b[3;35mNone\u001b[0m     \u001b[3;35mNone\u001b[0m       \u001b[3;35mNone\u001b[0m   \u001b[1;36m2\u001b[0m\n",
       "\u001b[1;36m2\u001b[0m                           Formula    \u001b[3;35mNone\u001b[0m     \u001b[3;35mNone\u001b[0m       \u001b[3;35mNone\u001b[0m   \u001b[1;36m3\u001b[0m\n",
       "\u001b[1;36m3\u001b[0m                             State    \u001b[3;35mNone\u001b[0m     \u001b[3;35mNone\u001b[0m       \u001b[3;35mNone\u001b[0m   \u001b[1;36m4\u001b[0m\n",
       "\u001b[1;36m4\u001b[0m                  molecular-weight      MW    g/mol          \u001b[1;36m1\u001b[0m   \u001b[1;36m5\u001b[0m\n",
       "\u001b[1;36m5\u001b[0m              critical-temperature      Tc        K          \u001b[1;36m1\u001b[0m   \u001b[1;36m6\u001b[0m\n",
       "\u001b[1;36m6\u001b[0m                 critical-pressure      Pc      MPa          \u001b[1;36m1\u001b[0m   \u001b[1;36m7\u001b[0m\n",
       "\u001b[1;36m7\u001b[0m             critical-molar-volume      Vc  m3/kmol          \u001b[1;36m1\u001b[0m   \u001b[1;36m8\u001b[0m\n",
       "\u001b[1;36m8\u001b[0m   critical-compressibility-factor      Zc     \u001b[3;35mNone\u001b[0m          \u001b[1;36m1\u001b[0m   \u001b[1;36m9\u001b[0m\n",
       "\u001b[1;36m9\u001b[0m                   acentric-factor    AcFa     \u001b[3;35mNone\u001b[0m          \u001b[1;36m1\u001b[0m  \u001b[1;36m10\u001b[0m\n",
       "\u001b[1;36m10\u001b[0m            enthalpy-of-formation    EnFo   kJ/mol          \u001b[1;36m1\u001b[0m  \u001b[1;36m11\u001b[0m\n",
       "\u001b[1;36m11\u001b[0m        gibbs-energy-of-formation  GiEnFo   kJ/mol          \u001b[1;36m1\u001b[0m  \u001b[1;36m12\u001b[0m\n"
      ]
     },
     "metadata": {},
     "output_type": "display_data"
    }
   ],
   "source": [
    "print(data_table.data_structure())"
   ]
  },
  {
   "cell_type": "markdown",
   "id": "9a089ed8",
   "metadata": {},
   "source": [
    "# Check Component Availability in a Table"
   ]
  },
  {
   "cell_type": "code",
   "execution_count": 36,
   "id": "7582bd44",
   "metadata": {},
   "outputs": [],
   "source": [
    "# check component availability in the databook and table\n",
    "comp1 = \"sina\""
   ]
  },
  {
   "cell_type": "code",
   "execution_count": 41,
   "id": "6038a022",
   "metadata": {},
   "outputs": [
    {
     "data": {
      "text/html": [
       "<pre style=\"white-space:pre;overflow-x:auto;line-height:normal;font-family:Menlo,'DejaVu Sans Mono',consolas,'Courier New',monospace\"><span style=\"font-weight: bold\">{</span>\n",
       "    <span style=\"color: #008000; text-decoration-color: #008000\">\"databook_id\"</span>: <span style=\"color: #008080; text-decoration-color: #008080; font-weight: bold\">4</span>,\n",
       "    <span style=\"color: #008000; text-decoration-color: #008000\">\"table_id\"</span>: <span style=\"color: #008080; text-decoration-color: #008080; font-weight: bold\">2</span>,\n",
       "    <span style=\"color: #008000; text-decoration-color: #008000\">\"component_name\"</span>: <span style=\"color: #008000; text-decoration-color: #008000\">\"sina\"</span>,\n",
       "    <span style=\"color: #008000; text-decoration-color: #008000\">\"availability\"</span>: false\n",
       "<span style=\"font-weight: bold\">}</span>\n",
       "</pre>\n"
      ],
      "text/plain": [
       "\u001b[1m{\u001b[0m\n",
       "    \u001b[32m\"databook_id\"\u001b[0m: \u001b[1;36m4\u001b[0m,\n",
       "    \u001b[32m\"table_id\"\u001b[0m: \u001b[1;36m2\u001b[0m,\n",
       "    \u001b[32m\"component_name\"\u001b[0m: \u001b[32m\"sina\"\u001b[0m,\n",
       "    \u001b[32m\"availability\"\u001b[0m: false\n",
       "\u001b[1m}\u001b[0m\n"
      ]
     },
     "metadata": {},
     "output_type": "display_data"
    },
    {
     "data": {
      "text/html": [
       "<pre style=\"white-space:pre;overflow-x:auto;line-height:normal;font-family:Menlo,'DejaVu Sans Mono',consolas,'Courier New',monospace\"><span style=\"font-weight: bold\">{</span><span style=\"color: #008000; text-decoration-color: #008000\">'databook_id'</span>: <span style=\"color: #008080; text-decoration-color: #008080; font-weight: bold\">4</span>, <span style=\"color: #008000; text-decoration-color: #008000\">'table_id'</span>: <span style=\"color: #008080; text-decoration-color: #008080; font-weight: bold\">2</span>, <span style=\"color: #008000; text-decoration-color: #008000\">'component_name'</span>: <span style=\"color: #008000; text-decoration-color: #008000\">'sina'</span>, <span style=\"color: #008000; text-decoration-color: #008000\">'availability'</span>: <span style=\"color: #ff0000; text-decoration-color: #ff0000; font-style: italic\">False</span><span style=\"font-weight: bold\">}</span>\n",
       "</pre>\n"
      ],
      "text/plain": [
       "\u001b[1m{\u001b[0m\u001b[32m'databook_id'\u001b[0m: \u001b[1;36m4\u001b[0m, \u001b[32m'table_id'\u001b[0m: \u001b[1;36m2\u001b[0m, \u001b[32m'component_name'\u001b[0m: \u001b[32m'sina'\u001b[0m, \u001b[32m'availability'\u001b[0m: \u001b[3;91mFalse\u001b[0m\u001b[1m}\u001b[0m\n"
      ]
     },
     "metadata": {},
     "output_type": "display_data"
    }
   ],
   "source": [
    "# check component\n",
    "check_availability_ = tdb.check_component(comp1,\n",
    "                                             \"CO2 Hydrogenation Reaction\", 2)\n",
    "print(check_availability_)\n",
    "check_availability_ = json.loads(check_availability_)\n",
    "print(check_availability_)"
   ]
  },
  {
   "cell_type": "code",
   "execution_count": 43,
   "id": "7bd95e1a",
   "metadata": {},
   "outputs": [
    {
     "data": {
      "text/html": [
       "<pre style=\"white-space:pre;overflow-x:auto;line-height:normal;font-family:Menlo,'DejaVu Sans Mono',consolas,'Courier New',monospace\">Component <span style=\"color: #008000; text-decoration-color: #008000\">'carbon dioxide'</span> is available in table-<span style=\"color: #008080; text-decoration-color: #008080; font-weight: bold\">1</span> - CO2 hydrogenation - The Molar Heat Capacities of Gases in the \n",
       "Ideal Gas <span style=\"font-weight: bold\">(</span>Zero-Pressure<span style=\"font-weight: bold\">)</span> State.\n",
       "</pre>\n"
      ],
      "text/plain": [
       "Component \u001b[32m'carbon dioxide'\u001b[0m is available in table-\u001b[1;36m1\u001b[0m - CO2 hydrogenation - The Molar Heat Capacities of Gases in the \n",
       "Ideal Gas \u001b[1m(\u001b[0mZero-Pressure\u001b[1m)\u001b[0m State.\n"
      ]
     },
     "metadata": {},
     "output_type": "display_data"
    },
    {
     "data": {
      "text/html": [
       "<pre style=\"white-space:pre;overflow-x:auto;line-height:normal;font-family:Menlo,'DejaVu Sans Mono',consolas,'Courier New',monospace\">Component <span style=\"color: #008000; text-decoration-color: #008000\">'carbon dioxide'</span> is available in table-<span style=\"color: #008080; text-decoration-color: #008080; font-weight: bold\">2</span> - CO2 hydrogenation - General Data.\n",
       "</pre>\n"
      ],
      "text/plain": [
       "Component \u001b[32m'carbon dioxide'\u001b[0m is available in table-\u001b[1;36m2\u001b[0m - CO2 hydrogenation - General Data.\n"
      ]
     },
     "metadata": {},
     "output_type": "display_data"
    },
    {
     "data": {
      "text/html": [
       "<pre style=\"white-space:pre;overflow-x:auto;line-height:normal;font-family:Menlo,'DejaVu Sans Mono',consolas,'Courier New',monospace\">Component <span style=\"color: #008000; text-decoration-color: #008000\">'carbon dioxide'</span> is available in table-<span style=\"color: #008080; text-decoration-color: #008080; font-weight: bold\">3</span> - CO2 hydrogenation - Vapor Pressure.\n",
       "</pre>\n"
      ],
      "text/plain": [
       "Component \u001b[32m'carbon dioxide'\u001b[0m is available in table-\u001b[1;36m3\u001b[0m - CO2 hydrogenation - Vapor Pressure.\n"
      ]
     },
     "metadata": {},
     "output_type": "display_data"
    },
    {
     "data": {
      "text/html": [
       "<pre style=\"white-space:pre;overflow-x:auto;line-height:normal;font-family:Menlo,'DejaVu Sans Mono',consolas,'Courier New',monospace\">--------------------------------------------------\n",
       "</pre>\n"
      ],
      "text/plain": [
       "--------------------------------------------------\n"
      ]
     },
     "metadata": {},
     "output_type": "display_data"
    },
    {
     "data": {
      "text/html": [
       "<pre style=\"white-space:pre;overflow-x:auto;line-height:normal;font-family:Menlo,'DejaVu Sans Mono',consolas,'Courier New',monospace\">Component <span style=\"color: #008000; text-decoration-color: #008000\">'methanol'</span> is available in table-<span style=\"color: #008080; text-decoration-color: #008080; font-weight: bold\">1</span> - CO2 hydrogenation - The Molar Heat Capacities of Gases in the Ideal \n",
       "Gas <span style=\"font-weight: bold\">(</span>Zero-Pressure<span style=\"font-weight: bold\">)</span> State.\n",
       "</pre>\n"
      ],
      "text/plain": [
       "Component \u001b[32m'methanol'\u001b[0m is available in table-\u001b[1;36m1\u001b[0m - CO2 hydrogenation - The Molar Heat Capacities of Gases in the Ideal \n",
       "Gas \u001b[1m(\u001b[0mZero-Pressure\u001b[1m)\u001b[0m State.\n"
      ]
     },
     "metadata": {},
     "output_type": "display_data"
    },
    {
     "data": {
      "text/html": [
       "<pre style=\"white-space:pre;overflow-x:auto;line-height:normal;font-family:Menlo,'DejaVu Sans Mono',consolas,'Courier New',monospace\">Component <span style=\"color: #008000; text-decoration-color: #008000\">'methanol'</span> is available in table-<span style=\"color: #008080; text-decoration-color: #008080; font-weight: bold\">2</span> - CO2 hydrogenation - General Data.\n",
       "</pre>\n"
      ],
      "text/plain": [
       "Component \u001b[32m'methanol'\u001b[0m is available in table-\u001b[1;36m2\u001b[0m - CO2 hydrogenation - General Data.\n"
      ]
     },
     "metadata": {},
     "output_type": "display_data"
    },
    {
     "data": {
      "text/html": [
       "<pre style=\"white-space:pre;overflow-x:auto;line-height:normal;font-family:Menlo,'DejaVu Sans Mono',consolas,'Courier New',monospace\">Component <span style=\"color: #008000; text-decoration-color: #008000\">'methanol'</span> is available in table-<span style=\"color: #008080; text-decoration-color: #008080; font-weight: bold\">3</span> - CO2 hydrogenation - Vapor Pressure.\n",
       "</pre>\n"
      ],
      "text/plain": [
       "Component \u001b[32m'methanol'\u001b[0m is available in table-\u001b[1;36m3\u001b[0m - CO2 hydrogenation - Vapor Pressure.\n"
      ]
     },
     "metadata": {},
     "output_type": "display_data"
    },
    {
     "data": {
      "text/html": [
       "<pre style=\"white-space:pre;overflow-x:auto;line-height:normal;font-family:Menlo,'DejaVu Sans Mono',consolas,'Courier New',monospace\">--------------------------------------------------\n",
       "</pre>\n"
      ],
      "text/plain": [
       "--------------------------------------------------\n"
      ]
     },
     "metadata": {},
     "output_type": "display_data"
    },
    {
     "data": {
      "text/html": [
       "<pre style=\"white-space:pre;overflow-x:auto;line-height:normal;font-family:Menlo,'DejaVu Sans Mono',consolas,'Courier New',monospace\">Component <span style=\"color: #008000; text-decoration-color: #008000\">'water'</span> is available in table-<span style=\"color: #008080; text-decoration-color: #008080; font-weight: bold\">1</span> - CO2 hydrogenation - The Molar Heat Capacities of Gases in the Ideal Gas\n",
       "<span style=\"font-weight: bold\">(</span>Zero-Pressure<span style=\"font-weight: bold\">)</span> State.\n",
       "</pre>\n"
      ],
      "text/plain": [
       "Component \u001b[32m'water'\u001b[0m is available in table-\u001b[1;36m1\u001b[0m - CO2 hydrogenation - The Molar Heat Capacities of Gases in the Ideal Gas\n",
       "\u001b[1m(\u001b[0mZero-Pressure\u001b[1m)\u001b[0m State.\n"
      ]
     },
     "metadata": {},
     "output_type": "display_data"
    },
    {
     "data": {
      "text/html": [
       "<pre style=\"white-space:pre;overflow-x:auto;line-height:normal;font-family:Menlo,'DejaVu Sans Mono',consolas,'Courier New',monospace\">Component <span style=\"color: #008000; text-decoration-color: #008000\">'water'</span> is available in table-<span style=\"color: #008080; text-decoration-color: #008080; font-weight: bold\">2</span> - CO2 hydrogenation - General Data.\n",
       "</pre>\n"
      ],
      "text/plain": [
       "Component \u001b[32m'water'\u001b[0m is available in table-\u001b[1;36m2\u001b[0m - CO2 hydrogenation - General Data.\n"
      ]
     },
     "metadata": {},
     "output_type": "display_data"
    },
    {
     "data": {
      "text/html": [
       "<pre style=\"white-space:pre;overflow-x:auto;line-height:normal;font-family:Menlo,'DejaVu Sans Mono',consolas,'Courier New',monospace\">Component <span style=\"color: #008000; text-decoration-color: #008000\">'water'</span> is available in table-<span style=\"color: #008080; text-decoration-color: #008080; font-weight: bold\">3</span> - CO2 hydrogenation - Vapor Pressure.\n",
       "</pre>\n"
      ],
      "text/plain": [
       "Component \u001b[32m'water'\u001b[0m is available in table-\u001b[1;36m3\u001b[0m - CO2 hydrogenation - Vapor Pressure.\n"
      ]
     },
     "metadata": {},
     "output_type": "display_data"
    },
    {
     "data": {
      "text/html": [
       "<pre style=\"white-space:pre;overflow-x:auto;line-height:normal;font-family:Menlo,'DejaVu Sans Mono',consolas,'Courier New',monospace\">--------------------------------------------------\n",
       "</pre>\n"
      ],
      "text/plain": [
       "--------------------------------------------------\n"
      ]
     },
     "metadata": {},
     "output_type": "display_data"
    },
    {
     "data": {
      "text/html": [
       "<pre style=\"white-space:pre;overflow-x:auto;line-height:normal;font-family:Menlo,'DejaVu Sans Mono',consolas,'Courier New',monospace\">Component <span style=\"color: #008000; text-decoration-color: #008000\">'carbon monoxide'</span> is available in table-<span style=\"color: #008080; text-decoration-color: #008080; font-weight: bold\">1</span> - CO2 hydrogenation - The Molar Heat Capacities of Gases in the\n",
       "Ideal Gas <span style=\"font-weight: bold\">(</span>Zero-Pressure<span style=\"font-weight: bold\">)</span> State.\n",
       "</pre>\n"
      ],
      "text/plain": [
       "Component \u001b[32m'carbon monoxide'\u001b[0m is available in table-\u001b[1;36m1\u001b[0m - CO2 hydrogenation - The Molar Heat Capacities of Gases in the\n",
       "Ideal Gas \u001b[1m(\u001b[0mZero-Pressure\u001b[1m)\u001b[0m State.\n"
      ]
     },
     "metadata": {},
     "output_type": "display_data"
    },
    {
     "data": {
      "text/html": [
       "<pre style=\"white-space:pre;overflow-x:auto;line-height:normal;font-family:Menlo,'DejaVu Sans Mono',consolas,'Courier New',monospace\">Component <span style=\"color: #008000; text-decoration-color: #008000\">'carbon monoxide'</span> is available in table-<span style=\"color: #008080; text-decoration-color: #008080; font-weight: bold\">2</span> - CO2 hydrogenation - General Data.\n",
       "</pre>\n"
      ],
      "text/plain": [
       "Component \u001b[32m'carbon monoxide'\u001b[0m is available in table-\u001b[1;36m2\u001b[0m - CO2 hydrogenation - General Data.\n"
      ]
     },
     "metadata": {},
     "output_type": "display_data"
    },
    {
     "data": {
      "text/html": [
       "<pre style=\"white-space:pre;overflow-x:auto;line-height:normal;font-family:Menlo,'DejaVu Sans Mono',consolas,'Courier New',monospace\">Component <span style=\"color: #008000; text-decoration-color: #008000\">'carbon monoxide'</span> is available in table-<span style=\"color: #008080; text-decoration-color: #008080; font-weight: bold\">3</span> - CO2 hydrogenation - Vapor Pressure.\n",
       "</pre>\n"
      ],
      "text/plain": [
       "Component \u001b[32m'carbon monoxide'\u001b[0m is available in table-\u001b[1;36m3\u001b[0m - CO2 hydrogenation - Vapor Pressure.\n"
      ]
     },
     "metadata": {},
     "output_type": "display_data"
    },
    {
     "data": {
      "text/html": [
       "<pre style=\"white-space:pre;overflow-x:auto;line-height:normal;font-family:Menlo,'DejaVu Sans Mono',consolas,'Courier New',monospace\">--------------------------------------------------\n",
       "</pre>\n"
      ],
      "text/plain": [
       "--------------------------------------------------\n"
      ]
     },
     "metadata": {},
     "output_type": "display_data"
    },
    {
     "data": {
      "text/html": [
       "<pre style=\"white-space:pre;overflow-x:auto;line-height:normal;font-family:Menlo,'DejaVu Sans Mono',consolas,'Courier New',monospace\"><span style=\"color: #800000; text-decoration-color: #800000; font-weight: bold\">Component </span><span style=\"color: #800000; text-decoration-color: #800000; font-weight: bold\">'ethanol'</span><span style=\"color: #800000; text-decoration-color: #800000; font-weight: bold\"> is NOT available in table-</span><span style=\"color: #800000; text-decoration-color: #800000; font-weight: bold\">1</span><span style=\"color: #800000; text-decoration-color: #800000; font-weight: bold\"> - CO2 hydrogenation - The Molar Heat Capacities of Gases in the </span>\n",
       "<span style=\"color: #800000; text-decoration-color: #800000; font-weight: bold\">Ideal Gas (Zero-Pressure) State.</span>\n",
       "</pre>\n"
      ],
      "text/plain": [
       "\u001b[1;31mComponent \u001b[0m\u001b[1;31m'ethanol'\u001b[0m\u001b[1;31m is NOT available in table-\u001b[0m\u001b[1;31m1\u001b[0m\u001b[1;31m - CO2 hydrogenation - The Molar Heat Capacities of Gases in the \u001b[0m\n",
       "\u001b[1;31mIdeal Gas \u001b[0m\u001b[1;31m(\u001b[0m\u001b[1;31mZero-Pressure\u001b[0m\u001b[1;31m)\u001b[0m\u001b[1;31m State.\u001b[0m\n"
      ]
     },
     "metadata": {},
     "output_type": "display_data"
    },
    {
     "data": {
      "text/html": [
       "<pre style=\"white-space:pre;overflow-x:auto;line-height:normal;font-family:Menlo,'DejaVu Sans Mono',consolas,'Courier New',monospace\"><span style=\"color: #800000; text-decoration-color: #800000; font-weight: bold\">Component </span><span style=\"color: #800000; text-decoration-color: #800000; font-weight: bold\">'ethanol'</span><span style=\"color: #800000; text-decoration-color: #800000; font-weight: bold\"> is NOT available in table-</span><span style=\"color: #800000; text-decoration-color: #800000; font-weight: bold\">2</span><span style=\"color: #800000; text-decoration-color: #800000; font-weight: bold\"> - CO2 hydrogenation - General Data.</span>\n",
       "</pre>\n"
      ],
      "text/plain": [
       "\u001b[1;31mComponent \u001b[0m\u001b[1;31m'ethanol'\u001b[0m\u001b[1;31m is NOT available in table-\u001b[0m\u001b[1;31m2\u001b[0m\u001b[1;31m - CO2 hydrogenation - General Data.\u001b[0m\n"
      ]
     },
     "metadata": {},
     "output_type": "display_data"
    },
    {
     "data": {
      "text/html": [
       "<pre style=\"white-space:pre;overflow-x:auto;line-height:normal;font-family:Menlo,'DejaVu Sans Mono',consolas,'Courier New',monospace\"><span style=\"color: #800000; text-decoration-color: #800000; font-weight: bold\">Component </span><span style=\"color: #800000; text-decoration-color: #800000; font-weight: bold\">'ethanol'</span><span style=\"color: #800000; text-decoration-color: #800000; font-weight: bold\"> is NOT available in table-</span><span style=\"color: #800000; text-decoration-color: #800000; font-weight: bold\">3</span><span style=\"color: #800000; text-decoration-color: #800000; font-weight: bold\"> - CO2 hydrogenation - Vapor Pressure.</span>\n",
       "</pre>\n"
      ],
      "text/plain": [
       "\u001b[1;31mComponent \u001b[0m\u001b[1;31m'ethanol'\u001b[0m\u001b[1;31m is NOT available in table-\u001b[0m\u001b[1;31m3\u001b[0m\u001b[1;31m - CO2 hydrogenation - Vapor Pressure.\u001b[0m\n"
      ]
     },
     "metadata": {},
     "output_type": "display_data"
    },
    {
     "data": {
      "text/html": [
       "<pre style=\"white-space:pre;overflow-x:auto;line-height:normal;font-family:Menlo,'DejaVu Sans Mono',consolas,'Courier New',monospace\">--------------------------------------------------\n",
       "</pre>\n"
      ],
      "text/plain": [
       "--------------------------------------------------\n"
      ]
     },
     "metadata": {},
     "output_type": "display_data"
    }
   ],
   "source": [
    "import json\n",
    "\n",
    "# component list\n",
    "components = ['carbon dioxide','methanol','water','carbon monoxide','ethanol']\n",
    "\n",
    "# tb list dict\n",
    "# Convert tb_lists_json string to dict\n",
    "tb_lists_dict = json.loads(tb_lists_json)\n",
    "\n",
    "for component in components:\n",
    "    for tb_key, tb_name in tb_lists_dict.items():\n",
    "        # check component availability in the databook and table\n",
    "        check_availability_ = tdb.check_component(component, 'CO2 Hydrogenation Reaction', tb_name)\n",
    "        # to dict\n",
    "        check_availability_ = json.loads(check_availability_)\n",
    "        # check\n",
    "        if check_availability_['availability'] == True:\n",
    "            print(f\"Component '{component}' is available in {tb_key} - {tb_name}.\")\n",
    "        else:\n",
    "            print(f\"[bold red]Component '{component}' is NOT available in {tb_key} - {tb_name}.[/bold red]\")\n",
    "    # line\n",
    "    print(\"-\" * 50)\n",
    "        "
   ]
  },
  {
   "cell_type": "markdown",
   "id": "5adf2795",
   "metadata": {},
   "source": [
    "# `Build Data`"
   ]
  },
  {
   "cell_type": "code",
   "execution_count": 43,
   "id": "e2b20992",
   "metadata": {},
   "outputs": [
    {
     "data": {
      "text/html": [
       "<pre style=\"white-space:pre;overflow-x:auto;line-height:normal;font-family:Menlo,'DejaVu Sans Mono',consolas,'Courier New',monospace\"><span style=\"font-weight: bold\">&lt;</span><span style=\"color: #ff00ff; text-decoration-color: #ff00ff; font-weight: bold\">class</span><span style=\"color: #000000; text-decoration-color: #000000\"> </span><span style=\"color: #008000; text-decoration-color: #008000\">'pyThermoDB.docs.tabledata.TableData'</span><span style=\"font-weight: bold\">&gt;</span>\n",
       "</pre>\n"
      ],
      "text/plain": [
       "\u001b[1m<\u001b[0m\u001b[1;95mclass\u001b[0m\u001b[39m \u001b[0m\u001b[32m'pyThermoDB.docs.tabledata.TableData'\u001b[0m\u001b[1m>\u001b[0m\n"
      ]
     },
     "metadata": {},
     "output_type": "display_data"
    }
   ],
   "source": [
    "# build data\n",
    "CO2_data = tdb.build_data(comp1, \"Chemical Thermodynamics for Process Simulation\",\n",
    "                          \"Table A.1 General data for selected compounds\")\n",
    "print(type(CO2_data))"
   ]
  },
  {
   "cell_type": "code",
   "execution_count": 20,
   "id": "222e7987",
   "metadata": {},
   "outputs": [],
   "source": [
    "# build data\n",
    "CO2_data = tdb.build_data(comp1, 1, 2)"
   ]
  },
  {
   "cell_type": "code",
   "execution_count": 23,
   "id": "3b5d5456",
   "metadata": {},
   "outputs": [
    {
     "data": {
      "text/html": [
       "<pre style=\"white-space:pre;overflow-x:auto;line-height:normal;font-family:Menlo,'DejaVu Sans Mono',consolas,'Courier New',monospace\">                               COLUMNS     SYMBOL      UNIT CONVERSION  ID\n",
       "<span style=\"color: #008080; text-decoration-color: #008080; font-weight: bold\">0</span>                                  no.       <span style=\"color: #800080; text-decoration-color: #800080; font-style: italic\">None</span>      <span style=\"color: #800080; text-decoration-color: #800080; font-style: italic\">None</span>       <span style=\"color: #800080; text-decoration-color: #800080; font-style: italic\">None</span>   <span style=\"color: #008080; text-decoration-color: #008080; font-weight: bold\">1</span>\n",
       "<span style=\"color: #008080; text-decoration-color: #008080; font-weight: bold\">1</span>                                 Name       <span style=\"color: #800080; text-decoration-color: #800080; font-style: italic\">None</span>      <span style=\"color: #800080; text-decoration-color: #800080; font-style: italic\">None</span>       <span style=\"color: #800080; text-decoration-color: #800080; font-style: italic\">None</span>   <span style=\"color: #008080; text-decoration-color: #008080; font-weight: bold\">2</span>\n",
       "<span style=\"color: #008080; text-decoration-color: #008080; font-weight: bold\">2</span>                              Formula       <span style=\"color: #800080; text-decoration-color: #800080; font-style: italic\">None</span>      <span style=\"color: #800080; text-decoration-color: #800080; font-style: italic\">None</span>       <span style=\"color: #800080; text-decoration-color: #800080; font-style: italic\">None</span>   <span style=\"color: #008080; text-decoration-color: #008080; font-weight: bold\">3</span>\n",
       "<span style=\"color: #008080; text-decoration-color: #008080; font-weight: bold\">3</span>                           CAS-number       <span style=\"color: #800080; text-decoration-color: #800080; font-style: italic\">None</span>      <span style=\"color: #800080; text-decoration-color: #800080; font-style: italic\">None</span>       <span style=\"color: #800080; text-decoration-color: #800080; font-style: italic\">None</span>   <span style=\"color: #008080; text-decoration-color: #008080; font-weight: bold\">4</span>\n",
       "<span style=\"color: #008080; text-decoration-color: #008080; font-weight: bold\">4</span>                     molecular-weight         MW         K       <span style=\"color: #800080; text-decoration-color: #800080; font-style: italic\">None</span>   <span style=\"color: #008080; text-decoration-color: #008080; font-weight: bold\">5</span>\n",
       "<span style=\"color: #008080; text-decoration-color: #008080; font-weight: bold\">5</span>      ideal-gas-enthalpy-of-formation    EnFo_IG    J/kmol      1E-<span style=\"color: #008080; text-decoration-color: #008080; font-weight: bold\">07</span>   <span style=\"color: #008080; text-decoration-color: #008080; font-weight: bold\">6</span>\n",
       "<span style=\"color: #008080; text-decoration-color: #008080; font-weight: bold\">6</span>  ideal-gas-Gibbs-energy-of-formation  GiEnFo_IG    J/kmol      1E-<span style=\"color: #008080; text-decoration-color: #008080; font-weight: bold\">07</span>   <span style=\"color: #008080; text-decoration-color: #008080; font-weight: bold\">7</span>\n",
       "<span style=\"color: #008080; text-decoration-color: #008080; font-weight: bold\">7</span>                    ideal-gas-entropy     Ent_IG  J/kmol.K      1E-<span style=\"color: #008080; text-decoration-color: #008080; font-weight: bold\">05</span>   <span style=\"color: #008080; text-decoration-color: #008080; font-weight: bold\">8</span>\n",
       "<span style=\"color: #008080; text-decoration-color: #008080; font-weight: bold\">8</span>  standard-net-enthalpy-of-combustion   EnCo_STD    J/kmol      1E-<span style=\"color: #008080; text-decoration-color: #008080; font-weight: bold\">09</span>   <span style=\"color: #008080; text-decoration-color: #008080; font-weight: bold\">9</span>\n",
       "</pre>\n"
      ],
      "text/plain": [
       "                               COLUMNS     SYMBOL      UNIT CONVERSION  ID\n",
       "\u001b[1;36m0\u001b[0m                                  no.       \u001b[3;35mNone\u001b[0m      \u001b[3;35mNone\u001b[0m       \u001b[3;35mNone\u001b[0m   \u001b[1;36m1\u001b[0m\n",
       "\u001b[1;36m1\u001b[0m                                 Name       \u001b[3;35mNone\u001b[0m      \u001b[3;35mNone\u001b[0m       \u001b[3;35mNone\u001b[0m   \u001b[1;36m2\u001b[0m\n",
       "\u001b[1;36m2\u001b[0m                              Formula       \u001b[3;35mNone\u001b[0m      \u001b[3;35mNone\u001b[0m       \u001b[3;35mNone\u001b[0m   \u001b[1;36m3\u001b[0m\n",
       "\u001b[1;36m3\u001b[0m                           CAS-number       \u001b[3;35mNone\u001b[0m      \u001b[3;35mNone\u001b[0m       \u001b[3;35mNone\u001b[0m   \u001b[1;36m4\u001b[0m\n",
       "\u001b[1;36m4\u001b[0m                     molecular-weight         MW         K       \u001b[3;35mNone\u001b[0m   \u001b[1;36m5\u001b[0m\n",
       "\u001b[1;36m5\u001b[0m      ideal-gas-enthalpy-of-formation    EnFo_IG    J/kmol      1E-\u001b[1;36m07\u001b[0m   \u001b[1;36m6\u001b[0m\n",
       "\u001b[1;36m6\u001b[0m  ideal-gas-Gibbs-energy-of-formation  GiEnFo_IG    J/kmol      1E-\u001b[1;36m07\u001b[0m   \u001b[1;36m7\u001b[0m\n",
       "\u001b[1;36m7\u001b[0m                    ideal-gas-entropy     Ent_IG  J/kmol.K      1E-\u001b[1;36m05\u001b[0m   \u001b[1;36m8\u001b[0m\n",
       "\u001b[1;36m8\u001b[0m  standard-net-enthalpy-of-combustion   EnCo_STD    J/kmol      1E-\u001b[1;36m09\u001b[0m   \u001b[1;36m9\u001b[0m\n"
      ]
     },
     "metadata": {},
     "output_type": "display_data"
    }
   ],
   "source": [
    "print(CO2_data.data_structure())"
   ]
  },
  {
   "cell_type": "code",
   "execution_count": 24,
   "id": "03b62083",
   "metadata": {},
   "outputs": [
    {
     "data": {
      "text/html": [
       "<pre style=\"white-space:pre;overflow-x:auto;line-height:normal;font-family:Menlo,'DejaVu Sans Mono',consolas,'Courier New',monospace\"><span style=\"font-weight: bold\">{</span>\n",
       "    <span style=\"color: #008000; text-decoration-color: #008000\">'value'</span>: <span style=\"color: #008000; text-decoration-color: #008000\">'44.01'</span>,\n",
       "    <span style=\"color: #008000; text-decoration-color: #008000\">'unit'</span>: <span style=\"color: #008000; text-decoration-color: #008000\">'-'</span>,\n",
       "    <span style=\"color: #008000; text-decoration-color: #008000\">'symbol'</span>: <span style=\"color: #008000; text-decoration-color: #008000\">'MW'</span>,\n",
       "    <span style=\"color: #008000; text-decoration-color: #008000\">'property_name'</span>: <span style=\"color: #008000; text-decoration-color: #008000\">'molecular-weight'</span>,\n",
       "    <span style=\"color: #008000; text-decoration-color: #008000\">'message'</span>: <span style=\"color: #008000; text-decoration-color: #008000\">'No message'</span>,\n",
       "    <span style=\"color: #008000; text-decoration-color: #008000\">'databook_name'</span>: <span style=\"color: #008000; text-decoration-color: #008000\">\"Perry's Chemical Engineers' Handbook\"</span>,\n",
       "    <span style=\"color: #008000; text-decoration-color: #008000\">'table_name'</span>: <span style=\"color: #008000; text-decoration-color: #008000\">'TABLE 2-179 Enthalpies and Gibbs Energies of Formation, Entropies, and Net Enthalpies of </span>\n",
       "<span style=\"color: #008000; text-decoration-color: #008000\">Combustion'</span>\n",
       "<span style=\"font-weight: bold\">}</span>\n",
       "</pre>\n"
      ],
      "text/plain": [
       "\u001b[1m{\u001b[0m\n",
       "    \u001b[32m'value'\u001b[0m: \u001b[32m'44.01'\u001b[0m,\n",
       "    \u001b[32m'unit'\u001b[0m: \u001b[32m'-'\u001b[0m,\n",
       "    \u001b[32m'symbol'\u001b[0m: \u001b[32m'MW'\u001b[0m,\n",
       "    \u001b[32m'property_name'\u001b[0m: \u001b[32m'molecular-weight'\u001b[0m,\n",
       "    \u001b[32m'message'\u001b[0m: \u001b[32m'No message'\u001b[0m,\n",
       "    \u001b[32m'databook_name'\u001b[0m: \u001b[32m\"Perry's Chemical Engineers' Handbook\"\u001b[0m,\n",
       "    \u001b[32m'table_name'\u001b[0m: \u001b[32m'TABLE 2-179 Enthalpies and Gibbs Energies of Formation, Entropies, and Net Enthalpies of \u001b[0m\n",
       "\u001b[32mCombustion'\u001b[0m\n",
       "\u001b[1m}\u001b[0m\n"
      ]
     },
     "metadata": {},
     "output_type": "display_data"
    },
    {
     "data": {
      "text/html": [
       "<pre style=\"white-space:pre;overflow-x:auto;line-height:normal;font-family:Menlo,'DejaVu Sans Mono',consolas,'Courier New',monospace\"><span style=\"font-weight: bold\">{</span>\n",
       "    <span style=\"color: #008000; text-decoration-color: #008000\">'value'</span>: <span style=\"color: #008000; text-decoration-color: #008000\">'44.01'</span>,\n",
       "    <span style=\"color: #008000; text-decoration-color: #008000\">'unit'</span>: <span style=\"color: #008000; text-decoration-color: #008000\">'-'</span>,\n",
       "    <span style=\"color: #008000; text-decoration-color: #008000\">'symbol'</span>: <span style=\"color: #008000; text-decoration-color: #008000\">'MW'</span>,\n",
       "    <span style=\"color: #008000; text-decoration-color: #008000\">'property_name'</span>: <span style=\"color: #008000; text-decoration-color: #008000\">'molecular-weight'</span>,\n",
       "    <span style=\"color: #008000; text-decoration-color: #008000\">'message'</span>: <span style=\"color: #008000; text-decoration-color: #008000\">'No message'</span>,\n",
       "    <span style=\"color: #008000; text-decoration-color: #008000\">'databook_name'</span>: <span style=\"color: #008000; text-decoration-color: #008000\">\"Perry's Chemical Engineers' Handbook\"</span>,\n",
       "    <span style=\"color: #008000; text-decoration-color: #008000\">'table_name'</span>: <span style=\"color: #008000; text-decoration-color: #008000\">'TABLE 2-179 Enthalpies and Gibbs Energies of Formation, Entropies, and Net Enthalpies of </span>\n",
       "<span style=\"color: #008000; text-decoration-color: #008000\">Combustion'</span>\n",
       "<span style=\"font-weight: bold\">}</span>\n",
       "</pre>\n"
      ],
      "text/plain": [
       "\u001b[1m{\u001b[0m\n",
       "    \u001b[32m'value'\u001b[0m: \u001b[32m'44.01'\u001b[0m,\n",
       "    \u001b[32m'unit'\u001b[0m: \u001b[32m'-'\u001b[0m,\n",
       "    \u001b[32m'symbol'\u001b[0m: \u001b[32m'MW'\u001b[0m,\n",
       "    \u001b[32m'property_name'\u001b[0m: \u001b[32m'molecular-weight'\u001b[0m,\n",
       "    \u001b[32m'message'\u001b[0m: \u001b[32m'No message'\u001b[0m,\n",
       "    \u001b[32m'databook_name'\u001b[0m: \u001b[32m\"Perry's Chemical Engineers' Handbook\"\u001b[0m,\n",
       "    \u001b[32m'table_name'\u001b[0m: \u001b[32m'TABLE 2-179 Enthalpies and Gibbs Energies of Formation, Entropies, and Net Enthalpies of \u001b[0m\n",
       "\u001b[32mCombustion'\u001b[0m\n",
       "\u001b[1m}\u001b[0m\n"
      ]
     },
     "metadata": {},
     "output_type": "display_data"
    },
    {
     "data": {
      "text/html": [
       "<pre style=\"white-space:pre;overflow-x:auto;line-height:normal;font-family:Menlo,'DejaVu Sans Mono',consolas,'Courier New',monospace\"><span style=\"font-weight: bold\">{</span>\n",
       "    <span style=\"color: #008000; text-decoration-color: #008000\">'value'</span>: <span style=\"color: #008000; text-decoration-color: #008000\">'-39.351'</span>,\n",
       "    <span style=\"color: #008000; text-decoration-color: #008000\">'unit'</span>: <span style=\"color: #008000; text-decoration-color: #008000\">'J/kmol'</span>,\n",
       "    <span style=\"color: #008000; text-decoration-color: #008000\">'symbol'</span>: <span style=\"color: #008000; text-decoration-color: #008000\">'EnFo_IG'</span>,\n",
       "    <span style=\"color: #008000; text-decoration-color: #008000\">'property_name'</span>: <span style=\"color: #008000; text-decoration-color: #008000\">'ideal-gas-enthalpy-of-formation x 1E-07'</span>,\n",
       "    <span style=\"color: #008000; text-decoration-color: #008000\">'message'</span>: <span style=\"color: #008000; text-decoration-color: #008000\">'No message'</span>,\n",
       "    <span style=\"color: #008000; text-decoration-color: #008000\">'databook_name'</span>: <span style=\"color: #008000; text-decoration-color: #008000\">\"Perry's Chemical Engineers' Handbook\"</span>,\n",
       "    <span style=\"color: #008000; text-decoration-color: #008000\">'table_name'</span>: <span style=\"color: #008000; text-decoration-color: #008000\">'TABLE 2-179 Enthalpies and Gibbs Energies of Formation, Entropies, and Net Enthalpies of </span>\n",
       "<span style=\"color: #008000; text-decoration-color: #008000\">Combustion'</span>\n",
       "<span style=\"font-weight: bold\">}</span>\n",
       "</pre>\n"
      ],
      "text/plain": [
       "\u001b[1m{\u001b[0m\n",
       "    \u001b[32m'value'\u001b[0m: \u001b[32m'-39.351'\u001b[0m,\n",
       "    \u001b[32m'unit'\u001b[0m: \u001b[32m'J/kmol'\u001b[0m,\n",
       "    \u001b[32m'symbol'\u001b[0m: \u001b[32m'EnFo_IG'\u001b[0m,\n",
       "    \u001b[32m'property_name'\u001b[0m: \u001b[32m'ideal-gas-enthalpy-of-formation x 1E-07'\u001b[0m,\n",
       "    \u001b[32m'message'\u001b[0m: \u001b[32m'No message'\u001b[0m,\n",
       "    \u001b[32m'databook_name'\u001b[0m: \u001b[32m\"Perry's Chemical Engineers' Handbook\"\u001b[0m,\n",
       "    \u001b[32m'table_name'\u001b[0m: \u001b[32m'TABLE 2-179 Enthalpies and Gibbs Energies of Formation, Entropies, and Net Enthalpies of \u001b[0m\n",
       "\u001b[32mCombustion'\u001b[0m\n",
       "\u001b[1m}\u001b[0m\n"
      ]
     },
     "metadata": {},
     "output_type": "display_data"
    }
   ],
   "source": [
    "print(CO2_data.get_property(5))\n",
    "print(CO2_data.get_property('MW'))\n",
    "print(CO2_data.get_property('EnFo_IG'))"
   ]
  },
  {
   "cell_type": "markdown",
   "id": "b07de9b9",
   "metadata": {},
   "source": [
    "# `Build Equation`"
   ]
  },
  {
   "cell_type": "code",
   "execution_count": 44,
   "id": "c1ef85ed",
   "metadata": {},
   "outputs": [
    {
     "data": {
      "text/html": [
       "<pre style=\"white-space:pre;overflow-x:auto;line-height:normal;font-family:Menlo,'DejaVu Sans Mono',consolas,'Courier New',monospace\"><span style=\"font-weight: bold\">&lt;</span><span style=\"color: #ff00ff; text-decoration-color: #ff00ff; font-weight: bold\">class</span><span style=\"color: #000000; text-decoration-color: #000000\"> </span><span style=\"color: #008000; text-decoration-color: #008000\">'pyThermoDB.docs.tableequation.TableEquation'</span><span style=\"font-weight: bold\">&gt;</span>\n",
       "</pre>\n"
      ],
      "text/plain": [
       "\u001b[1m<\u001b[0m\u001b[1;95mclass\u001b[0m\u001b[39m \u001b[0m\u001b[32m'pyThermoDB.docs.tableequation.TableEquation'\u001b[0m\u001b[1m>\u001b[0m\n"
      ]
     },
     "metadata": {},
     "output_type": "display_data"
    }
   ],
   "source": [
    "# build an equation\n",
    "CO2_eq = tdb.build_equation(comp1, 1, 4)\n",
    "print(type(CO2_eq))"
   ]
  },
  {
   "cell_type": "code",
   "execution_count": 32,
   "id": "53f803c2",
   "metadata": {},
   "outputs": [
    {
     "data": {
      "text/html": [
       "<pre style=\"white-space:pre;overflow-x:auto;line-height:normal;font-family:Menlo,'DejaVu Sans Mono',consolas,'Courier New',monospace\"><span style=\"font-weight: bold\">{</span><span style=\"color: #008000; text-decoration-color: #008000\">'temperature'</span>: <span style=\"font-weight: bold\">{</span><span style=\"color: #008000; text-decoration-color: #008000\">'name'</span>: <span style=\"color: #008000; text-decoration-color: #008000\">'temperature'</span>, <span style=\"color: #008000; text-decoration-color: #008000\">'symbol'</span>: <span style=\"color: #008000; text-decoration-color: #008000\">'T'</span>, <span style=\"color: #008000; text-decoration-color: #008000\">'unit'</span>: <span style=\"color: #008000; text-decoration-color: #008000\">'K'</span><span style=\"font-weight: bold\">}}</span>\n",
       "</pre>\n"
      ],
      "text/plain": [
       "\u001b[1m{\u001b[0m\u001b[32m'temperature'\u001b[0m: \u001b[1m{\u001b[0m\u001b[32m'name'\u001b[0m: \u001b[32m'temperature'\u001b[0m, \u001b[32m'symbol'\u001b[0m: \u001b[32m'T'\u001b[0m, \u001b[32m'unit'\u001b[0m: \u001b[32m'K'\u001b[0m\u001b[1m}\u001b[0m\u001b[1m}\u001b[0m\n"
      ]
     },
     "metadata": {},
     "output_type": "display_data"
    },
    {
     "data": {
      "text/html": [
       "<pre style=\"white-space:pre;overflow-x:auto;line-height:normal;font-family:Menlo,'DejaVu Sans Mono',consolas,'Courier New',monospace\"><span style=\"font-weight: bold\">{</span><span style=\"color: #008000; text-decoration-color: #008000\">'value'</span>: <span style=\"color: #008080; text-decoration-color: #008080; font-weight: bold\">209354.9375</span>, <span style=\"color: #008000; text-decoration-color: #008000\">'name'</span>: <span style=\"color: #008000; text-decoration-color: #008000\">'heat capacity'</span>, <span style=\"color: #008000; text-decoration-color: #008000\">'symbol'</span>: <span style=\"color: #008000; text-decoration-color: #008000\">'Cp_LIQ'</span>, <span style=\"color: #008000; text-decoration-color: #008000\">'unit'</span>: <span style=\"color: #008000; text-decoration-color: #008000\">'J/kmol.K'</span>, <span style=\"color: #008000; text-decoration-color: #008000\">'message'</span>: <span style=\"color: #008000; text-decoration-color: #008000\">'No message'</span><span style=\"font-weight: bold\">}</span>\n",
       "</pre>\n"
      ],
      "text/plain": [
       "\u001b[1m{\u001b[0m\u001b[32m'value'\u001b[0m: \u001b[1;36m209354.9375\u001b[0m, \u001b[32m'name'\u001b[0m: \u001b[32m'heat capacity'\u001b[0m, \u001b[32m'symbol'\u001b[0m: \u001b[32m'Cp_LIQ'\u001b[0m, \u001b[32m'unit'\u001b[0m: \u001b[32m'J/kmol.K'\u001b[0m, \u001b[32m'message'\u001b[0m: \u001b[32m'No message'\u001b[0m\u001b[1m}\u001b[0m\n"
      ]
     },
     "metadata": {},
     "output_type": "display_data"
    }
   ],
   "source": [
    "print(CO2_eq.args)\n",
    "res = CO2_eq.cal(T=298.15)\n",
    "print(res)"
   ]
  },
  {
   "cell_type": "markdown",
   "id": "e60f1f3d",
   "metadata": {},
   "source": [
    "# `Build ThermoDB`"
   ]
  },
  {
   "cell_type": "code",
   "execution_count": 30,
   "id": "18b8068b",
   "metadata": {},
   "outputs": [
    {
     "data": {
      "text/html": [
       "<pre style=\"white-space:pre;overflow-x:auto;line-height:normal;font-family:Menlo,'DejaVu Sans Mono',consolas,'Courier New',monospace\"><span style=\"font-weight: bold\">&lt;</span><span style=\"color: #ff00ff; text-decoration-color: #ff00ff; font-weight: bold\">class</span><span style=\"color: #000000; text-decoration-color: #000000\"> </span><span style=\"color: #008000; text-decoration-color: #008000\">'pyThermoDB.docs.compbuilder.CompBuilder'</span><span style=\"font-weight: bold\">&gt;</span>\n",
       "</pre>\n"
      ],
      "text/plain": [
       "\u001b[1m<\u001b[0m\u001b[1;95mclass\u001b[0m\u001b[39m \u001b[0m\u001b[32m'pyThermoDB.docs.compbuilder.CompBuilder'\u001b[0m\u001b[1m>\u001b[0m\n"
      ]
     },
     "metadata": {},
     "output_type": "display_data"
    }
   ],
   "source": [
    "# build a thermodb\n",
    "thermo_db = ptdb.build_thermodb()\n",
    "print(type(thermo_db))"
   ]
  },
  {
   "cell_type": "code",
   "execution_count": 33,
   "id": "c74f45e9",
   "metadata": {},
   "outputs": [
    {
     "data": {
      "text/plain": [
       "True"
      ]
     },
     "execution_count": 33,
     "metadata": {},
     "output_type": "execute_result"
    }
   ],
   "source": [
    "# add TableData\n",
    "thermo_db.add_data('general-data', CO2_data)\n",
    "# add TableEquation\n",
    "thermo_db.add_data('heat-capacity', CO2_eq)"
   ]
  },
  {
   "cell_type": "code",
   "execution_count": 36,
   "id": "996388ec",
   "metadata": {},
   "outputs": [
    {
     "data": {
      "text/html": [
       "<pre style=\"white-space:pre;overflow-x:auto;line-height:normal;font-family:Menlo,'DejaVu Sans Mono',consolas,'Courier New',monospace\">notebook_dir: e:\\Python Projects\\pyThermoDB\\notebooks\n",
       "</pre>\n"
      ],
      "text/plain": [
       "notebook_dir: e:\\Python Projects\\pyThermoDB\\notebooks\n"
      ]
     },
     "metadata": {},
     "output_type": "display_data"
    }
   ],
   "source": [
    "# parent directory\n",
    "parent_dir = os.path.dirname(os.getcwd())\n",
    "notebook_dir = os.path.join(parent_dir, 'notebooks')\n",
    "print(f\"notebook_dir: {notebook_dir}\")"
   ]
  },
  {
   "cell_type": "code",
   "execution_count": 37,
   "id": "e538ada4",
   "metadata": {},
   "outputs": [
    {
     "data": {
      "text/plain": [
       "True"
      ]
     },
     "execution_count": 37,
     "metadata": {},
     "output_type": "execute_result"
    }
   ],
   "source": [
    "# save\n",
    "thermo_db.save(f'{comp1}-1.pkl', file_path=notebook_dir)"
   ]
  },
  {
   "cell_type": "code",
   "execution_count": 38,
   "id": "fb0e228f",
   "metadata": {},
   "outputs": [
    {
     "data": {
      "text/html": [
       "<pre style=\"white-space:pre;overflow-x:auto;line-height:normal;font-family:Menlo,'DejaVu Sans Mono',consolas,'Courier New',monospace\"><span style=\"font-weight: bold\">{</span>\n",
       "    <span style=\"color: #008000; text-decoration-color: #008000\">'general-data'</span>: <span style=\"font-weight: bold\">&lt;</span><span style=\"color: #ff00ff; text-decoration-color: #ff00ff; font-weight: bold\">pyThermoDB.docs.tabledata.TableData</span><span style=\"color: #000000; text-decoration-color: #000000\"> object at </span><span style=\"color: #008080; text-decoration-color: #008080; font-weight: bold\">0x0000020D7E6C0910</span><span style=\"color: #000000; text-decoration-color: #000000\">&gt;,</span>\n",
       "<span style=\"color: #000000; text-decoration-color: #000000\">    </span><span style=\"color: #008000; text-decoration-color: #008000\">'heat-capacity'</span><span style=\"color: #000000; text-decoration-color: #000000\">: &lt;pyThermoDB.docs.tableequation.TableEquation object at </span><span style=\"color: #008080; text-decoration-color: #008080; font-weight: bold\">0x0000020D7E6C1090</span><span style=\"font-weight: bold\">&gt;</span>\n",
       "<span style=\"font-weight: bold\">}</span>\n",
       "</pre>\n"
      ],
      "text/plain": [
       "\u001b[1m{\u001b[0m\n",
       "    \u001b[32m'general-data'\u001b[0m: \u001b[1m<\u001b[0m\u001b[1;95mpyThermoDB.docs.tabledata.TableData\u001b[0m\u001b[39m object at \u001b[0m\u001b[1;36m0x0000020D7E6C0910\u001b[0m\u001b[39m>,\u001b[0m\n",
       "\u001b[39m    \u001b[0m\u001b[32m'heat-capacity'\u001b[0m\u001b[39m: <pyThermoDB.docs.tableequation.TableEquation object at \u001b[0m\u001b[1;36m0x0000020D7E6C1090\u001b[0m\u001b[1m>\u001b[0m\n",
       "\u001b[1m}\u001b[0m\n"
      ]
     },
     "metadata": {},
     "output_type": "display_data"
    }
   ],
   "source": [
    "print(thermo_db.check())"
   ]
  },
  {
   "cell_type": "code",
   "execution_count": 39,
   "id": "19a7d40e",
   "metadata": {},
   "outputs": [
    {
     "data": {
      "text/plain": [
       "{'heat-capacity': <pyThermoDB.docs.tableequation.TableEquation at 0x20d7e6c1090>}"
      ]
     },
     "execution_count": 39,
     "metadata": {},
     "output_type": "execute_result"
    }
   ],
   "source": [
    "thermo_db.check_functions()"
   ]
  },
  {
   "cell_type": "code",
   "execution_count": 40,
   "id": "cb30cd90",
   "metadata": {},
   "outputs": [
    {
     "data": {
      "text/plain": [
       "{'general-data': <pyThermoDB.docs.tabledata.TableData at 0x20d7e6c0910>}"
      ]
     },
     "execution_count": 40,
     "metadata": {},
     "output_type": "execute_result"
    }
   ],
   "source": [
    "thermo_db.check_properties()"
   ]
  },
  {
   "cell_type": "code",
   "execution_count": 41,
   "id": "423ed57d",
   "metadata": {},
   "outputs": [
    {
     "data": {
      "text/plain": [
       "<pyThermoDB.docs.tableequation.TableEquation at 0x20d7e6c1090>"
      ]
     },
     "execution_count": 41,
     "metadata": {},
     "output_type": "execute_result"
    }
   ],
   "source": [
    "thermo_db.check_function('heat-capacity')"
   ]
  },
  {
   "cell_type": "code",
   "execution_count": 42,
   "id": "8ee8767b",
   "metadata": {},
   "outputs": [
    {
     "data": {
      "text/plain": [
       "<pyThermoDB.docs.tabledata.TableData at 0x20d7e6c0910>"
      ]
     },
     "execution_count": 42,
     "metadata": {},
     "output_type": "execute_result"
    }
   ],
   "source": [
    "thermo_db.check_property('general-data')"
   ]
  }
 ],
 "metadata": {
  "kernelspec": {
   "display_name": ".venv",
   "language": "python",
   "name": "python3"
  },
  "language_info": {
   "codemirror_mode": {
    "name": "ipython",
    "version": 3
   },
   "file_extension": ".py",
   "mimetype": "text/x-python",
   "name": "python",
   "nbconvert_exporter": "python",
   "pygments_lexer": "ipython3",
   "version": "3.13.1"
  }
 },
 "nbformat": 4,
 "nbformat_minor": 5
}
